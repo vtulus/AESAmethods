{
 "cells": [
  {
   "cell_type": "code",
   "execution_count": 1,
   "id": "547e02f9-e2c9-4fc1-8bb6-ea62ebc5c6e9",
   "metadata": {},
   "outputs": [],
   "source": [
    "from functools import partial\n",
    "from pathlib import Path\n",
    "\n",
    "import bw2calc as bc\n",
    "import bw2data as bd\n",
    "import bw2io as bi\n",
    "from project_path import ROOT_DIR"
   ]
  },
  {
   "cell_type": "code",
   "execution_count": 2,
   "id": "c6dcdba8-e048-4bea-bd06-9997eca2a618",
   "metadata": {},
   "outputs": [],
   "source": [
    "# bd.projects"
   ]
  },
  {
   "cell_type": "code",
   "execution_count": 3,
   "id": "270c1244-e1bc-460d-a307-855c7d60fcd3",
   "metadata": {},
   "outputs": [],
   "source": [
    "bd.projects.set_current(\"default\")"
   ]
  },
  {
   "cell_type": "code",
   "execution_count": 4,
   "id": "647e604a-79fd-44cb-8c92-dc0d313d816a",
   "metadata": {},
   "outputs": [],
   "source": [
    "# bd.databases"
   ]
  },
  {
   "cell_type": "markdown",
   "id": "517527f0-89ab-417e-ab39-f656ca7d05f0",
   "metadata": {},
   "source": [
    "## import Land-system Chang method\n",
    " > Global"
   ]
  },
  {
   "cell_type": "code",
   "execution_count": 5,
   "id": "8de4ada6-aa52-4184-813a-9a3fe610776b",
   "metadata": {},
   "outputs": [],
   "source": [
    "method_category = \"LandSystemChange_Global\""
   ]
  },
  {
   "cell_type": "code",
   "execution_count": 6,
   "id": "a88bb01f-6564-45e5-9543-f784cb5d3ea4",
   "metadata": {},
   "outputs": [],
   "source": [
    "SIMAPRO_DIR = ROOT_DIR + r\"\\data\\external\\from_simapro\""
   ]
  },
  {
   "cell_type": "code",
   "execution_count": 7,
   "id": "0c9ee3dd-86f2-4cc1-a85b-6b1a092944c5",
   "metadata": {},
   "outputs": [],
   "source": [
    "STORE_DATA_TO = Path(\n",
    "    ROOT_DIR + r\"\\src\\aesa_pbs\\data\" + f\"\\\\aesa_{method_category}.xlsx\"\n",
    ")"
   ]
  },
  {
   "cell_type": "code",
   "execution_count": 8,
   "id": "224505da-377f-4903-9da5-21be106fe494",
   "metadata": {},
   "outputs": [
    {
     "name": "stdout",
     "output_type": "stream",
     "text": [
      "Extracted 1 methods in 0.01 seconds\n"
     ]
    }
   ],
   "source": [
    "si = bi.SimaProLCIACSVImporter(\n",
    "    filepath=Path(SIMAPRO_DIR + f\"\\PBsLCIAv072_{method_category}.csv\")\n",
    ")"
   ]
  },
  {
   "cell_type": "code",
   "execution_count": 9,
   "id": "7eda1d0b-7ac1-4cfe-bb57-6a8ae92f9e4d",
   "metadata": {},
   "outputs": [],
   "source": [
    "# si.data[0].keys()"
   ]
  },
  {
   "cell_type": "code",
   "execution_count": 10,
   "id": "3743fa54-ea96-4a11-bd50-2b9b0c12e302",
   "metadata": {},
   "outputs": [
    {
     "name": "stdout",
     "output_type": "stream",
     "text": [
      "('PBs-LCIA (baseline)', 'Land-system change - Global') %\n"
     ]
    }
   ],
   "source": [
    "for method in si.data:\n",
    "    print(method[\"name\"], method[\"unit\"])"
   ]
  },
  {
   "cell_type": "code",
   "execution_count": 11,
   "id": "88f5680e-d5e1-45ff-b700-4f198e73dff0",
   "metadata": {},
   "outputs": [
    {
     "data": {
      "text/plain": [
       "{'amount': 1.56e-12,\n",
       " 'CAS number': '',\n",
       " 'categories': ('Raw', 'land'),\n",
       " 'name': 'Transformation, from forest',\n",
       " 'unit': 'm2'}"
      ]
     },
     "execution_count": 11,
     "metadata": {},
     "output_type": "execute_result"
    }
   ],
   "source": [
    "si.data[0][\"exchanges\"][0]#.keys()"
   ]
  },
  {
   "cell_type": "code",
   "execution_count": 12,
   "id": "f40ad041-6d1c-41c2-b8f2-efda74526fa1",
   "metadata": {},
   "outputs": [
    {
     "name": "stdout",
     "output_type": "stream",
     "text": [
      "Applying strategy: normalize_units\n",
      "Applying strategy: set_biosphere_type\n",
      "Applying strategy: normalize_simapro_biosphere_categories\n",
      "Applying strategy: normalize_simapro_biosphere_names\n",
      "Applying strategy: set_biosphere_type\n",
      "Applying strategy: drop_unspecified_subcategories\n",
      "Applying strategy: normalize_biosphere_categories\n",
      "Applying strategy: normalize_biosphere_names\n",
      "Applying strategy: link_iterable_by_fields\n",
      "Applying strategy: match_subcategories\n",
      "Applied 10 strategies in 0.41 seconds\n",
      "1 methods\n",
      "22 cfs\n",
      "22 unlinked cfs\n"
     ]
    },
    {
     "data": {
      "text/plain": [
       "(1, 22, 22)"
      ]
     },
     "execution_count": 12,
     "metadata": {},
     "output_type": "execute_result"
    }
   ],
   "source": [
    "si.apply_strategies()\n",
    "si.statistics()"
   ]
  },
  {
   "cell_type": "code",
   "execution_count": 13,
   "id": "06191e76-1255-41cf-a466-ea8bc22130d3",
   "metadata": {},
   "outputs": [],
   "source": [
    "link_by_name_and_categories = partial(\n",
    "    bi.strategies.link_iterable_by_fields,\n",
    "    other=bd.Database(bd.config.biosphere),\n",
    "    kind=\"biosphere\",\n",
    "    fields=(\"name\", \"categories\"),\n",
    ")"
   ]
  },
  {
   "cell_type": "code",
   "execution_count": 14,
   "id": "563ecba5-b889-49ce-a8f6-117065cd2a7a",
   "metadata": {},
   "outputs": [
    {
     "name": "stdout",
     "output_type": "stream",
     "text": [
      "Applying strategy: link_iterable_by_fields\n",
      "1 methods\n",
      "22 cfs\n",
      "4 unlinked cfs\n"
     ]
    },
    {
     "data": {
      "text/plain": [
       "(1, 22, 4)"
      ]
     },
     "execution_count": 14,
     "metadata": {},
     "output_type": "execute_result"
    }
   ],
   "source": [
    "si.apply_strategy(link_by_name_and_categories)\n",
    "si.statistics()"
   ]
  },
  {
   "cell_type": "code",
   "execution_count": 15,
   "id": "c7f0d244-a4cd-4349-aa5b-0304f3e6af6c",
   "metadata": {},
   "outputs": [],
   "source": [
    "# list(si.unlinked)"
   ]
  },
  {
   "cell_type": "code",
   "execution_count": 16,
   "id": "3baefc3f-2904-43f7-9fa8-edf53210bd91",
   "metadata": {},
   "outputs": [
    {
     "data": {
      "text/plain": [
       "[('Transformation, from forest, natural', ('natural resource', 'land')),\n",
       " ('Transformation, from forest, secondary', ('natural resource', 'land')),\n",
       " ('Transformation, to forest, natural', ('natural resource', 'land')),\n",
       " ('Transformation, to forest, used', ('natural resource', 'land'))]"
      ]
     },
     "execution_count": 16,
     "metadata": {},
     "output_type": "execute_result"
    }
   ],
   "source": [
    "# from the 5 unlinked:\n",
    "# 1 has amount 0, can be dropped - Carbon dioxide, in air\n",
    "# 2 others \"Carbon dioxide\" and \"Carbon monoxide\" are not in biosphere3, BUT\n",
    "# \"Carbon dioxide, fossil\" \n",
    "# and \"Carbon monoxide, fossil\" and \"Carbon monoxide, non-fossil\" (with same CFs)\n",
    "# have been linked (see check_equivalent_linked)\n",
    "[(exc[\"name\"], exc[\"categories\"]) for exc in list(si.unlinked)]"
   ]
  },
  {
   "cell_type": "code",
   "execution_count": 17,
   "id": "ee30f2b9-c898-476b-9eb0-ea88779df974",
   "metadata": {},
   "outputs": [],
   "source": [
    "def see_unlinked(imported_methods):\n",
    "    unlinked_exc_names = [\n",
    "        exc_unlinked[\"name\"] for exc_unlinked in list(imported_methods.unlinked)\n",
    "    ]\n",
    "    for ix in range(len(imported_methods.data)):\n",
    "        print(imported_methods.data[ix][\"name\"][1])\n",
    "        for exc in imported_methods.data[ix][\"exchanges\"]:\n",
    "            if exc[\"name\"] in unlinked_exc_names:\n",
    "                print(\"\\t\",\n",
    "                    exc[\"name\"],\n",
    "                    exc[\"categories\"],\n",
    "                    exc[\"amount\"],\n",
    "                )\n",
    "        print(\"\\n\")\n",
    "        # if exc[\"amount\"] != 0"
   ]
  },
  {
   "cell_type": "code",
   "execution_count": 18,
   "id": "68462bb2-575f-409a-9e19-c6c01f8c36ff",
   "metadata": {},
   "outputs": [],
   "source": [
    "def check_equivalent_linked(imported_methods, list_names):\n",
    "    for ix in range(len(imported_methods.data)):\n",
    "        print(imported_methods.data[ix][\"name\"][1])\n",
    "        for exc in imported_methods.data[ix][\"exchanges\"]:\n",
    "            for x in list_names:\n",
    "                if x in exc[\"name\"]:\n",
    "                    print(\"\\t\",\n",
    "                        exc[\"name\"],\n",
    "                        exc[\"categories\"],\n",
    "                        exc[\"amount\"],\n",
    "                    )\n",
    "        print(\"\\n\")"
   ]
  },
  {
   "cell_type": "code",
   "execution_count": 19,
   "id": "34744a54-b0b8-4b57-a611-d30cfd2266a5",
   "metadata": {},
   "outputs": [],
   "source": [
    "def remove_duplicates_if_any(imported_methods):\n",
    "    for ix in range(len(imported_methods.data)):\n",
    "        current_exc = len(imported_methods.data[ix][\"exchanges\"])\n",
    "        wo_duplicates_exc = len(\n",
    "            {tuple(o[\"input\"]) for o in imported_methods.data[ix][\"exchanges\"]}\n",
    "        )\n",
    "        print(\n",
    "            imported_methods.data[ix][\"name\"][1], \": \", current_exc, wo_duplicates_exc,\n",
    "        )\n",
    "        if current_exc != wo_duplicates_exc:\n",
    "            unique_exchanges = {\n",
    "                tuple(o[\"input\"]): o for o in imported_methods.data[ix][\"exchanges\"]\n",
    "            }\n",
    "            imported_methods.data[ix][\"exchanges\"] = list(unique_exchanges.values())\n",
    "            print(\"Duplicates removed.\\n\")\n",
    "        else:\n",
    "            print(\"No duplicates.\\n\")"
   ]
  },
  {
   "cell_type": "code",
   "execution_count": 20,
   "id": "d362ae91-114b-4234-8608-2772e6ed4d00",
   "metadata": {},
   "outputs": [
    {
     "name": "stdout",
     "output_type": "stream",
     "text": [
      "Land-system change - Global\n",
      "\t Transformation, from forest, natural ('natural resource', 'land') 1.56e-12\n",
      "\t Transformation, from forest, secondary ('natural resource', 'land') 1.56e-12\n",
      "\t Transformation, to forest, natural ('natural resource', 'land') -1.56e-12\n",
      "\t Transformation, to forest, used ('natural resource', 'land') -1.56e-12\n",
      "\n",
      "\n"
     ]
    }
   ],
   "source": [
    "see_unlinked(si)"
   ]
  },
  {
   "cell_type": "code",
   "execution_count": 21,
   "id": "ca44f225-9239-4823-ab27-12432a78d24a",
   "metadata": {},
   "outputs": [
    {
     "data": {
      "text/plain": [
       "['Transformation, to forest, unspecified' (square meter, None, ('natural resource', 'land')),\n",
       " 'Transformation, to forest, primary (non-use)' (square meter, None, ('natural resource', 'land')),\n",
       " 'Transformation, to forest, extensive' (square meter, None, ('natural resource', 'land')),\n",
       " 'Transformation, to forest, intensive' (square meter, None, ('natural resource', 'land')),\n",
       " 'Transformation, to forest, secondary (non-use)' (square meter, None, ('natural resource', 'land'))]"
      ]
     },
     "execution_count": 21,
     "metadata": {},
     "output_type": "execute_result"
    }
   ],
   "source": [
    "b3 = bd.Database(\"biosphere3\")\n",
    "[\n",
    "    flow\n",
    "    for flow in b3\n",
    "    if \"transformation, to forest\" in flow[\"name\"].lower()\n",
    "]"
   ]
  },
  {
   "cell_type": "code",
   "execution_count": 22,
   "id": "ff492730-32f2-4020-a4af-3fc5e63c0d06",
   "metadata": {},
   "outputs": [
    {
     "name": "stdout",
     "output_type": "stream",
     "text": [
      "Land-system change - Global\n",
      "\t Transformation, to forest, extensive ('natural resource', 'land') -1.56e-12\n",
      "\t Transformation, to forest, intensive ('natural resource', 'land') -1.56e-12\n",
      "\t Transformation, to forest, intensive ('natural resource', 'land') -1.56e-12\n",
      "\t Transformation, to forest, intensive ('natural resource', 'land') -1.56e-12\n",
      "\t Transformation, to forest, intensive ('natural resource', 'land') -1.56e-12\n",
      "\t Transformation, to forest, natural ('natural resource', 'land') -1.56e-12\n",
      "\t Transformation, to forest, primary (non-use) ('natural resource', 'land') -1.56e-12\n",
      "\t Transformation, to forest, secondary (non-use) ('natural resource', 'land') -1.56e-12\n",
      "\t Transformation, to forest, unspecified ('natural resource', 'land') -1.56e-12\n",
      "\t Transformation, to forest, used ('natural resource', 'land') -1.56e-12\n",
      "\n",
      "\n"
     ]
    }
   ],
   "source": [
    "check_equivalent_linked(si, [\"Transformation, to forest\"])"
   ]
  },
  {
   "cell_type": "code",
   "execution_count": 23,
   "id": "8d048c1b-09ee-4946-8156-c9dbbb625f5b",
   "metadata": {},
   "outputs": [
    {
     "name": "stdout",
     "output_type": "stream",
     "text": [
      "Applying strategy: drop_unlinked_cfs\n",
      "Applied 1 strategies in 0.00 seconds\n",
      "1 methods\n",
      "18 cfs\n",
      "0 unlinked cfs\n"
     ]
    },
    {
     "data": {
      "text/plain": [
       "(1, 18, 0)"
      ]
     },
     "execution_count": 23,
     "metadata": {},
     "output_type": "execute_result"
    }
   ],
   "source": [
    "si.drop_unlinked()\n",
    "si.statistics()"
   ]
  },
  {
   "cell_type": "code",
   "execution_count": 24,
   "id": "7e89a8f7-b018-4322-b975-2e795b85ea1e",
   "metadata": {},
   "outputs": [
    {
     "name": "stdout",
     "output_type": "stream",
     "text": [
      "Land-system change - Global :  18 10\n",
      "Duplicates removed.\n",
      "\n"
     ]
    }
   ],
   "source": [
    "# check if there are duplicates (both numbers should be equal)\n",
    "remove_duplicates_if_any(si)"
   ]
  },
  {
   "cell_type": "code",
   "execution_count": 25,
   "id": "3d29373b-7b73-430b-9051-31df42489c4d",
   "metadata": {},
   "outputs": [
    {
     "name": "stdout",
     "output_type": "stream",
     "text": [
      "1 methods\n",
      "10 cfs\n",
      "0 unlinked cfs\n"
     ]
    },
    {
     "data": {
      "text/plain": [
       "(1, 10, 0)"
      ]
     },
     "execution_count": 25,
     "metadata": {},
     "output_type": "execute_result"
    }
   ],
   "source": [
    "si.statistics()"
   ]
  },
  {
   "cell_type": "code",
   "execution_count": 26,
   "id": "a0245405-f466-4bd1-8dc5-35901401b2e4",
   "metadata": {},
   "outputs": [],
   "source": [
    "# Next si.write_excel(method_category) will create an excel file in \n",
    "# ~\\Local\\pylca\\Brightway3\\default###\\output\\lcia-matching-{method_category}.xlsx\n",
    "\n",
    "# Go to created excel and apply manual corrections\n",
    "#TODO: manual corrections should not be manual\n",
    "\n",
    "# Store corrected excel to STORE_DATA_TO"
   ]
  },
  {
   "cell_type": "raw",
   "id": "766b18a6-5e61-48e2-a057-8f55b78961c9",
   "metadata": {},
   "source": [
    "si.write_excel(method_category)"
   ]
  }
 ],
 "metadata": {
  "kernelspec": {
   "display_name": "Python (bw2)",
   "language": "python",
   "name": "bw2"
  },
  "language_info": {
   "codemirror_mode": {
    "name": "ipython",
    "version": 3
   },
   "file_extension": ".py",
   "mimetype": "text/x-python",
   "name": "python",
   "nbconvert_exporter": "python",
   "pygments_lexer": "ipython3",
   "version": "3.9.7"
  }
 },
 "nbformat": 4,
 "nbformat_minor": 5
}
