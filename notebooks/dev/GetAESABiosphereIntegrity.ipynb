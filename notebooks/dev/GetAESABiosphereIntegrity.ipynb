{
 "cells": [
  {
   "cell_type": "code",
   "execution_count": 1,
   "id": "547e02f9-e2c9-4fc1-8bb6-ea62ebc5c6e9",
   "metadata": {},
   "outputs": [],
   "source": [
    "import pprint\n",
    "import re\n",
    "from functools import partial\n",
    "from pathlib import Path\n",
    "\n",
    "import bw2calc as bc\n",
    "import bw2data as bd\n",
    "import bw2io as bi\n",
    "# import bw_recipe_2016\n",
    "# from bw_recipe_2016 import GlobalWarming, extract_recipe, get_biosphere_database\n",
    "from project_path import ROOT_DIR"
   ]
  },
  {
   "cell_type": "markdown",
   "id": "de0d3c7b-8995-4e10-a51e-8e2218dce28f",
   "metadata": {},
   "source": [
    "# create Change in Biosphere Integrity method\n",
    "> Functional diversity, BII [biodiversity intactness index]\n",
    "\n",
    "> Mean Species Abundance (MSA) is used as a proxy of Biological Intactness Index (BII)\n",
    "“The main difference between MSA and BII is that every hectare is given equal weight in MSA, \n",
    "whereas BII gives more weight to species rich areas.” (Alkemade et al. 2009)\n",
    "\n",
    "> Hanafiah et al., 2012 provides (1-MSA) values for diffent land types present in SimaPro.\n",
    "(1-MSA) values are used as the characterization factors to assess \"\"Biological footprint, LU\"\". \n",
    "(1-MSA) values are applied to land use inventory flows (m2a).\n",
    "\n",
    "% of BII loss ~ % of (1-MSA) = 100 x (BF_LU+BF_CC)/At  \n",
    "where,   \n",
    "(1-MSA)               = Loss of mean species aboundance   \n",
    "> (from 0: no loss of species; to 1: complete loss of species)  \n",
    "\n",
    "MSA                   = Mean species abundance  \n",
    "> (from 0: no species; to 1: undisturbed biodevirsity)  \n",
    "\n",
    "BF_LU  [BII loss*m2a] = Biological footprint for Land Use  \n",
    "BF_CC [BII loss*m2a]  = Biological footprint for Climate Change  \n",
    "At        [m2yr]      = Earth’s total land (used in 1 yr) = 1.30E+14  \n",
    "\n",
    "where  \n",
    "BF_LU is calculated as SUM[Ai*(1-MSAi)] for \"\"i-th\"\" land use types  \n",
    "> (CFs provided in Table 1 in Hanafiah et al. 2012)  \n",
    "\n",
    "BF_CC = 0.27 * GWP   \n",
    "> GWP    [kg CO2 eq] = Global Warming Potential  for 100-year time horizon\n",
    "                        (calculated using \"\"ReCiPe 2016 (H) midpoint\"\" characterization factors)\n",
    "\n",
    "The factor applied to GWP is calculated as 100 x (0.27/At) = `2.07692E-13`  \n",
    "the factor applied to BF_LU is calculated as 100 x (1/At)  = `7.69231E-13`"
   ]
  },
  {
   "cell_type": "code",
   "execution_count": 2,
   "id": "c6dcdba8-e048-4bea-bd06-9997eca2a618",
   "metadata": {},
   "outputs": [],
   "source": [
    "# bd.projects"
   ]
  },
  {
   "cell_type": "code",
   "execution_count": 3,
   "id": "270c1244-e1bc-460d-a307-855c7d60fcd3",
   "metadata": {},
   "outputs": [],
   "source": [
    "bd.projects.set_current(\"default\")"
   ]
  },
  {
   "cell_type": "code",
   "execution_count": 4,
   "id": "647e604a-79fd-44cb-8c92-dc0d313d816a",
   "metadata": {},
   "outputs": [],
   "source": [
    "# bd.databases"
   ]
  },
  {
   "cell_type": "code",
   "execution_count": 5,
   "id": "14712f55-a84d-4286-8bb1-91ba61de5cac",
   "metadata": {},
   "outputs": [],
   "source": [
    "STORE_DATA_TO = Path(\n",
    "    ROOT_DIR\n",
    "    + r\"\\src\\aesa_pbs\\data\"\n",
    "    + f\"\\\\aesa_ChangeBiosphereIntegrity_FunctionalDiversity_Hierarchist.xlsx\"\n",
    ")"
   ]
  },
  {
   "cell_type": "markdown",
   "id": "e7b6e672-6dd8-447c-a1d2-76faaabbefcc",
   "metadata": {},
   "source": [
    "## Biological footprint: Climate Change component\n",
    "> import ReCiPe2016 Midpoint(H) method and correct the units"
   ]
  },
  {
   "cell_type": "code",
   "execution_count": 6,
   "id": "203951f1-a357-4187-964f-51d92e9711d5",
   "metadata": {},
   "outputs": [],
   "source": [
    "method_category = \"GlobalWarmingReCiPe2016\""
   ]
  },
  {
   "cell_type": "code",
   "execution_count": 7,
   "id": "d1eda2a5-ec74-42f3-a280-64facdb835b8",
   "metadata": {},
   "outputs": [],
   "source": [
    "SIMAPRO_DIR = ROOT_DIR + r\"\\data\\external\\from_simapro\""
   ]
  },
  {
   "cell_type": "code",
   "execution_count": 8,
   "id": "f3aee9ae-1a98-4b31-8c95-e2ea5efae9ea",
   "metadata": {},
   "outputs": [],
   "source": [
    "STORE_DATA_TO = Path(\n",
    "    ROOT_DIR + r\"\\src\\aesa_pbs\\data\" + f\"\\\\aesa_{method_category}.xlsx\"\n",
    ")"
   ]
  },
  {
   "cell_type": "code",
   "execution_count": 9,
   "id": "082379de-764b-464b-8677-c545913ec62c",
   "metadata": {},
   "outputs": [
    {
     "name": "stdout",
     "output_type": "stream",
     "text": [
      "Extracted 1 methods in 0.01 seconds\n"
     ]
    }
   ],
   "source": [
    "si = bi.SimaProLCIACSVImporter(\n",
    "    filepath=Path(SIMAPRO_DIR + f\"\\PBsLCIAv072_{method_category}.csv\")\n",
    ")"
   ]
  },
  {
   "cell_type": "code",
   "execution_count": 12,
   "id": "0b973bac-555c-43d5-9d13-f8d1b5a37e6a",
   "metadata": {},
   "outputs": [],
   "source": [
    "# si.data[0].keys()"
   ]
  },
  {
   "cell_type": "code",
   "execution_count": 13,
   "id": "99d54167-98fb-4861-900d-71e62eddea72",
   "metadata": {},
   "outputs": [
    {
     "name": "stdout",
     "output_type": "stream",
     "text": [
      "('PBs-LCIA (baseline)', '(not PBs) Global warming** (ReCiPe(H))') kg CO2 eq\n"
     ]
    }
   ],
   "source": [
    "for method in si.data:\n",
    "    print(method[\"name\"], method[\"unit\"])"
   ]
  },
  {
   "cell_type": "code",
   "execution_count": 14,
   "id": "bb95ca20-e6be-4984-a5b0-10e892458a14",
   "metadata": {},
   "outputs": [
    {
     "data": {
      "text/plain": [
       "{'amount': 2.0,\n",
       " 'CAS number': '102687-65-0',\n",
       " 'categories': ('Air', '(unspecified)'),\n",
       " 'name': '(E)-1-Chloro-3,3,3-trifluoroprop-1-ene',\n",
       " 'unit': 'kg'}"
      ]
     },
     "execution_count": 14,
     "metadata": {},
     "output_type": "execute_result"
    }
   ],
   "source": [
    "si.data[0][\"exchanges\"][0]  # .keys()"
   ]
  },
  {
   "cell_type": "code",
   "execution_count": 15,
   "id": "57636857-9d32-4e06-9f86-8ef35050346c",
   "metadata": {},
   "outputs": [
    {
     "name": "stdout",
     "output_type": "stream",
     "text": [
      "Applying strategy: normalize_units\n",
      "Applying strategy: set_biosphere_type\n",
      "Applying strategy: normalize_simapro_biosphere_categories\n",
      "Applying strategy: normalize_simapro_biosphere_names\n",
      "Applying strategy: set_biosphere_type\n",
      "Applying strategy: drop_unspecified_subcategories\n",
      "Applying strategy: normalize_biosphere_categories\n",
      "Applying strategy: normalize_biosphere_names\n",
      "Applying strategy: link_iterable_by_fields\n",
      "Applying strategy: match_subcategories\n",
      "Applied 10 strategies in 0.53 seconds\n",
      "1 methods\n",
      "367 cfs\n",
      "174 unlinked cfs\n"
     ]
    },
    {
     "data": {
      "text/plain": [
       "(1, 367, 174)"
      ]
     },
     "execution_count": 15,
     "metadata": {},
     "output_type": "execute_result"
    }
   ],
   "source": [
    "si.apply_strategies()\n",
    "si.statistics()"
   ]
  },
  {
   "cell_type": "code",
   "execution_count": 16,
   "id": "6bf6c76d-6b7f-48bf-8ca6-b6c18c268037",
   "metadata": {
    "collapsed": true,
    "jupyter": {
     "outputs_hidden": true
    },
    "tags": []
   },
   "outputs": [
    {
     "data": {
      "text/plain": [
       "[('(E)-1-Chloro-3,3,3-trifluoroprop-1-ene', ('air',)),\n",
       " ('(E)-1,2,3,3,3-Pentafluoroprop-1-ene', ('air',)),\n",
       " ('(Perfluorobutyl)ethylene', ('air',)),\n",
       " ('(Perfluoroctyl)ethylene', ('air',)),\n",
       " ('(Perfluorohexyl)ethylene', ('air',)),\n",
       " ('(Z)-1,1,1,4,4,4-Hexafluorobut-2-ene', ('air',)),\n",
       " ('(Z)-1,2,3,3,3-Pentafluoroprop-1-ene', ('air',)),\n",
       " ('(Z)-1,3,3,3-Tetrafluoroprop-1-ene', ('air',)),\n",
       " ('1-Propanol, 3,3,3-trifluoro-2,2-bis(trifluoromethyl)-, HFE-7100', ('air',)),\n",
       " ('1-Propanol, i-3,3,3-trifluoro-2,2-bis(trifluoromethyl)-, i-HFE-7100',\n",
       "  ('air',)),\n",
       " ('1-Propanol, n-3,3,3-trifluoro-2,2-bis(trifluoromethyl)-, n-HFE-7100',\n",
       "  ('air',)),\n",
       " ('1-Undecanol, 3,3,4,4,5,5,6,6,7,7,8,8,9,9,10,10,11,11,11-nonadecafluoro-',\n",
       "  ('air',)),\n",
       " ('1,1,1,3,3,3-Hexafluoropropan-2-ol', ('air',)),\n",
       " ('1,2,2-Trichloro-1,1-difluoroethane', ('air',)),\n",
       " ('2,3,3,3-Tetrafluoropropene', ('air',)),\n",
       " ('Acetate, 1,1-difluoroethyl 2,2,2-trifluoro-', ('air',)),\n",
       " ('Acetate, 2,2,2-trifluoroethyl 2,2,2-trifluoro-', ('air',)),\n",
       " ('Acetate, difluoromethyl 2,2,2-trifluoro-', ('air',)),\n",
       " ('Acetate, methyl 2,2-difluoro-', ('air',)),\n",
       " ('Acetate, methyl 2,2,2-trifluoro-', ('air',)),\n",
       " ('Acetate, perfluorobutyl-', ('air',)),\n",
       " ('Acetate, perfluoroethyl-', ('air',)),\n",
       " ('Acetate, perfluoropropyl-', ('air',)),\n",
       " ('Acetate, trifluoromethyl-', ('air',)),\n",
       " ('Butane, 1,1,1,2,2,3,3,4,4-nonafluoro-, HFC-329p', ('air',)),\n",
       " ('Butane, 1,1,1,3,3-pentafluoro-, HFC-365mfc', ('air',)),\n",
       " ('Butane, perfluoro-', ('air',)),\n",
       " ('Butane, perfluorocyclo-, PFC-318', ('air',)),\n",
       " ('Butanol, 2,2,3,3,4,4,4-heptafluoro-', ('air',)),\n",
       " ('Butanol, 2,2,3,3,4,4,4-heptafluoro-1-', ('air',)),\n",
       " ('Butanol, 2,2,3,4,4,4-hexafluoro-1-', ('air',)),\n",
       " ('Carbon dioxide', ('air',)),\n",
       " ('Cis-perfluorodecalin', ('air',)),\n",
       " ('CO2credit', ('natural resource',)),\n",
       " ('Decane, 1,1,...,15,15-eicosafluoro-2,5,8,11,14-Pentaoxapenta-', ('air',)),\n",
       " ('Decane, 1,1,3,3,4,4,6,6,7,7,9,9,10,10,12,12-hexadecafluoro-2,5,8,11-tetraoxado-',\n",
       "  ('air',)),\n",
       " ('Decane, 1,1,3,3,5,5,7,7,8,8,10,10-dodecafluoro-2,4,6,9-tetraoxa-',\n",
       "  ('air',)),\n",
       " ('Decane, 1,1,3,3,5,5,7,7,9,9-decafluoro-2,4,6,8-tetraoxanonane-', ('air',)),\n",
       " ('Decane, 3,3,4,4,6,6,7,7,9,9,10,10-dodecafluoro-2,5,8,11-tetraoxado-',\n",
       "  ('air',)),\n",
       " ('EPTE-furan', ('air',)),\n",
       " ('Ethane, 1-(difluoromethoxy)-1,1,2,2-tetrafluoro-', ('air',)),\n",
       " ('Ethane, 1-chloro-2,2,2-trifluoro-(difluoromethoxy)-, HCFE-235da2',\n",
       "  ('air',)),\n",
       " ('Ethane, 1-ethoxy-1,1,2,2,2-pentafluoro-', ('air',)),\n",
       " (\"Ethane, 1,1'-oxybis[2-(difluoromethoxy)-1,1,2,2-tetrafluoro-\", ('air',)),\n",
       " ('Ethane, 1,1-dichloro-1,2-difluoro-, HCFC-132c', ('air',)),\n",
       " ('Ethane, 1,1,1-trifluoro-2-bromo-', ('air',)),\n",
       " ('Ethane, 1,1,1,2-tetrafluoro-2-bromo-, Halon 2401', ('air',)),\n",
       " ('Ethane, 1,1,2-trichloro-1,2-difluoro-, HCFC-122a', ('air',)),\n",
       " ('Ethane, 1,1,2-trifluoro-, HFC-143', ('air',)),\n",
       " ('Ethane, 1,1,2,2-tetrafluoro-, HFC-134', ('air',)),\n",
       " ('Ethane, 1,1,2,2-tetrafluoro-1-(fluoromethoxy)-', ('air',)),\n",
       " ('Ethane, 1,1,2,2-tetrafluoro-1-methoxy-2-(1,1,2,2-tetrafluoro-2-methoxyethoxy)-',\n",
       "  ('air',)),\n",
       " ('Ethane, 1,1,2,2-tetrafluoro-1,2-dimethoxy-', ('air',)),\n",
       " ('Ethane, 1,2-dibromotetrafluoro-, Halon 2402', ('air',)),\n",
       " ('Ethane, 1,2-dichloro-1,1,2-trifluoro-, HCFC-123a', ('air',)),\n",
       " ('Ethane, 1,2-difluoro-, HFC-152', ('air',)),\n",
       " ('Ethane, 2-chloro-1,1,2-trifluoro-1-methoxy-', ('air',)),\n",
       " ('Ethane, fluoro-, HFC-161', ('air',)),\n",
       " ('Ethanol, 2-fluoro-', ('air',)),\n",
       " ('Ethanol, 2,2-difluoro-', ('air',)),\n",
       " ('Ethanol, 2,2,2-trifluoro-', ('air',)),\n",
       " ('Ethene, 1,1-difluoro-, HFC-1132a', ('air',)),\n",
       " ('Ethene, 1,1,2-trifluoro-2-(trifluoromethoxy)-', ('air',)),\n",
       " ('Ether, 1,1,1-trifluoromethyl methyl-, HFE-143a', ('air',)),\n",
       " ('Ether, 1,1,2,2-Tetrafluoroethyl 2,2,2-trifluoroethyl-, HFE-347mcf2',\n",
       "  ('air',)),\n",
       " ('Ether, 1,1,2,2-Tetrafluoroethyl 2,2,2-trifluoroethyl-, HFE-347pcf2',\n",
       "  ('air',)),\n",
       " ('Ether, 1,1,2,2-Tetrafluoroethyl methyl-, HFE-254cb2', ('air',)),\n",
       " ('Ether, 1,1,2,3,3,3-Hexafluoropropyl methyl-, HFE-356mec3', ('air',)),\n",
       " ('Ether, 1,1,2,3,3,3-Hexafluoropropyl methyl-, HFE-356pcc3', ('air',)),\n",
       " ('Ether, 1,1,2,3,3,3-Hexafluoropropyl methyl-, HFE-356pcf2', ('air',)),\n",
       " ('Ether, 1,1,2,3,3,3-Hexafluoropropyl methyl-, HFE-356pcf3', ('air',)),\n",
       " ('Ether, 1,2,2-trifluoroethyl trifluoromethyl-, HFE-236ea2', ('air',)),\n",
       " ('Ether, 1,2,2-trifluoroethyl trifluoromethyl-, HFE-236fa', ('air',)),\n",
       " ('Ether, 2-chloro-1,1,2-trifluoroethyl difluoromethyl-, HCFE-235ca2 (enflurane)',\n",
       "  ('air',)),\n",
       " ('Ether, 2,2,3,3,3-Pentafluoropropyl methyl-, HFE-365mcf3', ('air',)),\n",
       " ('Ether, bis(2,2,2-trifluoroethyl)-', ('air',)),\n",
       " ('Ether, di(difluoromethyl), HFE-134', ('air',)),\n",
       " ('Ether, difluoromethyl 1,2,2,2-tetrafluoroethyl-, HFE-236ea2 (desflurane)',\n",
       "  ('air',)),\n",
       " ('Ether, difluoromethyl 2,2,2-trifluoroethyl-, HFE-245cb2', ('air',)),\n",
       " ('Ether, difluoromethyl 2,2,2-trifluoroethyl-, HFE-245fa1', ('air',)),\n",
       " ('Ether, difluoromethyl 2,2,2-trifluoroethyl-, HFE-245fa2', ('air',)),\n",
       " ('Ether, ethyl 1,1,2,2-tetrafluoroethyl-, HFE-374pc2', ('air',)),\n",
       " ('Ether, ethyl trifluoromethyl-, HFE-263m1', ('air',)),\n",
       " ('Ether, i-nonafluorobutane ethyl-, HFE569sf2 (i-HFE-7200)', ('air',)),\n",
       " ('Ether, n-nonafluorobutane ethyl-, HFE569sf2 (n-HFE-7200)', ('air',)),\n",
       " ('Ether, nonafluorobutane ethyl-, HFE569sf2 (HFE-7200)', ('air',)),\n",
       " ('Ether, pentafluoromethyl-, HFE-125', ('air',)),\n",
       " ('Fluoridate, 1,1-difluoroethyl carbono-', ('air',)),\n",
       " ('Fluoridate, methyl carbono-', ('air',)),\n",
       " ('Fluoroxene', ('air',)),\n",
       " ('Formate, 1,1,1,3,3,3-hexafluoropropan-2-yl-', ('air',)),\n",
       " ('Formate, 1,2,2,2-tetrafluoroethyl-', ('air',)),\n",
       " ('Formate, 2,2,2-trifluoroethyl-', ('air',)),\n",
       " ('Formate, 3,3,3-trifluoropropyl-', ('air',)),\n",
       " ('Formate, perfluorobutyl-', ('air',)),\n",
       " ('Formate, perfluoroethyl-', ('air',)),\n",
       " ('Formate, perfluoropropyl-', ('air',)),\n",
       " ('Formate, trifluoromethyl-', ('air',)),\n",
       " ('Halothane', ('air',)),\n",
       " ('Heptanol, 3,3,4,4,5,5,6,6,7,7,7-undecafluoro-', ('air',)),\n",
       " ('Hexane, perfluoro-', ('air',)),\n",
       " ('HFE-227EA', ('air',)),\n",
       " ('HFE-236ca12 (HG-10)', ('air',)),\n",
       " ('HFE-263fb2', ('air',)),\n",
       " ('HFE-329mcc2', ('air',)),\n",
       " ('HFE-338mcf2', ('air',)),\n",
       " ('HFE-338pcc13 (HG-01)', ('air',)),\n",
       " ('HFE-43-10pccc124 (H-Galden1040x)', ('air',)),\n",
       " ('HG-02', ('air',)),\n",
       " ('HG-03', ('air',)),\n",
       " ('Methane, (difluoromethoxy)((difluoromethoxy)difluoromethoxy)difluoro-',\n",
       "  ('air',)),\n",
       " ('Methane, bromodifluoro-, Halon 1201', ('air',)),\n",
       " ('Methane, dibromo-', ('air',)),\n",
       " ('Methane, dibromodifluoro-, Halon 1202', ('air',)),\n",
       " ('Methane, difluoro(fluoromethoxy)-', ('air',)),\n",
       " ('Methane, difluoro(methoxy)-', ('air',)),\n",
       " ('Methane, fluoro-, HFC-41', ('air',)),\n",
       " ('Methane, fluoro(fluoromethoxy)-', ('air',)),\n",
       " ('Methane, fluoro(methoxy)-', ('air',)),\n",
       " ('Methane, trifluoro(fluoromethoxy)-', ('air',)),\n",
       " ('Methyl perfluoroisopropyl ether', ('air',)),\n",
       " ('Nonanol, 3,3,4,4,5,5,6,6,7,7,8,8,9,9,9-pentadecafluoro-', ('air',)),\n",
       " ('Octa deca fluoro octane', ('air',)),\n",
       " ('Pentafluorobutene-1', ('air',)),\n",
       " ('Pentane, 2,3-dihydroperfluoro-, HFC-4310mee', ('air',)),\n",
       " ('Pentane, perfluoro-', ('air',)),\n",
       " ('Pentanol, 2,2,3,3,4,4,5,5-octafluorocyclo-', ('air',)),\n",
       " ('Pentanone, 1,1,1,2,2,4,5,5,5-nonafluoro-4-(trifluoromethyl)-3-', ('air',)),\n",
       " ('Perfluorobut-1-ene', ('air',)),\n",
       " ('Perfluorobut-2-ene', ('air',)),\n",
       " ('Perfluorobuta-1,3-diene', ('air',)),\n",
       " ('Perfluorocyclopentene', ('air',)),\n",
       " ('Perfluorodecalin (mixed)', ('air',)),\n",
       " ('Perfluorodecalin (trans)', ('air',)),\n",
       " ('Perfluoroheptane', ('air',)),\n",
       " ('Perfluoropropene', ('air',)),\n",
       " ('PFPMIE', ('air',)),\n",
       " ('Propanal, 3,3,3-trifluoro-', ('air',)),\n",
       " ('Propane, 1-ethoxy-1,1,2,2,3,3,3-heptafluoro', ('air',)),\n",
       " ('Propane, 1-ethoxy-1,1,2,3,3,3-hexafluoro-', ('air',)),\n",
       " ('Propane, 1,1,1-trifluoro-, HFC-263fb', ('air',)),\n",
       " ('Propane, 1,1,1,2,2-pentafluoro-, HFC-245cb', ('air',)),\n",
       " ('Propane, 1,1,1,2,2,3-hexafluoro-, HFC-236cb', ('air',)),\n",
       " ('Propane, 1,1,1,2,2,3,3-heptafluoro-, HFC-227ca', ('air',)),\n",
       " ('Propane, 1,1,1,2,2,3,3-heptafluoro-3-(1,2,2,2-tetrafluoroethoxy)-',\n",
       "  ('air',)),\n",
       " ('Propane, 1,1,1,2,3-pentafluoro-, HFC-245eb', ('air',)),\n",
       " ('Propane, 1,1,1,2,3,3-hexafluoro-, HFC-236ea', ('air',)),\n",
       " ('Propane, 1,1,1,2,3,3-hexafluoro-3-(trifluoromethoxy)-, HFE-329me3',\n",
       "  ('air',)),\n",
       " ('Propane, 1,1,1,2,3,3,3-heptafluoro-, HFC-227ea', ('air',)),\n",
       " ('Propane, 1,1,1,3,3-pentafluoro-, HFC-245fa', ('air',)),\n",
       " ('Propane, 1,1,1,3,3,3-hexafluoro-, HCFC-236fa', ('air',)),\n",
       " ('Propane, 1,1,1,3,3,3-Hexafluoro-2-(difluoromethoxy)', ('air',)),\n",
       " ('Propane, 1,1,1,3,3,3-hexafluoro-2-(fluoromethoxy)-', ('air',)),\n",
       " ('Propane, 1,1,1,3,3,3-hexafluoro-2-methoxy-(9CI)', ('air',)),\n",
       " ('Propane, 1,1,2,2-tetrafluoro-3-methoxy-', ('air',)),\n",
       " ('Propane, 1,1,2,2,3-pentafluoro-, HFC-245ca', ('air',)),\n",
       " ('Propane, 1,1,2,3,3-pentafluoro-, HFC-245ea', ('air',)),\n",
       " ('Propane, 1,3-dichloro-1,1,2,2,3-pentafluoro-, HCFC-225cb', ('air',)),\n",
       " ('Propane, 2,2-difluoro-, HFC-272ca', ('air',)),\n",
       " ('Propane, 3,3-dichloro-1,1,1,2,2-pentafluoro-, HCFC-225ca', ('air',)),\n",
       " ('Propane, perfluoro-', ('air',)),\n",
       " ('Propane, perfluorocyclo-', ('air',)),\n",
       " ('Propane,1,1,1,2,2,3,3-heptafluoro-3-methoxy-, HFE-347mcc3 (HFE-7000)',\n",
       "  ('air',)),\n",
       " ('Propanol, 2,2,3,3-tetrafluoro-1-', ('air',)),\n",
       " ('Propanol, 3,3,3-trifluoro-1-', ('air',)),\n",
       " ('Propanol, pentafluoro-1-', ('air',)),\n",
       " ('Sulfuryl fluoride', ('air',)),\n",
       " ('Tetrafluoroethylene', ('air',)),\n",
       " ('trans-1,3,3,3-Tetrafluoropropene', ('air',)),\n",
       " ('Trifluorobutanol', ('air',)),\n",
       " ('Trifluoroethyl acetate', ('air',)),\n",
       " ('Trifluoromethylsulfur pentafluoride', ('air',)),\n",
       " ('Trifluoropropene, HFC-1243zf', ('air',)),\n",
       " ('Vinylfluoride', ('air',))]"
      ]
     },
     "execution_count": 16,
     "metadata": {},
     "output_type": "execute_result"
    }
   ],
   "source": [
    "[(exc[\"name\"], exc[\"categories\"]) for exc in list(si.unlinked)]"
   ]
  },
  {
   "cell_type": "code",
   "execution_count": 17,
   "id": "a2c1e4ae-9c02-4319-a7fd-f35cdfdd3cb0",
   "metadata": {},
   "outputs": [],
   "source": [
    "link_by_name_and_categories = partial(\n",
    "    bi.strategies.link_iterable_by_fields,\n",
    "    other=bd.Database(bd.config.biosphere),\n",
    "    kind=\"biosphere\",\n",
    "    fields=(\"name\", \"categories\"),\n",
    ")"
   ]
  },
  {
   "cell_type": "code",
   "execution_count": 19,
   "id": "6455bd31-a77a-4aaa-a2d8-2cd42eda613f",
   "metadata": {},
   "outputs": [],
   "source": [
    "def drop_duplicates(data):\n",
    "    for method in data:\n",
    "        for exc in method[\"exchanges\"]:\n",
    "            unique_exchanges = {\n",
    "                (o[\"name\"], o[\"categories\"]): o for o in method[\"exchanges\"]\n",
    "            }\n",
    "            method[\"exchanges\"] = list(unique_exchanges.values())\n",
    "    return data"
   ]
  },
  {
   "cell_type": "code",
   "execution_count": 20,
   "id": "e7b50b3b-9521-4f29-bdb5-2aa61069a12c",
   "metadata": {},
   "outputs": [
    {
     "name": "stdout",
     "output_type": "stream",
     "text": [
      "Applying strategy: drop_duplicates\n",
      "Applying strategy: link_iterable_by_fields\n",
      "Applied 2 strategies in 0.20 seconds\n",
      "1 methods\n",
      "367 cfs\n",
      "174 unlinked cfs\n"
     ]
    },
    {
     "data": {
      "text/plain": [
       "(1, 367, 174)"
      ]
     },
     "execution_count": 20,
     "metadata": {},
     "output_type": "execute_result"
    }
   ],
   "source": [
    "si.apply_strategies(\n",
    "    [\n",
    "        # change_to_green_area,\n",
    "        # update_occupation_forest_secondary,\n",
    "        # update_occupation_urban,\n",
    "        drop_duplicates,\n",
    "        link_by_name_and_categories,\n",
    "    ]\n",
    ")\n",
    "si.statistics()"
   ]
  },
  {
   "cell_type": "code",
   "execution_count": 21,
   "id": "b2eb501f-2f4b-480b-99ae-6351645064a2",
   "metadata": {},
   "outputs": [
    {
     "name": "stdout",
     "output_type": "stream",
     "text": [
      "Applying strategy: drop_unlinked_cfs\n",
      "Applied 1 strategies in 0.00 seconds\n",
      "1 methods\n",
      "193 cfs\n",
      "0 unlinked cfs\n"
     ]
    },
    {
     "data": {
      "text/plain": [
       "(1, 193, 0)"
      ]
     },
     "execution_count": 21,
     "metadata": {},
     "output_type": "execute_result"
    }
   ],
   "source": [
    "si.drop_unlinked()\n",
    "si.statistics()"
   ]
  },
  {
   "cell_type": "raw",
   "id": "36984efc-4bce-4b64-a1d7-0b0c0f1e6e12",
   "metadata": {},
   "source": [
    "data = extract_recipe()[2]"
   ]
  },
  {
   "cell_type": "raw",
   "id": "c68f5267-f751-4630-b751-07b200526668",
   "metadata": {},
   "source": [
    "biosphere = get_biosphere_database()"
   ]
  },
  {
   "cell_type": "raw",
   "id": "ec840d0b-b7cd-40c4-8abd-197264e873bc",
   "metadata": {},
   "source": [
    "gw = GlobalWarming(data, biosphere)"
   ]
  },
  {
   "cell_type": "raw",
   "id": "813ce154-8c92-4fda-8680-26f5d577bb68",
   "metadata": {},
   "source": [
    "# gw.apply_strategies()\n",
    "# will get a TypeError message, need to correct the \"split_synonyms\" strategy"
   ]
  },
  {
   "cell_type": "raw",
   "id": "cf569e96-1419-4b92-9d78-a57f5fdac268",
   "metadata": {},
   "source": [
    "multiple = re.compile(r\"^(.*)\\((.*)\\)$\")\n",
    "\n",
    "\n",
    "def split_synonyms_corrected(data):\n",
    "    \"\"\"Split synonyms given in one string.\n",
    "\n",
    "    Also makes sure ``synonyms`` exists, has no trailing whitespace,\n",
    "    and is a list.\n",
    "    E.g. ``dinitrogen oxide (nitrous oxide)`` to\n",
    "    ``[\"dinitrogen oxide\", \"nitrous oxide\"]``,\"\"\"\n",
    "    for ds in data:\n",
    "        for cf in ds[\"exchanges\"]:\n",
    "            if cf.get(\"synonyms\"):\n",
    "                match = multiple.match(str(cf[\"synonyms\"]))  # CORRECTION: make it str\n",
    "                if match:\n",
    "                    cf[\"synonyms\"] = [x.strip() for x in match.groups()]\n",
    "                elif not isinstance(cf[\"synonyms\"], list):\n",
    "                    cf[\"synonyms\"] = [cf[\"synonyms\"].strip()]\n",
    "            else:\n",
    "                cf[\"synonyms\"] = []\n",
    "    return data"
   ]
  },
  {
   "cell_type": "raw",
   "id": "12d0f7d8-b071-4994-8674-7c84dc600f0b",
   "metadata": {},
   "source": [
    "gw.apply_strategies(gw.strategies[:2])\n",
    "gw.apply_strategy(split_synonyms_corrected)  # corrected strategy\n",
    "gw.apply_strategies(gw.strategies[3:])\n",
    "gw.statistics()"
   ]
  },
  {
   "cell_type": "raw",
   "id": "c5e6eff6-20d4-41e7-b48e-0095eb0decce",
   "metadata": {},
   "source": [
    "# which is previous version?\n",
    "c = gw.compare_to_previous()"
   ]
  },
  {
   "cell_type": "raw",
   "id": "bc53a092-4642-4f21-bf3c-c24a8e029dd4",
   "metadata": {},
   "source": [
    "c.keys()"
   ]
  },
  {
   "cell_type": "raw",
   "id": "e7d226cc-112a-4e2a-a6ab-1bb2589082fe",
   "metadata": {},
   "source": [
    "[(key, len(c[key])) for key in c]"
   ]
  },
  {
   "cell_type": "raw",
   "id": "f1a251d0-2ae1-4f4a-b038-84828b9aaba8",
   "metadata": {},
   "source": [
    "# Present in previous ReCiPe, missing here\n",
    "c[\"reference\"].difference(c[\"found\"])"
   ]
  },
  {
   "cell_type": "raw",
   "id": "65d2803b-f92b-4e84-af58-762cb7270bff",
   "metadata": {},
   "source": [
    "# c[\"found\"]\n",
    "# c[\"missing\"]\n",
    "# c[\"reference\"]"
   ]
  },
  {
   "cell_type": "raw",
   "id": "d37ab660-3bf6-4fd1-a89c-1be2955cf989",
   "metadata": {},
   "source": [
    "gw.drop_unlinked()\n",
    "gw.statistics()"
   ]
  },
  {
   "cell_type": "code",
   "execution_count": 27,
   "id": "4d1febc3-9db4-4981-a6b3-704e6fc3fb9a",
   "metadata": {},
   "outputs": [],
   "source": [
    "def change_unit_of_biofootprint_climate_change(data):\n",
    "    \"\"\"Change the unit of biological footprint climate change (BF_CC).\n",
    "\n",
    "    Units change from kg CO2eq to % of BII loss.\n",
    "    \"\"\"\n",
    "    total_land_earth = 1.30e14  # total Earth's area\n",
    "    # (from IMAGE model https://models.pbl.nl/image/index.php/Download_packages)\n",
    "    f_individualist = 0.05  # 20-year time horizon (Hanafiah et al. 2012, Table 1)\n",
    "    f_hierarchist = 0.27  # 100-year time horizon (Hanafiah et al. 2012, Table 1)\n",
    "    f_egalitarian = 3.87  # infinite time horizon (Hanafiah et al. 2012, Table 1)\n",
    "\n",
    "    # check if CFs were already changed.\n",
    "    for method in data:\n",
    "        for exc in method[\"exchanges\"]:\n",
    "            if \"carbon dioxide, fossil\" in exc[\"name\"] and exc[\"amount\"] != 1:\n",
    "                return data  # if cfs were already changed\n",
    "\n",
    "    for method in data:\n",
    "        if \"individualist\" in str(method[\"name\"]).lower():\n",
    "            for exc in method[\"exchanges\"]:\n",
    "                exc[\"amount\"] = 100 * (\n",
    "                    f_individualist * exc[\"amount\"] / total_land_earth\n",
    "                )\n",
    "        elif \"recipe(h)\" in str(method[\"name\"]).lower():\n",
    "            for exc in method[\"exchanges\"]:\n",
    "                exc[\"amount\"] = 100 * (f_hierarchist * exc[\"amount\"] / total_land_earth)\n",
    "        elif \"egalitarian\" in str(method[\"name\"]).lower():\n",
    "            for exc in method[\"exchanges\"]:\n",
    "                exc[\"amount\"] = 100 * (f_egalitarian * exc[\"amount\"] / total_land_earth)\n",
    "    return data"
   ]
  },
  {
   "cell_type": "code",
   "execution_count": 28,
   "id": "617a9609-88bf-4d46-bfea-dea937c87ceb",
   "metadata": {},
   "outputs": [
    {
     "name": "stdout",
     "output_type": "stream",
     "text": [
      "Applying strategy: change_unit_of_biofootprint_climate_change\n",
      "1 methods\n",
      "193 cfs\n",
      "0 unlinked cfs\n"
     ]
    },
    {
     "data": {
      "text/plain": [
       "(1, 193, 0)"
      ]
     },
     "execution_count": 28,
     "metadata": {},
     "output_type": "execute_result"
    }
   ],
   "source": [
    "si.apply_strategy(change_unit_of_biofootprint_climate_change)\n",
    "si.statistics()"
   ]
  },
  {
   "cell_type": "code",
   "execution_count": 29,
   "id": "085375dc-82bf-44b5-9145-f166948363bc",
   "metadata": {},
   "outputs": [],
   "source": [
    "def drop_duplicates(data):\n",
    "    for method in data:\n",
    "        for exc in method[\"exchanges\"]:\n",
    "            unique_exchanges = {\n",
    "                (o[\"name\"], o[\"categories\"]): o for o in method[\"exchanges\"]\n",
    "            }\n",
    "            method[\"exchanges\"] = list(unique_exchanges.values())\n",
    "    return data"
   ]
  },
  {
   "cell_type": "code",
   "execution_count": 21,
   "id": "aecdeacd-f232-484e-afa9-c2ac545c5b37",
   "metadata": {},
   "outputs": [],
   "source": [
    "def add_subcategory_methane_air(data):\n",
    "    \"\"\"Add subcategory  'urban air close to ground' to methane\"\"\"\n",
    "    for method in data:\n",
    "        for exc in method[\"exchanges\"]:\n",
    "            if \"methane\" == exc[\"name\"] and \"air\" in str(exc[\"categories\"]):\n",
    "                exc[\"categories\"] = (\"air\", \"urban air close to ground\")\n",
    "    return data"
   ]
  },
  {
   "cell_type": "code",
   "execution_count": 22,
   "id": "61e52a0d-d0c5-4b55-81b5-9b815941b646",
   "metadata": {},
   "outputs": [
    {
     "name": "stdout",
     "output_type": "stream",
     "text": [
      "Applying strategy: add_subcategory_methane_air\n"
     ]
    }
   ],
   "source": [
    "gw.apply_strategy(add_subcategory_methane_air)"
   ]
  },
  {
   "cell_type": "code",
   "execution_count": 23,
   "id": "34f77558-f10a-4c4c-ba0b-41018e26610f",
   "metadata": {},
   "outputs": [
    {
     "name": "stdout",
     "output_type": "stream",
     "text": [
      "Applying strategy: drop_duplicates\n",
      "3 methods\n",
      "117 cfs\n",
      "0 unlinked cfs\n"
     ]
    },
    {
     "data": {
      "text/plain": [
       "(3, 117, 0)"
      ]
     },
     "execution_count": 23,
     "metadata": {},
     "output_type": "execute_result"
    }
   ],
   "source": [
    "gw.apply_strategy(drop_duplicates)\n",
    "gw.statistics()"
   ]
  },
  {
   "cell_type": "code",
   "execution_count": 24,
   "id": "13d7136e-1467-4fb8-836a-d984ced5b268",
   "metadata": {},
   "outputs": [],
   "source": [
    "# Next gw.write_excel(\"BII_climate_change-component\") will create an excel file in \n",
    "# ~\\Local\\pylca\\Brightway3\\default###\\output\\lcia-matching-BII_climate_change-component.xlsx\n",
    "\n",
    "# Go to created excel and apply manual corrections\n",
    "#TODO: manual corrections should not be manual\n",
    "\n",
    "# Store corrected excel to STORE_DATA_TO"
   ]
  },
  {
   "cell_type": "code",
   "execution_count": 31,
   "id": "6dbaf927-5a82-4012-b64c-2de7d441b0eb",
   "metadata": {},
   "outputs": [
    {
     "name": "stdout",
     "output_type": "stream",
     "text": [
      "Wrote matching file to:\n",
      "C:\\Users\\ViteksPC\\AppData\\Local\\pylca\\Brightway3\\default.c21f969b5f03d33d43e04f8f136e7682\\output\\lcia-matching-BII_climate_change-component_from_sp.xlsx\n"
     ]
    }
   ],
   "source": [
    "si.write_excel(\"BII_climate_change-component_from_sp\")"
   ]
  },
  {
   "cell_type": "markdown",
   "id": "517527f0-89ab-417e-ab39-f656ca7d05f0",
   "metadata": {},
   "source": [
    "## Biological footprint: Land Use component\n",
    "> import BF_LU method and correct the units"
   ]
  },
  {
   "cell_type": "code",
   "execution_count": 26,
   "id": "8de4ada6-aa52-4184-813a-9a3fe610776b",
   "metadata": {},
   "outputs": [],
   "source": [
    "method_category = \"BiologicalFootprint_LU\""
   ]
  },
  {
   "cell_type": "code",
   "execution_count": 27,
   "id": "cd6441a0-068d-4223-aa6d-daa349672e2c",
   "metadata": {},
   "outputs": [],
   "source": [
    "SIMAPRO_DIR = ROOT_DIR + r\"\\data\\external\\from_simapro\""
   ]
  },
  {
   "cell_type": "code",
   "execution_count": 28,
   "id": "0844fb01-6678-4398-bb4a-256d7900b66e",
   "metadata": {},
   "outputs": [],
   "source": [
    "STORE_DATA_TO = Path(\n",
    "    ROOT_DIR + r\"\\src\\aesa_pbs\\data\" + f\"\\\\aesa_{method_category}.xlsx\"\n",
    ")"
   ]
  },
  {
   "cell_type": "code",
   "execution_count": 29,
   "id": "666531d2-0227-4f2b-bd49-b12f49c67f29",
   "metadata": {},
   "outputs": [
    {
     "name": "stdout",
     "output_type": "stream",
     "text": [
      "Extracted 1 methods in 0.01 seconds\n"
     ]
    }
   ],
   "source": [
    "si = bi.SimaProLCIACSVImporter(\n",
    "    filepath=Path(SIMAPRO_DIR + f\"\\PBsLCIAv072_{method_category}.csv\")\n",
    ")"
   ]
  },
  {
   "cell_type": "code",
   "execution_count": 30,
   "id": "7eda1d0b-7ac1-4cfe-bb57-6a8ae92f9e4d",
   "metadata": {},
   "outputs": [],
   "source": [
    "# si.data[0].keys()"
   ]
  },
  {
   "cell_type": "code",
   "execution_count": 31,
   "id": "3743fa54-ea96-4a11-bd50-2b9b0c12e302",
   "metadata": {},
   "outputs": [
    {
     "name": "stdout",
     "output_type": "stream",
     "text": [
      "('PBs-LCIA (baseline)', '(not PBs) Biological footprint, LU**') BIILoss.m2a\n"
     ]
    }
   ],
   "source": [
    "for method in si.data:\n",
    "    print(method[\"name\"], method[\"unit\"])"
   ]
  },
  {
   "cell_type": "code",
   "execution_count": 32,
   "id": "88f5680e-d5e1-45ff-b700-4f198e73dff0",
   "metadata": {},
   "outputs": [
    {
     "data": {
      "text/plain": [
       "{'amount': 0.9,\n",
       " 'CAS number': '',\n",
       " 'categories': ('Raw', '(unspecified)'),\n",
       " 'name': 'Occupation, agriculture',\n",
       " 'unit': 'm2a'}"
      ]
     },
     "execution_count": 32,
     "metadata": {},
     "output_type": "execute_result"
    }
   ],
   "source": [
    "si.data[0][\"exchanges\"][0]  # .keys()"
   ]
  },
  {
   "cell_type": "code",
   "execution_count": 33,
   "id": "f40ad041-6d1c-41c2-b8f2-efda74526fa1",
   "metadata": {},
   "outputs": [
    {
     "name": "stdout",
     "output_type": "stream",
     "text": [
      "Applying strategy: normalize_units\n",
      "Applying strategy: set_biosphere_type\n",
      "Applying strategy: normalize_simapro_biosphere_categories\n",
      "Applying strategy: normalize_simapro_biosphere_names\n",
      "Applying strategy: set_biosphere_type\n",
      "Applying strategy: drop_unspecified_subcategories\n",
      "Applying strategy: normalize_biosphere_categories\n",
      "Applying strategy: normalize_biosphere_names\n",
      "Applying strategy: link_iterable_by_fields\n",
      "Applying strategy: match_subcategories\n",
      "Applied 10 strategies in 0.40 seconds\n",
      "1 methods\n",
      "67 cfs\n",
      "27 unlinked cfs\n"
     ]
    },
    {
     "data": {
      "text/plain": [
       "(1, 67, 27)"
      ]
     },
     "execution_count": 33,
     "metadata": {},
     "output_type": "execute_result"
    }
   ],
   "source": [
    "si.apply_strategies()\n",
    "si.statistics()"
   ]
  },
  {
   "cell_type": "code",
   "execution_count": 34,
   "id": "143923db-109d-4272-8832-5cb0a327a6b5",
   "metadata": {},
   "outputs": [],
   "source": [
    "def drop_duplicates(data):\n",
    "    for method in data:\n",
    "\n",
    "        unique_exchanges = {\n",
    "            (o[\"name\"], o[\"categories\"]): o for o in method[\"exchanges\"]\n",
    "        }\n",
    "        method[\"exchanges\"] = list(unique_exchanges.values())\n",
    "        return data"
   ]
  },
  {
   "cell_type": "code",
   "execution_count": 35,
   "id": "487336ad-8c5a-4131-b8db-d36f93133551",
   "metadata": {},
   "outputs": [],
   "source": [
    "link_by_name_and_categories = partial(\n",
    "    bi.strategies.link_iterable_by_fields,\n",
    "    other=bd.Database(bd.config.biosphere),\n",
    "    kind=\"biosphere\",\n",
    "    fields=(\"name\", \"categories\"),\n",
    ")"
   ]
  },
  {
   "cell_type": "code",
   "execution_count": 36,
   "id": "633ee300-c3f7-4e68-9c61-8f9abb3eccb9",
   "metadata": {},
   "outputs": [],
   "source": [
    "def change_to_green_area(data):\n",
    "    for method in data:\n",
    "        for exc in method[\"exchanges\"]:\n",
    "            if \"green areas\" in exc[\"name\"]:\n",
    "                exc[\"name\"] = re.sub(\"green areas\", \"green area\", exc[\"name\"])\n",
    "                exc[\"categories\"] = (exc[\"categories\"][0], \"land\")\n",
    "\n",
    "        return data\n",
    "\n",
    "\n",
    "def update_occupation_forest_secondary(data):\n",
    "    for method in data:\n",
    "        for exc in method[\"exchanges\"]:\n",
    "            if \"Occupation, forest, secondary\" in exc[\"name\"]:\n",
    "                exc[\"name\"] = re.sub(\"secondary\", \"secondary (non-use)\", exc[\"name\"])\n",
    "                exc[\"categories\"] = (exc[\"categories\"][0], \"land\")\n",
    "\n",
    "        return data\n",
    "\n",
    "\n",
    "def update_occupation_urban(data):\n",
    "    for method in data:\n",
    "        for exc in method[\"exchanges\"]:\n",
    "            if \"Occupation, urban\" in exc[\"name\"]:\n",
    "                exc[\"name\"] = re.sub(\n",
    "                    \"urban$\", \"urban/industrial fallow (non-use)\", exc[\"name\"]\n",
    "                )\n",
    "                exc[\"categories\"] = (exc[\"categories\"][0], \"land\")\n",
    "\n",
    "        return data"
   ]
  },
  {
   "cell_type": "code",
   "execution_count": 37,
   "id": "c4135f93-9c7f-413e-b0c7-bddfbdc6b451",
   "metadata": {},
   "outputs": [
    {
     "name": "stdout",
     "output_type": "stream",
     "text": [
      "Applying strategy: change_to_green_area\n",
      "Applying strategy: update_occupation_forest_secondary\n",
      "Applying strategy: update_occupation_urban\n",
      "Applying strategy: drop_duplicates\n",
      "Applying strategy: link_iterable_by_fields\n",
      "Applied 5 strategies in 0.24 seconds\n",
      "1 methods\n",
      "61 cfs\n",
      "24 unlinked cfs\n"
     ]
    },
    {
     "data": {
      "text/plain": [
       "(1, 61, 24)"
      ]
     },
     "execution_count": 37,
     "metadata": {},
     "output_type": "execute_result"
    }
   ],
   "source": [
    "si.apply_strategies(\n",
    "    [\n",
    "        change_to_green_area,\n",
    "        update_occupation_forest_secondary,\n",
    "        update_occupation_urban,\n",
    "        drop_duplicates,\n",
    "        link_by_name_and_categories,\n",
    "    ]\n",
    ")\n",
    "si.statistics()"
   ]
  },
  {
   "cell_type": "code",
   "execution_count": 38,
   "id": "c7f0d244-a4cd-4349-aa5b-0304f3e6af6c",
   "metadata": {},
   "outputs": [],
   "source": [
    "# list(si.unlinked)"
   ]
  },
  {
   "cell_type": "code",
   "execution_count": 39,
   "id": "3baefc3f-2904-43f7-9fa8-edf53210bd91",
   "metadata": {
    "tags": []
   },
   "outputs": [
    {
     "data": {
      "text/plain": [
       "[('Occupation, agriculture', ('natural resource',)),\n",
       " ('Occupation, annual crop, non-irrigated, diverse-intensive',\n",
       "  ('natural resource',)),\n",
       " ('Occupation, annual crop, non-irrigated, fallow', ('natural resource',)),\n",
       " ('Occupation, annual crop, non-irrigated, monotone-intensive',\n",
       "  ('natural resource',)),\n",
       " ('Occupation, annual crop, organic', ('natural resource',)),\n",
       " ('Occupation, dump site, benthos', ('natural resource',)),\n",
       " ('Occupation, forest', ('natural resource',)),\n",
       " ('Occupation, forest, natural', ('natural resource',)),\n",
       " ('Occupation, forest, primary', ('natural resource',)),\n",
       " ('Occupation, forest, used', ('natural resource',)),\n",
       " ('Occupation, lakes, artificial', ('natural resource',)),\n",
       " ('Occupation, pasture, man made, organic', ('natural resource',)),\n",
       " ('Occupation, permanent crop, fruit', ('natural resource',)),\n",
       " ('Occupation, permanent crop, fruit, extensive', ('natural resource',)),\n",
       " ('Occupation, permanent crop, fruit, intensive', ('natural resource',)),\n",
       " ('Occupation, permanent crop, vine', ('natural resource',)),\n",
       " ('Occupation, permanent crop, vine, extensive', ('natural resource',)),\n",
       " ('Occupation, permanent crop, vine, intensive', ('natural resource',)),\n",
       " ('Occupation, sea and ocean', ('natural resource',)),\n",
       " ('Occupation, traffic area', ('natural resource',)),\n",
       " ('Occupation, traffic area, road embankment', ('natural resource',)),\n",
       " ('Occupation, unknown', ('natural resource',)),\n",
       " ('Occupation, unspecified, used', ('natural resource',)),\n",
       " ('Occupation, water courses, artificial', ('natural resource',))]"
      ]
     },
     "execution_count": 39,
     "metadata": {},
     "output_type": "execute_result"
    }
   ],
   "source": [
    "# from the 5 unlinked:\n",
    "# 1 has amount 0, can be dropped - Carbon dioxide, in air\n",
    "# 2 others \"Carbon dioxide\" and \"Carbon monoxide\" are not in biosphere3, BUT\n",
    "# \"Carbon dioxide, fossil\"\n",
    "# and \"Carbon monoxide, fossil\" and \"Carbon monoxide, non-fossil\" (with same CFs)\n",
    "# have been linked (see check_equivalent_linked)\n",
    "[(exc[\"name\"], exc[\"categories\"]) for exc in list(si.unlinked)]"
   ]
  },
  {
   "cell_type": "code",
   "execution_count": 40,
   "id": "ee30f2b9-c898-476b-9eb0-ea88779df974",
   "metadata": {},
   "outputs": [],
   "source": [
    "def see_unlinked(imported_methods, hide_print=True):\n",
    "    unlinked_exc_names = [\n",
    "        exc_unlinked[\"name\"] for exc_unlinked in list(imported_methods.unlinked)\n",
    "    ]\n",
    "\n",
    "    for ix in range(len(imported_methods.data)):\n",
    "        lst = []\n",
    "        print(imported_methods.data[ix][\"name\"][1])\n",
    "        for exc in imported_methods.data[ix][\"exchanges\"]:\n",
    "            if exc[\"name\"] in unlinked_exc_names:\n",
    "                lst.append((exc[\"name\"], exc[\"categories\"], exc[\"amount\"]))\n",
    "        if not hide_print:\n",
    "            for i in list(set(lst)):\n",
    "                print(\"\\t\", i)\n",
    "        print(\"\\n\")\n",
    "\n",
    "    return list(set(lst))\n",
    "    # if exc[\"amount\"] != 0"
   ]
  },
  {
   "cell_type": "code",
   "execution_count": 41,
   "id": "68462bb2-575f-409a-9e19-c6c01f8c36ff",
   "metadata": {},
   "outputs": [],
   "source": [
    "def check_equivalent_linked(imported_methods, list_names):\n",
    "    for ix in range(len(imported_methods.data)):\n",
    "        print(imported_methods.data[ix][\"name\"][1])\n",
    "        for exc in imported_methods.data[ix][\"exchanges\"]:\n",
    "            for x in list_names:\n",
    "                if x in exc[\"name\"]:\n",
    "                    print(\n",
    "                        \"\\t\", exc[\"name\"], exc[\"categories\"], exc[\"amount\"],\n",
    "                    )\n",
    "        print(\"\\n\")"
   ]
  },
  {
   "cell_type": "code",
   "execution_count": 42,
   "id": "d362ae91-114b-4234-8608-2772e6ed4d00",
   "metadata": {
    "tags": []
   },
   "outputs": [
    {
     "name": "stdout",
     "output_type": "stream",
     "text": [
      "(not PBs) Biological footprint, LU**\n",
      "\n",
      "\n"
     ]
    },
    {
     "data": {
      "text/plain": [
       "[('Occupation, agriculture', ('natural resource',), 0.9),\n",
       " ('Occupation, annual crop, non-irrigated, diverse-intensive',\n",
       "  ('natural resource',),\n",
       "  0.9),\n",
       " ('Occupation, annual crop, non-irrigated, fallow',\n",
       "  ('natural resource',),\n",
       "  0.7),\n",
       " ('Occupation, annual crop, non-irrigated, monotone-intensive',\n",
       "  ('natural resource',),\n",
       "  0.9),\n",
       " ('Occupation, annual crop, organic', ('natural resource',), 0.7),\n",
       " ('Occupation, dump site, benthos', ('natural resource',), 0.0),\n",
       " ('Occupation, forest', ('natural resource',), 0.5),\n",
       " ('Occupation, forest, natural', ('natural resource',), 0.0),\n",
       " ('Occupation, forest, primary', ('natural resource',), 0.0),\n",
       " ('Occupation, forest, used', ('natural resource',), 0.5),\n",
       " ('Occupation, lakes, artificial', ('natural resource',), 1.0),\n",
       " ('Occupation, pasture, man made, organic', ('natural resource',), 0.3),\n",
       " ('Occupation, permanent crop, fruit', ('natural resource',), 0.9),\n",
       " ('Occupation, permanent crop, fruit, extensive', ('natural resource',), 0.7),\n",
       " ('Occupation, permanent crop, fruit, intensive', ('natural resource',), 0.9),\n",
       " ('Occupation, permanent crop, vine', ('natural resource',), 0.9),\n",
       " ('Occupation, permanent crop, vine, extensive', ('natural resource',), 0.7),\n",
       " ('Occupation, permanent crop, vine, intensive', ('natural resource',), 0.9),\n",
       " ('Occupation, sea and ocean', ('natural resource',), 0.0),\n",
       " ('Occupation, traffic area', ('natural resource',), 0.95),\n",
       " ('Occupation, traffic area, road embankment', ('natural resource',), 0.95),\n",
       " ('Occupation, unknown', ('natural resource',), 0.0),\n",
       " ('Occupation, unspecified, used', ('natural resource',), 0.0),\n",
       " ('Occupation, water courses, artificial', ('natural resource',), 1.0)]"
      ]
     },
     "execution_count": 42,
     "metadata": {},
     "output_type": "execute_result"
    }
   ],
   "source": [
    "sorted(see_unlinked(si))"
   ]
  },
  {
   "cell_type": "code",
   "execution_count": 43,
   "id": "ca44f225-9239-4823-ab27-12432a78d24a",
   "metadata": {},
   "outputs": [
    {
     "data": {
      "text/plain": [
       "{('Occupation, lake, artificial', ('natural resource', 'land')),\n",
       " ('Occupation, river, artificial', ('natural resource', 'land'))}"
      ]
     },
     "execution_count": 43,
     "metadata": {},
     "output_type": "execute_result"
    }
   ],
   "source": [
    "b3 = bd.Database(\"biosphere3\")\n",
    "set(\n",
    "    [\n",
    "        (flow[\"name\"], flow[\"categories\"])\n",
    "        for flow in b3\n",
    "        if \"Occupation,\" in flow[\"name\"] and \"artificial\" in flow[\"name\"]  # .lower()\n",
    "        if \"natural resource\" in str(flow[\"categories\"])\n",
    "    ]\n",
    ")"
   ]
  },
  {
   "cell_type": "raw",
   "id": "9ae21de5-c573-4628-8d9c-ee354a38fb90",
   "metadata": {},
   "source": [
    "len(\n",
    "    [\n",
    "        \"Occupation, agriculture\",\n",
    "        \"Occupation, annual crop, non-irrigated, diverse-intensive\",\n",
    "        \"Occupation, annual crop, non-irrigated, fallow\",\n",
    "        \"Occupation, annual crop, non-irrigated, monotone-intensive\",\n",
    "        \"Occupation, annual crop, organic\",\n",
    "        \"Occupation, dump site, benthos\",\n",
    "        \"Occupation, forest\",\n",
    "        \"Occupation, forest, natural\",\n",
    "        \"Occupation, forest, primary\",\n",
    "        \"Occupation, forest, used\",\n",
    "        \"Occupation, lakes, artificial\",\n",
    "        \"Occupation, pasture, man made, organic\",\n",
    "        \"Occupation, permanent crop, fruit\",\n",
    "        \"Occupation, permanent crop, fruit, extensive\",\n",
    "        \"Occupation, permanent crop, fruit, intensive\",\n",
    "        \"Occupation, permanent crop, vine\",\n",
    "        \"Occupation, permanent crop, vine, extensive\",\n",
    "        \"Occupation, permanent crop, vine, intensive\",\n",
    "        \"Occupation, sea and ocean\",\n",
    "        \"Occupation, traffic area\",\n",
    "        \"Occupation, traffic area, road embankment\",\n",
    "        \"Occupation, unknown\",\n",
    "        \"Occupation, unspecified, used\",\n",
    "        \"Occupation, water courses, artificial\",\n",
    "    ]\n",
    ")"
   ]
  },
  {
   "cell_type": "markdown",
   "id": "817a0e73-45f6-4f01-bffb-cdf2184536cc",
   "metadata": {},
   "source": [
    "> check Occupation, forest, intensive ('natural resource', 'land') 0.8 or 0.5"
   ]
  },
  {
   "cell_type": "code",
   "execution_count": 44,
   "id": "ff492730-32f2-4020-a4af-3fc5e63c0d06",
   "metadata": {
    "tags": []
   },
   "outputs": [
    {
     "name": "stdout",
     "output_type": "stream",
     "text": [
      "(not PBs) Biological footprint, LU**\n",
      "\t Occupation, lakes, artificial ('natural resource',) 1.0\n",
      "\t Occupation, water courses, artificial ('natural resource',) 1.0\n",
      "\t Occupation, river, artificial ('natural resource', 'land') 1.0\n",
      "\n",
      "\n"
     ]
    }
   ],
   "source": [
    "check_equivalent_linked(si, [\"artificial\"])"
   ]
  },
  {
   "cell_type": "code",
   "execution_count": 45,
   "id": "8d048c1b-09ee-4946-8156-c9dbbb625f5b",
   "metadata": {},
   "outputs": [
    {
     "name": "stdout",
     "output_type": "stream",
     "text": [
      "Applying strategy: drop_unlinked_cfs\n",
      "Applied 1 strategies in 0.00 seconds\n",
      "1 methods\n",
      "37 cfs\n",
      "0 unlinked cfs\n"
     ]
    },
    {
     "data": {
      "text/plain": [
       "(1, 37, 0)"
      ]
     },
     "execution_count": 45,
     "metadata": {},
     "output_type": "execute_result"
    }
   ],
   "source": [
    "si.drop_unlinked()\n",
    "si.statistics()"
   ]
  },
  {
   "cell_type": "code",
   "execution_count": 46,
   "id": "3dbaa8a4-d71c-4fe7-a885-a4e676b2fffe",
   "metadata": {},
   "outputs": [],
   "source": [
    "def change_unit_of_biofootprint_land_use(data):\n",
    "    \"\"\"Change the unit of biological footprint land use (BF_LU).\n",
    "    \n",
    "    Units change from loss MSA to % of BII loss.\n",
    "    \"\"\"\n",
    "    total_land_earth = 1.30e14  # total Earth's area\n",
    "    # (from IMAGE model https://models.pbl.nl/image/index.php/Download_packages)\n",
    "\n",
    "    # check if CFs were already changed.\n",
    "    for method in data:\n",
    "        for exc in method[\"exchanges\"]:\n",
    "            if \"Occupation, annual crop\" == exc[\"name\"] and exc[\"amount\"] != 0.9:\n",
    "                return data  # if cfs were already changed\n",
    "\n",
    "    for method in data:\n",
    "        for exc in method[\"exchanges\"]:\n",
    "            exc[\"amount\"] = 100 * (exc[\"amount\"] / total_land_earth)\n",
    "\n",
    "    return data"
   ]
  },
  {
   "cell_type": "code",
   "execution_count": 47,
   "id": "98a1e862-5b11-4d7b-be0c-e07562f14c48",
   "metadata": {},
   "outputs": [
    {
     "name": "stdout",
     "output_type": "stream",
     "text": [
      "Applying strategy: change_unit_of_biofootprint_land_use\n",
      "1 methods\n",
      "37 cfs\n",
      "0 unlinked cfs\n"
     ]
    },
    {
     "data": {
      "text/plain": [
       "(1, 37, 0)"
      ]
     },
     "execution_count": 47,
     "metadata": {},
     "output_type": "execute_result"
    }
   ],
   "source": [
    "si.apply_strategy(change_unit_of_biofootprint_land_use)\n",
    "si.statistics()"
   ]
  },
  {
   "cell_type": "code",
   "execution_count": 48,
   "id": "c5d20906-864c-4f7b-9fa3-6a3c6690925e",
   "metadata": {},
   "outputs": [],
   "source": [
    "def remove_duplicates_if_any(imported_methods):\n",
    "    for ix in range(len(imported_methods.data)):\n",
    "        current_exc = len(imported_methods.data[ix][\"exchanges\"])\n",
    "        wo_duplicates_exc = len(\n",
    "            {tuple(o[\"input\"]) for o in imported_methods.data[ix][\"exchanges\"]}\n",
    "        )\n",
    "        print(\n",
    "            imported_methods.data[ix][\"name\"][1], \": \", current_exc, wo_duplicates_exc,\n",
    "        )\n",
    "        if current_exc != wo_duplicates_exc:\n",
    "            unique_exchanges = {\n",
    "                tuple(o[\"input\"]): o for o in imported_methods.data[ix][\"exchanges\"]\n",
    "            }\n",
    "            imported_methods.data[ix][\"exchanges\"] = list(unique_exchanges.values())\n",
    "            print(\"Duplicates removed.\\n\")\n",
    "        else:\n",
    "            print(\"No duplicates.\\n\")"
   ]
  },
  {
   "cell_type": "code",
   "execution_count": 49,
   "id": "7e89a8f7-b018-4322-b975-2e795b85ea1e",
   "metadata": {},
   "outputs": [
    {
     "name": "stdout",
     "output_type": "stream",
     "text": [
      "(not PBs) Biological footprint, LU** :  37 37\n",
      "No duplicates.\n",
      "\n"
     ]
    }
   ],
   "source": [
    "# check if there are duplicates (both numbers should be equal)\n",
    "remove_duplicates_if_any(si)"
   ]
  },
  {
   "cell_type": "code",
   "execution_count": 50,
   "id": "3d29373b-7b73-430b-9051-31df42489c4d",
   "metadata": {},
   "outputs": [
    {
     "name": "stdout",
     "output_type": "stream",
     "text": [
      "1 methods\n",
      "37 cfs\n",
      "0 unlinked cfs\n"
     ]
    },
    {
     "data": {
      "text/plain": [
       "(1, 37, 0)"
      ]
     },
     "execution_count": 50,
     "metadata": {},
     "output_type": "execute_result"
    }
   ],
   "source": [
    "si.statistics()"
   ]
  },
  {
   "cell_type": "code",
   "execution_count": null,
   "id": "96b5b01d-1095-403c-9136-d591c16e40bb",
   "metadata": {},
   "outputs": [],
   "source": [
    "# Next si.write_excel(\"BII_land_use-component\") will create an excel file in \n",
    "# ~\\Local\\pylca\\Brightway3\\default###\\output\\lcia-matching-BII_land_use-component.xlsx\n",
    "\n",
    "# Go to created excel and apply manual corrections\n",
    "#TODO: manual corrections should not be manual\n",
    "\n",
    "# Store corrected excel to STORE_DATA_TO"
   ]
  },
  {
   "cell_type": "code",
   "execution_count": null,
   "id": "1b638595-b87b-43dc-8a34-98421b132d15",
   "metadata": {},
   "outputs": [],
   "source": [
    "si.write_excel(\"BII_land_use-component\")"
   ]
  }
 ],
 "metadata": {
  "kernelspec": {
   "display_name": "Python (bw2)",
   "language": "python",
   "name": "bw2"
  },
  "language_info": {
   "codemirror_mode": {
    "name": "ipython",
    "version": 3
   },
   "file_extension": ".py",
   "mimetype": "text/x-python",
   "name": "python",
   "nbconvert_exporter": "python",
   "pygments_lexer": "ipython3",
   "version": "3.9.7"
  }
 },
 "nbformat": 4,
 "nbformat_minor": 5
}
