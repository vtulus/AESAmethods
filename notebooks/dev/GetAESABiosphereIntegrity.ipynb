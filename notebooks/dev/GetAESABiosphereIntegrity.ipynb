{
 "cells": [
  {
   "cell_type": "code",
   "execution_count": 1,
   "id": "547e02f9-e2c9-4fc1-8bb6-ea62ebc5c6e9",
   "metadata": {},
   "outputs": [],
   "source": [
    "import pprint\n",
    "import re\n",
    "from functools import partial\n",
    "from pathlib import Path\n",
    "\n",
    "import bw2calc as bc\n",
    "import bw2data as bd\n",
    "import bw2io as bi\n",
    "import bw_recipe_2016\n",
    "from bw_recipe_2016 import GlobalWarming, extract_recipe, get_biosphere_database\n",
    "from project_path import ROOT_DIR"
   ]
  },
  {
   "cell_type": "markdown",
   "id": "de0d3c7b-8995-4e10-a51e-8e2218dce28f",
   "metadata": {},
   "source": [
    "# create Change in Biosphere Integrity method\n",
    "> Functional diversity, BII [biodiversity intactness index]\n",
    "\n",
    "> Mean Species Abundance (MSA) is used as a proxy of Biological Intactness Index (BII)\n",
    "“The main difference between MSA and BII is that every hectare is given equal weight in MSA, \n",
    "whereas BII gives more weight to species rich areas.” (Alkemade et al. 2009)\n",
    "\n",
    "> Hanafiah et al., 2012 provides (1-MSA) values for diffent land types present in SimaPro.\n",
    "(1-MSA) values are used as the characterization factors to assess \"\"Biological footprint, LU\"\". \n",
    "(1-MSA) values are applied to land use inventory flows (m2a).\n",
    "\n",
    "% of BII loss ~ % of (1-MSA) = 100 x (BF_LU+BF_CC)/At  \n",
    "where,   \n",
    "(1-MSA)               = Loss of mean species aboundance   \n",
    "> (from 0: no loss of species; to 1: complete loss of species)  \n",
    "\n",
    "MSA                   = Mean species abundance  \n",
    "> (from 0: no species; to 1: undisturbed biodevirsity)  \n",
    "\n",
    "BF_LU  [BII loss*m2a] = Biological footprint for Land Use  \n",
    "BF_CC [BII loss*m2a]  = Biological footprint for Climate Change  \n",
    "At        [m2yr]      = Earth’s total land (used in 1 yr) = 1.30E+14  \n",
    "\n",
    "where  \n",
    "BF_LU is calculated as SUM[Ai*(1-MSAi)] for \"\"i-th\"\" land use types  \n",
    "> (CFs provided in Table 1 in Hanafiah et al. 2012)  \n",
    "\n",
    "BF_CC = 0.27 * GWP   \n",
    "> GWP    [kg CO2 eq] = Global Warming Potential  for 100-year time horizon\n",
    "                        (calculated using \"\"ReCiPe 2016 (H) midpoint\"\" characterization factors)\n",
    "\n",
    "The factor applied to GWP is calculated as 100 x (0.27/At) = `2.07692E-13`  \n",
    "the factor applied to BF_LU is calculated as 100 x (1/At)  = `7.69231E-13`"
   ]
  },
  {
   "cell_type": "code",
   "execution_count": 2,
   "id": "c6dcdba8-e048-4bea-bd06-9997eca2a618",
   "metadata": {},
   "outputs": [],
   "source": [
    "# bd.projects"
   ]
  },
  {
   "cell_type": "code",
   "execution_count": 3,
   "id": "270c1244-e1bc-460d-a307-855c7d60fcd3",
   "metadata": {},
   "outputs": [],
   "source": [
    "bd.projects.set_current(\"default\")"
   ]
  },
  {
   "cell_type": "code",
   "execution_count": 4,
   "id": "647e604a-79fd-44cb-8c92-dc0d313d816a",
   "metadata": {},
   "outputs": [],
   "source": [
    "# bd.databases"
   ]
  },
  {
   "cell_type": "code",
   "execution_count": 5,
   "id": "14712f55-a84d-4286-8bb1-91ba61de5cac",
   "metadata": {},
   "outputs": [],
   "source": [
    "STORE_DATA_TO = Path(\n",
    "    ROOT_DIR\n",
    "    + r\"\\src\\aesa_pbs\\data\"\n",
    "    + f\"\\\\aesa_ChangeBiosphereIntegrity_FunctionalDiversity_Hierarchist.xlsx\"\n",
    ")"
   ]
  },
  {
   "cell_type": "markdown",
   "id": "e7b6e672-6dd8-447c-a1d2-76faaabbefcc",
   "metadata": {},
   "source": [
    "## Biological footprint: Climate Change component\n",
    "> import ReCiPe2016 Midpoint(H) method and correct the units"
   ]
  },
  {
   "cell_type": "code",
   "execution_count": 11,
   "id": "1a9dea99-fd42-4f80-9684-81a8dce4f668",
   "metadata": {},
   "outputs": [],
   "source": [
    "data = extract_recipe()[2]"
   ]
  },
  {
   "cell_type": "code",
   "execution_count": 12,
   "id": "778582cd-0b5a-4be9-b8cb-a63e03b719f1",
   "metadata": {},
   "outputs": [],
   "source": [
    "biosphere = get_biosphere_database()"
   ]
  },
  {
   "cell_type": "code",
   "execution_count": 13,
   "id": "011cd1a3-679f-46e4-976f-9c1707f1877f",
   "metadata": {},
   "outputs": [],
   "source": [
    "gw = GlobalWarming(data, biosphere)"
   ]
  },
  {
   "cell_type": "code",
   "execution_count": 14,
   "id": "4668902c-3bb0-4e72-a8c8-11246bc33af4",
   "metadata": {},
   "outputs": [],
   "source": [
    "# gw.apply_strategies()\n",
    "# will get a TypeError message, need to correct the \"split_synonyms\" strategy"
   ]
  },
  {
   "cell_type": "code",
   "execution_count": 15,
   "id": "4cfb385a-e856-4b08-81d6-8be0ddf59328",
   "metadata": {},
   "outputs": [],
   "source": [
    "multiple = re.compile(r\"^(.*)\\((.*)\\)$\")\n",
    "\n",
    "\n",
    "def split_synonyms_corrected(data):\n",
    "    \"\"\"Split synonyms given in one string.\n",
    "\n",
    "    Also makes sure ``synonyms`` exists, has no trailing whitespace,\n",
    "    and is a list.\n",
    "    E.g. ``dinitrogen oxide (nitrous oxide)`` to\n",
    "    ``[\"dinitrogen oxide\", \"nitrous oxide\"]``,\"\"\"\n",
    "    for ds in data:\n",
    "        for cf in ds[\"exchanges\"]:\n",
    "            if cf.get(\"synonyms\"):\n",
    "                match = multiple.match(str(cf[\"synonyms\"]))  # CORRECTION: make it str\n",
    "                if match:\n",
    "                    cf[\"synonyms\"] = [x.strip() for x in match.groups()]\n",
    "                elif not isinstance(cf[\"synonyms\"], list):\n",
    "                    cf[\"synonyms\"] = [cf[\"synonyms\"].strip()]\n",
    "            else:\n",
    "                cf[\"synonyms\"] = []\n",
    "    return data"
   ]
  },
  {
   "cell_type": "code",
   "execution_count": 16,
   "id": "45e2d143-112c-4726-905b-b30fc2b4e040",
   "metadata": {},
   "outputs": [
    {
     "name": "stdout",
     "output_type": "stream",
     "text": [
      "Applying strategy: fix_perspective_string\n",
      "Applying strategy: generic_reformat\n",
      "Applied 2 strategies in 0.00 seconds\n",
      "Applying strategy: split_synonyms_corrected\n",
      "Applying strategy: more_synonyms\n",
      "Applying strategy: fix_unit_string\n",
      "Applying strategy: name_matcher\n",
      "Applying strategy: add_biomass_stock_cfs\n",
      "Applying strategy: add_air_category\n",
      "Applying strategy: complete_method_name\n",
      "Applying strategy: match_multiple\n",
      "Applying strategy: final_method_name\n",
      "Applying strategy: check_duplicate_cfs\n",
      "Applied 9 strategies in 0.03 seconds\n",
      "3 methods\n",
      "1083 cfs\n",
      "519 unlinked cfs\n"
     ]
    },
    {
     "data": {
      "text/plain": [
       "(3, 1083, 519)"
      ]
     },
     "execution_count": 16,
     "metadata": {},
     "output_type": "execute_result"
    }
   ],
   "source": [
    "gw.apply_strategies(gw.strategies[:2])\n",
    "gw.apply_strategy(split_synonyms_corrected)  # corrected strategy\n",
    "gw.apply_strategies(gw.strategies[3:])\n",
    "gw.statistics()"
   ]
  },
  {
   "cell_type": "code",
   "execution_count": 17,
   "id": "2f141340-6076-46d2-b0de-57e53c73b9e8",
   "metadata": {},
   "outputs": [
    {
     "name": "stdout",
     "output_type": "stream",
     "text": [
      "Applying strategy: drop_unlinked_cfs\n",
      "Applied 1 strategies in 0.00 seconds\n",
      "3 methods\n",
      "564 cfs\n",
      "0 unlinked cfs\n"
     ]
    },
    {
     "data": {
      "text/plain": [
       "(3, 564, 0)"
      ]
     },
     "execution_count": 17,
     "metadata": {},
     "output_type": "execute_result"
    }
   ],
   "source": [
    "gw.drop_unlinked()\n",
    "gw.statistics()"
   ]
  },
  {
   "cell_type": "code",
   "execution_count": 18,
   "id": "a638995e-dc4b-4302-bae7-8245e7610bb9",
   "metadata": {},
   "outputs": [],
   "source": [
    "# gw.data[0][\"exchanges\"]"
   ]
  },
  {
   "cell_type": "code",
   "execution_count": 19,
   "id": "3383e00e-7ece-4e39-9b8c-b456f4547016",
   "metadata": {},
   "outputs": [],
   "source": [
    "def add_air_subcategories(data):\n",
    "    \"\"\"Add subcategories to 'air' category\"\"\"\n",
    "    subcategories = [\n",
    "        (\"air\",),\n",
    "        (\"air\", \"low population density, long-term\"),\n",
    "        (\"air\", \"lower stratosphere + upper troposphere\"),\n",
    "        (\"air\", \"non-urban air or from high stacks\"),\n",
    "        (\"air\", \"urban air close to ground\"),\n",
    "    ]\n",
    "    exchanges_indoor = [\n",
    "        \"carbon dioxide, from soil or biomass stock\",\n",
    "        \"dimethyl ether\",\n",
    "        \"carbon monoxide, from soil or biomass stock\",\n",
    "        \"methane, from soil or biomass stock\",\n",
    "    ]\n",
    "    unique_exchanges = []\n",
    "    for method in data:\n",
    "        for exc in method[\"exchanges\"]:\n",
    "            unique_exchanges.append(exc[\"name\"])\n",
    "    unique_exchanges = list(set(unique_exchanges))\n",
    "\n",
    "    for method in data:\n",
    "        for uexc in unique_exchanges:\n",
    "            if uexc.lower() in exchanges_indoor:\n",
    "                list_subcategories = subcategories + [(\"air\", \"indoor\")]\n",
    "            else:\n",
    "                list_subcategories = subcategories\n",
    "            count = 0\n",
    "            for exc in method[\"exchanges\"]:\n",
    "                if uexc == exc[\"name\"] and \"air\" in str(exc[\"categories\"]):\n",
    "                    exc[\"categories\"] = list_subcategories[count]\n",
    "                    count += 1\n",
    "    return data"
   ]
  },
  {
   "cell_type": "code",
   "execution_count": 20,
   "id": "79f8d822-8aef-4732-b612-1b0debd0a60e",
   "metadata": {},
   "outputs": [],
   "source": [
    "def add_soil_subcategories(data):\n",
    "    \"\"\"Add subcategories to 'soil' category\"\"\"\n",
    "    subcategories = [\n",
    "        (\"soil\",),\n",
    "        (\"soil\", \"agricultural\"),\n",
    "        (\"soil\", \"forestry\"),\n",
    "        (\"soil\", \"industrial\"),\n",
    "    ]\n",
    "\n",
    "    unique_exchanges = []\n",
    "    for method in data:\n",
    "        for exc in method[\"exchanges\"]:\n",
    "            unique_exchanges.append(exc[\"name\"])\n",
    "    unique_exchanges = list(set(unique_exchanges))\n",
    "\n",
    "    for method in data:\n",
    "        for uexc in unique_exchanges:\n",
    "            count = 0\n",
    "            for exc in method[\"exchanges\"]:\n",
    "                if uexc == exc[\"name\"] and \"soil\" in str(exc[\"categories\"]):\n",
    "                    exc[\"categories\"] = subcategories[count]\n",
    "                    count += 1\n",
    "    return data"
   ]
  },
  {
   "cell_type": "code",
   "execution_count": 21,
   "id": "c5115b72-130f-4b85-a0ff-975c107eada9",
   "metadata": {},
   "outputs": [],
   "source": [
    "def add_subcategory_methane_air(data):\n",
    "    \"\"\"Add subcategory 'urban air close to ground' to methane\"\"\"\n",
    "    for method in data:\n",
    "        for exc in method[\"exchanges\"]:\n",
    "            if \"methane\" == exc[\"name\"] and \"air\" in str(exc[\"categories\"]):\n",
    "                exc[\"categories\"] = (\"air\", \"urban air close to ground\")\n",
    "    return data"
   ]
  },
  {
   "cell_type": "code",
   "execution_count": 22,
   "id": "4d1febc3-9db4-4981-a6b3-704e6fc3fb9a",
   "metadata": {},
   "outputs": [],
   "source": [
    "def change_unit_of_biofootprint_climate_change(data):\n",
    "    \"\"\"Change the unit of biological footprint climate change (BF_CC).\n",
    "\n",
    "    Units change from kg CO2eq to % of BII loss.\n",
    "    \"\"\"\n",
    "    total_land_earth = 1.30e14  # total Earth's area\n",
    "    # (from IMAGE model https://models.pbl.nl/image/index.php/Download_packages)\n",
    "    f_individualist = 0.05  # 20-year time horizon (Hanafiah et al. 2012, Table 1)\n",
    "    f_hierarchist = 0.27  # 100-year time horizon (Hanafiah et al. 2012, Table 1)\n",
    "    f_egalitarian = 3.87  # infinite time horizon (Hanafiah et al. 2012, Table 1)\n",
    "\n",
    "    # check if CFs were already changed.\n",
    "    for method in data:\n",
    "        for exc in method[\"exchanges\"]:\n",
    "            if \"carbon dioxide, fossil\" in exc[\"name\"] and exc[\"amount\"] != 1:\n",
    "                return data  # if cfs were already changed\n",
    "\n",
    "    for method in data:\n",
    "        if \"individualist\" in str(method[\"name\"]).lower():\n",
    "            for exc in method[\"exchanges\"]:\n",
    "                exc[\"amount\"] = 100 * (\n",
    "                    f_individualist * exc[\"amount\"] / total_land_earth\n",
    "                )\n",
    "        elif \"hierarchist\" in str(method[\"name\"]).lower():\n",
    "            for exc in method[\"exchanges\"]:\n",
    "                exc[\"amount\"] = 100 * (f_hierarchist * exc[\"amount\"] / total_land_earth)\n",
    "        elif \"egalitarian\" in str(method[\"name\"]).lower():\n",
    "            for exc in method[\"exchanges\"]:\n",
    "                exc[\"amount\"] = 100 * (f_egalitarian * exc[\"amount\"] / total_land_earth)\n",
    "    return data"
   ]
  },
  {
   "cell_type": "code",
   "execution_count": 23,
   "id": "085375dc-82bf-44b5-9145-f166948363bc",
   "metadata": {},
   "outputs": [],
   "source": [
    "def drop_duplicates(data):\n",
    "    for method in data:\n",
    "        for exc in method[\"exchanges\"]:\n",
    "            unique_exchanges = {\n",
    "                (o[\"name\"], o[\"categories\"]): o for o in method[\"exchanges\"]\n",
    "            }\n",
    "            method[\"exchanges\"] = list(unique_exchanges.values())\n",
    "    return data"
   ]
  },
  {
   "cell_type": "code",
   "execution_count": 24,
   "id": "e43954d0-c2c4-4260-806b-953edfe3df81",
   "metadata": {},
   "outputs": [
    {
     "name": "stdout",
     "output_type": "stream",
     "text": [
      "Applying strategy: add_air_subcategories\n",
      "Applying strategy: add_soil_subcategories\n",
      "Applying strategy: add_subcategory_methane_air\n",
      "Applied 3 strategies in 0.00 seconds\n",
      "Applying strategy: change_unit_of_biofootprint_climate_change\n",
      "Applying strategy: drop_duplicates\n",
      "3 methods\n",
      "564 cfs\n",
      "0 unlinked cfs\n"
     ]
    },
    {
     "data": {
      "text/plain": [
       "(3, 564, 0)"
      ]
     },
     "execution_count": 24,
     "metadata": {},
     "output_type": "execute_result"
    }
   ],
   "source": [
    "gw.apply_strategies([add_air_subcategories, add_soil_subcategories, add_subcategory_methane_air])\n",
    "gw.apply_strategy(change_unit_of_biofootprint_climate_change)\n",
    "gw.apply_strategy(drop_duplicates)\n",
    "gw.statistics()"
   ]
  },
  {
   "cell_type": "code",
   "execution_count": 25,
   "id": "13d7136e-1467-4fb8-836a-d984ced5b268",
   "metadata": {},
   "outputs": [],
   "source": [
    "# Next gw.write_excel(\"BII_climate_change-component\") will create an excel file in \n",
    "# ~\\Local\\pylca\\Brightway3\\default###\\output\\lcia-matching-BII_climate_change-component.xlsx\n",
    "\n",
    "# Go to created excel and apply manual corrections\n",
    "#TODO: manual corrections should not be manual\n",
    "\n",
    "# Store corrected excel to STORE_DATA_TO"
   ]
  },
  {
   "cell_type": "code",
   "execution_count": null,
   "id": "5edf626e-f3aa-4bce-864a-5d7f4866a7ed",
   "metadata": {},
   "outputs": [],
   "source": [
    "gw.write_excel(\"BII_climate_change-component\")"
   ]
  },
  {
   "cell_type": "markdown",
   "id": "517527f0-89ab-417e-ab39-f656ca7d05f0",
   "metadata": {
    "tags": []
   },
   "source": [
    "## Biological footprint: Land Use component\n",
    "> import BF_LU method and correct the units"
   ]
  },
  {
   "cell_type": "code",
   "execution_count": 26,
   "id": "8de4ada6-aa52-4184-813a-9a3fe610776b",
   "metadata": {},
   "outputs": [],
   "source": [
    "method_category = \"BiologicalFootprint_LU\""
   ]
  },
  {
   "cell_type": "code",
   "execution_count": 27,
   "id": "cd6441a0-068d-4223-aa6d-daa349672e2c",
   "metadata": {},
   "outputs": [],
   "source": [
    "SIMAPRO_DIR = ROOT_DIR + r\"\\data\\external\\from_simapro\""
   ]
  },
  {
   "cell_type": "code",
   "execution_count": 28,
   "id": "0844fb01-6678-4398-bb4a-256d7900b66e",
   "metadata": {},
   "outputs": [],
   "source": [
    "STORE_DATA_TO = Path(\n",
    "    ROOT_DIR + r\"\\src\\aesa_pbs\\data\" + f\"\\\\aesa_{method_category}.xlsx\"\n",
    ")"
   ]
  },
  {
   "cell_type": "code",
   "execution_count": 29,
   "id": "666531d2-0227-4f2b-bd49-b12f49c67f29",
   "metadata": {},
   "outputs": [
    {
     "name": "stdout",
     "output_type": "stream",
     "text": [
      "Extracted 1 methods in 0.01 seconds\n"
     ]
    }
   ],
   "source": [
    "si = bi.SimaProLCIACSVImporter(\n",
    "    filepath=Path(SIMAPRO_DIR + f\"\\PBsLCIAv072_{method_category}.csv\")\n",
    ")"
   ]
  },
  {
   "cell_type": "code",
   "execution_count": 30,
   "id": "7eda1d0b-7ac1-4cfe-bb57-6a8ae92f9e4d",
   "metadata": {},
   "outputs": [],
   "source": [
    "# si.data[0].keys()"
   ]
  },
  {
   "cell_type": "code",
   "execution_count": 31,
   "id": "3743fa54-ea96-4a11-bd50-2b9b0c12e302",
   "metadata": {},
   "outputs": [
    {
     "name": "stdout",
     "output_type": "stream",
     "text": [
      "('PBs-LCIA (baseline)', '(not PBs) Biological footprint, LU**') BIILoss.m2a\n"
     ]
    }
   ],
   "source": [
    "for method in si.data:\n",
    "    print(method[\"name\"], method[\"unit\"])"
   ]
  },
  {
   "cell_type": "code",
   "execution_count": 32,
   "id": "88f5680e-d5e1-45ff-b700-4f198e73dff0",
   "metadata": {},
   "outputs": [
    {
     "data": {
      "text/plain": [
       "{'amount': 0.9,\n",
       " 'CAS number': '',\n",
       " 'categories': ('Raw', '(unspecified)'),\n",
       " 'name': 'Occupation, agriculture',\n",
       " 'unit': 'm2a'}"
      ]
     },
     "execution_count": 32,
     "metadata": {},
     "output_type": "execute_result"
    }
   ],
   "source": [
    "si.data[0][\"exchanges\"][0]  # .keys()"
   ]
  },
  {
   "cell_type": "code",
   "execution_count": 33,
   "id": "f40ad041-6d1c-41c2-b8f2-efda74526fa1",
   "metadata": {},
   "outputs": [
    {
     "name": "stdout",
     "output_type": "stream",
     "text": [
      "Applying strategy: normalize_units\n",
      "Applying strategy: set_biosphere_type\n",
      "Applying strategy: normalize_simapro_biosphere_categories\n",
      "Applying strategy: normalize_simapro_biosphere_names\n",
      "Applying strategy: set_biosphere_type\n",
      "Applying strategy: drop_unspecified_subcategories\n",
      "Applying strategy: normalize_biosphere_categories\n",
      "Applying strategy: normalize_biosphere_names\n",
      "Applying strategy: link_iterable_by_fields\n",
      "Applying strategy: match_subcategories\n",
      "Applied 10 strategies in 0.40 seconds\n",
      "1 methods\n",
      "67 cfs\n",
      "27 unlinked cfs\n"
     ]
    },
    {
     "data": {
      "text/plain": [
       "(1, 67, 27)"
      ]
     },
     "execution_count": 33,
     "metadata": {},
     "output_type": "execute_result"
    }
   ],
   "source": [
    "si.apply_strategies()\n",
    "si.statistics()"
   ]
  },
  {
   "cell_type": "code",
   "execution_count": 34,
   "id": "143923db-109d-4272-8832-5cb0a327a6b5",
   "metadata": {},
   "outputs": [],
   "source": [
    "def drop_duplicates(data):\n",
    "    for method in data:\n",
    "\n",
    "        unique_exchanges = {\n",
    "            (o[\"name\"], o[\"categories\"]): o for o in method[\"exchanges\"]\n",
    "        }\n",
    "        method[\"exchanges\"] = list(unique_exchanges.values())\n",
    "        return data"
   ]
  },
  {
   "cell_type": "code",
   "execution_count": 35,
   "id": "487336ad-8c5a-4131-b8db-d36f93133551",
   "metadata": {},
   "outputs": [],
   "source": [
    "link_by_name_and_categories = partial(\n",
    "    bi.strategies.link_iterable_by_fields,\n",
    "    other=bd.Database(bd.config.biosphere),\n",
    "    kind=\"biosphere\",\n",
    "    fields=(\"name\", \"categories\"),\n",
    ")"
   ]
  },
  {
   "cell_type": "code",
   "execution_count": 36,
   "id": "633ee300-c3f7-4e68-9c61-8f9abb3eccb9",
   "metadata": {},
   "outputs": [],
   "source": [
    "def change_to_green_area(data):\n",
    "    for method in data:\n",
    "        for exc in method[\"exchanges\"]:\n",
    "            if \"green areas\" in exc[\"name\"]:\n",
    "                exc[\"name\"] = re.sub(\"green areas\", \"green area\", exc[\"name\"])\n",
    "                exc[\"categories\"] = (exc[\"categories\"][0], \"land\")\n",
    "\n",
    "        return data\n",
    "\n",
    "\n",
    "def update_occupation_forest_secondary(data):\n",
    "    for method in data:\n",
    "        for exc in method[\"exchanges\"]:\n",
    "            if \"Occupation, forest, secondary\" in exc[\"name\"]:\n",
    "                exc[\"name\"] = re.sub(\"secondary\", \"secondary (non-use)\", exc[\"name\"])\n",
    "                exc[\"categories\"] = (exc[\"categories\"][0], \"land\")\n",
    "\n",
    "        return data\n",
    "\n",
    "\n",
    "def update_occupation_urban(data):\n",
    "    for method in data:\n",
    "        for exc in method[\"exchanges\"]:\n",
    "            if \"Occupation, urban\" in exc[\"name\"]:\n",
    "                exc[\"name\"] = re.sub(\n",
    "                    \"urban$\", \"urban/industrial fallow (non-use)\", exc[\"name\"]\n",
    "                )\n",
    "                exc[\"categories\"] = (exc[\"categories\"][0], \"land\")\n",
    "\n",
    "        return data"
   ]
  },
  {
   "cell_type": "code",
   "execution_count": 37,
   "id": "c4135f93-9c7f-413e-b0c7-bddfbdc6b451",
   "metadata": {},
   "outputs": [
    {
     "name": "stdout",
     "output_type": "stream",
     "text": [
      "Applying strategy: change_to_green_area\n",
      "Applying strategy: update_occupation_forest_secondary\n",
      "Applying strategy: update_occupation_urban\n",
      "Applying strategy: drop_duplicates\n",
      "Applying strategy: link_iterable_by_fields\n",
      "Applied 5 strategies in 0.24 seconds\n",
      "1 methods\n",
      "61 cfs\n",
      "24 unlinked cfs\n"
     ]
    },
    {
     "data": {
      "text/plain": [
       "(1, 61, 24)"
      ]
     },
     "execution_count": 37,
     "metadata": {},
     "output_type": "execute_result"
    }
   ],
   "source": [
    "si.apply_strategies(\n",
    "    [\n",
    "        change_to_green_area,\n",
    "        update_occupation_forest_secondary,\n",
    "        update_occupation_urban,\n",
    "        drop_duplicates,\n",
    "        link_by_name_and_categories,\n",
    "    ]\n",
    ")\n",
    "si.statistics()"
   ]
  },
  {
   "cell_type": "code",
   "execution_count": 38,
   "id": "c7f0d244-a4cd-4349-aa5b-0304f3e6af6c",
   "metadata": {},
   "outputs": [],
   "source": [
    "# list(si.unlinked)"
   ]
  },
  {
   "cell_type": "code",
   "execution_count": 39,
   "id": "3baefc3f-2904-43f7-9fa8-edf53210bd91",
   "metadata": {
    "tags": []
   },
   "outputs": [
    {
     "data": {
      "text/plain": [
       "[('Occupation, agriculture', ('natural resource',)),\n",
       " ('Occupation, annual crop, non-irrigated, diverse-intensive',\n",
       "  ('natural resource',)),\n",
       " ('Occupation, annual crop, non-irrigated, fallow', ('natural resource',)),\n",
       " ('Occupation, annual crop, non-irrigated, monotone-intensive',\n",
       "  ('natural resource',)),\n",
       " ('Occupation, annual crop, organic', ('natural resource',)),\n",
       " ('Occupation, dump site, benthos', ('natural resource',)),\n",
       " ('Occupation, forest', ('natural resource',)),\n",
       " ('Occupation, forest, natural', ('natural resource',)),\n",
       " ('Occupation, forest, primary', ('natural resource',)),\n",
       " ('Occupation, forest, used', ('natural resource',)),\n",
       " ('Occupation, lakes, artificial', ('natural resource',)),\n",
       " ('Occupation, pasture, man made, organic', ('natural resource',)),\n",
       " ('Occupation, permanent crop, fruit', ('natural resource',)),\n",
       " ('Occupation, permanent crop, fruit, extensive', ('natural resource',)),\n",
       " ('Occupation, permanent crop, fruit, intensive', ('natural resource',)),\n",
       " ('Occupation, permanent crop, vine', ('natural resource',)),\n",
       " ('Occupation, permanent crop, vine, extensive', ('natural resource',)),\n",
       " ('Occupation, permanent crop, vine, intensive', ('natural resource',)),\n",
       " ('Occupation, sea and ocean', ('natural resource',)),\n",
       " ('Occupation, traffic area', ('natural resource',)),\n",
       " ('Occupation, traffic area, road embankment', ('natural resource',)),\n",
       " ('Occupation, unknown', ('natural resource',)),\n",
       " ('Occupation, unspecified, used', ('natural resource',)),\n",
       " ('Occupation, water courses, artificial', ('natural resource',))]"
      ]
     },
     "execution_count": 39,
     "metadata": {},
     "output_type": "execute_result"
    }
   ],
   "source": [
    "# from the 5 unlinked:\n",
    "# 1 has amount 0, can be dropped - Carbon dioxide, in air\n",
    "# 2 others \"Carbon dioxide\" and \"Carbon monoxide\" are not in biosphere3, BUT\n",
    "# \"Carbon dioxide, fossil\"\n",
    "# and \"Carbon monoxide, fossil\" and \"Carbon monoxide, non-fossil\" (with same CFs)\n",
    "# have been linked (see check_equivalent_linked)\n",
    "[(exc[\"name\"], exc[\"categories\"]) for exc in list(si.unlinked)]"
   ]
  },
  {
   "cell_type": "code",
   "execution_count": 40,
   "id": "ee30f2b9-c898-476b-9eb0-ea88779df974",
   "metadata": {},
   "outputs": [],
   "source": [
    "def see_unlinked(imported_methods, hide_print=True):\n",
    "    unlinked_exc_names = [\n",
    "        exc_unlinked[\"name\"] for exc_unlinked in list(imported_methods.unlinked)\n",
    "    ]\n",
    "\n",
    "    for ix in range(len(imported_methods.data)):\n",
    "        lst = []\n",
    "        print(imported_methods.data[ix][\"name\"][1])\n",
    "        for exc in imported_methods.data[ix][\"exchanges\"]:\n",
    "            if exc[\"name\"] in unlinked_exc_names:\n",
    "                lst.append((exc[\"name\"], exc[\"categories\"], exc[\"amount\"]))\n",
    "        if not hide_print:\n",
    "            for i in list(set(lst)):\n",
    "                print(\"\\t\", i)\n",
    "        print(\"\\n\")\n",
    "\n",
    "    return list(set(lst))\n",
    "    # if exc[\"amount\"] != 0"
   ]
  },
  {
   "cell_type": "code",
   "execution_count": 41,
   "id": "68462bb2-575f-409a-9e19-c6c01f8c36ff",
   "metadata": {},
   "outputs": [],
   "source": [
    "def check_equivalent_linked(imported_methods, list_names):\n",
    "    for ix in range(len(imported_methods.data)):\n",
    "        print(imported_methods.data[ix][\"name\"][1])\n",
    "        for exc in imported_methods.data[ix][\"exchanges\"]:\n",
    "            for x in list_names:\n",
    "                if x in exc[\"name\"]:\n",
    "                    print(\n",
    "                        \"\\t\", exc[\"name\"], exc[\"categories\"], exc[\"amount\"],\n",
    "                    )\n",
    "        print(\"\\n\")"
   ]
  },
  {
   "cell_type": "code",
   "execution_count": 42,
   "id": "d362ae91-114b-4234-8608-2772e6ed4d00",
   "metadata": {
    "tags": []
   },
   "outputs": [
    {
     "name": "stdout",
     "output_type": "stream",
     "text": [
      "(not PBs) Biological footprint, LU**\n",
      "\n",
      "\n"
     ]
    },
    {
     "data": {
      "text/plain": [
       "[('Occupation, agriculture', ('natural resource',), 0.9),\n",
       " ('Occupation, annual crop, non-irrigated, diverse-intensive',\n",
       "  ('natural resource',),\n",
       "  0.9),\n",
       " ('Occupation, annual crop, non-irrigated, fallow',\n",
       "  ('natural resource',),\n",
       "  0.7),\n",
       " ('Occupation, annual crop, non-irrigated, monotone-intensive',\n",
       "  ('natural resource',),\n",
       "  0.9),\n",
       " ('Occupation, annual crop, organic', ('natural resource',), 0.7),\n",
       " ('Occupation, dump site, benthos', ('natural resource',), 0.0),\n",
       " ('Occupation, forest', ('natural resource',), 0.5),\n",
       " ('Occupation, forest, natural', ('natural resource',), 0.0),\n",
       " ('Occupation, forest, primary', ('natural resource',), 0.0),\n",
       " ('Occupation, forest, used', ('natural resource',), 0.5),\n",
       " ('Occupation, lakes, artificial', ('natural resource',), 1.0),\n",
       " ('Occupation, pasture, man made, organic', ('natural resource',), 0.3),\n",
       " ('Occupation, permanent crop, fruit', ('natural resource',), 0.9),\n",
       " ('Occupation, permanent crop, fruit, extensive', ('natural resource',), 0.7),\n",
       " ('Occupation, permanent crop, fruit, intensive', ('natural resource',), 0.9),\n",
       " ('Occupation, permanent crop, vine', ('natural resource',), 0.9),\n",
       " ('Occupation, permanent crop, vine, extensive', ('natural resource',), 0.7),\n",
       " ('Occupation, permanent crop, vine, intensive', ('natural resource',), 0.9),\n",
       " ('Occupation, sea and ocean', ('natural resource',), 0.0),\n",
       " ('Occupation, traffic area', ('natural resource',), 0.95),\n",
       " ('Occupation, traffic area, road embankment', ('natural resource',), 0.95),\n",
       " ('Occupation, unknown', ('natural resource',), 0.0),\n",
       " ('Occupation, unspecified, used', ('natural resource',), 0.0),\n",
       " ('Occupation, water courses, artificial', ('natural resource',), 1.0)]"
      ]
     },
     "execution_count": 42,
     "metadata": {},
     "output_type": "execute_result"
    }
   ],
   "source": [
    "sorted(see_unlinked(si))"
   ]
  },
  {
   "cell_type": "code",
   "execution_count": 43,
   "id": "ca44f225-9239-4823-ab27-12432a78d24a",
   "metadata": {},
   "outputs": [
    {
     "data": {
      "text/plain": [
       "{('Occupation, lake, artificial', ('natural resource', 'land')),\n",
       " ('Occupation, river, artificial', ('natural resource', 'land'))}"
      ]
     },
     "execution_count": 43,
     "metadata": {},
     "output_type": "execute_result"
    }
   ],
   "source": [
    "b3 = bd.Database(\"biosphere3\")\n",
    "set(\n",
    "    [\n",
    "        (flow[\"name\"], flow[\"categories\"])\n",
    "        for flow in b3\n",
    "        if \"Occupation,\" in flow[\"name\"] and \"artificial\" in flow[\"name\"]  # .lower()\n",
    "        if \"natural resource\" in str(flow[\"categories\"])\n",
    "    ]\n",
    ")"
   ]
  },
  {
   "cell_type": "raw",
   "id": "9ae21de5-c573-4628-8d9c-ee354a38fb90",
   "metadata": {},
   "source": [
    "len(\n",
    "    [\n",
    "        \"Occupation, agriculture\",\n",
    "        \"Occupation, annual crop, non-irrigated, diverse-intensive\",\n",
    "        \"Occupation, annual crop, non-irrigated, fallow\",\n",
    "        \"Occupation, annual crop, non-irrigated, monotone-intensive\",\n",
    "        \"Occupation, annual crop, organic\",\n",
    "        \"Occupation, dump site, benthos\",\n",
    "        \"Occupation, forest\",\n",
    "        \"Occupation, forest, natural\",\n",
    "        \"Occupation, forest, primary\",\n",
    "        \"Occupation, forest, used\",\n",
    "        \"Occupation, lakes, artificial\",\n",
    "        \"Occupation, pasture, man made, organic\",\n",
    "        \"Occupation, permanent crop, fruit\",\n",
    "        \"Occupation, permanent crop, fruit, extensive\",\n",
    "        \"Occupation, permanent crop, fruit, intensive\",\n",
    "        \"Occupation, permanent crop, vine\",\n",
    "        \"Occupation, permanent crop, vine, extensive\",\n",
    "        \"Occupation, permanent crop, vine, intensive\",\n",
    "        \"Occupation, sea and ocean\",\n",
    "        \"Occupation, traffic area\",\n",
    "        \"Occupation, traffic area, road embankment\",\n",
    "        \"Occupation, unknown\",\n",
    "        \"Occupation, unspecified, used\",\n",
    "        \"Occupation, water courses, artificial\",\n",
    "    ]\n",
    ")"
   ]
  },
  {
   "cell_type": "markdown",
   "id": "817a0e73-45f6-4f01-bffb-cdf2184536cc",
   "metadata": {},
   "source": [
    "> check Occupation, forest, intensive ('natural resource', 'land') 0.8 or 0.5"
   ]
  },
  {
   "cell_type": "code",
   "execution_count": 44,
   "id": "ff492730-32f2-4020-a4af-3fc5e63c0d06",
   "metadata": {
    "tags": []
   },
   "outputs": [
    {
     "name": "stdout",
     "output_type": "stream",
     "text": [
      "(not PBs) Biological footprint, LU**\n",
      "\t Occupation, lakes, artificial ('natural resource',) 1.0\n",
      "\t Occupation, water courses, artificial ('natural resource',) 1.0\n",
      "\t Occupation, river, artificial ('natural resource', 'land') 1.0\n",
      "\n",
      "\n"
     ]
    }
   ],
   "source": [
    "check_equivalent_linked(si, [\"artificial\"])"
   ]
  },
  {
   "cell_type": "code",
   "execution_count": 45,
   "id": "8d048c1b-09ee-4946-8156-c9dbbb625f5b",
   "metadata": {},
   "outputs": [
    {
     "name": "stdout",
     "output_type": "stream",
     "text": [
      "Applying strategy: drop_unlinked_cfs\n",
      "Applied 1 strategies in 0.00 seconds\n",
      "1 methods\n",
      "37 cfs\n",
      "0 unlinked cfs\n"
     ]
    },
    {
     "data": {
      "text/plain": [
       "(1, 37, 0)"
      ]
     },
     "execution_count": 45,
     "metadata": {},
     "output_type": "execute_result"
    }
   ],
   "source": [
    "si.drop_unlinked()\n",
    "si.statistics()"
   ]
  },
  {
   "cell_type": "code",
   "execution_count": 46,
   "id": "3dbaa8a4-d71c-4fe7-a885-a4e676b2fffe",
   "metadata": {},
   "outputs": [],
   "source": [
    "def change_unit_of_biofootprint_land_use(data):\n",
    "    \"\"\"Change the unit of biological footprint land use (BF_LU).\n",
    "    \n",
    "    Units change from loss MSA to % of BII loss.\n",
    "    \"\"\"\n",
    "    total_land_earth = 1.30e14  # total Earth's area\n",
    "    # (from IMAGE model https://models.pbl.nl/image/index.php/Download_packages)\n",
    "\n",
    "    # check if CFs were already changed.\n",
    "    for method in data:\n",
    "        for exc in method[\"exchanges\"]:\n",
    "            if \"Occupation, annual crop\" == exc[\"name\"] and exc[\"amount\"] != 0.9:\n",
    "                return data  # if cfs were already changed\n",
    "\n",
    "    for method in data:\n",
    "        for exc in method[\"exchanges\"]:\n",
    "            exc[\"amount\"] = 100 * (exc[\"amount\"] / total_land_earth)\n",
    "\n",
    "    return data"
   ]
  },
  {
   "cell_type": "code",
   "execution_count": 47,
   "id": "98a1e862-5b11-4d7b-be0c-e07562f14c48",
   "metadata": {},
   "outputs": [
    {
     "name": "stdout",
     "output_type": "stream",
     "text": [
      "Applying strategy: change_unit_of_biofootprint_land_use\n",
      "1 methods\n",
      "37 cfs\n",
      "0 unlinked cfs\n"
     ]
    },
    {
     "data": {
      "text/plain": [
       "(1, 37, 0)"
      ]
     },
     "execution_count": 47,
     "metadata": {},
     "output_type": "execute_result"
    }
   ],
   "source": [
    "si.apply_strategy(change_unit_of_biofootprint_land_use)\n",
    "si.statistics()"
   ]
  },
  {
   "cell_type": "code",
   "execution_count": 48,
   "id": "c5d20906-864c-4f7b-9fa3-6a3c6690925e",
   "metadata": {},
   "outputs": [],
   "source": [
    "def remove_duplicates_if_any(imported_methods):\n",
    "    for ix in range(len(imported_methods.data)):\n",
    "        current_exc = len(imported_methods.data[ix][\"exchanges\"])\n",
    "        wo_duplicates_exc = len(\n",
    "            {tuple(o[\"input\"]) for o in imported_methods.data[ix][\"exchanges\"]}\n",
    "        )\n",
    "        print(\n",
    "            imported_methods.data[ix][\"name\"][1], \": \", current_exc, wo_duplicates_exc,\n",
    "        )\n",
    "        if current_exc != wo_duplicates_exc:\n",
    "            unique_exchanges = {\n",
    "                tuple(o[\"input\"]): o for o in imported_methods.data[ix][\"exchanges\"]\n",
    "            }\n",
    "            imported_methods.data[ix][\"exchanges\"] = list(unique_exchanges.values())\n",
    "            print(\"Duplicates removed.\\n\")\n",
    "        else:\n",
    "            print(\"No duplicates.\\n\")"
   ]
  },
  {
   "cell_type": "code",
   "execution_count": 49,
   "id": "7e89a8f7-b018-4322-b975-2e795b85ea1e",
   "metadata": {},
   "outputs": [
    {
     "name": "stdout",
     "output_type": "stream",
     "text": [
      "(not PBs) Biological footprint, LU** :  37 37\n",
      "No duplicates.\n",
      "\n"
     ]
    }
   ],
   "source": [
    "# check if there are duplicates (both numbers should be equal)\n",
    "remove_duplicates_if_any(si)"
   ]
  },
  {
   "cell_type": "code",
   "execution_count": 50,
   "id": "3d29373b-7b73-430b-9051-31df42489c4d",
   "metadata": {},
   "outputs": [
    {
     "name": "stdout",
     "output_type": "stream",
     "text": [
      "1 methods\n",
      "37 cfs\n",
      "0 unlinked cfs\n"
     ]
    },
    {
     "data": {
      "text/plain": [
       "(1, 37, 0)"
      ]
     },
     "execution_count": 50,
     "metadata": {},
     "output_type": "execute_result"
    }
   ],
   "source": [
    "si.statistics()"
   ]
  },
  {
   "cell_type": "code",
   "execution_count": null,
   "id": "96b5b01d-1095-403c-9136-d591c16e40bb",
   "metadata": {},
   "outputs": [],
   "source": [
    "# Next si.write_excel(\"BII_land_use-component\") will create an excel file in \n",
    "# ~\\Local\\pylca\\Brightway3\\default###\\output\\lcia-matching-BII_land_use-component.xlsx\n",
    "\n",
    "# Go to created excel and apply manual corrections\n",
    "#TODO: manual corrections should not be manual\n",
    "\n",
    "# Store corrected excel to STORE_DATA_TO"
   ]
  },
  {
   "cell_type": "code",
   "execution_count": null,
   "id": "1b638595-b87b-43dc-8a34-98421b132d15",
   "metadata": {},
   "outputs": [],
   "source": [
    "si.write_excel(\"BII_land_use-component\")"
   ]
  }
 ],
 "metadata": {
  "kernelspec": {
   "display_name": "Python (bw2)",
   "language": "python",
   "name": "bw2"
  },
  "language_info": {
   "codemirror_mode": {
    "name": "ipython",
    "version": 3
   },
   "file_extension": ".py",
   "mimetype": "text/x-python",
   "name": "python",
   "nbconvert_exporter": "python",
   "pygments_lexer": "ipython3",
   "version": "3.9.7"
  }
 },
 "nbformat": 4,
 "nbformat_minor": 5
}
