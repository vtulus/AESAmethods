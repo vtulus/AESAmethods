{
 "cells": [
  {
   "cell_type": "code",
   "execution_count": 1,
   "id": "00b2f8db-283d-49df-9c56-c04ddbdbf986",
   "metadata": {},
   "outputs": [],
   "source": [
    "from functools import partial\n",
    "from pathlib import Path\n",
    "\n",
    "import bw2calc as bc\n",
    "import bw2data as bd\n",
    "import bw2io as bi\n",
    "from project_path import ROOT_DIR"
   ]
  },
  {
   "cell_type": "code",
   "execution_count": 2,
   "id": "f8e71d8b-be29-467f-9e8b-b1b52da43f05",
   "metadata": {},
   "outputs": [],
   "source": [
    "# bd.projects"
   ]
  },
  {
   "cell_type": "code",
   "execution_count": 3,
   "id": "fe096625-31cf-4495-90b3-8272fa16bc41",
   "metadata": {},
   "outputs": [],
   "source": [
    "bd.projects.set_current(\"default\")"
   ]
  },
  {
   "cell_type": "code",
   "execution_count": 4,
   "id": "19e4aabb-0e62-4963-9702-4f64c78af750",
   "metadata": {},
   "outputs": [],
   "source": [
    "# bd.databases"
   ]
  },
  {
   "cell_type": "markdown",
   "id": "517527f0-89ab-417e-ab39-f656ca7d05f0",
   "metadata": {},
   "source": [
    "## import Stratospheric Ozone Depletion method\n",
    " > Stratospheric O3 concentration, DU  \n"
   ]
  },
  {
   "cell_type": "code",
   "execution_count": 5,
   "id": "8de4ada6-aa52-4184-813a-9a3fe610776b",
   "metadata": {},
   "outputs": [],
   "source": [
    "method_category = \"OzoneDepletion_StratosphericO3Concentration\""
   ]
  },
  {
   "cell_type": "code",
   "execution_count": 6,
   "id": "a40f218f-cb50-4b9d-97bb-3b078e376087",
   "metadata": {},
   "outputs": [],
   "source": [
    "SIMAPRO_DIR = ROOT_DIR + r\"\\data\\external\\from_simapro\""
   ]
  },
  {
   "cell_type": "code",
   "execution_count": 7,
   "id": "d5c724c7-cee4-4c44-8216-fad24da6e487",
   "metadata": {},
   "outputs": [],
   "source": [
    "STORE_DATA_TO = Path(\n",
    "    ROOT_DIR + r\"\\src\\aesa_pbs\\data\" + f\"\\\\aesa_{method_category}.xlsx\"\n",
    ")"
   ]
  },
  {
   "cell_type": "code",
   "execution_count": 8,
   "id": "cfb275b4-e741-43d6-8c7e-caad2da5dad5",
   "metadata": {},
   "outputs": [
    {
     "name": "stdout",
     "output_type": "stream",
     "text": [
      "Extracted 1 methods in 0.02 seconds\n"
     ]
    }
   ],
   "source": [
    "si = bi.SimaProLCIACSVImporter(\n",
    "    filepath=Path(SIMAPRO_DIR + f\"\\PBsLCIAv072_{method_category}.csv\")\n",
    ")"
   ]
  },
  {
   "cell_type": "code",
   "execution_count": 9,
   "id": "7eda1d0b-7ac1-4cfe-bb57-6a8ae92f9e4d",
   "metadata": {},
   "outputs": [],
   "source": [
    "# si.data[0].keys()"
   ]
  },
  {
   "cell_type": "code",
   "execution_count": 10,
   "id": "3743fa54-ea96-4a11-bd50-2b9b0c12e302",
   "metadata": {},
   "outputs": [
    {
     "name": "stdout",
     "output_type": "stream",
     "text": [
      "('PBs-LCIA (baseline)', 'Stratospheric ozone depletion') DU\n"
     ]
    }
   ],
   "source": [
    "for method in si.data:\n",
    "    print(method[\"name\"], method[\"unit\"])"
   ]
  },
  {
   "cell_type": "code",
   "execution_count": 11,
   "id": "88f5680e-d5e1-45ff-b700-4f198e73dff0",
   "metadata": {},
   "outputs": [
    {
     "data": {
      "text/plain": [
       "{'amount': 1.41e-10,\n",
       " 'CAS number': '010024-97-2',\n",
       " 'categories': ('Air', '(unspecified)'),\n",
       " 'name': 'Dinitrogen monoxide',\n",
       " 'unit': 'kg'}"
      ]
     },
     "execution_count": 11,
     "metadata": {},
     "output_type": "execute_result"
    }
   ],
   "source": [
    "si.data[0][\"exchanges\"][0]#.keys()"
   ]
  },
  {
   "cell_type": "code",
   "execution_count": 12,
   "id": "06191e76-1255-41cf-a466-ea8bc22130d3",
   "metadata": {},
   "outputs": [],
   "source": [
    "# link_by_name_and_categories = partial(\n",
    "#     bi.strategies.link_iterable_by_fields,\n",
    "#     other=bd.Database(bd.config.biosphere),\n",
    "#     kind=\"biosphere\",\n",
    "#     fields=(\"name\", \"categories\"),\n",
    "# )"
   ]
  },
  {
   "cell_type": "code",
   "execution_count": 13,
   "id": "f40ad041-6d1c-41c2-b8f2-efda74526fa1",
   "metadata": {},
   "outputs": [
    {
     "name": "stdout",
     "output_type": "stream",
     "text": [
      "Applying strategy: normalize_units\n",
      "Applying strategy: set_biosphere_type\n",
      "Applying strategy: normalize_simapro_biosphere_categories\n",
      "Applying strategy: normalize_simapro_biosphere_names\n",
      "Applying strategy: set_biosphere_type\n",
      "Applying strategy: drop_unspecified_subcategories\n",
      "Applying strategy: normalize_biosphere_categories\n",
      "Applying strategy: normalize_biosphere_names\n",
      "Applying strategy: link_iterable_by_fields\n",
      "Applying strategy: match_subcategories\n",
      "Applied 10 strategies in 0.35 seconds\n",
      "1 methods\n",
      "77 cfs\n",
      "2 unlinked cfs\n"
     ]
    },
    {
     "data": {
      "text/plain": [
       "(1, 77, 2)"
      ]
     },
     "execution_count": 13,
     "metadata": {},
     "output_type": "execute_result"
    }
   ],
   "source": [
    "si.apply_strategies()\n",
    "si.statistics()"
   ]
  },
  {
   "cell_type": "code",
   "execution_count": 14,
   "id": "c7f0d244-a4cd-4349-aa5b-0304f3e6af6c",
   "metadata": {},
   "outputs": [],
   "source": [
    "# list(si.unlinked)"
   ]
  },
  {
   "cell_type": "code",
   "execution_count": 15,
   "id": "3baefc3f-2904-43f7-9fa8-edf53210bd91",
   "metadata": {},
   "outputs": [
    {
     "data": {
      "text/plain": [
       "[('Ethane, 1,2-dibromotetrafluoro-, Halon 2402', ('air',)),\n",
       " ('Methane, dibromodifluoro-, Halon 1202', ('air',))]"
      ]
     },
     "execution_count": 15,
     "metadata": {},
     "output_type": "execute_result"
    }
   ],
   "source": [
    "# from the 5 unlinked:\n",
    "# 1 has amount 0, can be dropped - Carbon dioxide, in air\n",
    "# 2 others \"Carbon dioxide\" and \"Carbon monoxide\" are not in biosphere3, BUT\n",
    "# \"Carbon dioxide, fossil\" \n",
    "# and \"Carbon monoxide, fossil\" and \"Carbon monoxide, non-fossil\" (with same CFs)\n",
    "# have been linked (see check_equivalent_linked)\n",
    "[(exc[\"name\"], exc[\"categories\"]) for exc in list(si.unlinked)]"
   ]
  },
  {
   "cell_type": "code",
   "execution_count": 16,
   "id": "ee30f2b9-c898-476b-9eb0-ea88779df974",
   "metadata": {},
   "outputs": [],
   "source": [
    "def see_unlinked(imported_methods):\n",
    "    unlinked_exc_names = [\n",
    "        exc_unlinked[\"name\"] for exc_unlinked in list(imported_methods.unlinked)\n",
    "    ]\n",
    "    for ix in range(len(imported_methods.data)):\n",
    "        print(imported_methods.data[ix][\"name\"][1])\n",
    "        for exc in imported_methods.data[ix][\"exchanges\"]:\n",
    "            if exc[\"name\"] in unlinked_exc_names:\n",
    "                print(\"\\t\",\n",
    "                    exc[\"name\"],\n",
    "                    exc[\"categories\"],\n",
    "                    exc[\"amount\"],\n",
    "                )\n",
    "        print(\"\\n\")\n",
    "        # if exc[\"amount\"] != 0"
   ]
  },
  {
   "cell_type": "code",
   "execution_count": 17,
   "id": "68462bb2-575f-409a-9e19-c6c01f8c36ff",
   "metadata": {},
   "outputs": [],
   "source": [
    "def check_equivalent_linked(imported_methods, list_names):\n",
    "    for ix in range(len(imported_methods.data)):\n",
    "        print(imported_methods.data[ix][\"name\"][1])\n",
    "        for exc in imported_methods.data[ix][\"exchanges\"]:\n",
    "            for x in list_names:\n",
    "                if x in exc[\"name\"]:\n",
    "                    print(\"\\t\",\n",
    "                        exc[\"name\"],\n",
    "                        exc[\"categories\"],\n",
    "                        exc[\"amount\"],\n",
    "                    )\n",
    "        print(\"\\n\")"
   ]
  },
  {
   "cell_type": "code",
   "execution_count": 18,
   "id": "34744a54-b0b8-4b57-a611-d30cfd2266a5",
   "metadata": {},
   "outputs": [],
   "source": [
    "def remove_duplicates_if_any(imported_methods):\n",
    "    for ix in range(len(imported_methods.data)):\n",
    "        current_exc = len(imported_methods.data[ix][\"exchanges\"])\n",
    "        wo_duplicates_exc = len(\n",
    "            {tuple(o[\"input\"]) for o in imported_methods.data[ix][\"exchanges\"]}\n",
    "        )\n",
    "        print(\n",
    "            imported_methods.data[ix][\"name\"][1], \": \", current_exc, wo_duplicates_exc,\n",
    "        )\n",
    "        if current_exc != wo_duplicates_exc:\n",
    "            unique_exchanges = {\n",
    "                tuple(o[\"input\"]): o for o in imported_methods.data[ix][\"exchanges\"]\n",
    "            }\n",
    "            imported_methods.data[ix][\"exchanges\"] = list(unique_exchanges.values())\n",
    "            print(\"Duplicates removed.\\n\")\n",
    "        else:\n",
    "            print(\"No duplicates.\\n\")"
   ]
  },
  {
   "cell_type": "code",
   "execution_count": 19,
   "id": "d362ae91-114b-4234-8608-2772e6ed4d00",
   "metadata": {},
   "outputs": [
    {
     "name": "stdout",
     "output_type": "stream",
     "text": [
      "Stratospheric ozone depletion\n",
      "\t Ethane, 1,2-dibromotetrafluoro-, Halon 2402 ('air',) 5.39e-08\n",
      "\t Methane, dibromodifluoro-, Halon 1202 ('air',) 1.14e-08\n",
      "\n",
      "\n"
     ]
    }
   ],
   "source": [
    "see_unlinked(si)"
   ]
  },
  {
   "cell_type": "code",
   "execution_count": 20,
   "id": "ff492730-32f2-4020-a4af-3fc5e63c0d06",
   "metadata": {},
   "outputs": [],
   "source": [
    "# check_equivalent_linked(si, [\"Halon\"])"
   ]
  },
  {
   "cell_type": "code",
   "execution_count": 21,
   "id": "a6633bbc-8b0a-42ad-a4e2-61e7b4198756",
   "metadata": {},
   "outputs": [
    {
     "data": {
      "text/plain": [
       "['Chlorothalonil',\n",
       " 'Methane, bromo-, Halon 1001',\n",
       " 'Methane, bromo-, Halon 1001',\n",
       " 'Methane, bromo-, Halon 1001',\n",
       " 'Methane, bromo-, Halon 1001',\n",
       " 'Methane, bromo-, Halon 1001',\n",
       " 'Methane, bromochlorodifluoro-, Halon 1211',\n",
       " 'Methane, bromochlorodifluoro-, Halon 1211',\n",
       " 'Methane, bromochlorodifluoro-, Halon 1211',\n",
       " 'Methane, bromochlorodifluoro-, Halon 1211',\n",
       " 'Methane, bromochlorodifluoro-, Halon 1211',\n",
       " 'Methane, bromotrifluoro-, Halon 1301',\n",
       " 'Methane, bromotrifluoro-, Halon 1301',\n",
       " 'Methane, bromotrifluoro-, Halon 1301',\n",
       " 'Methane, bromotrifluoro-, Halon 1301',\n",
       " 'Methane, bromotrifluoro-, Halon 1301']"
      ]
     },
     "execution_count": 21,
     "metadata": {},
     "output_type": "execute_result"
    }
   ],
   "source": [
    "b3 = bd.Database(\"biosphere3\")\n",
    "sorted([flow[\"name\"] for flow in b3 if \"halon\" in flow[\"name\"].lower()])"
   ]
  },
  {
   "cell_type": "code",
   "execution_count": 22,
   "id": "8d048c1b-09ee-4946-8156-c9dbbb625f5b",
   "metadata": {},
   "outputs": [
    {
     "name": "stdout",
     "output_type": "stream",
     "text": [
      "Applying strategy: drop_unlinked_cfs\n",
      "Applied 1 strategies in 0.00 seconds\n",
      "1 methods\n",
      "75 cfs\n",
      "0 unlinked cfs\n"
     ]
    },
    {
     "data": {
      "text/plain": [
       "(1, 75, 0)"
      ]
     },
     "execution_count": 22,
     "metadata": {},
     "output_type": "execute_result"
    }
   ],
   "source": [
    "si.drop_unlinked()\n",
    "si.statistics()"
   ]
  },
  {
   "cell_type": "code",
   "execution_count": 23,
   "id": "7e89a8f7-b018-4322-b975-2e795b85ea1e",
   "metadata": {},
   "outputs": [
    {
     "name": "stdout",
     "output_type": "stream",
     "text": [
      "Stratospheric ozone depletion :  75 75\n",
      "No duplicates.\n",
      "\n"
     ]
    }
   ],
   "source": [
    "# check if there are duplicates (both numbers should be equal)\n",
    "remove_duplicates_if_any(si)"
   ]
  },
  {
   "cell_type": "code",
   "execution_count": 24,
   "id": "73a989df-e8e7-492f-9f46-81b9aeb407f6",
   "metadata": {},
   "outputs": [],
   "source": [
    "# Next si.write_excel(method_category) will create an excel file in \n",
    "# ~\\Local\\pylca\\Brightway3\\default###\\output\\lcia-matching-{method_category}.xlsx\n",
    "\n",
    "# Go to created excel and apply manual corrections\n",
    "#TODO: manual corrections should not be manual\n",
    "\n",
    "# Store corrected excel to STORE_DATA_TO"
   ]
  },
  {
   "cell_type": "raw",
   "id": "63062126-ec9f-4cfe-be8b-34be833cb1ed",
   "metadata": {},
   "source": [
    "si.write_excel(method_category)"
   ]
  }
 ],
 "metadata": {
  "kernelspec": {
   "display_name": "Python (bw2)",
   "language": "python",
   "name": "bw2"
  },
  "language_info": {
   "codemirror_mode": {
    "name": "ipython",
    "version": 3
   },
   "file_extension": ".py",
   "mimetype": "text/x-python",
   "name": "python",
   "nbconvert_exporter": "python",
   "pygments_lexer": "ipython3",
   "version": "3.9.7"
  }
 },
 "nbformat": 4,
 "nbformat_minor": 5
}
