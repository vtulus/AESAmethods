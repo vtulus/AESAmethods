{
 "cells": [
  {
   "cell_type": "code",
   "execution_count": 57,
   "id": "341cc327-c6c0-4293-85f9-6f5ac80247dd",
   "metadata": {},
   "outputs": [],
   "source": [
    "import bw2data as bd\n",
    "import pandas as pd"
   ]
  },
  {
   "cell_type": "code",
   "execution_count": 2,
   "id": "4c2c266d-6195-4d70-a6f6-42fbcddecd37",
   "metadata": {},
   "outputs": [],
   "source": [
    "bd.projects.set_current(\"default\")"
   ]
  },
  {
   "cell_type": "code",
   "execution_count": 13,
   "id": "b37be116-40bb-4f66-ac70-fc8be54a459d",
   "metadata": {},
   "outputs": [
    {
     "data": {
      "text/plain": [
       "Databases dictionary with 5 object(s):\n",
       "\tbiosphere3\n",
       "\tei35apos\n",
       "\tei35cutoff\n",
       "\tei38apos\n",
       "\tei38cutoff"
      ]
     },
     "execution_count": 13,
     "metadata": {},
     "output_type": "execute_result"
    }
   ],
   "source": [
    "bd.databases"
   ]
  },
  {
   "cell_type": "code",
   "execution_count": 19,
   "id": "d9fc6f86-862a-41d6-9406-a8a3333211ab",
   "metadata": {},
   "outputs": [],
   "source": [
    "eidb = bd.Database(\"ei35apos\")"
   ]
  },
  {
   "cell_type": "code",
   "execution_count": 3,
   "id": "0b57e5e5-155c-4d90-bc18-521e32e82b2a",
   "metadata": {},
   "outputs": [],
   "source": [
    "biodb = bd.Database(\"biosphere3\")"
   ]
  },
  {
   "cell_type": "code",
   "execution_count": 107,
   "id": "06519367-e1a5-4490-b37a-4614be351856",
   "metadata": {},
   "outputs": [
    {
     "name": "stdout",
     "output_type": "stream",
     "text": [
      "in the last 'biosphere3' there are 4427 flows\n"
     ]
    }
   ],
   "source": [
    "print(f\"in the last 'biosphere3' there are {len([fl for fl in biodb])} flows\")\n",
    "# 4424 of them are read from ~\\bw2\\lib\\site-packages\\bw2io\\data\\lci\\ecoinvent elementary flows 3.8.xml\n",
    "# 3 others are read from ~\\bw2\\lib\\site-packages\\bw2io\\data\\lci\\previous elementary flows.json"
   ]
  },
  {
   "cell_type": "code",
   "execution_count": 4,
   "id": "234a1f91-28e4-451a-91fc-6459e33ac9a1",
   "metadata": {},
   "outputs": [
    {
     "data": {
      "text/plain": [
       "[('air',),\n",
       " ('air', 'indoor'),\n",
       " ('air', 'low population density, long-term'),\n",
       " ('air', 'lower stratosphere + upper troposphere'),\n",
       " ('air', 'non-urban air or from high stacks'),\n",
       " ('air', 'urban air close to ground'),\n",
       " ('economic', 'primary production factor'),\n",
       " ('inventory indicator', 'output flow'),\n",
       " ('inventory indicator', 'resource use'),\n",
       " ('inventory indicator', 'waste'),\n",
       " ('natural resource', 'biotic'),\n",
       " ('natural resource', 'fossil well'),\n",
       " ('natural resource', 'in air'),\n",
       " ('natural resource', 'in ground'),\n",
       " ('natural resource', 'in water'),\n",
       " ('natural resource', 'land'),\n",
       " ('social',),\n",
       " ('soil',),\n",
       " ('soil', 'agricultural'),\n",
       " ('soil', 'forestry'),\n",
       " ('soil', 'industrial'),\n",
       " ('water',),\n",
       " ('water', 'fossil well'),\n",
       " ('water', 'ground-'),\n",
       " ('water', 'ground-, long-term'),\n",
       " ('water', 'ocean'),\n",
       " ('water', 'surface water')]"
      ]
     },
     "execution_count": 4,
     "metadata": {},
     "output_type": "execute_result"
    }
   ],
   "source": [
    "# unique categories in biosphere3\n",
    "sorted(list({i[\"categories\"] for i in biodb}))"
   ]
  },
  {
   "cell_type": "code",
   "execution_count": 5,
   "id": "d6a7301e-bc26-4053-bfaf-d0006e2622ad",
   "metadata": {},
   "outputs": [
    {
     "data": {
      "text/plain": [
       "['Methane' (kilogram, None, ('air', 'urban air close to ground'))]"
      ]
     },
     "execution_count": 5,
     "metadata": {},
     "output_type": "execute_result"
    }
   ],
   "source": [
    "# there is only one \"methane\" flow in biosphere3, it has category and sub-category\n",
    "[i for i in biodb if \"methane\" == str(i[\"name\"]).lower()]"
   ]
  },
  {
   "cell_type": "code",
   "execution_count": 6,
   "id": "9f383712-d9ed-4261-a129-38d20132198b",
   "metadata": {},
   "outputs": [
    {
     "data": {
      "text/plain": [
       "['Carbon dioxide, from soil or biomass stock' (kilogram, None, ('air', 'indoor')),\n",
       " 'Carbon monoxide, from soil or biomass stock' (kilogram, None, ('air', 'indoor')),\n",
       " 'Methane, from soil or biomass stock' (kilogram, None, ('air', 'indoor')),\n",
       " 'Dimethyl ether' (kilogram, None, ('air', 'indoor'))]"
      ]
     },
     "execution_count": 6,
     "metadata": {},
     "output_type": "execute_result"
    }
   ],
   "source": [
    "# all flows with subcategory \"indoor\"\n",
    "[i for i in biodb if \"indoor\" in str(i[\"categories\"]).lower()]"
   ]
  },
  {
   "cell_type": "code",
   "execution_count": 7,
   "id": "77505cc7-f0b4-450a-81ad-2e55f9543a10",
   "metadata": {},
   "outputs": [
    {
     "data": {
      "text/plain": [
       "['Methane, from soil or biomass stock' (kilogram, None, ('air', 'non-urban air or from high stacks')),\n",
       " 'Methane, from soil or biomass stock' (kilogram, None, ('air', 'urban air close to ground')),\n",
       " 'Methane, from soil or biomass stock' (kilogram, None, ('air', 'indoor')),\n",
       " 'Methane, from soil or biomass stock' (kilogram, None, ('air', 'low population density, long-term')),\n",
       " 'Methane, from soil or biomass stock' (kilogram, None, ('air', 'lower stratosphere + upper troposphere')),\n",
       " 'Methane, from soil or biomass stock' (kilogram, None, ('air',))]"
      ]
     },
     "execution_count": 7,
     "metadata": {},
     "output_type": "execute_result"
    }
   ],
   "source": [
    "[i for i in biodb if \"methane, from soil or biomass stock\" in str(i[\"name\"]).lower()]"
   ]
  },
  {
   "cell_type": "markdown",
   "id": "5e56fc80-4b8b-4a02-9fa6-0435c7d45782",
   "metadata": {},
   "source": [
    "## `Water`, category \"water\""
   ]
  },
  {
   "cell_type": "code",
   "execution_count": 115,
   "id": "e06d734c-c356-450e-b4a3-14e187c8d61d",
   "metadata": {},
   "outputs": [
    {
     "data": {
      "text/plain": [
       "['Water' (cubic meter, None, ('water', 'ground-, long-term')),\n",
       " 'Water' (cubic meter, None, ('water', 'fossil well')),\n",
       " 'Water' (cubic meter, None, ('water',)),\n",
       " 'Water' (cubic meter, None, ('water', 'ocean')),\n",
       " 'Water' (cubic meter, None, ('water', 'ground-')),\n",
       " 'Fresh water (obsolete)' (cubic meter, None, ('water', 'surface water')),\n",
       " 'Salt water (obsolete)' (cubic meter, None, ('water', 'ocean')),\n",
       " 'Water' (cubic meter, None, ('water', 'surface water'))]"
      ]
     },
     "execution_count": 115,
     "metadata": {},
     "output_type": "execute_result"
    }
   ],
   "source": [
    "fl_water = [\n",
    "    flow\n",
    "    for flow in biodb\n",
    "    if \"water\" in str(flow[\"name\"]).lower() \n",
    "    and \"water\" == flow[\"categories\"][0]\n",
    "    # and \"obsolete\" not in str(flow[\"name\"]).lower()\n",
    "]\n",
    "sorted(fl_water)"
   ]
  },
  {
   "cell_type": "code",
   "execution_count": 118,
   "id": "41a40d3e-19aa-4125-9772-38a8159c6450",
   "metadata": {},
   "outputs": [
    {
     "data": {
      "text/plain": [
       "{'categories': ('water', 'ground-, long-term'),\n",
       " 'code': '06d4812b-6937-4d64-8517-b69aabce3648',\n",
       " 'CAS number': '007732-18-5',\n",
       " 'name': 'Water',\n",
       " 'database': 'biosphere3',\n",
       " 'unit': 'cubic meter',\n",
       " 'type': 'emission'}"
      ]
     },
     "execution_count": 118,
     "metadata": {},
     "output_type": "execute_result"
    }
   ],
   "source": [
    "fl_water[0].as_dict()"
   ]
  },
  {
   "cell_type": "markdown",
   "id": "39ef114d-b54f-4bac-a2f2-a3289a3dd02d",
   "metadata": {},
   "source": [
    "## `Water` and `Water, well`, category \"natural resource\""
   ]
  },
  {
   "cell_type": "code",
   "execution_count": 117,
   "id": "8536174e-7e4c-4041-ba86-a15618fbab81",
   "metadata": {},
   "outputs": [
    {
     "data": {
      "text/plain": [
       "['Water, lake' (cubic meter, None, ('natural resource', 'in water')),\n",
       " 'Water, unspecified natural origin' (cubic meter, None, ('natural resource', 'fossil well')),\n",
       " 'Water, in air' (cubic meter, None, ('natural resource', 'in air')),\n",
       " 'Water, unspecified natural origin' (cubic meter, None, ('natural resource', 'in ground')),\n",
       " 'Water, salt, ocean' (cubic meter, None, ('natural resource', 'in water')),\n",
       " 'Water, well, in ground' (cubic meter, None, ('natural resource', 'in water')),\n",
       " 'Water, salt, sole' (cubic meter, None, ('natural resource', 'in water')),\n",
       " 'Water, unspecified natural origin' (cubic meter, None, ('natural resource', 'in water')),\n",
       " 'Water, turbine use, unspecified natural origin' (cubic meter, None, ('natural resource', 'in water')),\n",
       " 'Water, river' (cubic meter, None, ('natural resource', 'in water')),\n",
       " 'Water, cooling, unspecified natural origin' (cubic meter, None, ('natural resource', 'in water'))]"
      ]
     },
     "execution_count": 117,
     "metadata": {},
     "output_type": "execute_result"
    }
   ],
   "source": [
    "sorted(\n",
    "    [\n",
    "        flow\n",
    "        for flow in biodb\n",
    "        if \"water\" in str(flow[\"name\"]).lower()\n",
    "        and \"natural resource\" == flow[\"categories\"][0]\n",
    "        and \"cubic meter\" == flow[\"unit\"]\n",
    "    ]\n",
    ")"
   ]
  },
  {
   "cell_type": "code",
   "execution_count": 119,
   "id": "3f79a267-8342-4131-81bc-82226a888526",
   "metadata": {},
   "outputs": [
    {
     "data": {
      "text/plain": [
       "['Water, well, in ground' (cubic meter, None, ('natural resource', 'in water'))]"
      ]
     },
     "execution_count": 119,
     "metadata": {},
     "output_type": "execute_result"
    }
   ],
   "source": [
    "sorted(\n",
    "    [\n",
    "        flow\n",
    "        for flow in biodb\n",
    "        if \"water, well\" in str(flow[\"name\"]).lower()\n",
    "        and \"natural resource\" == flow[\"categories\"][0]\n",
    "        and \"cubic meter\" == flow[\"unit\"]\n",
    "    ]\n",
    ")"
   ]
  },
  {
   "cell_type": "code",
   "execution_count": 20,
   "id": "7535df68-39aa-4d36-a983-156227b3ac53",
   "metadata": {},
   "outputs": [
    {
     "data": {
      "text/plain": [
       "'particle board production, cement bonded' (cubic meter, RoW, None)"
      ]
     },
     "execution_count": 20,
     "metadata": {},
     "output_type": "execute_result"
    }
   ],
   "source": [
    "next(ds for ds in eidb for exc in ds.biosphere() if \"water, turbine use\" in str(biodb.get(exc[\"flow\"])).lower())"
   ]
  },
  {
   "cell_type": "code",
   "execution_count": 21,
   "id": "41c4b627-feee-4d2c-b54c-b00d0ff1e1fe",
   "metadata": {},
   "outputs": [],
   "source": [
    "# [exc for exc in [ds for ds in eidb if \"'soy-based resin production' (kilogram, US, None)\" in str(ds)][0].biosphere()]"
   ]
  },
  {
   "cell_type": "code",
   "execution_count": 22,
   "id": "871f2cff-674b-4b43-a8cc-f3e1543dad29",
   "metadata": {},
   "outputs": [
    {
     "data": {
      "text/plain": [
       "'fatty acid production, from palm oil' (kilogram, RER, None)"
      ]
     },
     "execution_count": 22,
     "metadata": {},
     "output_type": "execute_result"
    }
   ],
   "source": [
    "next(ds for ds in eidb for exc in ds.biosphere() if \"water, cooling\" in str(biodb.get(exc[\"flow\"])).lower())"
   ]
  },
  {
   "cell_type": "code",
   "execution_count": 23,
   "id": "0366950c-d2d8-4f41-9939-6c4ccdb56c0b",
   "metadata": {},
   "outputs": [],
   "source": [
    "rdmact = eidb.random()"
   ]
  },
  {
   "cell_type": "code",
   "execution_count": 24,
   "id": "aca35bb3-a297-4511-a47d-d26d705d6e13",
   "metadata": {},
   "outputs": [
    {
     "data": {
      "text/plain": [
       "dict_keys(['comment', 'classifications', 'activity type', 'activity', 'database', 'filename', 'location', 'name', 'synonyms', 'parameters', 'authors', 'type', 'reference product', 'flow', 'unit', 'production amount', 'code'])"
      ]
     },
     "execution_count": 24,
     "metadata": {},
     "output_type": "execute_result"
    }
   ],
   "source": [
    "rdmact.as_dict().keys()"
   ]
  },
  {
   "cell_type": "code",
   "execution_count": 25,
   "id": "f19aed6a-ae96-4502-be5d-543467f932f7",
   "metadata": {},
   "outputs": [
    {
     "data": {
      "text/plain": [
       "'treatment of wastewater, average, capacity 1E9l/year' (cubic meter, CH, None)"
      ]
     },
     "execution_count": 25,
     "metadata": {},
     "output_type": "execute_result"
    }
   ],
   "source": [
    "eidb.get(rdmact[\"code\"])"
   ]
  },
  {
   "cell_type": "code",
   "execution_count": 121,
   "id": "3524e394-455c-4c97-9414-efa5e1ad391f",
   "metadata": {},
   "outputs": [
    {
     "data": {
      "text/plain": [
       "'Nitrate' (kilogram, None, ('water', 'surface water'))"
      ]
     },
     "execution_count": 121,
     "metadata": {},
     "output_type": "execute_result"
    }
   ],
   "source": [
    "biodb.get([exc[\"flow\"] for exc in rdmact.biosphere()][0])"
   ]
  },
  {
   "cell_type": "markdown",
   "id": "eb9f5b0f-521f-4494-82e7-1d5640435a74",
   "metadata": {},
   "source": [
    "## `Nitrate` and `Nitrogen`, category \"water\""
   ]
  },
  {
   "cell_type": "code",
   "execution_count": 122,
   "id": "679b27e6-f508-4fdf-be34-51d1ac4b971d",
   "metadata": {},
   "outputs": [
    {
     "data": {
      "text/plain": [
       "['Nitrate' (kilogram, None, ('water', 'ocean')),\n",
       " 'Nitrate' (kilogram, None, ('water',)),\n",
       " 'Nitrate' (kilogram, None, ('water', 'surface water')),\n",
       " 'Nitrate' (kilogram, None, ('water', 'ground-, long-term')),\n",
       " 'Nitrate' (kilogram, None, ('water', 'ground-'))]"
      ]
     },
     "execution_count": 122,
     "metadata": {},
     "output_type": "execute_result"
    }
   ],
   "source": [
    "sorted(\n",
    "    [\n",
    "        flow\n",
    "        for flow in biodb\n",
    "        if \"nitrate\" in str(flow[\"name\"]).lower()\n",
    "        and \"water\" == flow[\"categories\"][0]\n",
    "        # and \"cubic meter\" == flow[\"unit\"]\n",
    "    ]\n",
    ")"
   ]
  },
  {
   "cell_type": "code",
   "execution_count": 123,
   "id": "099ffc75-abed-4531-87fa-ee706bac889e",
   "metadata": {},
   "outputs": [
    {
     "data": {
      "text/plain": [
       "['Nitrogen' (kilogram, None, ('water', 'ground-')),\n",
       " 'Nitrogen, organic bound' (kilogram, None, ('water', 'ground-, long-term')),\n",
       " 'Nitrogen dioxide' (kilogram, None, ('water', 'surface water')),\n",
       " 'Nitrogen' (kilogram, None, ('water', 'ground-, long-term')),\n",
       " 'Nitrogen, organic bound' (kilogram, None, ('water', 'ocean')),\n",
       " 'Nitrogen' (kilogram, None, ('water', 'ocean')),\n",
       " 'Nitrogen, organic bound' (kilogram, None, ('water',)),\n",
       " 'Nitrogen' (kilogram, None, ('water', 'surface water')),\n",
       " 'Nitrogen, organic bound' (kilogram, None, ('water', 'ground-')),\n",
       " 'Nitrogen, organic bound' (kilogram, None, ('water', 'surface water')),\n",
       " 'Nitrogen' (kilogram, None, ('water',))]"
      ]
     },
     "execution_count": 123,
     "metadata": {},
     "output_type": "execute_result"
    }
   ],
   "source": [
    "sorted(\n",
    "    [\n",
    "        flow\n",
    "        for flow in biodb\n",
    "        if \"nitrogen\" in str(flow[\"name\"]).lower()\n",
    "        and \"water\" == flow[\"categories\"][0]\n",
    "        # and \"cubic meter\" == flow[\"unit\"]\n",
    "    ]\n",
    ")"
   ]
  },
  {
   "cell_type": "markdown",
   "id": "8d9d625a-0589-401a-ad69-c3fac1f40a0c",
   "metadata": {},
   "source": [
    "## `Occupation, ...`"
   ]
  },
  {
   "cell_type": "code",
   "execution_count": 92,
   "id": "69a0cf19-2007-4fb3-a36a-6629a307a8aa",
   "metadata": {},
   "outputs": [],
   "source": [
    "pd.set_option(\"display.max_colwidth\", 100)"
   ]
  },
  {
   "cell_type": "code",
   "execution_count": 96,
   "id": "e52e269d-5b01-401d-b045-d46deeca186a",
   "metadata": {},
   "outputs": [
    {
     "name": "stdout",
     "output_type": "stream",
     "text": [
      "57 flows\n"
     ]
    },
    {
     "data": {
      "text/plain": [
       "['Occupation, construction site' (square meter-year, None, ('natural resource', 'land')),\n",
       " 'Occupation, dump site' (square meter-year, None, ('natural resource', 'land')),\n",
       " 'Occupation, permanent crop, non-irrigated, extensive' (square meter-year, None, ('natural resource', 'land')),\n",
       " 'Occupation, lake, natural (non-use)' (square meter-year, None, ('natural resource', 'land')),\n",
       " 'Occupation, unspecified' (square meter-year, None, ('natural resource', 'land')),\n",
       " 'Occupation, urban, discontinuously built' (square meter-year, None, ('natural resource', 'land')),\n",
       " 'Occupation, annual crop' (square meter-year, None, ('natural resource', 'land')),\n",
       " 'Occupation, seabed, infrastructure' (square meter-year, None, ('natural resource', 'land')),\n",
       " 'Occupation, annual crop, irrigated, intensive' (square meter-year, None, ('natural resource', 'land')),\n",
       " 'Occupation, urban/industrial fallow (non-use)' (square meter-year, None, ('natural resource', 'land')),\n",
       " 'Occupation, permanent crop, irrigated, extensive' (square meter-year, None, ('natural resource', 'land')),\n",
       " 'Occupation, forest, primary (non-use)' (square meter-year, None, ('natural resource', 'land')),\n",
       " 'Occupation, permanent crop, non-irrigated, intensive' (square meter-year, None, ('natural resource', 'land')),\n",
       " 'Occupation, cropland fallow (non-use)' (square meter-year, None, ('natural resource', 'land')),\n",
       " 'Occupation, snow and ice (non-use)' (square meter-year, None, ('natural resource', 'land')),\n",
       " 'Occupation, pasture, man made' (square meter-year, None, ('natural resource', 'land')),\n",
       " 'Occupation, forest, extensive' (square meter-year, None, ('natural resource', 'land')),\n",
       " 'Occupation, unspecified, natural (non-use)' (square meter-year, None, ('natural resource', 'land')),\n",
       " 'Occupation, bare area (non-use)' (square meter-year, None, ('natural resource', 'land')),\n",
       " 'Occupation, pasture, man made, intensive' (square meter-year, None, ('natural resource', 'land')),\n",
       " 'Occupation, permanent crop, non-irrigated' (square meter-year, None, ('natural resource', 'land')),\n",
       " 'Occupation, forest, intensive' (square meter-year, None, ('natural resource', 'land')),\n",
       " 'Occupation, annual crop, irrigated, extensive' (square meter-year, None, ('natural resource', 'land')),\n",
       " 'Occupation, permanent crop' (square meter-year, None, ('natural resource', 'land')),\n",
       " 'Occupation, heterogeneous, agricultural' (square meter-year, None, ('natural resource', 'land')),\n",
       " 'Occupation, annual crop, irrigated' (square meter-year, None, ('natural resource', 'land')),\n",
       " 'Occupation, river, artificial' (square meter-year, None, ('natural resource', 'land')),\n",
       " 'Occupation, shrub land, sclerophyllous' (square meter-year, None, ('natural resource', 'land')),\n",
       " 'Occupation, forest, secondary (non-use)' (square meter-year, None, ('natural resource', 'land')),\n",
       " 'Occupation, annual crop, non-irrigated, intensive' (square meter-year, None, ('natural resource', 'land')),\n",
       " 'Occupation, annual crop, flooded crop' (square meter-year, None, ('natural resource', 'land')),\n",
       " 'Occupation, traffic area, rail/road embankment' (square meter-year, None, ('natural resource', 'land')),\n",
       " 'Occupation, mineral extraction site' (square meter-year, None, ('natural resource', 'land')),\n",
       " 'Occupation, inland waterbody, unspecified' (square meter-year, None, ('natural resource', 'land')),\n",
       " 'Occupation, arable land, unspecified use' (square meter-year, None, ('natural resource', 'land')),\n",
       " 'Occupation, seabed, unspecified' (square meter-year, None, ('natural resource', 'land')),\n",
       " 'Occupation, traffic area, road network' (square meter-year, None, ('natural resource', 'land')),\n",
       " 'Occupation, pasture, man made, extensive' (square meter-year, None, ('natural resource', 'land')),\n",
       " 'Occupation, annual crop, non-irrigated, extensive' (square meter-year, None, ('natural resource', 'land')),\n",
       " 'Occupation, wetland, coastal (non-use)' (square meter-year, None, ('natural resource', 'land')),\n",
       " 'Occupation, urban, green area' (square meter-year, None, ('natural resource', 'land')),\n",
       " 'Occupation, urban, continuously built' (square meter-year, None, ('natural resource', 'land')),\n",
       " 'Occupation, industrial area' (square meter-year, None, ('natural resource', 'land')),\n",
       " 'Occupation, annual crop, non-irrigated' (square meter-year, None, ('natural resource', 'land')),\n",
       " 'Occupation, field margin/hedgerow' (square meter-year, None, ('natural resource', 'land')),\n",
       " 'Occupation, grassland, natural, for livestock grazing' (square meter-year, None, ('natural resource', 'land')),\n",
       " 'Occupation, grassland, natural (non-use)' (square meter-year, None, ('natural resource', 'land')),\n",
       " 'Occupation, wetland, inland (non-use)' (square meter-year, None, ('natural resource', 'land')),\n",
       " 'Occupation, river, natural (non-use)' (square meter-year, None, ('natural resource', 'land')),\n",
       " 'Occupation, permanent crop, irrigated' (square meter-year, None, ('natural resource', 'land')),\n",
       " 'Occupation, annual crop, greenhouse' (square meter-year, None, ('natural resource', 'land')),\n",
       " 'Occupation, traffic area, rail network' (square meter-year, None, ('natural resource', 'land')),\n",
       " 'Occupation, seabed, natural (non-use)' (square meter-year, None, ('natural resource', 'land')),\n",
       " 'Occupation, lake, artificial' (square meter-year, None, ('natural resource', 'land')),\n",
       " 'Occupation, forest, unspecified' (square meter-year, None, ('natural resource', 'land')),\n",
       " 'Occupation, seabed, drilling and mining' (square meter-year, None, ('natural resource', 'land')),\n",
       " 'Occupation, permanent crop, irrigated, intensive' (square meter-year, None, ('natural resource', 'land'))]"
      ]
     },
     "execution_count": 96,
     "metadata": {},
     "output_type": "execute_result"
    }
   ],
   "source": [
    "fl_occupation = [\n",
    "    flow\n",
    "    for flow in biodb\n",
    "    if \"occupation\" in str(flow[\"name\"]).lower()\n",
    "    # and not \"natural resource\" == flow[\"categories\"][0]\n",
    "    and \"square meter-year\" == flow[\"unit\"]\n",
    "    # and not \"square meter-year\" == flow[\"unit\"]\n",
    "]\n",
    "print(len(fl_occupation), \"flows\")\n",
    "fl_occupation\n",
    "\n",
    "# dict_fl_occupation = {}\n",
    "# for flow in sorted(fl_occupation):\n",
    "#     dict_fl_occupation[flow] = (flow[\"name\"], flow[\"categories\"][0], flow[\"categories\"][1])\n",
    "# pd.DataFrame.from_dict(dict_fl_occupation, orient=\"columns\").T"
   ]
  },
  {
   "cell_type": "code",
   "execution_count": 41,
   "id": "3b628b78-11e5-4016-b888-73117670b80f",
   "metadata": {},
   "outputs": [],
   "source": [
    "# check if any ds in ecoinvent v3.5 uses \"Occupation, arable, ... (obsolete)\" flows\n",
    "\n",
    "# next(ds for ds in eidb for exc in ds.biosphere() if \"tillage (obsolete)\" in str(biodb.get(exc[\"flow\"])).lower())\n",
    "\n",
    "# it takes some time to go through all the activities, but returns no results, i.e. the generator is empty..."
   ]
  },
  {
   "cell_type": "code",
   "execution_count": 134,
   "id": "1f6da395-acaa-4732-a5f9-0ad9d2dcc250",
   "metadata": {},
   "outputs": [
    {
     "data": {
      "text/plain": [
       "{'categories': ('natural resource', 'land'),\n",
       " 'code': '4b6b9b76-3199-4bd0-b11d-f8f2efbeac4e',\n",
       " 'CAS number': None,\n",
       " 'name': 'Occupation, construction site',\n",
       " 'database': 'biosphere3',\n",
       " 'unit': 'square meter-year',\n",
       " 'type': 'natural resource'}"
      ]
     },
     "execution_count": 134,
     "metadata": {},
     "output_type": "execute_result"
    }
   ],
   "source": [
    "fl_occupation[0].as_dict()"
   ]
  },
  {
   "cell_type": "code",
   "execution_count": 133,
   "id": "a37ae7ef-1e44-44a1-967d-ad1ba682cae6",
   "metadata": {
    "tags": []
   },
   "outputs": [
    {
     "data": {
      "text/plain": [
       "[]"
      ]
     },
     "execution_count": 133,
     "metadata": {},
     "output_type": "execute_result"
    }
   ],
   "source": [
    "fl_ = [\n",
    "    flow\n",
    "    for flow in biodb\n",
    "    if \"Arsenic\" in str(flow[\"name\"]).lower()\n",
    "    # and not \"natural resource\" == flow[\"categories\"][0]\n",
    "    # and \"square meter-year\" == flow[\"unit\"]\n",
    "    # and not \"square meter-year\" == flow[\"unit\"]\n",
    "]\n",
    "fl_"
   ]
  },
  {
   "cell_type": "code",
   "execution_count": null,
   "id": "87c48aa8-5cb3-4687-af70-a288b79db7d8",
   "metadata": {},
   "outputs": [],
   "source": []
  }
 ],
 "metadata": {
  "kernelspec": {
   "display_name": "Python (bw2)",
   "language": "python",
   "name": "bw2"
  },
  "language_info": {
   "codemirror_mode": {
    "name": "ipython",
    "version": 3
   },
   "file_extension": ".py",
   "mimetype": "text/x-python",
   "name": "python",
   "nbconvert_exporter": "python",
   "pygments_lexer": "ipython3",
   "version": "3.9.7"
  }
 },
 "nbformat": 4,
 "nbformat_minor": 5
}
