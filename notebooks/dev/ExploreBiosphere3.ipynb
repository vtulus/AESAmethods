{
 "cells": [
  {
   "cell_type": "code",
   "execution_count": 1,
   "id": "341cc327-c6c0-4293-85f9-6f5ac80247dd",
   "metadata": {},
   "outputs": [],
   "source": [
    "import bw2data as bd"
   ]
  },
  {
   "cell_type": "code",
   "execution_count": 2,
   "id": "4c2c266d-6195-4d70-a6f6-42fbcddecd37",
   "metadata": {},
   "outputs": [],
   "source": [
    "bd.projects.set_current(\"default\")"
   ]
  },
  {
   "cell_type": "code",
   "execution_count": 3,
   "id": "0b57e5e5-155c-4d90-bc18-521e32e82b2a",
   "metadata": {},
   "outputs": [],
   "source": [
    "biodb = bd.Database(\"biosphere3\")"
   ]
  },
  {
   "cell_type": "code",
   "execution_count": 4,
   "id": "234a1f91-28e4-451a-91fc-6459e33ac9a1",
   "metadata": {},
   "outputs": [
    {
     "data": {
      "text/plain": [
       "[('air',),\n",
       " ('air', 'indoor'),\n",
       " ('air', 'low population density, long-term'),\n",
       " ('air', 'lower stratosphere + upper troposphere'),\n",
       " ('air', 'non-urban air or from high stacks'),\n",
       " ('air', 'urban air close to ground'),\n",
       " ('economic', 'primary production factor'),\n",
       " ('inventory indicator', 'output flow'),\n",
       " ('inventory indicator', 'resource use'),\n",
       " ('inventory indicator', 'waste'),\n",
       " ('natural resource', 'biotic'),\n",
       " ('natural resource', 'fossil well'),\n",
       " ('natural resource', 'in air'),\n",
       " ('natural resource', 'in ground'),\n",
       " ('natural resource', 'in water'),\n",
       " ('natural resource', 'land'),\n",
       " ('social',),\n",
       " ('soil',),\n",
       " ('soil', 'agricultural'),\n",
       " ('soil', 'forestry'),\n",
       " ('soil', 'industrial'),\n",
       " ('water',),\n",
       " ('water', 'fossil well'),\n",
       " ('water', 'ground-'),\n",
       " ('water', 'ground-, long-term'),\n",
       " ('water', 'ocean'),\n",
       " ('water', 'surface water')]"
      ]
     },
     "execution_count": 4,
     "metadata": {},
     "output_type": "execute_result"
    }
   ],
   "source": [
    "# unique categories in biosphere3\n",
    "sorted(list({i[\"categories\"] for i in biodb}))"
   ]
  },
  {
   "cell_type": "code",
   "execution_count": 5,
   "id": "d6a7301e-bc26-4053-bfaf-d0006e2622ad",
   "metadata": {},
   "outputs": [
    {
     "data": {
      "text/plain": [
       "['Methane' (kilogram, None, ('air', 'urban air close to ground'))]"
      ]
     },
     "execution_count": 5,
     "metadata": {},
     "output_type": "execute_result"
    }
   ],
   "source": [
    "# there is only one \"methane\" flow in biosphere3, it has category and sub-category\n",
    "[i for i in biodb if \"methane\" == str(i[\"name\"]).lower()]"
   ]
  },
  {
   "cell_type": "code",
   "execution_count": 6,
   "id": "9f383712-d9ed-4261-a129-38d20132198b",
   "metadata": {},
   "outputs": [
    {
     "data": {
      "text/plain": [
       "['Methane, from soil or biomass stock' (kilogram, None, ('air', 'indoor')),\n",
       " 'Carbon monoxide, from soil or biomass stock' (kilogram, None, ('air', 'indoor')),\n",
       " 'Carbon dioxide, from soil or biomass stock' (kilogram, None, ('air', 'indoor')),\n",
       " 'Dimethyl ether' (kilogram, None, ('air', 'indoor'))]"
      ]
     },
     "execution_count": 6,
     "metadata": {},
     "output_type": "execute_result"
    }
   ],
   "source": [
    "# all flows with subcategory \"indoor\"\n",
    "[i for i in biodb if \"indoor\" in str(i[\"categories\"]).lower()]"
   ]
  },
  {
   "cell_type": "code",
   "execution_count": 7,
   "id": "77505cc7-f0b4-450a-81ad-2e55f9543a10",
   "metadata": {},
   "outputs": [
    {
     "data": {
      "text/plain": [
       "['Methane, from soil or biomass stock' (kilogram, None, ('air', 'indoor')),\n",
       " 'Methane, from soil or biomass stock' (kilogram, None, ('air', 'urban air close to ground')),\n",
       " 'Methane, from soil or biomass stock' (kilogram, None, ('air', 'low population density, long-term')),\n",
       " 'Methane, from soil or biomass stock' (kilogram, None, ('air', 'lower stratosphere + upper troposphere')),\n",
       " 'Methane, from soil or biomass stock' (kilogram, None, ('air', 'non-urban air or from high stacks')),\n",
       " 'Methane, from soil or biomass stock' (kilogram, None, ('air',))]"
      ]
     },
     "execution_count": 7,
     "metadata": {},
     "output_type": "execute_result"
    }
   ],
   "source": [
    "[i for i in biodb if \"methane, from soil or biomass stock\" in str(i[\"name\"]).lower()]"
   ]
  },
  {
   "cell_type": "code",
   "execution_count": 8,
   "id": "e06d734c-c356-450e-b4a3-14e187c8d61d",
   "metadata": {},
   "outputs": [
    {
     "data": {
      "text/plain": [
       "['Water' (cubic meter, None, ('water', 'ground-, long-term')),\n",
       " 'Water' (cubic meter, None, ('water', 'fossil well')),\n",
       " 'Water' (cubic meter, None, ('water',)),\n",
       " 'Water' (cubic meter, None, ('water', 'ocean')),\n",
       " 'Water' (cubic meter, None, ('water', 'ground-')),\n",
       " 'Fresh water (obsolete)' (cubic meter, None, ('water', 'surface water')),\n",
       " 'Salt water (obsolete)' (cubic meter, None, ('water', 'ocean')),\n",
       " 'Water' (cubic meter, None, ('water', 'surface water'))]"
      ]
     },
     "execution_count": 8,
     "metadata": {},
     "output_type": "execute_result"
    }
   ],
   "source": [
    "sorted(\n",
    "    [\n",
    "        flow\n",
    "        for flow in biodb\n",
    "        if \"water\" in str(flow[\"name\"]).lower()\n",
    "        and \"water\" == flow[\"categories\"][0]\n",
    "    ]\n",
    ")"
   ]
  },
  {
   "cell_type": "code",
   "execution_count": 9,
   "id": "8536174e-7e4c-4041-ba86-a15618fbab81",
   "metadata": {},
   "outputs": [
    {
     "data": {
      "text/plain": [
       "['Water, lake' (cubic meter, None, ('natural resource', 'in water')),\n",
       " 'Water, unspecified natural origin' (cubic meter, None, ('natural resource', 'fossil well')),\n",
       " 'Water, in air' (cubic meter, None, ('natural resource', 'in air')),\n",
       " 'Water, unspecified natural origin' (cubic meter, None, ('natural resource', 'in ground')),\n",
       " 'Water, salt, ocean' (cubic meter, None, ('natural resource', 'in water')),\n",
       " 'Water, well, in ground' (cubic meter, None, ('natural resource', 'in water')),\n",
       " 'Water, salt, sole' (cubic meter, None, ('natural resource', 'in water')),\n",
       " 'Water, unspecified natural origin' (cubic meter, None, ('natural resource', 'in water')),\n",
       " 'Water, turbine use, unspecified natural origin' (cubic meter, None, ('natural resource', 'in water')),\n",
       " 'Water, river' (cubic meter, None, ('natural resource', 'in water')),\n",
       " 'Water, cooling, unspecified natural origin' (cubic meter, None, ('natural resource', 'in water'))]"
      ]
     },
     "execution_count": 9,
     "metadata": {},
     "output_type": "execute_result"
    }
   ],
   "source": [
    "sorted(\n",
    "    [\n",
    "        flow\n",
    "        for flow in biodb\n",
    "        if \"water\" in str(flow[\"name\"]).lower()\n",
    "        and \"natural resource\" == flow[\"categories\"][0]\n",
    "        and \"cubic meter\" == flow[\"unit\"]\n",
    "    ]\n",
    ")"
   ]
  },
  {
   "cell_type": "code",
   "execution_count": 10,
   "id": "41a40d3e-19aa-4125-9772-38a8159c6450",
   "metadata": {},
   "outputs": [],
   "source": [
    "w = sorted(\n",
    "    [\n",
    "        flow\n",
    "        for flow in biodb\n",
    "        if \"water\" in str(flow[\"name\"]).lower()\n",
    "        and \"water\" == flow[\"categories\"][0]\n",
    "    ]\n",
    ")[0]"
   ]
  },
  {
   "cell_type": "code",
   "execution_count": 11,
   "id": "d5e5d53d-e6a5-4438-a5fc-985fb02477bb",
   "metadata": {},
   "outputs": [
    {
     "data": {
      "text/plain": [
       "{'categories': ('water', 'ground-, long-term'),\n",
       " 'code': '06d4812b-6937-4d64-8517-b69aabce3648',\n",
       " 'CAS number': '007732-18-5',\n",
       " 'name': 'Water',\n",
       " 'database': 'biosphere3',\n",
       " 'unit': 'cubic meter',\n",
       " 'type': 'emission'}"
      ]
     },
     "execution_count": 11,
     "metadata": {},
     "output_type": "execute_result"
    }
   ],
   "source": [
    "w.as_dict()"
   ]
  },
  {
   "cell_type": "code",
   "execution_count": 12,
   "id": "3f79a267-8342-4131-81bc-82226a888526",
   "metadata": {},
   "outputs": [
    {
     "data": {
      "text/plain": [
       "['Water, well, in ground' (cubic meter, None, ('natural resource', 'in water'))]"
      ]
     },
     "execution_count": 12,
     "metadata": {},
     "output_type": "execute_result"
    }
   ],
   "source": [
    "sorted(\n",
    "    [\n",
    "        flow\n",
    "        for flow in biodb\n",
    "        if \"water, well\" in str(flow[\"name\"]).lower()\n",
    "        and \"natural resource\" == flow[\"categories\"][0]\n",
    "        and \"cubic meter\" == flow[\"unit\"]\n",
    "    ]\n",
    ")"
   ]
  },
  {
   "cell_type": "code",
   "execution_count": 13,
   "id": "b37be116-40bb-4f66-ac70-fc8be54a459d",
   "metadata": {},
   "outputs": [
    {
     "data": {
      "text/plain": [
       "Databases dictionary with 3 object(s):\n",
       "\tbiosphere3\n",
       "\tei35_apos\n",
       "\tei35_cutoff"
      ]
     },
     "execution_count": 13,
     "metadata": {},
     "output_type": "execute_result"
    }
   ],
   "source": [
    "bd.databases"
   ]
  },
  {
   "cell_type": "code",
   "execution_count": 14,
   "id": "d9fc6f86-862a-41d6-9406-a8a3333211ab",
   "metadata": {},
   "outputs": [],
   "source": [
    "eidb = bd.Database(\"ei35_apos\")"
   ]
  },
  {
   "cell_type": "code",
   "execution_count": 52,
   "id": "7535df68-39aa-4d36-a983-156227b3ac53",
   "metadata": {},
   "outputs": [
    {
     "data": {
      "text/plain": [
       "'electricity production, hydro, run-of-river' (kilowatt hour, IN-AR, None)"
      ]
     },
     "execution_count": 52,
     "metadata": {},
     "output_type": "execute_result"
    }
   ],
   "source": [
    "next(ds for ds in eidb for exc in ds.biosphere() if \"water, turbine use\" in str(biodb.get(exc[\"flow\"])).lower())"
   ]
  },
  {
   "cell_type": "code",
   "execution_count": 53,
   "id": "41c4b627-feee-4d2c-b54c-b00d0ff1e1fe",
   "metadata": {},
   "outputs": [],
   "source": [
    "# [exc for exc in [ds for ds in eidb if \"'soy-based resin production' (kilogram, US, None)\" in str(ds)][0].biosphere()]"
   ]
  },
  {
   "cell_type": "code",
   "execution_count": 56,
   "id": "871f2cff-674b-4b43-a8cc-f3e1543dad29",
   "metadata": {},
   "outputs": [
    {
     "data": {
      "text/plain": [
       "'electricity production, hard coal' (kilowatt hour, PT, None)"
      ]
     },
     "execution_count": 56,
     "metadata": {},
     "output_type": "execute_result"
    }
   ],
   "source": [
    "next(ds for ds in eidb for exc in ds.biosphere() if \"water, cooling\" in str(biodb.get(exc[\"flow\"])).lower())"
   ]
  },
  {
   "cell_type": "code",
   "execution_count": 16,
   "id": "0366950c-d2d8-4f41-9939-6c4ccdb56c0b",
   "metadata": {},
   "outputs": [],
   "source": [
    "rdmact = eidb.random()"
   ]
  },
  {
   "cell_type": "code",
   "execution_count": 19,
   "id": "aca35bb3-a297-4511-a47d-d26d705d6e13",
   "metadata": {},
   "outputs": [
    {
     "data": {
      "text/plain": [
       "dict_keys(['comment', 'classifications', 'activity type', 'activity', 'database', 'filename', 'location', 'name', 'synonyms', 'parameters', 'authors', 'type', 'reference product', 'flow', 'unit', 'production amount', 'code'])"
      ]
     },
     "execution_count": 19,
     "metadata": {},
     "output_type": "execute_result"
    }
   ],
   "source": [
    "rdmact.as_dict().keys()"
   ]
  },
  {
   "cell_type": "code",
   "execution_count": 22,
   "id": "f19aed6a-ae96-4502-be5d-543467f932f7",
   "metadata": {},
   "outputs": [
    {
     "data": {
      "text/plain": [
       "'treatment of waste glass, unsanitary landfill, very wet infiltration class (1000mm)' (kilogram, GLO, None)"
      ]
     },
     "execution_count": 22,
     "metadata": {},
     "output_type": "execute_result"
    }
   ],
   "source": [
    "eidb.get(rdmact[\"code\"])"
   ]
  },
  {
   "cell_type": "code",
   "execution_count": null,
   "id": "d4b582b4-bf63-44ae-b07b-1aedba6f01f7",
   "metadata": {},
   "outputs": [],
   "source": []
  },
  {
   "cell_type": "code",
   "execution_count": 35,
   "id": "3524e394-455c-4c97-9414-efa5e1ad391f",
   "metadata": {},
   "outputs": [
    {
     "data": {
      "text/plain": [
       "'Zinc, ion' (kilogram, None, ('water', 'ground-, long-term'))"
      ]
     },
     "execution_count": 35,
     "metadata": {},
     "output_type": "execute_result"
    }
   ],
   "source": [
    "biodb.get([exc[\"flow\"] for exc in rdmact.biosphere()][0])"
   ]
  },
  {
   "cell_type": "code",
   "execution_count": 61,
   "id": "679b27e6-f508-4fdf-be34-51d1ac4b971d",
   "metadata": {},
   "outputs": [
    {
     "data": {
      "text/plain": [
       "['Nitrate' (kilogram, None, ('water', 'ocean')),\n",
       " 'Nitrate' (kilogram, None, ('water',)),\n",
       " 'Nitrate' (kilogram, None, ('water', 'surface water')),\n",
       " 'Nitrate' (kilogram, None, ('water', 'ground-, long-term')),\n",
       " 'Nitrate' (kilogram, None, ('water', 'ground-'))]"
      ]
     },
     "execution_count": 61,
     "metadata": {},
     "output_type": "execute_result"
    }
   ],
   "source": [
    "sorted(\n",
    "    [\n",
    "        flow\n",
    "        for flow in biodb\n",
    "        if \"nitrate\" in str(flow[\"name\"]).lower()\n",
    "        and \"water\" == flow[\"categories\"][0]\n",
    "        # and \"cubic meter\" == flow[\"unit\"]\n",
    "    ]\n",
    ")"
   ]
  },
  {
   "cell_type": "code",
   "execution_count": 62,
   "id": "099ffc75-abed-4531-87fa-ee706bac889e",
   "metadata": {},
   "outputs": [
    {
     "data": {
      "text/plain": [
       "['Nitrogen' (kilogram, None, ('water', 'ground-')),\n",
       " 'Nitrogen, organic bound' (kilogram, None, ('water', 'ground-, long-term')),\n",
       " 'Nitrogen dioxide' (kilogram, None, ('water', 'surface water')),\n",
       " 'Nitrogen' (kilogram, None, ('water', 'ground-, long-term')),\n",
       " 'Nitrogen, organic bound' (kilogram, None, ('water', 'ocean')),\n",
       " 'Nitrogen' (kilogram, None, ('water', 'ocean')),\n",
       " 'Nitrogen, organic bound' (kilogram, None, ('water',)),\n",
       " 'Nitrogen' (kilogram, None, ('water', 'surface water')),\n",
       " 'Nitrogen, organic bound' (kilogram, None, ('water', 'ground-')),\n",
       " 'Nitrogen, organic bound' (kilogram, None, ('water', 'surface water')),\n",
       " 'Nitrogen' (kilogram, None, ('water',))]"
      ]
     },
     "execution_count": 62,
     "metadata": {},
     "output_type": "execute_result"
    }
   ],
   "source": [
    "sorted(\n",
    "    [\n",
    "        flow\n",
    "        for flow in biodb\n",
    "        if \"nitrogen\" in str(flow[\"name\"]).lower()\n",
    "        and \"water\" == flow[\"categories\"][0]\n",
    "        # and \"cubic meter\" == flow[\"unit\"]\n",
    "    ]\n",
    ")"
   ]
  },
  {
   "cell_type": "code",
   "execution_count": null,
   "id": "e52e269d-5b01-401d-b045-d46deeca186a",
   "metadata": {},
   "outputs": [],
   "source": []
  }
 ],
 "metadata": {
  "kernelspec": {
   "display_name": "Python (bw2)",
   "language": "python",
   "name": "bw2"
  },
  "language_info": {
   "codemirror_mode": {
    "name": "ipython",
    "version": 3
   },
   "file_extension": ".py",
   "mimetype": "text/x-python",
   "name": "python",
   "nbconvert_exporter": "python",
   "pygments_lexer": "ipython3",
   "version": "3.9.7"
  }
 },
 "nbformat": 4,
 "nbformat_minor": 5
}
