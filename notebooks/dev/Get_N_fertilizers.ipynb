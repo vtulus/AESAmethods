{
 "cells": [
  {
   "cell_type": "code",
   "execution_count": 1,
   "id": "b3940701-9d59-496b-b72f-3b376ab03b03",
   "metadata": {},
   "outputs": [],
   "source": [
    "import brightway2 as bw\n",
    "import bw2data as bd"
   ]
  },
  {
   "cell_type": "code",
   "execution_count": 2,
   "id": "498a0c3a-4b6d-439d-a748-aba41e065ec9",
   "metadata": {},
   "outputs": [
    {
     "data": {
      "text/plain": [
       "'0.8.6.dev+premise.aesa2'"
      ]
     },
     "execution_count": 2,
     "metadata": {},
     "output_type": "execute_result"
    }
   ],
   "source": [
    "import aesa_pbs\n",
    "aesa_pbs.__version__"
   ]
  },
  {
   "cell_type": "code",
   "execution_count": 3,
   "id": "742df749-5572-47d0-84e5-f54df1ad73ea",
   "metadata": {},
   "outputs": [],
   "source": [
    "from aesa_pbs import (\n",
    "    get_nitrogenous_fertilizers,\n",
    "    remove_nitrogen_fertilizer_exchanges,\n",
    "    update_nitrogen_fertilizer_exchanges,\n",
    ")"
   ]
  },
  {
   "cell_type": "code",
   "execution_count": 4,
   "id": "fa14dccb-f83a-4dc0-bc09-c7bf7b9ed80c",
   "metadata": {},
   "outputs": [
    {
     "data": {
      "text/plain": [
       "Brightway2 projects manager with 14 objects:\n",
       "\tStepByStep\n",
       "\tbw2_class_2020_example_database\n",
       "\tbw2_class_2020_intro\n",
       "\tcar comparison paper\n",
       "\tcheck_PBsmethod\n",
       "\tcheck_impact_electricity\n",
       "\tdefault\n",
       "\tdouble_count_electricity\n",
       "\tecoinvent 3.6\n",
       "\tglobal_power_mix\n",
       "\tparameters - manual creation\n",
       "\tpremise_scenarios\n",
       "\tsimapro-ecoinvent-import\n",
       "\ttrial-import_from_SimaPro\n",
       "Use `projects.report()` to get a report on all projects."
      ]
     },
     "execution_count": 4,
     "metadata": {},
     "output_type": "execute_result"
    }
   ],
   "source": [
    "bw.projects"
   ]
  },
  {
   "cell_type": "code",
   "execution_count": 5,
   "id": "304ba802-0900-4388-89b0-8d97df3d1dfa",
   "metadata": {},
   "outputs": [],
   "source": [
    "bw.projects.set_current(\"check_PBsmethod\")"
   ]
  },
  {
   "cell_type": "code",
   "execution_count": 8,
   "id": "1b8d1b4e-7b21-4eca-9747-ce1fb63f4abb",
   "metadata": {},
   "outputs": [
    {
     "data": {
      "text/plain": [
       "Databases dictionary with 3 object(s):\n",
       "\tbiosphere3\n",
       "\tei35apos\n",
       "\tei35cutoff"
      ]
     },
     "execution_count": 8,
     "metadata": {},
     "output_type": "execute_result"
    }
   ],
   "source": [
    "# del bw.databases[\"A_technosphere_flows\"]\n",
    "bw.databases"
   ]
  },
  {
   "cell_type": "code",
   "execution_count": 9,
   "id": "fbaa5825-ada6-4b4b-b215-48d913c01574",
   "metadata": {},
   "outputs": [
    {
     "name": "stdout",
     "output_type": "stream",
     "text": [
      "Adding ('AESA (PBs-LCIA)', '0.8.6.dev+premise.aesa2', 'ocean acidification', 'carbonate ion concentration')\n",
      "Adding ('AESA (PBs-LCIA)', '0.8.6.dev+premise.aesa2', 'freshwater use', 'global')\n",
      "Adding ('AESA (PBs-LCIA)', '0.8.6.dev+premise.aesa2', 'change in biosphere integrity', 'functional diversity', 'CO2eq emissions')\n",
      "Adding ('AESA (PBs-LCIA)', '0.8.6.dev+premise.aesa2', 'climate change', 'energy imbalance at top-of-atmosphere')\n",
      "Adding ('AESA (PBs-LCIA)', '0.8.6.dev+premise.aesa2', 'biogeochemical flows', 'phosphorus')\n",
      "Adding ('AESA (PBs-LCIA)', '0.8.6.dev+premise.aesa2', 'ozone depletion', 'stratospheric O3 concentration')\n"
     ]
    },
    {
     "name": "stderr",
     "output_type": "stream",
     "text": [
      "Writing activities to SQLite3 database:\n"
     ]
    },
    {
     "name": "stdout",
     "output_type": "stream",
     "text": [
      "Adding ('AESA (PBs-LCIA)', '0.8.6.dev+premise.aesa2', 'biogeochemical flows', 'nitrogen', 'directly fixated')\n",
      "+-----------------------------------------------------------------------------------+\n",
      "| Warning                                                                           |\n",
      "+-----------------------------------------------------------------------------------+\n",
      "| The method for quantification of directly fixated nitrogen                        |\n",
      "| requires an additional database `A_technosphere_flows`.                           |\n",
      "| This database was not found in the current project.                               |\n",
      "| It will be generated now.                                                         |\n",
      "|                                                                                   |\n",
      "| Next steps:                                                                       |\n",
      "| 1. Use `get_nitrogenous_fertilizers()` to filter activities                       |\n",
      "| \tproducing nitrogenous fertilizers in a specific background database.                                                                                   |\n",
      "| 2. Use `update_nitrogen_fertilizer_exchanges()` to modify those activities.       |\n",
      "|                                                                                   |\n",
      "| Optionally,                                                                       |\n",
      "| modified activities can be cleaned with `remove_nitrogen_fertilizer_exchanges()`. |\n",
      "+-----------------------------------------------------------------------------------+\n"
     ]
    },
    {
     "name": "stderr",
     "output_type": "stream",
     "text": [
      "0% [#] 100% | ETA: 00:00:00\n",
      "Total time elapsed: 00:00:00\n"
     ]
    },
    {
     "name": "stdout",
     "output_type": "stream",
     "text": [
      "Title: Writing activities to SQLite3 database:\n",
      "  Started: 05/16/2022 12:28:50\n",
      "  Finished: 05/16/2022 12:28:50\n",
      "  Total time elapsed: 00:00:00\n",
      "  CPU %: 0.00\n",
      "  Memory %: 1.15\n",
      "Adding ('AESA (PBs-LCIA)', '0.8.6.dev+premise.aesa2', 'change in biosphere integrity', 'functional diversity', 'direct land use')\n",
      "Adding ('AESA (PBs-LCIA)', '0.8.6.dev+premise.aesa2', 'change in biosphere integrity', 'functional diversity', 'total')\n",
      "Adding ('AESA (PBs-LCIA)', '0.8.6.dev+premise.aesa2', 'climate change', 'atmospheric CO2 concentration')\n",
      "Adding ('AESA (PBs-LCIA)', '0.8.6.dev+premise.aesa2', 'land-system change', 'global')\n",
      "Adding ('AESA (PBs-LCIA)', '0.8.6.dev+premise.aesa2', 'biogeochemical flows', 'nitrogen', 'inverse modelling, surface water')\n"
     ]
    }
   ],
   "source": [
    "aesa_pbs.add_aesa_pbs(verbose=False)"
   ]
  },
  {
   "cell_type": "code",
   "execution_count": 8,
   "id": "5cb2c81c-583d-4cae-82de-9840d089b321",
   "metadata": {},
   "outputs": [],
   "source": [
    "# temporal\n",
    "\n",
    "# del bw.databases[\"ei35cutoff\"]\n",
    "\n",
    "# PATH_TO_EI_DATASETS = r\"C:\\Users\\ViteksPC\\Documents\\00-ETH_projects\\18-BW2Hub\\01.Data\\Ecoinvent\\v3.5\\ecoinvent 3.5_cutoff_ecoSpold02\\datasets\"\n",
    "# ei = bw.SingleOutputEcospold2Importer(PATH_TO_EI_DATASETS, \"ei35cutoff\")\n",
    "# ei\n",
    "# ei.apply_strategies()\n",
    "# ei.statistics()\n",
    "# ei.write_database()\n",
    "# del ei"
   ]
  },
  {
   "cell_type": "code",
   "execution_count": 10,
   "id": "0b7fc76a-e45c-4af8-a63c-f3eeb35240e0",
   "metadata": {},
   "outputs": [
    {
     "data": {
      "text/plain": [
       "Databases dictionary with 4 object(s):\n",
       "\tA_technosphere_flows\n",
       "\tbiosphere3\n",
       "\tei35apos\n",
       "\tei35cutoff"
      ]
     },
     "execution_count": 10,
     "metadata": {},
     "output_type": "execute_result"
    }
   ],
   "source": [
    "bw.databases"
   ]
  },
  {
   "cell_type": "code",
   "execution_count": 11,
   "id": "6b7a5afe-7bb4-4568-b312-a5f1f0cc1f35",
   "metadata": {},
   "outputs": [],
   "source": [
    "# rdm = bw.Database(\"biosphere3\").random()"
   ]
  },
  {
   "cell_type": "code",
   "execution_count": 12,
   "id": "644a9ef8-2d57-4b4f-ac6c-edfa38fe3e5b",
   "metadata": {},
   "outputs": [],
   "source": [
    "# [v for v in rdm.keys()]"
   ]
  },
  {
   "cell_type": "code",
   "execution_count": 13,
   "id": "183592c2-1ba2-4337-920b-8215ce304c74",
   "metadata": {},
   "outputs": [],
   "source": [
    "# rdm.as_dict()"
   ]
  },
  {
   "cell_type": "code",
   "execution_count": 14,
   "id": "ca65774d-63ff-4a08-b89d-f59f1bcff1f5",
   "metadata": {},
   "outputs": [],
   "source": [
    "# [k for k in bw.Database(\"ei35apos\").random().keys()]"
   ]
  },
  {
   "cell_type": "code",
   "execution_count": 15,
   "id": "23232b24-f5a4-49d2-b26e-42e099b851b0",
   "metadata": {},
   "outputs": [],
   "source": [
    "# [act for act in bw.Database(\"ei35apos\") if \"fertiliser\" in act[\"name\"]]\n",
    "# [act for act in bw.Database(\"ei35apos\") if \"as N\" in act[\"name\"]]"
   ]
  },
  {
   "cell_type": "code",
   "execution_count": 16,
   "id": "7d72b820-2cc9-4d6b-b15f-4848c9cf0e1f",
   "metadata": {},
   "outputs": [
    {
     "data": {
      "text/plain": [
       "[('market for ammonium sulfate, as N' (kilogram, GLO, None),\n",
       "  'ammonium sulfate, as N'),\n",
       " ('ammonium nitrate phosphate production' (kilogram, RoW, None),\n",
       "  'nitrogen fertiliser, as N'),\n",
       " ('ammonium nitrate phosphate production' (kilogram, RER, None),\n",
       "  'nitrogen fertiliser, as N'),\n",
       " ('market for nitrogen fertiliser, as N' (kilogram, GLO, None),\n",
       "  'nitrogen fertiliser, as N'),\n",
       " ('market for urea, as N' (kilogram, GLO, None), 'urea, as N'),\n",
       " ('market for ammonium nitrate, as N' (kilogram, GLO, None),\n",
       "  'ammonium nitrate, as N')]"
      ]
     },
     "execution_count": 16,
     "metadata": {},
     "output_type": "execute_result"
    }
   ],
   "source": [
    "# what Ibrahim filtered for\n",
    "[\n",
    "    (act, act[\"reference product\"])\n",
    "    for act in bw.Database(\"ei35cutoff\")\n",
    "    if \"as N\" in act[\"name\"] \n",
    "    and \"urea production\" not in act[\"name\"]\n",
    "    or (\"ammonium nitrate phosphate\" in act[\"name\"] and \"as N\" in act[\"reference product\"])\n",
    "]"
   ]
  },
  {
   "cell_type": "code",
   "execution_count": 17,
   "id": "c0de4658-fe30-4303-901e-ad0669623f95",
   "metadata": {},
   "outputs": [],
   "source": [
    "# [\n",
    "#     act[\"reference product\"]\n",
    "#     for act in bw.Database(\"ei35cutoff\")\n",
    "#     if \"ammonium nitrate phosphate\" in act[\"name\"]\n",
    "# ]"
   ]
  },
  {
   "cell_type": "code",
   "execution_count": 18,
   "id": "730c449f-2180-4e33-88d9-9f10c3870f64",
   "metadata": {},
   "outputs": [],
   "source": [
    "# [act[\"classifications\"] for act in bw.Database(\"ei35cutoff\") if \"ammonium nitrate phosphate\" in act[\"name\"]][0]"
   ]
  },
  {
   "cell_type": "code",
   "execution_count": 19,
   "id": "c8f2d045-d6f7-4d0c-bd3e-427c828a4473",
   "metadata": {},
   "outputs": [],
   "source": [
    "isic = []\n",
    "cpc = []\n",
    "ecospold = []\n",
    "for act in bw.Database(\"ei35cutoff\"):\n",
    "    for classification in act[\"classifications\"]:\n",
    "        if \"isic\" in classification[0].lower():\n",
    "            isic.append(classification)\n",
    "        elif \"ecospold\" in classification[0].lower():\n",
    "            ecospold.append(classification)\n",
    "        elif \"cpc\" in classification[0].lower():\n",
    "            cpc.append(classification)\n",
    "isic = list(set(isic))\n",
    "cpc = list(set(cpc))\n",
    "ecospold = list(set(ecospold))"
   ]
  },
  {
   "cell_type": "code",
   "execution_count": 20,
   "id": "c28c9a8b-a920-48f3-8bc1-8acc7059ee4a",
   "metadata": {},
   "outputs": [],
   "source": [
    "# sorted([e[1] for e in ecospold])\n",
    "# sorted([e[1] for e in cpc])\n",
    "# sorted([e[1] for e in isic])"
   ]
  },
  {
   "cell_type": "code",
   "execution_count": 21,
   "id": "b7d4debc-dda4-4a33-a14a-ea73ec783267",
   "metadata": {},
   "outputs": [
    {
     "name": "stdout",
     "output_type": "stream",
     "text": [
      "44\n"
     ]
    }
   ],
   "source": [
    "ACTIVITIES = get_nitrogenous_fertilizers(db_name=\"ei35cutoff\")\n",
    "print(len(ACTIVITIES))\n",
    "# ACTIVITIES"
   ]
  },
  {
   "cell_type": "code",
   "execution_count": 22,
   "id": "b79c79fb-6205-4b8a-b163-4ee4a0758f5a",
   "metadata": {},
   "outputs": [
    {
     "name": "stdout",
     "output_type": "stream",
     "text": [
      "Updating activities that produce nitrogen fertilizer...\n",
      "Updated 0 out of 44.\n"
     ]
    }
   ],
   "source": [
    "update_nitrogen_fertilizer_exchanges(ACTIVITIES, show_updated=False)\n",
    "\n",
    "# remove_nitrogen_fertilizer_exchanges(ACTIVITIES, show_cleaned=False)"
   ]
  },
  {
   "cell_type": "code",
   "execution_count": 23,
   "id": "e3aa84b2-0759-4ad1-a9fe-5f2eb074b221",
   "metadata": {},
   "outputs": [],
   "source": [
    "# [exc for exc in [a for a in ACTIVITIES if \"market\" in a[\"name\"]][0].exchanges()]"
   ]
  },
  {
   "cell_type": "code",
   "execution_count": 24,
   "id": "6b5edc4d-7a36-41c4-a21d-fb7c891af03b",
   "metadata": {},
   "outputs": [],
   "source": [
    "# [\n",
    "#     (act[\"reference product\"], act[\"classifications\"])\n",
    "#     for act in bw.Database(\"ei35cutoff\")\n",
    "#     # if \"nickel mine operation, sulfidic ore\" in act[\"name\"] and \"GLO\" in act[\"location\"]\n",
    "#     # if 'smelting and refining of nickel ore' in act[\"name\"] and \"GLO\" in act[\"location\"]\n",
    "#     # if \"market for ammonium nitrate, as N\" in act[\"name\"] and \"GLO\" in act[\"location\"]\n",
    "#     if \"heat production, straw, at furnace 300kW\" in act[\"name\"] and \"GLO\" in act[\"location\"]\n",
    "# ]"
   ]
  },
  {
   "cell_type": "code",
   "execution_count": 25,
   "id": "7e9002db-03a0-489a-99d1-4307c6a2656d",
   "metadata": {},
   "outputs": [],
   "source": [
    "# [\n",
    "#     t\n",
    "#     for t in [\n",
    "#         act\n",
    "#         for act in bw.Database(\"ei35cutoff\")\n",
    "#         if \"heat production, straw, at furnace 300kW\" in act[\"name\"]\n",
    "#         and \"GLO\" in act[\"location\"]\n",
    "#     ][0].technosphere()\n",
    "# ]"
   ]
  },
  {
   "cell_type": "code",
   "execution_count": 26,
   "id": "76657b65-cba9-48f2-911f-0631fd387ecc",
   "metadata": {},
   "outputs": [],
   "source": [
    "# sorted([(a[\"reference product\"], a[\"name\"]) for a in ACTIVITIES])"
   ]
  },
  {
   "cell_type": "code",
   "execution_count": 27,
   "id": "456d61e0-5831-4d73-9ffd-acdffe9ad29c",
   "metadata": {},
   "outputs": [
    {
     "data": {
      "text/plain": [
       "Databases dictionary with 4 object(s):\n",
       "\tA_technosphere_flows\n",
       "\tbiosphere3\n",
       "\tei35apos\n",
       "\tei35cutoff"
      ]
     },
     "execution_count": 27,
     "metadata": {},
     "output_type": "execute_result"
    }
   ],
   "source": [
    "# del bw.databases[\"A_technosphere_flows\"]\n",
    "bw.databases"
   ]
  },
  {
   "cell_type": "code",
   "execution_count": 28,
   "id": "3bc13432-5e6f-491f-9362-48de4990c964",
   "metadata": {},
   "outputs": [
    {
     "data": {
      "text/plain": [
       "{'name': 'nitrogen fertilizer',\n",
       " 'unit': 'kilogram',\n",
       " 'type': 'inventory flow',\n",
       " 'categories': ('inventory',),\n",
       " 'database': 'A_technosphere_flows',\n",
       " 'code': 'n-fert'}"
      ]
     },
     "execution_count": 28,
     "metadata": {},
     "output_type": "execute_result"
    }
   ],
   "source": [
    "[a for a in bw.Database(\"A_technosphere_flows\")][0].as_dict()"
   ]
  },
  {
   "cell_type": "code",
   "execution_count": 29,
   "id": "c633c99f-1fab-4c0a-aa4f-56dc6086aea4",
   "metadata": {},
   "outputs": [],
   "source": [
    "a = ACTIVITIES[0]\n",
    "# [exc for exc in a.biosphere()]#[0].delete()"
   ]
  },
  {
   "cell_type": "code",
   "execution_count": 30,
   "id": "4859c7f7-02a1-4dbe-9bbb-ce4fea8b181f",
   "metadata": {},
   "outputs": [],
   "source": [
    "# for exc in a.exchanges():\n",
    "#     if exc[\"input\"] == (\"A_technosphere_flows\", \"n-fert\"):\n",
    "#         print(bw.get_activity(exc[\"input\"]))"
   ]
  },
  {
   "cell_type": "code",
   "execution_count": 31,
   "id": "f8568037-4f23-4eed-b516-239b83eca556",
   "metadata": {},
   "outputs": [],
   "source": [
    "# a.as_dict()"
   ]
  },
  {
   "cell_type": "code",
   "execution_count": 32,
   "id": "8e94f1b1-2b6c-494e-9b9b-56117a65d91b",
   "metadata": {},
   "outputs": [],
   "source": [
    "[\n",
    "    m\n",
    "    for m in bw.methods\n",
    "    if \"AESA\" in str(m) and \"nitrogen\" in str(m) and \"nfert\" in str(m)\n",
    "]  # [0]\n",
    "\n",
    "met_direct = [\n",
    "    m\n",
    "    for m in bw.methods\n",
    "    if \"AESA\" in str(m)\n",
    "    and \"nitrogen\" in str(m)\n",
    "    and \"nfert\" in str(m)\n",
    "    and \"directly fixated\" in str(m)\n",
    "][0]\n",
    "met_inverse = [\n",
    "    m\n",
    "    for m in bw.methods\n",
    "    if \"AESA\" in str(m)\n",
    "    and \"nitrogen\" in str(m)\n",
    "    and \"nfert\" in str(m)\n",
    "    and \"inverse modelling, surface water\" in str(m)\n",
    "][0]"
   ]
  },
  {
   "cell_type": "code",
   "execution_count": 33,
   "id": "a90d5dba-2e15-45f1-ac2a-13d7ee95fddc",
   "metadata": {},
   "outputs": [],
   "source": [
    "# bw.Method(\n",
    "#     (\n",
    "#         \"AESA (PBs-LCIA)\",\n",
    "#         \"0.8.6+nfert.1\",\n",
    "#         \"biogeochemical flows\",\n",
    "#         \"nitrogen\",\n",
    "#         \"inverse modelling, surface water\",\n",
    "#     )\n",
    "# ).metadata"
   ]
  },
  {
   "cell_type": "code",
   "execution_count": 34,
   "id": "7e1e9337-ff34-481f-9de1-8ea1fe7a235e",
   "metadata": {},
   "outputs": [
    {
     "data": {
      "text/plain": [
       "'market group for electricity, medium voltage' (kilowatt hour, GLO, None)"
      ]
     },
     "execution_count": 34,
     "metadata": {},
     "output_type": "execute_result"
    }
   ],
   "source": [
    "markletnfert = [act for act in bw.Database(\"ei35cutoff\") if \"market for nitrogen fertiliser, as N\" in act[\"name\"]][0]\n",
    "markletnfert\n",
    "\n",
    "methanol = [act for act in bw.Database(\"ei35cutoff\") if \"market for methanol\" == act[\"name\"]][0]\n",
    "methanol\n",
    "\n",
    "elec = [act for act in bw.Database(\"ei35cutoff\") if \"market group for electricity, medium\" in act[\"name\"] and \"GLO\" in act[\"location\"]][0]\n",
    "elec"
   ]
  },
  {
   "cell_type": "code",
   "execution_count": 35,
   "id": "60f57042-cb4a-47c3-8228-c101670a71ef",
   "metadata": {},
   "outputs": [
    {
     "name": "stdout",
     "output_type": "stream",
     "text": [
      "market group for electricity, medium voltage: 4.744377891928962e-14 (Tg N)\n",
      "market group for electricity, medium voltage: 1.1836958100300895e-13 (Tg N)\n"
     ]
    },
    {
     "data": {
      "text/plain": [
       "0.5991894326458451"
      ]
     },
     "execution_count": 35,
     "metadata": {},
     "output_type": "execute_result"
    }
   ],
   "source": [
    "# dem = {markletnfert: 1}\n",
    "dem = {elec: 1}\n",
    "# dem = {methanol: 1}\n",
    "\n",
    "lca_direct = bw.LCA(dem, met_direct)\n",
    "lca_direct.lci()\n",
    "lca_direct.lcia()\n",
    "lca_direct.score\n",
    "print(\n",
    "    f\"{list(lca_direct.demand.keys())[0]['name']}: {lca_direct.score} ({bw.Method(lca_direct.method).metadata['unit']})\"\n",
    ")\n",
    "\n",
    "lca_inverse = bw.LCA(dem, met_inverse)\n",
    "lca_inverse.lci()\n",
    "lca_inverse.lcia()\n",
    "lca_inverse.score\n",
    "print(\n",
    "    f\"{list(lca_inverse.demand.keys())[0]['name']}: {lca_inverse.score} ({bw.Method(lca_inverse.method).metadata['unit']})\"\n",
    ")\n",
    "\n",
    "(lca_inverse.score-lca_direct.score)/lca_inverse.score"
   ]
  },
  {
   "cell_type": "code",
   "execution_count": 35,
   "id": "d3521257-8fc4-477f-8fb3-03898a5caa3e",
   "metadata": {},
   "outputs": [],
   "source": [
    "#TODO: don't forget to delete Nflows method after trials..."
   ]
  }
 ],
 "metadata": {
  "kernelspec": {
   "display_name": "Python (bw2)",
   "language": "python",
   "name": "bw2"
  },
  "language_info": {
   "codemirror_mode": {
    "name": "ipython",
    "version": 3
   },
   "file_extension": ".py",
   "mimetype": "text/x-python",
   "name": "python",
   "nbconvert_exporter": "python",
   "pygments_lexer": "ipython3",
   "version": "3.9.7"
  }
 },
 "nbformat": 4,
 "nbformat_minor": 5
}
