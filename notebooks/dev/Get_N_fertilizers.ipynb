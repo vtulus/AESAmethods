{
 "cells": [
  {
   "cell_type": "code",
   "execution_count": 1,
   "id": "b3940701-9d59-496b-b72f-3b376ab03b03",
   "metadata": {},
   "outputs": [],
   "source": [
    "import brightway2 as bw"
   ]
  },
  {
   "cell_type": "code",
   "execution_count": 2,
   "id": "498a0c3a-4b6d-439d-a748-aba41e065ec9",
   "metadata": {},
   "outputs": [],
   "source": [
    "import bw2data as bd"
   ]
  },
  {
   "cell_type": "code",
   "execution_count": 3,
   "id": "fa14dccb-f83a-4dc0-bc09-c7bf7b9ed80c",
   "metadata": {},
   "outputs": [
    {
     "data": {
      "text/plain": [
       "Brightway2 projects manager with 14 objects:\n",
       "\tStepByStep\n",
       "\tbw2_class_2020_example_database\n",
       "\tbw2_class_2020_intro\n",
       "\tcar comparison paper\n",
       "\tcheck_PBsmethod\n",
       "\tcheck_impact_electricity\n",
       "\tdefault\n",
       "\tdouble_count_electricity\n",
       "\tecoinvent 3.6\n",
       "\tglobal_power_mix\n",
       "\tparameters - manual creation\n",
       "\tpremise_scenarios\n",
       "\tsimapro-ecoinvent-import\n",
       "\ttrial-import_from_SimaPro\n",
       "Use `projects.report()` to get a report on all projects."
      ]
     },
     "execution_count": 3,
     "metadata": {},
     "output_type": "execute_result"
    }
   ],
   "source": [
    "bw.projects"
   ]
  },
  {
   "cell_type": "code",
   "execution_count": 4,
   "id": "304ba802-0900-4388-89b0-8d97df3d1dfa",
   "metadata": {},
   "outputs": [],
   "source": [
    "bw.projects.set_current(\"default\")"
   ]
  },
  {
   "cell_type": "code",
   "execution_count": 6,
   "id": "1b8d1b4e-7b21-4eca-9747-ce1fb63f4abb",
   "metadata": {},
   "outputs": [
    {
     "data": {
      "text/plain": [
       "Databases dictionary with 3 object(s):\n",
       "\tbiosphere3\n",
       "\tei35_apos\n",
       "\tei35_cutoff"
      ]
     },
     "execution_count": 6,
     "metadata": {},
     "output_type": "execute_result"
    }
   ],
   "source": [
    "bw.databases"
   ]
  },
  {
   "cell_type": "code",
   "execution_count": 16,
   "id": "6b7a5afe-7bb4-4568-b312-a5f1f0cc1f35",
   "metadata": {},
   "outputs": [],
   "source": [
    "rdm = bw.Database(\"biosphere3\").random()"
   ]
  },
  {
   "cell_type": "code",
   "execution_count": 20,
   "id": "644a9ef8-2d57-4b4f-ac6c-edfa38fe3e5b",
   "metadata": {},
   "outputs": [
    {
     "data": {
      "text/plain": [
       "['categories', 'code', 'CAS number', 'name', 'database', 'unit', 'type']"
      ]
     },
     "execution_count": 20,
     "metadata": {},
     "output_type": "execute_result"
    }
   ],
   "source": [
    "[v for v in rdm.keys()]"
   ]
  },
  {
   "cell_type": "code",
   "execution_count": 18,
   "id": "183592c2-1ba2-4337-920b-8215ce304c74",
   "metadata": {},
   "outputs": [
    {
     "data": {
      "text/plain": [
       "{'categories': ('air', 'low population density, long-term'),\n",
       " 'code': '06a4fedf-dab4-4ef1-90df-1d0ce8fe6477',\n",
       " 'CAS number': '000353-59-3',\n",
       " 'name': 'Methane, bromochlorodifluoro-, Halon 1211',\n",
       " 'database': 'biosphere3',\n",
       " 'unit': 'kilogram',\n",
       " 'type': 'emission'}"
      ]
     },
     "execution_count": 18,
     "metadata": {},
     "output_type": "execute_result"
    }
   ],
   "source": [
    "rdm.as_dict()"
   ]
  },
  {
   "cell_type": "code",
   "execution_count": 25,
   "id": "ca65774d-63ff-4a08-b89d-f59f1bcff1f5",
   "metadata": {},
   "outputs": [
    {
     "data": {
      "text/plain": [
       "['comment',\n",
       " 'classifications',\n",
       " 'activity type',\n",
       " 'activity',\n",
       " 'database',\n",
       " 'filename',\n",
       " 'location',\n",
       " 'name',\n",
       " 'synonyms',\n",
       " 'parameters',\n",
       " 'authors',\n",
       " 'type',\n",
       " 'reference product',\n",
       " 'flow',\n",
       " 'unit',\n",
       " 'production amount',\n",
       " 'code']"
      ]
     },
     "execution_count": 25,
     "metadata": {},
     "output_type": "execute_result"
    }
   ],
   "source": [
    "[k for k in bw.Database(\"ei35_apos\").random().keys()]"
   ]
  },
  {
   "cell_type": "code",
   "execution_count": 31,
   "id": "23232b24-f5a4-49d2-b26e-42e099b851b0",
   "metadata": {},
   "outputs": [
    {
     "data": {
      "text/plain": [
       "['market for ammonium sulfate, as N' (kilogram, GLO, None),\n",
       " 'market for ammonium nitrate, as N' (kilogram, GLO, None),\n",
       " 'urea production, as N' (kilogram, RoW, None),\n",
       " 'market for urea, as N' (kilogram, GLO, None),\n",
       " 'market for nitrogen fertiliser, as N' (kilogram, GLO, None),\n",
       " 'urea production, as N' (kilogram, RER, None)]"
      ]
     },
     "execution_count": 31,
     "metadata": {},
     "output_type": "execute_result"
    }
   ],
   "source": [
    "# [act for act in bw.Database(\"ei35_apos\") if \"fertiliser\" in act[\"name\"]]\n",
    "[act for act in bw.Database(\"ei35_apos\") if \"as N\" in act[\"name\"]]"
   ]
  },
  {
   "cell_type": "code",
   "execution_count": 75,
   "id": "7d72b820-2cc9-4d6b-b15f-4848c9cf0e1f",
   "metadata": {},
   "outputs": [
    {
     "data": {
      "text/plain": [
       "[('market for ammonium nitrate, as N' (kilogram, GLO, None),\n",
       "  'ammonium nitrate, as N'),\n",
       " ('ammonium nitrate phosphate production' (kilogram, RER, None),\n",
       "  'nitrogen fertiliser, as N'),\n",
       " ('ammonium nitrate phosphate production' (kilogram, RoW, None),\n",
       "  'nitrogen fertiliser, as N'),\n",
       " ('market for ammonium sulfate, as N' (kilogram, GLO, None),\n",
       "  'ammonium sulfate, as N'),\n",
       " ('market for urea, as N' (kilogram, GLO, None), 'urea, as N'),\n",
       " ('market for nitrogen fertiliser, as N' (kilogram, GLO, None),\n",
       "  'nitrogen fertiliser, as N')]"
      ]
     },
     "execution_count": 75,
     "metadata": {},
     "output_type": "execute_result"
    }
   ],
   "source": [
    "# What Ibrahim filtered for\n",
    "[\n",
    "    (act, act[\"reference product\"])\n",
    "    for act in bw.Database(\"ei35_cutoff\")\n",
    "    if \"as N\" in act[\"name\"] \n",
    "    and \"urea production\" not in act[\"name\"]\n",
    "    or (\"ammonium nitrate phosphate\" in act[\"name\"] and \"as N\" in act[\"reference product\"])\n",
    "]"
   ]
  },
  {
   "cell_type": "code",
   "execution_count": 76,
   "id": "c0de4658-fe30-4303-901e-ad0669623f95",
   "metadata": {},
   "outputs": [],
   "source": [
    "# [\n",
    "#     act[\"reference product\"]\n",
    "#     for act in bw.Database(\"ei35_cutoff\")\n",
    "#     if \"ammonium nitrate phosphate\" in act[\"name\"]\n",
    "# ]"
   ]
  },
  {
   "cell_type": "code",
   "execution_count": 48,
   "id": "730c449f-2180-4e33-88d9-9f10c3870f64",
   "metadata": {},
   "outputs": [
    {
     "data": {
      "text/plain": [
       "[('EcoSpold01Categories',\n",
       "  'agricultural means of production/mineral fertiliser'),\n",
       " ('ISIC rev.4 ecoinvent',\n",
       "  '2012:Manufacture of fertilizers and nitrogen compounds'),\n",
       " ('CPC', '3462: Mineral or chemical fertilizers, phosphatic')]"
      ]
     },
     "execution_count": 48,
     "metadata": {},
     "output_type": "execute_result"
    }
   ],
   "source": [
    "[act[\"classifications\"] for act in bw.Database(\"ei35_cutoff\") if \"ammonium nitrate phosphate\" in act[\"name\"]][0]"
   ]
  },
  {
   "cell_type": "code",
   "execution_count": 54,
   "id": "c8f2d045-d6f7-4d0c-bd3e-427c828a4473",
   "metadata": {},
   "outputs": [],
   "source": [
    "isic = []\n",
    "cpc = []\n",
    "ecospold = []\n",
    "for act in bw.Database(\"ei35_cutoff\"):\n",
    "    for classification in act[\"classifications\"]:\n",
    "        if \"isic\" in classification[0].lower():\n",
    "            isic.append(classification)\n",
    "        elif \"ecospold\" in classification[0].lower():\n",
    "            ecospold.append(classification)\n",
    "        elif \"cpc\" in classification[0].lower():\n",
    "            cpc.append(classification)\n",
    "isic = list(set(isic))\n",
    "cpc = list(set(cpc))\n",
    "ecospold = list(set(ecospold))"
   ]
  },
  {
   "cell_type": "code",
   "execution_count": 99,
   "id": "c28c9a8b-a920-48f3-8bc1-8acc7059ee4a",
   "metadata": {},
   "outputs": [],
   "source": [
    "# sorted([e[1] for e in ecospold])\n",
    "# sorted([e[1] for e in cpc])\n",
    "# sorted([e[1] for e in isic])"
   ]
  },
  {
   "cell_type": "code",
   "execution_count": 136,
   "id": "f156dcf8-82ad-4d89-beee-35b76037e1c3",
   "metadata": {},
   "outputs": [],
   "source": [
    "ACTIVITIES = []\n",
    "for act in bw.Database(\"ei35_cutoff\"):\n",
    "    for classification in act[\"classifications\"]:\n",
    "        if \"cpc\" in classification[0].lower() and classification[1].startswith(\"3461\"):\n",
    "            if \"market\" not in act[\"name\"]:\n",
    "                ACTIVITIES.append(act)"
   ]
  },
  {
   "cell_type": "code",
   "execution_count": 137,
   "id": "b7d4debc-dda4-4a33-a14a-ea73ec783267",
   "metadata": {},
   "outputs": [
    {
     "name": "stdout",
     "output_type": "stream",
     "text": [
      "44\n"
     ]
    },
    {
     "data": {
      "text/plain": [
       "['nutrient supply from manure, liquid, swine' (kilogram, GLO, None),\n",
       " 'ammonium sulfate production' (kilogram, RER, None),\n",
       " 'nutrient supply from potassium nitrate' (kilogram, GLO, None),\n",
       " 'citric acid production' (kilogram, RNA, None),\n",
       " 'treatment, sludge from pulp and paper production, landfarming' (kilogram, CA-QC, None),\n",
       " 'ammonium nitrate production' (kilogram, RER, None),\n",
       " 'ammonium nitrate phosphate production' (kilogram, RoW, None),\n",
       " 'smelting and refining of nickel ore' (kilogram, GLO, None),\n",
       " 'nutrient supply from manure, solid, cattle' (kilogram, GLO, None),\n",
       " 'nutrient supply from vinasse, from fermentation of sweet sorghum' (kilogram, GLO, None),\n",
       " 'diammonium phosphate production' (kilogram, RoW, None),\n",
       " 'nutrient supply from coconut husk' (kilogram, GLO, None),\n",
       " 'calcium nitrate production' (kilogram, RoW, None),\n",
       " 'monoammonium phosphate production' (kilogram, RoW, None),\n",
       " 'nutrient supply from vinasse, from fermentation of sugar beet' (kilogram, GLO, None),\n",
       " 'urea production, as N' (kilogram, RER, None),\n",
       " 'nutrient supply from poultry manure, dried' (kilogram, GLO, None),\n",
       " 'ammonium nitrate production' (kilogram, RoW, None),\n",
       " 'calcium ammonium nitrate production' (kilogram, RER, None),\n",
       " 'nutrient supply from compost' (kilogram, GLO, None),\n",
       " 'nutrient supply from ammonium chloride' (kilogram, GLO, None),\n",
       " 'heat production, straw, at furnace 300kW' (kilogram, GLO, None),\n",
       " 'heat production, straw, organic, at furnace 300kW' (kilogram, GLO, None),\n",
       " 'ammonium nitrate phosphate production' (kilogram, RER, None),\n",
       " 'nutrient supply from manure, liquid, cattle' (kilogram, GLO, None),\n",
       " 'nutrient supply from poultry manure, fresh' (kilogram, GLO, None),\n",
       " 'treatment, sludge from pulp and paper production, landfarming' (kilogram, RoW, None),\n",
       " 'urea ammonium nitrate production' (kilogram, RER, None),\n",
       " 'nutrient supply from calcium nitrate' (kilogram, GLO, None),\n",
       " 'calcium nitrate production' (kilogram, RER, None),\n",
       " 'nutrient supply from vinasse, from fermentation of sugar beet molasses' (kilogram, GLO, None),\n",
       " 'citric acid production' (kilogram, CN, None),\n",
       " 'nickel mine operation, sulfidic ore' (kilogram, GLO, None),\n",
       " 'nutrient supply from vinasse, from fermentation of sugarcane molasses' (kilogram, GLO, None),\n",
       " 'urea ammonium nitrate production' (kilogram, RoW, None),\n",
       " 'urea production, as N' (kilogram, RoW, None),\n",
       " 'nutrient supply from vinasse, from fermentation of sugarcane' (kilogram, GLO, None),\n",
       " 'diammonium phosphate production' (kilogram, RER, None),\n",
       " 'ammonium sulfate production' (kilogram, RoW, None),\n",
       " 'citric acid production' (kilogram, RER, None),\n",
       " 'calcium ammonium nitrate production' (kilogram, RoW, None),\n",
       " 'monoammonium phosphate production' (kilogram, RER, None),\n",
       " 'citric acid production' (kilogram, RoW, None),\n",
       " 'treatment, sludge from pulp and paper production, landfarming' (kilogram, Europe without Switzerland, None)]"
      ]
     },
     "execution_count": 137,
     "metadata": {},
     "output_type": "execute_result"
    }
   ],
   "source": [
    "print(len(ACTIVITIES))\n",
    "ACTIVITIES"
   ]
  },
  {
   "cell_type": "code",
   "execution_count": 140,
   "id": "e3aa84b2-0759-4ad1-a9fe-5f2eb074b221",
   "metadata": {},
   "outputs": [],
   "source": [
    "# [exc for exc in [a for a in ACTIVITIES if \"market\" in a[\"name\"]][0].exchanges()]"
   ]
  },
  {
   "cell_type": "code",
   "execution_count": 141,
   "id": "6b5edc4d-7a36-41c4-a21d-fb7c891af03b",
   "metadata": {},
   "outputs": [
    {
     "data": {
      "text/plain": [
       "[('heat, district or industrial, other than natural gas',\n",
       "  [('EcoSpold01Categories', 'wood energy/heating systems'),\n",
       "   ('ISIC rev.4 ecoinvent', '3530:Steam and air conditioning supply'),\n",
       "   ('CPC', '17300: Steam and hot water')]),\n",
       " ('phosphate fertiliser, as P2O5',\n",
       "  [('EcoSpold01Categories', 'wood energy/heating systems'),\n",
       "   ('ISIC rev.4 ecoinvent', '3530:Steam and air conditioning supply'),\n",
       "   ('CPC', '3462: Mineral or chemical fertilizers, phosphatic')]),\n",
       " ('nitrogen fertiliser, as N',\n",
       "  [('EcoSpold01Categories', 'wood energy/heating systems'),\n",
       "   ('ISIC rev.4 ecoinvent', '3530:Steam and air conditioning supply'),\n",
       "   ('CPC', '3461: Mineral or chemical fertilizers, nitrogenous')])]"
      ]
     },
     "execution_count": 141,
     "metadata": {},
     "output_type": "execute_result"
    }
   ],
   "source": [
    "[\n",
    "    (act[\"reference product\"], act[\"classifications\"])\n",
    "    for act in bw.Database(\"ei35_cutoff\")\n",
    "    # if \"nickel mine operation, sulfidic ore\" in act[\"name\"] and \"GLO\" in act[\"location\"]\n",
    "    # if 'smelting and refining of nickel ore' in act[\"name\"] and \"GLO\" in act[\"location\"]\n",
    "    # if \"market for ammonium nitrate, as N\" in act[\"name\"] and \"GLO\" in act[\"location\"]\n",
    "    if \"heat production, straw, at furnace 300kW\" in act[\"name\"] and \"GLO\" in act[\"location\"]\n",
    "]"
   ]
  },
  {
   "cell_type": "code",
   "execution_count": null,
   "id": "7e9002db-03a0-489a-99d1-4307c6a2656d",
   "metadata": {},
   "outputs": [],
   "source": [
    "[\n",
    "    t\n",
    "    for t in [\n",
    "        act\n",
    "        for act in bw.Database(\"ei35_cutoff\")\n",
    "        if \"heat production, straw, at furnace 300kW\" in act[\"name\"]\n",
    "        and \"GLO\" in act[\"location\"]\n",
    "    ][0].technosphere()\n",
    "]"
   ]
  },
  {
   "cell_type": "code",
   "execution_count": 142,
   "id": "76657b65-cba9-48f2-911f-0631fd387ecc",
   "metadata": {},
   "outputs": [
    {
     "data": {
      "text/plain": [
       "[('ammonium nitrate, as N', 'ammonium nitrate production'),\n",
       " ('ammonium nitrate, as N', 'ammonium nitrate production'),\n",
       " ('ammonium nitrate, as N', 'calcium nitrate production'),\n",
       " ('ammonium nitrate, as N', 'calcium nitrate production'),\n",
       " ('ammonium nitrate, as N', 'citric acid production'),\n",
       " ('ammonium nitrate, as N', 'citric acid production'),\n",
       " ('ammonium nitrate, as N', 'citric acid production'),\n",
       " ('ammonium nitrate, as N', 'citric acid production'),\n",
       " ('ammonium sulfate, as N', 'ammonium sulfate production'),\n",
       " ('ammonium sulfate, as N', 'ammonium sulfate production'),\n",
       " ('ammonium sulfate, as N', 'nickel mine operation, sulfidic ore'),\n",
       " ('ammonium sulfate, as N', 'smelting and refining of nickel ore'),\n",
       " ('nitrogen fertiliser, as N', 'ammonium nitrate phosphate production'),\n",
       " ('nitrogen fertiliser, as N', 'ammonium nitrate phosphate production'),\n",
       " ('nitrogen fertiliser, as N', 'calcium ammonium nitrate production'),\n",
       " ('nitrogen fertiliser, as N', 'calcium ammonium nitrate production'),\n",
       " ('nitrogen fertiliser, as N', 'diammonium phosphate production'),\n",
       " ('nitrogen fertiliser, as N', 'diammonium phosphate production'),\n",
       " ('nitrogen fertiliser, as N', 'heat production, straw, at furnace 300kW'),\n",
       " ('nitrogen fertiliser, as N',\n",
       "  'heat production, straw, organic, at furnace 300kW'),\n",
       " ('nitrogen fertiliser, as N', 'monoammonium phosphate production'),\n",
       " ('nitrogen fertiliser, as N', 'monoammonium phosphate production'),\n",
       " ('nitrogen fertiliser, as N', 'nutrient supply from ammonium chloride'),\n",
       " ('nitrogen fertiliser, as N', 'nutrient supply from calcium nitrate'),\n",
       " ('nitrogen fertiliser, as N', 'nutrient supply from coconut husk'),\n",
       " ('nitrogen fertiliser, as N', 'nutrient supply from compost'),\n",
       " ('nitrogen fertiliser, as N', 'nutrient supply from manure, liquid, cattle'),\n",
       " ('nitrogen fertiliser, as N', 'nutrient supply from manure, liquid, swine'),\n",
       " ('nitrogen fertiliser, as N', 'nutrient supply from manure, solid, cattle'),\n",
       " ('nitrogen fertiliser, as N', 'nutrient supply from potassium nitrate'),\n",
       " ('nitrogen fertiliser, as N', 'nutrient supply from poultry manure, dried'),\n",
       " ('nitrogen fertiliser, as N', 'nutrient supply from poultry manure, fresh'),\n",
       " ('nitrogen fertiliser, as N',\n",
       "  'nutrient supply from vinasse, from fermentation of sugar beet'),\n",
       " ('nitrogen fertiliser, as N',\n",
       "  'nutrient supply from vinasse, from fermentation of sugar beet molasses'),\n",
       " ('nitrogen fertiliser, as N',\n",
       "  'nutrient supply from vinasse, from fermentation of sugarcane'),\n",
       " ('nitrogen fertiliser, as N',\n",
       "  'nutrient supply from vinasse, from fermentation of sugarcane molasses'),\n",
       " ('nitrogen fertiliser, as N',\n",
       "  'nutrient supply from vinasse, from fermentation of sweet sorghum'),\n",
       " ('nitrogen fertiliser, as N',\n",
       "  'treatment, sludge from pulp and paper production, landfarming'),\n",
       " ('nitrogen fertiliser, as N',\n",
       "  'treatment, sludge from pulp and paper production, landfarming'),\n",
       " ('nitrogen fertiliser, as N',\n",
       "  'treatment, sludge from pulp and paper production, landfarming'),\n",
       " ('nitrogen fertiliser, as N', 'urea ammonium nitrate production'),\n",
       " ('nitrogen fertiliser, as N', 'urea ammonium nitrate production'),\n",
       " ('urea, as N', 'urea production, as N'),\n",
       " ('urea, as N', 'urea production, as N')]"
      ]
     },
     "execution_count": 142,
     "metadata": {},
     "output_type": "execute_result"
    }
   ],
   "source": [
    "sorted([(a[\"reference product\"], a[\"name\"]) for a in ACTIVITIES])"
   ]
  },
  {
   "cell_type": "code",
   "execution_count": 404,
   "id": "456d61e0-5831-4d73-9ffd-acdffe9ad29c",
   "metadata": {},
   "outputs": [
    {
     "data": {
      "text/plain": [
       "Databases dictionary with 3 object(s):\n",
       "\tbiosphere3\n",
       "\tei35_apos\n",
       "\tei35_cutoff"
      ]
     },
     "execution_count": 404,
     "metadata": {},
     "output_type": "execute_result"
    }
   ],
   "source": [
    "# del bw.databases[\"A_technosphere_flows\"]\n",
    "bw.databases"
   ]
  },
  {
   "cell_type": "code",
   "execution_count": 405,
   "id": "5cb2c81c-583d-4cae-82de-9840d089b321",
   "metadata": {},
   "outputs": [],
   "source": [
    "# temporal\n",
    "\n",
    "# del bw.databases[\"ei35_cutoff\"]\n",
    "\n",
    "# PATH_TO_EI_DATASETS = r\"C:\\Users\\ViteksPC\\Documents\\00-ETH_projects\\18-BW2Hub\\01.Data\\Ecoinvent\\v3.5\\ecoinvent 3.5_cutoff_ecoSpold02\\datasets\"\n",
    "# ei = bw.SingleOutputEcospold2Importer(PATH_TO_EI_DATASETS, \"ei35_cutoff\")\n",
    "# ei\n",
    "# ei.apply_strategies()\n",
    "# ei.statistics()\n",
    "# ei.write_database()\n",
    "# del ei"
   ]
  },
  {
   "cell_type": "code",
   "execution_count": 406,
   "id": "dbbe1405-2572-4d5b-aebd-0ef185b773dc",
   "metadata": {},
   "outputs": [
    {
     "name": "stderr",
     "output_type": "stream",
     "text": [
      "Writing activities to SQLite3 database:\n",
      "0% [#] 100% | ETA: 00:00:00\n",
      "Total time elapsed: 00:00:00\n"
     ]
    },
    {
     "name": "stdout",
     "output_type": "stream",
     "text": [
      "Title: Writing activities to SQLite3 database:\n",
      "  Started: 05/15/2022 20:52:08\n",
      "  Finished: 05/15/2022 20:52:08\n",
      "  Total time elapsed: 00:00:00\n",
      "  CPU %: 0.00\n",
      "  Memory %: 7.43\n"
     ]
    }
   ],
   "source": [
    "# write new database\n",
    "bw.Database(\"A_technosphere_flows\").write(\n",
    "    {\n",
    "        (\"A_technosphere_flows\", \"n-fert\"): {  # (db name, code)\n",
    "            \"name\": \"nitrogen fertilizer\",\n",
    "            \"unit\": \"kilogram\",\n",
    "            \"type\": \"inventory flow\",\n",
    "            \"categories\": (\"inventory\",),\n",
    "        }\n",
    "    }\n",
    ")"
   ]
  },
  {
   "cell_type": "code",
   "execution_count": 407,
   "id": "3bc13432-5e6f-491f-9362-48de4990c964",
   "metadata": {},
   "outputs": [
    {
     "data": {
      "text/plain": [
       "{'name': 'nitrogen fertilizer',\n",
       " 'unit': 'kilogram',\n",
       " 'type': 'inventory flow',\n",
       " 'categories': ('inventory',),\n",
       " 'database': 'A_technosphere_flows',\n",
       " 'code': 'n-fert'}"
      ]
     },
     "execution_count": 407,
     "metadata": {},
     "output_type": "execute_result"
    }
   ],
   "source": [
    "[a for a in bw.Database(\"A_technosphere_flows\")][0].as_dict()"
   ]
  },
  {
   "cell_type": "code",
   "execution_count": 408,
   "id": "6bf333de-7a47-4095-b653-e65d6df86df9",
   "metadata": {},
   "outputs": [
    {
     "data": {
      "text/plain": [
       "Databases dictionary with 4 object(s):\n",
       "\tA_technosphere_flows\n",
       "\tbiosphere3\n",
       "\tei35_apos\n",
       "\tei35_cutoff"
      ]
     },
     "execution_count": 408,
     "metadata": {},
     "output_type": "execute_result"
    }
   ],
   "source": [
    "bw.databases"
   ]
  },
  {
   "cell_type": "code",
   "execution_count": 437,
   "id": "c005ef13-1163-430d-a69e-c4ca66170d0b",
   "metadata": {},
   "outputs": [
    {
     "name": "stdout",
     "output_type": "stream",
     "text": [
      "Updating activities that produce nitrogen fertilizer:\n",
      "__ 1 new exchange has been added to 'nutrient supply from manure, liquid, swine' (kilogram, GLO, None).\n",
      "__ 1 new exchange has been added to 'ammonium sulfate production' (kilogram, RER, None).\n",
      "xx 'nutrient supply from potassium nitrate' (kilogram, GLO, None) already contains the necessary exchanges.\n",
      "xx 'citric acid production' (kilogram, RNA, None) already contains the necessary exchanges.\n",
      "xx 'treatment, sludge from pulp and paper production, landfarming' (kilogram, CA-QC, None) already contains the necessary exchanges.\n",
      "xx 'ammonium nitrate production' (kilogram, RER, None) already contains the necessary exchanges.\n",
      "xx 'ammonium nitrate phosphate production' (kilogram, RoW, None) already contains the necessary exchanges.\n",
      "xx 'smelting and refining of nickel ore' (kilogram, GLO, None) already contains the necessary exchanges.\n",
      "xx 'nutrient supply from manure, solid, cattle' (kilogram, GLO, None) already contains the necessary exchanges.\n",
      "xx 'nutrient supply from vinasse, from fermentation of sweet sorghum' (kilogram, GLO, None) already contains the necessary exchanges.\n",
      "xx 'diammonium phosphate production' (kilogram, RoW, None) already contains the necessary exchanges.\n",
      "xx 'nutrient supply from coconut husk' (kilogram, GLO, None) already contains the necessary exchanges.\n",
      "xx 'calcium nitrate production' (kilogram, RoW, None) already contains the necessary exchanges.\n",
      "xx 'monoammonium phosphate production' (kilogram, RoW, None) already contains the necessary exchanges.\n",
      "xx 'nutrient supply from vinasse, from fermentation of sugar beet' (kilogram, GLO, None) already contains the necessary exchanges.\n",
      "xx 'urea production, as N' (kilogram, RER, None) already contains the necessary exchanges.\n",
      "xx 'nutrient supply from poultry manure, dried' (kilogram, GLO, None) already contains the necessary exchanges.\n",
      "xx 'ammonium nitrate production' (kilogram, RoW, None) already contains the necessary exchanges.\n",
      "xx 'calcium ammonium nitrate production' (kilogram, RER, None) already contains the necessary exchanges.\n",
      "xx 'nutrient supply from compost' (kilogram, GLO, None) already contains the necessary exchanges.\n",
      "xx 'nutrient supply from ammonium chloride' (kilogram, GLO, None) already contains the necessary exchanges.\n",
      "xx 'heat production, straw, at furnace 300kW' (kilogram, GLO, None) already contains the necessary exchanges.\n",
      "xx 'heat production, straw, organic, at furnace 300kW' (kilogram, GLO, None) already contains the necessary exchanges.\n",
      "xx 'ammonium nitrate phosphate production' (kilogram, RER, None) already contains the necessary exchanges.\n",
      "xx 'nutrient supply from manure, liquid, cattle' (kilogram, GLO, None) already contains the necessary exchanges.\n",
      "xx 'nutrient supply from poultry manure, fresh' (kilogram, GLO, None) already contains the necessary exchanges.\n",
      "xx 'treatment, sludge from pulp and paper production, landfarming' (kilogram, RoW, None) already contains the necessary exchanges.\n",
      "xx 'urea ammonium nitrate production' (kilogram, RER, None) already contains the necessary exchanges.\n",
      "xx 'nutrient supply from calcium nitrate' (kilogram, GLO, None) already contains the necessary exchanges.\n",
      "xx 'calcium nitrate production' (kilogram, RER, None) already contains the necessary exchanges.\n",
      "xx 'nutrient supply from vinasse, from fermentation of sugar beet molasses' (kilogram, GLO, None) already contains the necessary exchanges.\n",
      "xx 'citric acid production' (kilogram, CN, None) already contains the necessary exchanges.\n",
      "xx 'nickel mine operation, sulfidic ore' (kilogram, GLO, None) already contains the necessary exchanges.\n",
      "xx 'nutrient supply from vinasse, from fermentation of sugarcane molasses' (kilogram, GLO, None) already contains the necessary exchanges.\n",
      "xx 'urea ammonium nitrate production' (kilogram, RoW, None) already contains the necessary exchanges.\n",
      "xx 'urea production, as N' (kilogram, RoW, None) already contains the necessary exchanges.\n",
      "xx 'nutrient supply from vinasse, from fermentation of sugarcane' (kilogram, GLO, None) already contains the necessary exchanges.\n",
      "xx 'diammonium phosphate production' (kilogram, RER, None) already contains the necessary exchanges.\n",
      "xx 'ammonium sulfate production' (kilogram, RoW, None) already contains the necessary exchanges.\n",
      "xx 'citric acid production' (kilogram, RER, None) already contains the necessary exchanges.\n",
      "xx 'calcium ammonium nitrate production' (kilogram, RoW, None) already contains the necessary exchanges.\n",
      "xx 'monoammonium phosphate production' (kilogram, RER, None) already contains the necessary exchanges.\n",
      "xx 'citric acid production' (kilogram, RoW, None) already contains the necessary exchanges.\n",
      "xx 'treatment, sludge from pulp and paper production, landfarming' (kilogram, Europe without Switzerland, None) already contains the necessary exchanges.\n"
     ]
    }
   ],
   "source": [
    "# create exchanges for \"nitrogen fertilizer\" if they don't exist already\n",
    "def is_exchange(exc):\n",
    "    return (\n",
    "        \"nitrogen fertilizer\" == bw.get_activity(exc[\"input\"])[\"name\"]\n",
    "        and (\"inventory\",) == bw.get_activity(exc[\"input\"])[\"categories\"]\n",
    "    )\n",
    "\n",
    "\n",
    "print(\"Updating activities that produce nitrogen fertilizer:\")\n",
    "for act in ACTIVITIES:\n",
    "    if not list(filter(is_exchange, [exc for exc in act.biosphere()])):\n",
    "        act.new_exchange(\n",
    "            **{\n",
    "                \"name\": \"nitrogen fertilizer\",\n",
    "                \"input\": (\"A_technosphere_flows\", \"n-fert\"),\n",
    "                \"type\": \"biosphere\",\n",
    "                \"amount\": 1,\n",
    "                \"unit\": \"kilogram\",\n",
    "            }\n",
    "        ).save()\n",
    "        print(f\"__ 1 new exchange has been added to {act}.\")\n",
    "    else:\n",
    "        print(f\"xx {act} already contains the necessary exchanges.\")"
   ]
  },
  {
   "cell_type": "code",
   "execution_count": 439,
   "id": "c633c99f-1fab-4c0a-aa4f-56dc6086aea4",
   "metadata": {},
   "outputs": [
    {
     "data": {
      "text/plain": [
       "[Exchange: 1 kilogram 'nitrogen fertilizer' (kilogram, None, ('inventory',)) to 'nutrient supply from manure, liquid, swine' (kilogram, GLO, None)>]"
      ]
     },
     "execution_count": 439,
     "metadata": {},
     "output_type": "execute_result"
    }
   ],
   "source": [
    "a = ACTIVITIES[0]\n",
    "[exc for exc in a.biosphere()]#[0].delete()"
   ]
  },
  {
   "cell_type": "code",
   "execution_count": 442,
   "id": "4859c7f7-02a1-4dbe-9bbb-ce4fea8b181f",
   "metadata": {},
   "outputs": [],
   "source": [
    "# for exc in a.exchanges():\n",
    "#     if exc[\"input\"] == (\"A_technosphere_flows\", \"n-fert\"):\n",
    "#         print(bw.get_activity(exc[\"input\"]))"
   ]
  },
  {
   "cell_type": "code",
   "execution_count": 444,
   "id": "f8568037-4f23-4eed-b516-239b83eca556",
   "metadata": {},
   "outputs": [],
   "source": [
    "# a.as_dict()"
   ]
  },
  {
   "cell_type": "code",
   "execution_count": null,
   "id": "9fb3447b-b5c1-459e-8eff-8768b1e7927a",
   "metadata": {},
   "outputs": [],
   "source": []
  },
  {
   "cell_type": "code",
   "execution_count": 517,
   "id": "37379083-0ef7-4aa6-88f4-22a28fe7965c",
   "metadata": {},
   "outputs": [],
   "source": [
    "m = bw.Method((\"Nflows\", \"N fertilizer\"))\n",
    "m.register(unit=\"Tg N\")\n",
    "m.write([((\"A_technosphere_flows\", \"n-fert\"), 1e-9)])"
   ]
  },
  {
   "cell_type": "code",
   "execution_count": 518,
   "id": "495181a6-7ea0-452b-8d40-3630ce781753",
   "metadata": {},
   "outputs": [
    {
     "data": {
      "text/plain": [
       "[('Nflows', 'N fertilizer')]"
      ]
     },
     "execution_count": 518,
     "metadata": {},
     "output_type": "execute_result"
    }
   ],
   "source": [
    "[m for m in bw.methods if \"Nflows\" in m]"
   ]
  },
  {
   "cell_type": "code",
   "execution_count": 520,
   "id": "318fda1e-4086-4842-9496-922493f5197f",
   "metadata": {},
   "outputs": [
    {
     "data": {
      "text/plain": [
       "{'unit': 'Tg N',\n",
       " 'abbreviation': 'nflowsn.c6f1c37e1905f51f453ecc3274358fea',\n",
       " 'num_cfs': 1}"
      ]
     },
     "execution_count": 520,
     "metadata": {},
     "output_type": "execute_result"
    }
   ],
   "source": [
    "bw.Method(('Nflows', 'N fertilizer')).metadata"
   ]
  },
  {
   "cell_type": "code",
   "execution_count": 521,
   "id": "8e94f1b1-2b6c-494e-9b9b-56117a65d91b",
   "metadata": {},
   "outputs": [
    {
     "data": {
      "text/plain": [
       "('AESA (PBs-LCIA)', '0.8.6', 'biogeochemical flows', 'nitrogen')"
      ]
     },
     "execution_count": 521,
     "metadata": {},
     "output_type": "execute_result"
    }
   ],
   "source": [
    "[m for m in bw.methods if \"AESA\" in str(m) and \"nitrogen\" in str(m)][0]"
   ]
  },
  {
   "cell_type": "code",
   "execution_count": 522,
   "id": "a90d5dba-2e15-45f1-ac2a-13d7ee95fddc",
   "metadata": {},
   "outputs": [
    {
     "data": {
      "text/plain": [
       "{'description': '{\"overview\": \"industrial and intentional biological fixation of N\", \"authors\": \"Ryberg, M. W.; Owsianiak, M.; Richardson, K.; Hauschild, M. Z.\", \"doi\": \"https://doi.org/10.1016/j.ecolind.2017.12.065\", \"current_version\": \"v0.8.6\", \"changelog\": \"Find changelog here: https://github.com/vtulus/AESAmethods/blob/master/CHANGELOG.md\", \"implemented_by\": \"Tulus, V.\"}',\n",
       " 'filename': 'aesa_BiogeochemicalFlows_N.xlsx',\n",
       " 'unit': 'Tg N',\n",
       " 'abbreviation': 'aesa-pbs-lcia086bn.ddc0d04c8b8df5fa26932f08462a9d8c',\n",
       " 'num_cfs': 2}"
      ]
     },
     "execution_count": 522,
     "metadata": {},
     "output_type": "execute_result"
    }
   ],
   "source": [
    "bw.Method(('AESA (PBs-LCIA)', '0.8.6', 'biogeochemical flows', 'nitrogen')).metadata"
   ]
  },
  {
   "cell_type": "code",
   "execution_count": 475,
   "id": "7e1e9337-ff34-481f-9de1-8ea1fe7a235e",
   "metadata": {},
   "outputs": [
    {
     "data": {
      "text/plain": [
       "'market for nitrogen fertiliser, as N' (kilogram, GLO, None)"
      ]
     },
     "execution_count": 475,
     "metadata": {},
     "output_type": "execute_result"
    }
   ],
   "source": [
    "b = [act for act in bw.Database(\"ei35_cutoff\") if \"market for nitrogen fertiliser, as N\" in act[\"name\"]][0]\n",
    "b"
   ]
  },
  {
   "cell_type": "code",
   "execution_count": 476,
   "id": "73d0caf4-ca35-4e7e-9785-691bae1f004c",
   "metadata": {},
   "outputs": [
    {
     "data": {
      "text/plain": [
       "'market for methanol' (kilogram, GLO, None)"
      ]
     },
     "execution_count": 476,
     "metadata": {},
     "output_type": "execute_result"
    }
   ],
   "source": [
    "methanol = [act for act in bw.Database(\"ei35_cutoff\") if \"market for methanol\" == act[\"name\"]][0]\n",
    "methanol"
   ]
  },
  {
   "cell_type": "code",
   "execution_count": 499,
   "id": "54ee9c21-792c-45f2-b6f9-c2a2ec61d306",
   "metadata": {},
   "outputs": [
    {
     "data": {
      "text/plain": [
       "'market group for electricity, medium voltage' (kilowatt hour, GLO, None)"
      ]
     },
     "execution_count": 499,
     "metadata": {},
     "output_type": "execute_result"
    }
   ],
   "source": [
    "elec = [act for act in bw.Database(\"ei35_cutoff\") if \"market group for electricity, medium\" in act[\"name\"] and \"GLO\" in act[\"location\"]][0]\n",
    "elec"
   ]
  },
  {
   "cell_type": "code",
   "execution_count": 509,
   "id": "60f57042-cb4a-47c3-8228-c101670a71ef",
   "metadata": {},
   "outputs": [
    {
     "data": {
      "text/plain": [
       "1.0011173644473008e-09"
      ]
     },
     "execution_count": 509,
     "metadata": {},
     "output_type": "execute_result"
    }
   ],
   "source": [
    "lca = bw.LCA(\n",
    "     {b: 1}, ('Nflows', 'N fertilizer')\n",
    "    # {elec: 1}, ('Nflows', 'N fertilizer')\n",
    "    # {methanol: 1}, ('Nflows', 'N fertilizer')\n",
    ")\n",
    "lca.lci()\n",
    "lca.lcia()\n",
    "lca.score"
   ]
  },
  {
   "cell_type": "code",
   "execution_count": 510,
   "id": "3b7d6d04-a0d8-4793-9d00-037d789fa637",
   "metadata": {},
   "outputs": [
    {
     "data": {
      "text/plain": [
       "1.0729868277628887e-11"
      ]
     },
     "execution_count": 510,
     "metadata": {},
     "output_type": "execute_result"
    }
   ],
   "source": [
    "lca1 = bw.LCA(\n",
    "    {b: 1}, (\"AESA (PBs-LCIA)\", \"0.8.6\", \"biogeochemical flows\", \"nitrogen\")\n",
    "    # {elec: 1}, (\"AESA (PBs-LCIA)\", \"0.8.6\", \"biogeochemical flows\", \"nitrogen\")\n",
    "    # {methanol: 1}, (\"AESA (PBs-LCIA)\", \"0.8.6\", \"biogeochemical flows\", \"nitrogen\")\n",
    ")\n",
    "lca1.lci()\n",
    "lca1.lcia()\n",
    "lca1.score"
   ]
  },
  {
   "cell_type": "code",
   "execution_count": 511,
   "id": "de7fd9d2-c3ef-4979-bc27-b1a1a3fc8eb3",
   "metadata": {},
   "outputs": [
    {
     "data": {
      "text/plain": [
       "-92.30192492060398"
      ]
     },
     "execution_count": 511,
     "metadata": {},
     "output_type": "execute_result"
    }
   ],
   "source": [
    "(lca1.score-lca.score)/lca1.score"
   ]
  },
  {
   "cell_type": "code",
   "execution_count": 224,
   "id": "afe66cff-aa56-4bda-ae38-355995ec6d7d",
   "metadata": {},
   "outputs": [
    {
     "data": {
      "text/plain": [
       "{'unit': 'kilogram',\n",
       " 'abbreviation': 'nflowsn.c6f1c37e1905f51f453ecc3274358fea',\n",
       " 'num_cfs': 1}"
      ]
     },
     "execution_count": 224,
     "metadata": {},
     "output_type": "execute_result"
    }
   ],
   "source": [
    "bw.Method(lca.method).metadata"
   ]
  },
  {
   "cell_type": "code",
   "execution_count": 217,
   "id": "8dd84731-0bc0-4303-a525-6841d5be65e4",
   "metadata": {},
   "outputs": [
    {
     "data": {
      "text/plain": [
       "('Nflows', 'N fertilizer')"
      ]
     },
     "execution_count": 217,
     "metadata": {},
     "output_type": "execute_result"
    }
   ],
   "source": [
    "bw.Method(('Nflows', 'N fertilizer')).name"
   ]
  },
  {
   "cell_type": "code",
   "execution_count": 184,
   "id": "15bc9883-0e28-464a-9a80-ba89b7ea7edd",
   "metadata": {},
   "outputs": [
    {
     "data": {
      "text/plain": [
       "{'categories': ('water', 'surface water'),\n",
       " 'code': '88eaa159-4194-49eb-9905-9b937e644fb8',\n",
       " 'CAS number': '016872-11-0',\n",
       " 'name': 'Fluoboric acid',\n",
       " 'database': 'biosphere3',\n",
       " 'unit': 'kilogram',\n",
       " 'type': 'emission'}"
      ]
     },
     "execution_count": 184,
     "metadata": {},
     "output_type": "execute_result"
    }
   ],
   "source": [
    "[flow for flow in bw.Database(\"biosphere3\")][0].as_dict()"
   ]
  },
  {
   "cell_type": "code",
   "execution_count": 508,
   "id": "d3521257-8fc4-477f-8fb3-03898a5caa3e",
   "metadata": {},
   "outputs": [],
   "source": [
    "#TODO: don't forget to delete Nflows method after trials..."
   ]
  },
  {
   "cell_type": "code",
   "execution_count": null,
   "id": "209395f4-6ad2-423b-988e-bfa411fce510",
   "metadata": {},
   "outputs": [],
   "source": []
  }
 ],
 "metadata": {
  "kernelspec": {
   "display_name": "Python (bw2)",
   "language": "python",
   "name": "bw2"
  },
  "language_info": {
   "codemirror_mode": {
    "name": "ipython",
    "version": 3
   },
   "file_extension": ".py",
   "mimetype": "text/x-python",
   "name": "python",
   "nbconvert_exporter": "python",
   "pygments_lexer": "ipython3",
   "version": "3.9.7"
  }
 },
 "nbformat": 4,
 "nbformat_minor": 5
}
