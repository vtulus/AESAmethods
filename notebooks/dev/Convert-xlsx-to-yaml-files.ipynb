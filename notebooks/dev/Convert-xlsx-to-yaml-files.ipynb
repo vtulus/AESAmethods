{
 "cells": [
  {
   "cell_type": "code",
   "execution_count": 1,
   "id": "05f01807-b715-4572-ae30-1110b0682a66",
   "metadata": {},
   "outputs": [],
   "source": [
    "import aesa_pbs\n",
    "from project_path import ROOT_DIR"
   ]
  },
  {
   "cell_type": "code",
   "execution_count": 2,
   "id": "892caf12-c0ec-4e5d-b4cd-40b9d7a5179d",
   "metadata": {},
   "outputs": [],
   "source": [
    "import brightway2 as bw\n",
    "import os"
   ]
  },
  {
   "cell_type": "code",
   "execution_count": 3,
   "id": "e3148c3e-a12c-4871-a376-644ebb52a356",
   "metadata": {},
   "outputs": [
    {
     "data": {
      "text/plain": [
       "'0.9.0.dev+premise.aesa'"
      ]
     },
     "execution_count": 3,
     "metadata": {},
     "output_type": "execute_result"
    }
   ],
   "source": [
    "aesa_pbs.__version__"
   ]
  },
  {
   "cell_type": "markdown",
   "id": "c19b00f9-0c52-4f9a-ac28-ecb9efe7900c",
   "metadata": {
    "tags": []
   },
   "source": [
    "## Create yaml-s from xlsx-s"
   ]
  },
  {
   "cell_type": "code",
   "execution_count": 4,
   "id": "02ec6858-898a-41e8-89b7-0c582de3db9b",
   "metadata": {},
   "outputs": [],
   "source": [
    "import glob\n",
    "import os\n",
    "import pprint"
   ]
  },
  {
   "cell_type": "code",
   "execution_count": 5,
   "id": "f46cb9ba-5fcd-4d38-9c27-d67adb76e355",
   "metadata": {},
   "outputs": [],
   "source": [
    "EXCELS_PATH = Path(ROOT_DIR + r\"/src/aesa_pbs/data_excels\")\n",
    "DATA_PATH = Path(ROOT_DIR + r\"/src/aesa_pbs/data\")"
   ]
  },
  {
   "cell_type": "code",
   "execution_count": 6,
   "id": "2c2f73c9-2c3b-43ae-adf1-c67ef3c22a76",
   "metadata": {},
   "outputs": [
    {
     "name": "stdout",
     "output_type": "stream",
     "text": [
      "['aesa_BiogeochemicalFlows_N_directlyFixated.xlsx',\n",
      " 'aesa_BiogeochemicalFlows_N_inverseModelling_surfaceWater.xlsx',\n",
      " 'aesa_BiogeochemicalFlows_P.xlsx',\n",
      " 'aesa_ChangeBiosphereIntegrity_FunctionalDiversity_Hierarchist.xlsx',\n",
      " 'aesa_ChangeBiosphereIntegrity_FunctionalDiversity_Hierarchist_CO2eq_emissions.xlsx',\n",
      " 'aesa_ChangeBiosphereIntegrity_FunctionalDiversity_Hierarchist_land_use.xlsx',\n",
      " 'aesa_ClimateChange_AtmosphericCO2Concentration.xlsx',\n",
      " 'aesa_ClimateChange_EnergyImbalance.xlsx',\n",
      " 'aesa_FreshwaterUse_Global.xlsx',\n",
      " 'aesa_LandSystemChange_Global.xlsx',\n",
      " 'aesa_OceanAcidification_CarbontateIonConcentration.xlsx',\n",
      " 'aesa_OzoneDepletion_StratosphericO3Concentration.xlsx',\n",
      " 'premise_correction_CO2_flows.xlsx']\n"
     ]
    }
   ],
   "source": [
    "current_dir = Path(ROOT_DIR + r\"/notebooks/test\").resolve(strict=True)  # abspath to current directory\n",
    "path_explored_dir = Path(EXCELS_PATH)\n",
    "\n",
    "os.chdir(path_explored_dir)  # move cd to path_explored_dir\n",
    "files_list = glob.glob(\"*.{}\".format(\"xlsx\"))\n",
    "# print(\"List of created scenarios:\")\n",
    "pprint.pprint(files_list)\n",
    "os.chdir(current_dir)  # return to current directory"
   ]
  },
  {
   "cell_type": "code",
   "execution_count": 7,
   "id": "634a9ca1-2c74-4d20-b2e2-946c02bd5a51",
   "metadata": {},
   "outputs": [
    {
     "name": "stderr",
     "output_type": "stream",
     "text": [
      "WARNING: Duplicated flows found in aesa_ChangeBiosphereIntegrity_FunctionalDiversity_Hierarchist.xlsx (see below):\n",
      "+----------------------------+----------------------------------------+-----------------------+\n",
      "| name                       | categories                             | amount                |\n",
      "+----------------------------+----------------------------------------+-----------------------+\n",
      "| Carbon dioxide, non-fossil | air::non-urban air or from high stacks | 2.076923076923077e-13 |\n",
      "+----------------------------+----------------------------------------+-----------------------+\n",
      "Note: All duplicates will be removed.\n",
      "\n",
      "WARNING: Duplicated flows found in aesa_ChangeBiosphereIntegrity_FunctionalDiversity_Hierarchist_CO2eq_emissions.xlsx (see below):\n",
      "+----------------------------+----------------------------------------+-----------------------+\n",
      "| name                       | categories                             | amount                |\n",
      "+----------------------------+----------------------------------------+-----------------------+\n",
      "| Carbon dioxide, non-fossil | air::non-urban air or from high stacks | 2.076923076923077e-13 |\n",
      "+----------------------------+----------------------------------------+-----------------------+\n",
      "Note: All duplicates will be removed.\n",
      "\n",
      "c:\\users\\vtulus\\documents\\00-eth_projects\\aesamethods\\src\\aesa_pbs\\data_converter.py:170: SettingWithCopyWarning: \n",
      "A value is trying to be set on a copy of a slice from a DataFrame.\n",
      "Try using .loc[row_indexer,col_indexer] = value instead\n",
      "\n",
      "See the caveats in the documentation: https://pandas.pydata.org/pandas-docs/stable/user_guide/indexing.html#returning-a-view-versus-a-copy\n",
      "  data[\"amount\"] = pd.to_numeric(data[\"amount\"], errors=\"coerce\")\n",
      "WARNING: Duplicated flows found in premise_correction_CO2_flows.xlsx (see below):\n",
      "+----------------------------+----------------------------------------+--------+\n",
      "| name                       | categories                             | amount |\n",
      "+----------------------------+----------------------------------------+--------+\n",
      "| Carbon dioxide, non-fossil | air::non-urban air or from high stacks | 1      |\n",
      "+----------------------------+----------------------------------------+--------+\n",
      "Note: All duplicates will be removed.\n",
      "\n"
     ]
    }
   ],
   "source": [
    "for file in files_list:\n",
    "    convert = aesa_pbs.DataConverter(Path(str(EXCELS_PATH) + f\"/{file}\"))\n",
    "    convert.to_yaml(outfilepath=Path(str(DATA_PATH) + f\"/{file}\").with_suffix(\".yaml\"), verbose=False)"
   ]
  },
  {
   "cell_type": "code",
   "execution_count": null,
   "id": "5acf45ee-11dc-4145-be7d-03f2aad9b3e5",
   "metadata": {},
   "outputs": [],
   "source": []
  }
 ],
 "metadata": {
  "kernelspec": {
   "display_name": "Python (bw2)",
   "language": "python",
   "name": "bw2"
  },
  "language_info": {
   "codemirror_mode": {
    "name": "ipython",
    "version": 3
   },
   "file_extension": ".py",
   "mimetype": "text/x-python",
   "name": "python",
   "nbconvert_exporter": "python",
   "pygments_lexer": "ipython3",
   "version": "3.9.7"
  }
 },
 "nbformat": 4,
 "nbformat_minor": 5
}
