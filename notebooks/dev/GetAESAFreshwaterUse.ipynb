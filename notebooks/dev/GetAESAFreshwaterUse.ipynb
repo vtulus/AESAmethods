{
 "cells": [
  {
   "cell_type": "code",
   "execution_count": 1,
   "id": "547e02f9-e2c9-4fc1-8bb6-ea62ebc5c6e9",
   "metadata": {},
   "outputs": [],
   "source": [
    "import pprint\n",
    "import re\n",
    "from functools import partial\n",
    "from pathlib import Path\n",
    "\n",
    "import bw2calc as bc\n",
    "import bw2data as bd\n",
    "import bw2io as bi\n",
    "from project_path import ROOT_DIR"
   ]
  },
  {
   "cell_type": "code",
   "execution_count": 2,
   "id": "c6dcdba8-e048-4bea-bd06-9997eca2a618",
   "metadata": {},
   "outputs": [],
   "source": [
    "# bd.projects"
   ]
  },
  {
   "cell_type": "code",
   "execution_count": 3,
   "id": "270c1244-e1bc-460d-a307-855c7d60fcd3",
   "metadata": {},
   "outputs": [],
   "source": [
    "bd.projects.set_current(\"default\")"
   ]
  },
  {
   "cell_type": "code",
   "execution_count": 4,
   "id": "647e604a-79fd-44cb-8c92-dc0d313d816a",
   "metadata": {},
   "outputs": [],
   "source": [
    "# bd.databases"
   ]
  },
  {
   "cell_type": "markdown",
   "id": "517527f0-89ab-417e-ab39-f656ca7d05f0",
   "metadata": {},
   "source": [
    "## import Freshwater Use method\n",
    " > Global"
   ]
  },
  {
   "cell_type": "code",
   "execution_count": 5,
   "id": "8de4ada6-aa52-4184-813a-9a3fe610776b",
   "metadata": {},
   "outputs": [],
   "source": [
    "method_category = \"FreshwaterUse_Global\""
   ]
  },
  {
   "cell_type": "code",
   "execution_count": 6,
   "id": "ef34b4a3-31d6-429f-ae03-87ed8c59f271",
   "metadata": {},
   "outputs": [],
   "source": [
    "SIMAPRO_DIR = ROOT_DIR + r\"\\data\\external\\from_simapro\""
   ]
  },
  {
   "cell_type": "code",
   "execution_count": 7,
   "id": "4fbe665f-7f90-48cc-86e2-9e3bcfed323e",
   "metadata": {},
   "outputs": [],
   "source": [
    "STORE_DATA_TO = Path(\n",
    "    ROOT_DIR + r\"\\src\\aesa_pbs\\data\" + f\"\\\\aesa_{method_category}.xlsx\"\n",
    ")"
   ]
  },
  {
   "cell_type": "code",
   "execution_count": 8,
   "id": "7eaaad56-4a4c-4c7b-be65-9f6ff97a2192",
   "metadata": {},
   "outputs": [
    {
     "name": "stdout",
     "output_type": "stream",
     "text": [
      "Extracted 1 methods in 0.03 seconds\n"
     ]
    }
   ],
   "source": [
    "si = bi.SimaProLCIACSVImporter(\n",
    "    filepath=Path(SIMAPRO_DIR + f\"\\PBsLCIAv072_{method_category}.csv\")\n",
    ")"
   ]
  },
  {
   "cell_type": "code",
   "execution_count": 9,
   "id": "7eda1d0b-7ac1-4cfe-bb57-6a8ae92f9e4d",
   "metadata": {},
   "outputs": [],
   "source": [
    "# si.data[0].keys()"
   ]
  },
  {
   "cell_type": "code",
   "execution_count": 10,
   "id": "3743fa54-ea96-4a11-bd50-2b9b0c12e302",
   "metadata": {},
   "outputs": [
    {
     "name": "stdout",
     "output_type": "stream",
     "text": [
      "('PBs-LCIA (baseline)', 'Freshwater use - Global') km3\n"
     ]
    }
   ],
   "source": [
    "for method in si.data:\n",
    "    print(method[\"name\"], method[\"unit\"])"
   ]
  },
  {
   "cell_type": "code",
   "execution_count": 11,
   "id": "88f5680e-d5e1-45ff-b700-4f198e73dff0",
   "metadata": {},
   "outputs": [
    {
     "data": {
      "text/plain": [
       "{'amount': -1e-09,\n",
       " 'CAS number': '007732-18-5',\n",
       " 'categories': ('Water', 'groundwater'),\n",
       " 'name': 'Water, AD',\n",
       " 'unit': 'm3'}"
      ]
     },
     "execution_count": 11,
     "metadata": {},
     "output_type": "execute_result"
    }
   ],
   "source": [
    "si.data[0][\"exchanges\"][0]#.keys()"
   ]
  },
  {
   "cell_type": "code",
   "execution_count": 12,
   "id": "f40ad041-6d1c-41c2-b8f2-efda74526fa1",
   "metadata": {},
   "outputs": [
    {
     "name": "stdout",
     "output_type": "stream",
     "text": [
      "Applying strategy: normalize_units\n",
      "Applying strategy: set_biosphere_type\n",
      "Applying strategy: normalize_simapro_biosphere_categories\n",
      "Applying strategy: normalize_simapro_biosphere_names\n",
      "Applying strategy: set_biosphere_type\n",
      "Applying strategy: drop_unspecified_subcategories\n",
      "Applying strategy: normalize_biosphere_categories\n",
      "Applying strategy: normalize_biosphere_names\n",
      "Applying strategy: link_iterable_by_fields\n",
      "Applying strategy: match_subcategories\n",
      "Applied 10 strategies in 0.45 seconds\n",
      "1 methods\n",
      "2168 cfs\n",
      "2140 unlinked cfs\n"
     ]
    },
    {
     "data": {
      "text/plain": [
       "(1, 2168, 2140)"
      ]
     },
     "execution_count": 12,
     "metadata": {},
     "output_type": "execute_result"
    }
   ],
   "source": [
    "si.apply_strategies()\n",
    "si.statistics()"
   ]
  },
  {
   "cell_type": "code",
   "execution_count": 17,
   "id": "44a3097e-0234-48e8-ae21-07d361f6841f",
   "metadata": {},
   "outputs": [
    {
     "data": {
      "text/plain": [
       "\u001b[1;31mSignature:\u001b[0m \u001b[0mbi\u001b[0m\u001b[1;33m.\u001b[0m\u001b[0mstrategies\u001b[0m\u001b[1;33m.\u001b[0m\u001b[0mmatch_subcategories\u001b[0m\u001b[1;33m(\u001b[0m\u001b[0mdata\u001b[0m\u001b[1;33m,\u001b[0m \u001b[0mbiosphere_db_name\u001b[0m\u001b[1;33m,\u001b[0m \u001b[0mremove\u001b[0m\u001b[1;33m=\u001b[0m\u001b[1;32mTrue\u001b[0m\u001b[1;33m)\u001b[0m\u001b[1;33m\u001b[0m\u001b[1;33m\u001b[0m\u001b[0m\n",
       "\u001b[1;31mDocstring:\u001b[0m Given a characterization with a top-level category, e.g. ``('air',)``, find all biosphere flows with the same top-level categories, and add CFs for these flows as well. Doesn't replace CFs for existing flows with multi-level categories. If ``remove``, also delete the top-level CF, but only if it is unlinked.\n",
       "\u001b[1;31mFile:\u001b[0m      c:\\users\\vitekspc\\virtualenvs\\bw2\\lib\\site-packages\\bw2io\\strategies\\lcia.py\n",
       "\u001b[1;31mType:\u001b[0m      function\n"
      ]
     },
     "metadata": {},
     "output_type": "display_data"
    }
   ],
   "source": [
    "bi.strategies.normalize_simapro_biosphere_categories"
   ]
  },
  {
   "cell_type": "code",
   "execution_count": 15,
   "id": "d2e40840-effb-43b8-8889-208e70ca9a0b",
   "metadata": {},
   "outputs": [
    {
     "name": "stdout",
     "output_type": "stream",
     "text": [
      "Wrote matching file to:\n",
      "C:\\Users\\ViteksPC\\AppData\\Local\\pylca\\Brightway3\\default.c21f969b5f03d33d43e04f8f136e7682\\output\\lcia-matching-temporal-fwu.xlsx\n"
     ]
    }
   ],
   "source": [
    "si.write_excel(\"temporal-fwu\")"
   ]
  },
  {
   "cell_type": "code",
   "execution_count": 13,
   "id": "f28742f5-23ba-495e-bb99-1a8fcd894f83",
   "metadata": {},
   "outputs": [],
   "source": [
    "# # remove ISO2 locations in the end of a flow\n",
    "# def remove_water_ISO2_location(data):\n",
    "#     for method in data:\n",
    "#         for exc in method[\"exchanges\"]:\n",
    "#             exc['name'] = re.sub(\", [A-Z]{2}$\", \"\", exc[\"name\"])\n",
    "#     return data\n",
    "\n",
    "# remove list of locations in the end of a flow\n",
    "def remove_water_location(data):\n",
    "    list_locations = [\n",
    "        \", Europe.*$\",\n",
    "        \", [A-Z].*$\",\n",
    "        \", IAI Area.*$\",\n",
    "        \",  Europe.*$\",\n",
    "        \", quality .*$\",\n",
    "    ]\n",
    "    exclude = \"|\".join(list_locations)\n",
    "\n",
    "    for method in data:\n",
    "        for exc in method[\"exchanges\"]:\n",
    "            exc[\"name\"] = re.sub(exclude, \"\", exc[\"name\"])\n",
    "    return data\n",
    "\n",
    "link_by_name_and_categories = partial(\n",
    "    bi.strategies.link_iterable_by_fields,\n",
    "    other=bd.Database(bd.config.biosphere),\n",
    "    kind=\"biosphere\",\n",
    "    fields=(\"name\", \"categories\"),\n",
    ")"
   ]
  },
  {
   "cell_type": "code",
   "execution_count": 14,
   "id": "085375dc-82bf-44b5-9145-f166948363bc",
   "metadata": {},
   "outputs": [],
   "source": [
    "def drop_duplicates(data):\n",
    "    for method in data:\n",
    "\n",
    "        unique_exchanges = {\n",
    "            (o[\"name\"], o[\"categories\"]): o for o in method[\"exchanges\"]\n",
    "        }\n",
    "        method[\"exchanges\"] = list(unique_exchanges.values())\n",
    "        return data"
   ]
  },
  {
   "cell_type": "code",
   "execution_count": 15,
   "id": "0e305aa6-307a-4870-ab81-57655aa95eb9",
   "metadata": {},
   "outputs": [
    {
     "name": "stdout",
     "output_type": "stream",
     "text": [
      "Applying strategy: remove_water_location\n",
      "Applying strategy: link_iterable_by_fields\n",
      "Applying strategy: drop_duplicates\n",
      "Applied 3 strategies in 0.21 seconds\n",
      "1 methods\n",
      "38 cfs\n",
      "26 unlinked cfs\n"
     ]
    },
    {
     "data": {
      "text/plain": [
       "(1, 38, 26)"
      ]
     },
     "execution_count": 15,
     "metadata": {},
     "output_type": "execute_result"
    }
   ],
   "source": [
    "si.apply_strategies(\n",
    "    [\n",
    "        remove_water_location,\n",
    "        # remove_water_ISO2_location,\n",
    "        link_by_name_and_categories,\n",
    "        drop_duplicates,\n",
    "    ]\n",
    ")\n",
    "si.statistics()"
   ]
  },
  {
   "cell_type": "code",
   "execution_count": 16,
   "id": "c7f0d244-a4cd-4349-aa5b-0304f3e6af6c",
   "metadata": {},
   "outputs": [],
   "source": [
    "# list(si.unlinked)"
   ]
  },
  {
   "cell_type": "code",
   "execution_count": 17,
   "id": "3baefc3f-2904-43f7-9fa8-edf53210bd91",
   "metadata": {
    "tags": []
   },
   "outputs": [
    {
     "data": {
      "text/plain": [
       "[('Water, cooling, unspecified natural origin', ('natural resource',)),\n",
       " ('Water, extreme water stress', ('water', 'ground-')),\n",
       " ('Water, extreme water stress', ('water', 'surface water')),\n",
       " ('Water, fossil', ('natural resource',)),\n",
       " ('Water, fresh', ('natural resource',)),\n",
       " ('Water, high water stress', ('water', 'ground-')),\n",
       " ('Water, high water stress', ('water', 'surface water')),\n",
       " ('Water, low water stress', ('water', 'ground-')),\n",
       " ('Water, low water stress', ('water', 'surface water')),\n",
       " ('Water, medium water stress', ('water', 'ground-')),\n",
       " ('Water, medium water stress', ('water', 'surface water')),\n",
       " ('Water, moderate water stress', ('water', 'ground-')),\n",
       " ('Water, moderate water stress', ('water', 'surface water')),\n",
       " ('Water, process and cooling, unspecified natural origin',\n",
       "  ('natural resource',)),\n",
       " ('Water, process, unspecified natural origin/m3', ('natural resource',)),\n",
       " ('Water, rain', ('natural resource',)),\n",
       " ('Water, turbine use, unspecified natural origin', ('natural resource',)),\n",
       " ('Water, unspecified natural origin', ('natural resource',)),\n",
       " ('Water, unspecified natural origin, extreme water stress',\n",
       "  ('natural resource',)),\n",
       " ('Water, unspecified natural origin, high water stress',\n",
       "  ('natural resource',)),\n",
       " ('Water, unspecified natural origin, low water stress',\n",
       "  ('natural resource',)),\n",
       " ('Water, unspecified natural origin, medium water stress',\n",
       "  ('natural resource',)),\n",
       " ('Water, unspecified natural origin, moderate water stress',\n",
       "  ('natural resource',)),\n",
       " ('Water, unspecified natural origin, very high water stress',\n",
       "  ('natural resource',)),\n",
       " ('Water, unspecified natural origin/m3', ('natural resource',)),\n",
       " ('Water, well', ('natural resource', 'in water'))]"
      ]
     },
     "execution_count": 17,
     "metadata": {},
     "output_type": "execute_result"
    }
   ],
   "source": [
    "# from the 5 unlinked:\n",
    "# 1 has amount 0, can be dropped - Carbon dioxide, in air\n",
    "# 2 others \"Carbon dioxide\" and \"Carbon monoxide\" are not in biosphere3, BUT\n",
    "# \"Carbon dioxide, fossil\" \n",
    "# and \"Carbon monoxide, fossil\" and \"Carbon monoxide, non-fossil\" (with same CFs)\n",
    "# have been linked (see check_equivalent_linked)\n",
    "[(exc[\"name\"], exc[\"categories\"]) for exc in list(si.unlinked)]"
   ]
  },
  {
   "cell_type": "code",
   "execution_count": 18,
   "id": "ee30f2b9-c898-476b-9eb0-ea88779df974",
   "metadata": {},
   "outputs": [],
   "source": [
    "def see_unlinked(imported_methods):\n",
    "    unlinked_exc_names = [\n",
    "        exc_unlinked[\"name\"] for exc_unlinked in list(imported_methods.unlinked)\n",
    "    ]\n",
    "    \n",
    "    for ix in range(len(imported_methods.data)):\n",
    "        lst = []\n",
    "        print(imported_methods.data[ix][\"name\"][1])\n",
    "        for exc in imported_methods.data[ix][\"exchanges\"]:\n",
    "            if exc[\"name\"] in unlinked_exc_names:\n",
    "                lst.append(\n",
    "                    (exc[\"name\"], exc[\"categories\"], exc[\"amount\"])\n",
    "                )\n",
    "        for i in list(set(lst)):\n",
    "            print(\"\\t\", i)\n",
    "        print(\"\\n\")\n",
    "        # if exc[\"amount\"] != 0"
   ]
  },
  {
   "cell_type": "code",
   "execution_count": 19,
   "id": "68462bb2-575f-409a-9e19-c6c01f8c36ff",
   "metadata": {},
   "outputs": [],
   "source": [
    "def check_equivalent_linked(imported_methods, list_names):\n",
    "    for ix in range(len(imported_methods.data)):\n",
    "        print(imported_methods.data[ix][\"name\"][1])\n",
    "        for exc in imported_methods.data[ix][\"exchanges\"]:\n",
    "            for x in list_names:\n",
    "                if x in exc[\"name\"]:\n",
    "                    print(\"\\t\",\n",
    "                        exc[\"name\"],\n",
    "                        exc[\"categories\"],\n",
    "                        exc[\"amount\"],\n",
    "                    )\n",
    "        print(\"\\n\")"
   ]
  },
  {
   "cell_type": "code",
   "execution_count": 20,
   "id": "34744a54-b0b8-4b57-a611-d30cfd2266a5",
   "metadata": {},
   "outputs": [],
   "source": [
    "def remove_duplicates_if_any(imported_methods):\n",
    "    for ix in range(len(imported_methods.data)):\n",
    "        current_exc = len(imported_methods.data[ix][\"exchanges\"])\n",
    "        wo_duplicates_exc = len(\n",
    "            {tuple(o[\"input\"]) for o in imported_methods.data[ix][\"exchanges\"]}\n",
    "        )\n",
    "        print(\n",
    "            imported_methods.data[ix][\"name\"][1], \": \", current_exc, wo_duplicates_exc,\n",
    "        )\n",
    "        if current_exc != wo_duplicates_exc:\n",
    "            unique_exchanges = {\n",
    "                tuple(o[\"input\"]): o for o in imported_methods.data[ix][\"exchanges\"]\n",
    "            }\n",
    "            imported_methods.data[ix][\"exchanges\"] = list(unique_exchanges.values())\n",
    "            print(\"Duplicates removed.\\n\")\n",
    "        else:\n",
    "            print(\"No duplicates.\\n\")"
   ]
  },
  {
   "cell_type": "code",
   "execution_count": 21,
   "id": "d362ae91-114b-4234-8608-2772e6ed4d00",
   "metadata": {
    "tags": []
   },
   "outputs": [
    {
     "name": "stdout",
     "output_type": "stream",
     "text": [
      "Freshwater use - Global\n",
      "\t ('Water, moderate water stress', ('water', 'ground-'), -1e-09)\n",
      "\t ('Water, unspecified natural origin, extreme water stress', ('natural resource',), 0.0)\n",
      "\t ('Water, turbine use, unspecified natural origin', ('natural resource', 'in water'), 0.0)\n",
      "\t ('Water, unspecified natural origin', ('natural resource', 'fossil well'), 0.0)\n",
      "\t ('Water, cooling, unspecified natural origin', ('natural resource', 'in water'), 0.0)\n",
      "\t ('Water, extreme water stress', ('water', 'ground-'), -1e-09)\n",
      "\t ('Water, unspecified natural origin/m3', ('natural resource',), 0.0)\n",
      "\t ('Water, unspecified natural origin', ('natural resource',), 0.0)\n",
      "\t ('Water, medium water stress', ('water', 'ground-'), -1e-09)\n",
      "\t ('Water, high water stress', ('water', 'surface water'), -1e-09)\n",
      "\t ('Water, low water stress', ('water', 'ground-'), -1e-09)\n",
      "\t ('Water, unspecified natural origin, very high water stress', ('natural resource',), 0.0)\n",
      "\t ('Water, fresh', ('natural resource',), 0.0)\n",
      "\t ('Water, extreme water stress', ('water', 'surface water'), -1e-09)\n",
      "\t ('Water, fossil', ('natural resource',), 0.0)\n",
      "\t ('Water, moderate water stress', ('water', 'surface water'), -1e-09)\n",
      "\t ('Water, turbine use, unspecified natural origin', ('natural resource',), 0.0)\n",
      "\t ('Water, unspecified natural origin', ('natural resource', 'in water'), 1e-09)\n",
      "\t ('Water, cooling, unspecified natural origin', ('natural resource',), 0.0)\n",
      "\t ('Water, well', ('natural resource', 'in water'), 1e-09)\n",
      "\t ('Water, medium water stress', ('water', 'surface water'), -1e-09)\n",
      "\t ('Water, low water stress', ('water', 'surface water'), -1e-09)\n",
      "\t ('Water, process and cooling, unspecified natural origin', ('natural resource',), 0.0)\n",
      "\t ('Water, process, unspecified natural origin/m3', ('natural resource',), 0.0)\n",
      "\t ('Water, unspecified natural origin, moderate water stress', ('natural resource',), 0.0)\n",
      "\t ('Water, unspecified natural origin', ('natural resource', 'in ground'), 0.0)\n",
      "\t ('Water, high water stress', ('water', 'ground-'), -1e-09)\n",
      "\t ('Water, rain', ('natural resource',), 0.0)\n",
      "\t ('Water, unspecified natural origin, low water stress', ('natural resource',), 0.0)\n",
      "\t ('Water, unspecified natural origin, medium water stress', ('natural resource',), 0.0)\n",
      "\t ('Water, unspecified natural origin, high water stress', ('natural resource',), 0.0)\n",
      "\n",
      "\n"
     ]
    }
   ],
   "source": [
    "see_unlinked(si)"
   ]
  },
  {
   "cell_type": "code",
   "execution_count": 22,
   "id": "ca44f225-9239-4823-ab27-12432a78d24a",
   "metadata": {},
   "outputs": [
    {
     "data": {
      "text/plain": [
       "{('Water, cooling, unspecified natural origin',\n",
       "  ('natural resource', 'in water')),\n",
       " ('Water, in air', ('natural resource', 'in air')),\n",
       " ('Water, lake', ('natural resource', 'in water')),\n",
       " ('Water, river', ('natural resource', 'in water')),\n",
       " ('Water, salt, ocean', ('natural resource', 'in water')),\n",
       " ('Water, salt, sole', ('natural resource', 'in water')),\n",
       " ('Water, turbine use, unspecified natural origin',\n",
       "  ('natural resource', 'in water')),\n",
       " ('Water, unspecified natural origin', ('natural resource', 'fossil well')),\n",
       " ('Water, unspecified natural origin', ('natural resource', 'in ground')),\n",
       " ('Water, unspecified natural origin', ('natural resource', 'in water')),\n",
       " ('Water, well, in ground', ('natural resource', 'in water'))}"
      ]
     },
     "execution_count": 22,
     "metadata": {},
     "output_type": "execute_result"
    }
   ],
   "source": [
    "b3 = bd.Database(\"biosphere3\")\n",
    "set([\n",
    "    (flow[\"name\"], flow[\"categories\"])\n",
    "    for flow in b3\n",
    "    if \"Water\" in flow[\"name\"]#.lower()\n",
    "    if \"natural resource\" in str(flow[\"categories\"])\n",
    "])"
   ]
  },
  {
   "cell_type": "code",
   "execution_count": 23,
   "id": "ff492730-32f2-4020-a4af-3fc5e63c0d06",
   "metadata": {
    "tags": []
   },
   "outputs": [],
   "source": [
    "# check_equivalent_linked(si, [\"Water,\"])"
   ]
  },
  {
   "cell_type": "code",
   "execution_count": 24,
   "id": "8d048c1b-09ee-4946-8156-c9dbbb625f5b",
   "metadata": {},
   "outputs": [
    {
     "name": "stdout",
     "output_type": "stream",
     "text": [
      "Applying strategy: drop_unlinked_cfs\n",
      "Applied 1 strategies in 0.00 seconds\n",
      "1 methods\n",
      "12 cfs\n",
      "0 unlinked cfs\n"
     ]
    },
    {
     "data": {
      "text/plain": [
       "(1, 12, 0)"
      ]
     },
     "execution_count": 24,
     "metadata": {},
     "output_type": "execute_result"
    }
   ],
   "source": [
    "si.drop_unlinked()\n",
    "si.statistics()"
   ]
  },
  {
   "cell_type": "code",
   "execution_count": 25,
   "id": "7e89a8f7-b018-4322-b975-2e795b85ea1e",
   "metadata": {},
   "outputs": [
    {
     "name": "stdout",
     "output_type": "stream",
     "text": [
      "Freshwater use - Global :  12 12\n",
      "No duplicates.\n",
      "\n"
     ]
    }
   ],
   "source": [
    "# check if there are duplicates (both numbers should be equal)\n",
    "remove_duplicates_if_any(si)"
   ]
  },
  {
   "cell_type": "code",
   "execution_count": 26,
   "id": "3d29373b-7b73-430b-9051-31df42489c4d",
   "metadata": {},
   "outputs": [
    {
     "name": "stdout",
     "output_type": "stream",
     "text": [
      "1 methods\n",
      "12 cfs\n",
      "0 unlinked cfs\n"
     ]
    },
    {
     "data": {
      "text/plain": [
       "(1, 12, 0)"
      ]
     },
     "execution_count": 26,
     "metadata": {},
     "output_type": "execute_result"
    }
   ],
   "source": [
    "si.statistics()"
   ]
  },
  {
   "cell_type": "code",
   "execution_count": 27,
   "id": "3a25770d-9165-44cb-8796-2bf9e960e524",
   "metadata": {},
   "outputs": [],
   "source": [
    "# Next si.write_excel(method_category) will create an excel file in \n",
    "# ~\\Local\\pylca\\Brightway3\\default###\\output\\lcia-matching-{method_category}.xlsx\n",
    "\n",
    "# Go to created excel and apply manual corrections\n",
    "#TODO: manual corrections should not be manual\n",
    "\n",
    "# Store corrected excel to STORE_DATA_TO"
   ]
  },
  {
   "cell_type": "code",
   "execution_count": null,
   "id": "1ca7ed6c-f11b-4359-bde6-ee44429acef7",
   "metadata": {},
   "outputs": [],
   "source": [
    "si.write_excel(method_category)"
   ]
  }
 ],
 "metadata": {
  "kernelspec": {
   "display_name": "Python (bw2)",
   "language": "python",
   "name": "bw2"
  },
  "language_info": {
   "codemirror_mode": {
    "name": "ipython",
    "version": 3
   },
   "file_extension": ".py",
   "mimetype": "text/x-python",
   "name": "python",
   "nbconvert_exporter": "python",
   "pygments_lexer": "ipython3",
   "version": "3.9.7"
  }
 },
 "nbformat": 4,
 "nbformat_minor": 5
}
