{
 "cells": [
  {
   "cell_type": "markdown",
   "id": "5f4ffb04-6a47-4ea2-8432-2b8956e33231",
   "metadata": {},
   "source": [
    "<div class=\"alert alert-block alert-warning\">\n",
    "    <b>Run the next cells case you need to adapt premise generated databases.</b> <br> \n",
    "    </div>"
   ]
  },
  {
   "cell_type": "markdown",
   "id": "bc7d39d3-e7ab-41e0-8145-c53c8f7ec6a5",
   "metadata": {},
   "source": [
    "### Adapt a database for quantification of directly fixated nitrogen"
   ]
  },
  {
   "cell_type": "code",
   "execution_count": null,
   "id": "75b99a83-521f-4cde-ad6a-32d01ac90fd3",
   "metadata": {},
   "outputs": [],
   "source": [
    "bw.databases"
   ]
  },
  {
   "cell_type": "code",
   "execution_count": null,
   "id": "2fe48ea7-797c-4751-b287-533c6855b759",
   "metadata": {},
   "outputs": [],
   "source": [
    "# get N-fertilizers in a dict {name: code}\n",
    "nfert_acts = {}\n",
    "for act in aesa_pbs.get_nitrogenous_fertilizers(\"ei35cutoff\"):\n",
    "    nfert_acts[act] = act[\"code\"]"
   ]
  },
  {
   "cell_type": "code",
   "execution_count": null,
   "id": "12229a48-7991-4761-8954-b2b8a6822c02",
   "metadata": {},
   "outputs": [],
   "source": [
    "databases_to_update = [\n",
    "    db\n",
    "    for db in list(bw.databases)\n",
    "    if db not in [\"A_technosphere_flows\", \"biosphere3\",]  # \"ei35cutoff\"]\n",
    "]\n",
    "\n",
    "for db in databases_to_update:\n",
    "    print(f\"\\n///////////////////// {db} /////////////////////\\n\")\n",
    "    activities = []\n",
    "    for act in nfert_acts:\n",
    "        activities.append(bw.Database(db).get(act[\"code\"]))\n",
    "    # update the exchanges for filtered activities\n",
    "    aesa_pbs.update_nitrogen_fertilizer_exchanges(\n",
    "        activities=activities, show_updated=False\n",
    "    )"
   ]
  },
  {
   "cell_type": "markdown",
   "id": "dfd5858f-8068-4222-b9ba-c862c10af2ab",
   "metadata": {},
   "source": [
    "<div class=\"alert alert-block alert-info\">\n",
    "    <b>AESA methods are now correctly installed and ready to be used as any other `bw.methods` within the active project.</b> <br> \n",
    "    </div>"
   ]
  }
 ],
 "metadata": {
  "kernelspec": {
   "display_name": "Python (bw2)",
   "language": "python",
   "name": "bw2"
  },
  "language_info": {
   "codemirror_mode": {
    "name": "ipython",
    "version": 3
   },
   "file_extension": ".py",
   "mimetype": "text/x-python",
   "name": "python",
   "nbconvert_exporter": "python",
   "pygments_lexer": "ipython3",
   "version": "3.9.7"
  }
 },
 "nbformat": 4,
 "nbformat_minor": 5
}
