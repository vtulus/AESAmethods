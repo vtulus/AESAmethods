{
 "cells": [
  {
   "cell_type": "code",
   "execution_count": 1,
   "id": "4acb60f2-2bd5-490e-82cf-2afea5823bf0",
   "metadata": {},
   "outputs": [
    {
     "data": {
      "text/plain": [
       "'0.8.7'"
      ]
     },
     "execution_count": 1,
     "metadata": {},
     "output_type": "execute_result"
    }
   ],
   "source": [
    "import brightway2 as bw\n",
    "import aesa_pbs\n",
    "aesa_pbs.__version__"
   ]
  },
  {
   "cell_type": "markdown",
   "id": "cd9a81fe-c47e-480a-9f6d-3861d7b6f66c",
   "metadata": {},
   "source": [
    "## Install AESA methods to a project"
   ]
  },
  {
   "cell_type": "code",
   "execution_count": 2,
   "id": "f8c57a5a-64e9-4f60-9362-2d3c73ff4705",
   "metadata": {},
   "outputs": [],
   "source": [
    "bw.projects.set_current(\"default\")"
   ]
  },
  {
   "cell_type": "code",
   "execution_count": 3,
   "id": "fb9e0efd-21a0-46e1-b53b-18c975af7de7",
   "metadata": {},
   "outputs": [
    {
     "name": "stdout",
     "output_type": "stream",
     "text": [
      "Adding ('AESA (PBs-LCIA)', '0.8.7', 'biogeochemical flows', 'nitrogen', 'inverse modelling, surface water')\n",
      "Applying strategy: csv_restore_tuples\n",
      "Applying strategy: csv_numerize\n",
      "Applying strategy: csv_drop_unknown\n",
      "Applying strategy: set_biosphere_type\n",
      "Applying strategy: drop_unspecified_subcategories\n",
      "Applying strategy: link_iterable_by_fields\n",
      "Applying strategy: drop_falsey_uncertainty_fields_but_keep_zeros\n",
      "Applying strategy: convert_uncertainty_types_to_integers\n",
      "Applying strategy: drop_empty_lines\n",
      "Applied 9 strategies in 0.11 seconds\n",
      "Wrote 1 LCIA methods with 2 characterization factors\n",
      "\n",
      "Adding ('AESA (PBs-LCIA)', '0.8.7', 'change in biosphere integrity', 'functional diversity', 'direct land use')\n",
      "Applying strategy: csv_restore_tuples\n",
      "Applying strategy: csv_numerize\n",
      "Applying strategy: csv_drop_unknown\n",
      "Applying strategy: set_biosphere_type\n",
      "Applying strategy: drop_unspecified_subcategories\n",
      "Applying strategy: link_iterable_by_fields\n",
      "Applying strategy: drop_falsey_uncertainty_fields_but_keep_zeros\n",
      "Applying strategy: convert_uncertainty_types_to_integers\n",
      "Applying strategy: drop_empty_lines\n",
      "Applied 9 strategies in 0.15 seconds\n",
      "Wrote 1 LCIA methods with 38 characterization factors\n",
      "\n",
      "Adding ('AESA (PBs-LCIA)', '0.8.7', 'ozone depletion', 'stratospheric O3 concentration')\n",
      "Applying strategy: csv_restore_tuples\n",
      "Applying strategy: csv_numerize\n",
      "Applying strategy: csv_drop_unknown\n",
      "Applying strategy: set_biosphere_type\n",
      "Applying strategy: drop_unspecified_subcategories\n",
      "Applying strategy: link_iterable_by_fields\n",
      "Applying strategy: drop_falsey_uncertainty_fields_but_keep_zeros\n",
      "Applying strategy: convert_uncertainty_types_to_integers\n",
      "Applying strategy: drop_empty_lines\n",
      "Applied 9 strategies in 0.16 seconds\n",
      "Wrote 1 LCIA methods with 75 characterization factors\n",
      "\n",
      "Adding ('AESA (PBs-LCIA)', '0.8.7', 'ocean acidification', 'carbonate ion concentration')\n",
      "Applying strategy: csv_restore_tuples\n",
      "Applying strategy: csv_numerize\n",
      "Applying strategy: csv_drop_unknown\n",
      "Applying strategy: set_biosphere_type\n",
      "Applying strategy: drop_unspecified_subcategories\n",
      "Applying strategy: link_iterable_by_fields\n",
      "Applying strategy: drop_falsey_uncertainty_fields_but_keep_zeros\n",
      "Applying strategy: convert_uncertainty_types_to_integers\n",
      "Applying strategy: drop_empty_lines\n",
      "Applied 9 strategies in 0.08 seconds\n"
     ]
    },
    {
     "name": "stderr",
     "output_type": "stream",
     "text": [
      "Writing activities to SQLite3 database:\n"
     ]
    },
    {
     "name": "stdout",
     "output_type": "stream",
     "text": [
      "Wrote 1 LCIA methods with 42 characterization factors\n",
      "\n",
      "Adding ('AESA (PBs-LCIA)', '0.8.7', 'biogeochemical flows', 'nitrogen', 'directly fixated')\n",
      "+--------------------------------------------------------------------------------------------+\n",
      "| Warning                                                                                    |\n",
      "+--------------------------------------------------------------------------------------------+\n",
      "| The method for quantification of directly fixated nitrogen                                 |\n",
      "| requires an additional database `A_technosphere_flows`.                                    |\n",
      "| This database was not found in the current project.                                        |\n",
      "| It will be generated now.                                                                  |\n",
      "|                                                                                            |\n",
      "| Next steps:                                                                                |\n",
      "| 1. Use `aesa_pbs.get_nitrogenous_fertilizers()` to filter activities                       |\n",
      "| \tproducing nitrogenous fertilizers in a specific background database.                                                                                            |\n",
      "| 2. Use `aesa_pbs.update_nitrogen_fertilizer_exchanges()` to modify those activities.       |\n",
      "|                                                                                            |\n",
      "| Optionally,                                                                                |\n",
      "| modified activities can be cleaned with `aesa_pbs.remove_nitrogen_fertilizer_exchanges()`. |\n",
      "+--------------------------------------------------------------------------------------------+\n"
     ]
    },
    {
     "name": "stderr",
     "output_type": "stream",
     "text": [
      "0% [#] 100% | ETA: 00:00:01\n",
      "Total time elapsed: 00:00:00\n"
     ]
    },
    {
     "name": "stdout",
     "output_type": "stream",
     "text": [
      "Title: Writing activities to SQLite3 database:\n",
      "  Started: 06/13/2022 10:19:52\n",
      "  Finished: 06/13/2022 10:19:52\n",
      "  Total time elapsed: 00:00:00\n",
      "  CPU %: 0.00\n",
      "  Memory %: 1.21\n",
      "Applying strategy: csv_restore_tuples\n",
      "Applying strategy: csv_numerize\n",
      "Applying strategy: csv_drop_unknown\n",
      "Applying strategy: set_biosphere_type\n",
      "Applying strategy: drop_unspecified_subcategories\n",
      "Applying strategy: link_iterable_by_fields\n",
      "Applying strategy: drop_falsey_uncertainty_fields_but_keep_zeros\n",
      "Applying strategy: convert_uncertainty_types_to_integers\n",
      "Applying strategy: drop_empty_lines\n",
      "Applying strategy: link_iterable_by_fields\n",
      "Applied 10 strategies in 0.09 seconds\n",
      "Wrote 1 LCIA methods with 1 characterization factors\n",
      "\n",
      "Adding ('AESA (PBs-LCIA)', '0.8.7', 'land-system change', 'global')\n",
      "Applying strategy: csv_restore_tuples\n",
      "Applying strategy: csv_numerize\n",
      "Applying strategy: csv_drop_unknown\n",
      "Applying strategy: set_biosphere_type\n",
      "Applying strategy: drop_unspecified_subcategories\n",
      "Applying strategy: link_iterable_by_fields\n",
      "Applying strategy: drop_falsey_uncertainty_fields_but_keep_zeros\n",
      "Applying strategy: convert_uncertainty_types_to_integers\n",
      "Applying strategy: drop_empty_lines\n",
      "Applied 9 strategies in 0.13 seconds\n",
      "Wrote 1 LCIA methods with 10 characterization factors\n",
      "\n",
      "Adding ('AESA (PBs-LCIA)', '0.8.7', 'biogeochemical flows', 'phosphorus')\n",
      "Applying strategy: csv_restore_tuples\n",
      "Applying strategy: csv_numerize\n",
      "Applying strategy: csv_drop_unknown\n",
      "Applying strategy: set_biosphere_type\n",
      "Applying strategy: drop_unspecified_subcategories\n",
      "Applying strategy: link_iterable_by_fields\n",
      "Applying strategy: drop_falsey_uncertainty_fields_but_keep_zeros\n",
      "Applying strategy: convert_uncertainty_types_to_integers\n",
      "Applying strategy: drop_empty_lines\n",
      "Applied 9 strategies in 0.11 seconds\n",
      "Wrote 1 LCIA methods with 2 characterization factors\n",
      "\n",
      "Adding ('AESA (PBs-LCIA)', '0.8.7', 'climate change', 'energy imbalance at top-of-atmosphere')\n",
      "Applying strategy: csv_restore_tuples\n",
      "Applying strategy: csv_numerize\n",
      "Applying strategy: csv_drop_unknown\n",
      "Applying strategy: set_biosphere_type\n",
      "Applying strategy: drop_unspecified_subcategories\n",
      "Applying strategy: link_iterable_by_fields\n",
      "Applying strategy: drop_falsey_uncertainty_fields_but_keep_zeros\n",
      "Applying strategy: convert_uncertainty_types_to_integers\n",
      "Applying strategy: drop_empty_lines\n",
      "Applied 9 strategies in 0.15 seconds\n",
      "Wrote 1 LCIA methods with 98 characterization factors\n",
      "\n",
      "Adding ('AESA (PBs-LCIA)', '0.8.7', 'climate change', 'atmospheric CO2 concentration')\n",
      "Applying strategy: csv_restore_tuples\n",
      "Applying strategy: csv_numerize\n",
      "Applying strategy: csv_drop_unknown\n",
      "Applying strategy: set_biosphere_type\n",
      "Applying strategy: drop_unspecified_subcategories\n",
      "Applying strategy: link_iterable_by_fields\n",
      "Applying strategy: drop_falsey_uncertainty_fields_but_keep_zeros\n",
      "Applying strategy: convert_uncertainty_types_to_integers\n",
      "Applying strategy: drop_empty_lines\n",
      "Applied 9 strategies in 0.09 seconds\n",
      "Wrote 1 LCIA methods with 42 characterization factors\n",
      "\n",
      "Adding ('AESA (PBs-LCIA)', '0.8.7', 'change in biosphere integrity', 'functional diversity', 'CO2eq emissions')\n",
      "Applying strategy: csv_restore_tuples\n",
      "Applying strategy: csv_numerize\n",
      "Applying strategy: csv_drop_unknown\n",
      "Applying strategy: set_biosphere_type\n",
      "Applying strategy: drop_unspecified_subcategories\n",
      "Applying strategy: link_iterable_by_fields\n",
      "Applying strategy: drop_falsey_uncertainty_fields_but_keep_zeros\n",
      "Applying strategy: convert_uncertainty_types_to_integers\n",
      "Applying strategy: drop_empty_lines\n",
      "Applied 9 strategies in 0.11 seconds\n",
      "Wrote 1 LCIA methods with 188 characterization factors\n",
      "\n",
      "Adding ('AESA (PBs-LCIA)', '0.8.7', 'freshwater use', 'global')\n",
      "Applying strategy: csv_restore_tuples\n",
      "Applying strategy: csv_numerize\n",
      "Applying strategy: csv_drop_unknown\n",
      "Applying strategy: set_biosphere_type\n",
      "Applying strategy: drop_unspecified_subcategories\n",
      "Applying strategy: link_iterable_by_fields\n",
      "Applying strategy: drop_falsey_uncertainty_fields_but_keep_zeros\n",
      "Applying strategy: convert_uncertainty_types_to_integers\n",
      "Applying strategy: drop_empty_lines\n",
      "Applied 9 strategies in 0.15 seconds\n",
      "Wrote 1 LCIA methods with 15 characterization factors\n",
      "\n",
      "Adding ('AESA (PBs-LCIA)', '0.8.7', 'change in biosphere integrity', 'functional diversity', 'total')\n",
      "Applying strategy: csv_restore_tuples\n",
      "Applying strategy: csv_numerize\n",
      "Applying strategy: csv_drop_unknown\n",
      "Applying strategy: set_biosphere_type\n",
      "Applying strategy: drop_unspecified_subcategories\n",
      "Applying strategy: link_iterable_by_fields\n",
      "Applying strategy: drop_falsey_uncertainty_fields_but_keep_zeros\n",
      "Applying strategy: convert_uncertainty_types_to_integers\n",
      "Applying strategy: drop_empty_lines\n",
      "Applied 9 strategies in 0.11 seconds\n",
      "Wrote 1 LCIA methods with 226 characterization factors\n",
      "\n"
     ]
    }
   ],
   "source": [
    "aesa_pbs.add_aesa_pbs(verbose=True)"
   ]
  },
  {
   "cell_type": "markdown",
   "id": "9ee1ef54-93b5-4641-a7c9-c77613cc11b6",
   "metadata": {},
   "source": [
    "### Adapt a database for quantification of directly fixated nitrogen"
   ]
  },
  {
   "cell_type": "code",
   "execution_count": 4,
   "id": "4e168d87-15a4-40ba-b802-2c295a5356d5",
   "metadata": {},
   "outputs": [
    {
     "data": {
      "text/plain": [
       "Databases dictionary with 6 object(s):\n",
       "\tA_technosphere_flows\n",
       "\tbiosphere3\n",
       "\tei35apos\n",
       "\tei35cutoff\n",
       "\tei38apos\n",
       "\tei38cutoff"
      ]
     },
     "execution_count": 4,
     "metadata": {},
     "output_type": "execute_result"
    }
   ],
   "source": [
    "bw.databases"
   ]
  },
  {
   "cell_type": "code",
   "execution_count": 5,
   "id": "b20bb02c-254f-46ca-ba00-9dfb6250226a",
   "metadata": {},
   "outputs": [
    {
     "data": {
      "text/plain": [
       "['ammonium nitrate phosphate production' (kilogram, RoW, None),\n",
       " 'nutrient supply from coconut husk' (kilogram, GLO, None),\n",
       " 'diammonium phosphate production' (kilogram, RoW, None),\n",
       " 'citric acid production' (kilogram, CN, None),\n",
       " 'treatment, sludge from pulp and paper production, landfarming' (kilogram, RoW, None),\n",
       " 'ammonium sulfate production' (kilogram, RER, None),\n",
       " 'ammonium nitrate phosphate production' (kilogram, RER, None),\n",
       " 'nutrient supply from poultry manure, dried' (kilogram, GLO, None),\n",
       " 'nutrient supply from potassium nitrate' (kilogram, GLO, None),\n",
       " 'nutrient supply from vinasse, from fermentation of sugarcane' (kilogram, GLO, None),\n",
       " 'diammonium phosphate production' (kilogram, RER, None),\n",
       " 'nutrient supply from calcium nitrate' (kilogram, GLO, None),\n",
       " 'urea production, as N' (kilogram, RoW, None),\n",
       " 'calcium ammonium nitrate production' (kilogram, RoW, None),\n",
       " 'treatment, sludge from pulp and paper production, landfarming' (kilogram, CA-QC, None),\n",
       " 'ammonium nitrate production' (kilogram, RER, None),\n",
       " 'smelting and refining of nickel ore' (kilogram, GLO, None),\n",
       " 'citric acid production' (kilogram, RoW, None),\n",
       " 'nutrient supply from vinasse, from fermentation of sugar beet molasses' (kilogram, GLO, None),\n",
       " 'citric acid production' (kilogram, RNA, None),\n",
       " 'ammonium sulfate production' (kilogram, RoW, None),\n",
       " 'nickel mine operation, sulfidic ore' (kilogram, GLO, None),\n",
       " 'nutrient supply from ammonium chloride' (kilogram, GLO, None),\n",
       " 'urea production, as N' (kilogram, RER, None),\n",
       " 'nutrient supply from manure, liquid, swine' (kilogram, GLO, None),\n",
       " 'nutrient supply from compost' (kilogram, GLO, None),\n",
       " 'ammonium nitrate production' (kilogram, RoW, None),\n",
       " 'treatment, sludge from pulp and paper production, landfarming' (kilogram, Europe without Switzerland, None),\n",
       " 'calcium ammonium nitrate production' (kilogram, RER, None),\n",
       " 'nutrient supply from vinasse, from fermentation of sugarcane molasses' (kilogram, GLO, None),\n",
       " 'citric acid production' (kilogram, RER, None),\n",
       " 'urea ammonium nitrate production' (kilogram, RoW, None),\n",
       " 'nutrient supply from manure, solid, cattle' (kilogram, GLO, None),\n",
       " 'monoammonium phosphate production' (kilogram, RoW, None),\n",
       " 'calcium nitrate production' (kilogram, RoW, None),\n",
       " 'monoammonium phosphate production' (kilogram, RER, None),\n",
       " 'nutrient supply from vinasse, from fermentation of sugar beet' (kilogram, GLO, None),\n",
       " 'heat production, straw, at furnace 300kW' (kilogram, GLO, None),\n",
       " 'nutrient supply from vinasse, from fermentation of sweet sorghum' (kilogram, GLO, None),\n",
       " 'nutrient supply from manure, liquid, cattle' (kilogram, GLO, None),\n",
       " 'calcium nitrate production' (kilogram, RER, None),\n",
       " 'nutrient supply from poultry manure, fresh' (kilogram, GLO, None),\n",
       " 'heat production, straw, organic, at furnace 300kW' (kilogram, GLO, None),\n",
       " 'urea ammonium nitrate production' (kilogram, RER, None)]"
      ]
     },
     "execution_count": 5,
     "metadata": {},
     "output_type": "execute_result"
    }
   ],
   "source": [
    "nflow_activities = aesa_pbs.get_nitrogenous_fertilizers(\"ei35cutoff\")\n",
    "nflow_activities"
   ]
  },
  {
   "cell_type": "code",
   "execution_count": 6,
   "id": "b5c943ce-bd32-4ef8-8568-138d0af4d1a3",
   "metadata": {},
   "outputs": [
    {
     "name": "stdout",
     "output_type": "stream",
     "text": [
      "Updating activities that produce nitrogen fertilizer...\n",
      "__ 1 new exchange has been added to 'ammonium nitrate phosphate production' (kilogram, RoW, None).\n",
      "__ 1 new exchange has been added to 'nutrient supply from coconut husk' (kilogram, GLO, None).\n",
      "__ 1 new exchange has been added to 'diammonium phosphate production' (kilogram, RoW, None).\n",
      "__ 1 new exchange has been added to 'citric acid production' (kilogram, CN, None).\n",
      "__ 1 new exchange has been added to 'treatment, sludge from pulp and paper production, landfarming' (kilogram, RoW, None).\n",
      "__ 1 new exchange has been added to 'ammonium sulfate production' (kilogram, RER, None).\n",
      "__ 1 new exchange has been added to 'ammonium nitrate phosphate production' (kilogram, RER, None).\n",
      "__ 1 new exchange has been added to 'nutrient supply from poultry manure, dried' (kilogram, GLO, None).\n",
      "__ 1 new exchange has been added to 'nutrient supply from potassium nitrate' (kilogram, GLO, None).\n",
      "__ 1 new exchange has been added to 'nutrient supply from vinasse, from fermentation of sugarcane' (kilogram, GLO, None).\n",
      "__ 1 new exchange has been added to 'diammonium phosphate production' (kilogram, RER, None).\n",
      "__ 1 new exchange has been added to 'nutrient supply from calcium nitrate' (kilogram, GLO, None).\n",
      "__ 1 new exchange has been added to 'urea production, as N' (kilogram, RoW, None).\n",
      "__ 1 new exchange has been added to 'calcium ammonium nitrate production' (kilogram, RoW, None).\n",
      "__ 1 new exchange has been added to 'treatment, sludge from pulp and paper production, landfarming' (kilogram, CA-QC, None).\n",
      "__ 1 new exchange has been added to 'ammonium nitrate production' (kilogram, RER, None).\n",
      "__ 1 new exchange has been added to 'smelting and refining of nickel ore' (kilogram, GLO, None).\n",
      "__ 1 new exchange has been added to 'citric acid production' (kilogram, RoW, None).\n",
      "__ 1 new exchange has been added to 'nutrient supply from vinasse, from fermentation of sugar beet molasses' (kilogram, GLO, None).\n",
      "__ 1 new exchange has been added to 'citric acid production' (kilogram, RNA, None).\n",
      "__ 1 new exchange has been added to 'ammonium sulfate production' (kilogram, RoW, None).\n",
      "__ 1 new exchange has been added to 'nickel mine operation, sulfidic ore' (kilogram, GLO, None).\n",
      "__ 1 new exchange has been added to 'nutrient supply from ammonium chloride' (kilogram, GLO, None).\n",
      "__ 1 new exchange has been added to 'urea production, as N' (kilogram, RER, None).\n",
      "__ 1 new exchange has been added to 'nutrient supply from manure, liquid, swine' (kilogram, GLO, None).\n",
      "__ 1 new exchange has been added to 'nutrient supply from compost' (kilogram, GLO, None).\n",
      "__ 1 new exchange has been added to 'ammonium nitrate production' (kilogram, RoW, None).\n",
      "__ 1 new exchange has been added to 'treatment, sludge from pulp and paper production, landfarming' (kilogram, Europe without Switzerland, None).\n",
      "__ 1 new exchange has been added to 'calcium ammonium nitrate production' (kilogram, RER, None).\n",
      "__ 1 new exchange has been added to 'nutrient supply from vinasse, from fermentation of sugarcane molasses' (kilogram, GLO, None).\n",
      "__ 1 new exchange has been added to 'citric acid production' (kilogram, RER, None).\n",
      "__ 1 new exchange has been added to 'urea ammonium nitrate production' (kilogram, RoW, None).\n",
      "__ 1 new exchange has been added to 'nutrient supply from manure, solid, cattle' (kilogram, GLO, None).\n",
      "__ 1 new exchange has been added to 'monoammonium phosphate production' (kilogram, RoW, None).\n",
      "__ 1 new exchange has been added to 'calcium nitrate production' (kilogram, RoW, None).\n",
      "__ 1 new exchange has been added to 'monoammonium phosphate production' (kilogram, RER, None).\n",
      "__ 1 new exchange has been added to 'nutrient supply from vinasse, from fermentation of sugar beet' (kilogram, GLO, None).\n",
      "__ 1 new exchange has been added to 'heat production, straw, at furnace 300kW' (kilogram, GLO, None).\n",
      "__ 1 new exchange has been added to 'nutrient supply from vinasse, from fermentation of sweet sorghum' (kilogram, GLO, None).\n",
      "__ 1 new exchange has been added to 'nutrient supply from manure, liquid, cattle' (kilogram, GLO, None).\n",
      "__ 1 new exchange has been added to 'calcium nitrate production' (kilogram, RER, None).\n",
      "__ 1 new exchange has been added to 'nutrient supply from poultry manure, fresh' (kilogram, GLO, None).\n",
      "__ 1 new exchange has been added to 'heat production, straw, organic, at furnace 300kW' (kilogram, GLO, None).\n",
      "__ 1 new exchange has been added to 'urea ammonium nitrate production' (kilogram, RER, None).\n",
      "Updated 44 out of 44.\n"
     ]
    }
   ],
   "source": [
    "aesa_pbs.update_nitrogen_fertilizer_exchanges(nflow_activities, show_updated=True)"
   ]
  },
  {
   "cell_type": "markdown",
   "id": "6d704f7d-96f0-4703-a579-9061384b807b",
   "metadata": {},
   "source": [
    "<div class=\"alert alert-block alert-info\">\n",
    "    <b>AESA methods are now correctly installed and ready to be used as any other `bw.methods` within the active project.</b> <br> \n",
    "    </div>"
   ]
  }
 ],
 "metadata": {
  "kernelspec": {
   "display_name": "Python (bw2)",
   "language": "python",
   "name": "bw2"
  },
  "language_info": {
   "codemirror_mode": {
    "name": "ipython",
    "version": 3
   },
   "file_extension": ".py",
   "mimetype": "text/x-python",
   "name": "python",
   "nbconvert_exporter": "python",
   "pygments_lexer": "ipython3",
   "version": "3.9.7"
  }
 },
 "nbformat": 4,
 "nbformat_minor": 5
}
