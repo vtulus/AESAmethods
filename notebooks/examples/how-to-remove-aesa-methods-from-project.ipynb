{
 "cells": [
  {
   "cell_type": "code",
   "execution_count": 1,
   "id": "4acb60f2-2bd5-490e-82cf-2afea5823bf0",
   "metadata": {},
   "outputs": [
    {
     "data": {
      "text/plain": [
       "'0.8.7'"
      ]
     },
     "execution_count": 1,
     "metadata": {},
     "output_type": "execute_result"
    }
   ],
   "source": [
    "import brightway2 as bw\n",
    "import aesa_pbs\n",
    "aesa_pbs.__version__"
   ]
  },
  {
   "cell_type": "markdown",
   "id": "5ff0832c-f853-49f5-ad34-3ab8c62e22d5",
   "metadata": {
    "tags": []
   },
   "source": [
    "## Remove methods from the project"
   ]
  },
  {
   "cell_type": "code",
   "execution_count": 2,
   "id": "2512bae9-b003-4c54-bd69-cb8e73f9720e",
   "metadata": {},
   "outputs": [],
   "source": [
    "import os"
   ]
  },
  {
   "cell_type": "code",
   "execution_count": 10,
   "id": "f3144f0c-46fc-44f7-9a7f-615ee55eccd7",
   "metadata": {},
   "outputs": [
    {
     "data": {
      "text/plain": [
       "0"
      ]
     },
     "execution_count": 10,
     "metadata": {},
     "output_type": "execute_result"
    }
   ],
   "source": [
    "aesa = [m for m in bw.methods if \"AESA\" in str(m)]\n",
    "len(aesa)"
   ]
  },
  {
   "cell_type": "code",
   "execution_count": 11,
   "id": "573b2f4e-e2ce-4dc6-89d4-a0e3aec1db05",
   "metadata": {},
   "outputs": [],
   "source": [
    "# Get paths to methods and delete manually\n",
    "\n",
    "for m in aesa:\n",
    "    my_method = bw.Method(m)\n",
    "    print(my_method)\n",
    "    # Intermediate pickle, what gets loaded by my_method.load()\n",
    "    print(\"\\t\", os.path.join(bw.projects.dir, \"intermediate\", my_method.filename + \".pickle\"))\n",
    "    # Processed array, used in calculations\n",
    "    print(\"\\t\", my_method.filepath_processed())"
   ]
  },
  {
   "cell_type": "code",
   "execution_count": 12,
   "id": "47c07979-d64e-40a7-8797-6a82194c014c",
   "metadata": {},
   "outputs": [],
   "source": [
    "# Deregister deleted methods\n",
    "\n",
    "for m in aesa:\n",
    "    bw.Method(m).deregister()"
   ]
  },
  {
   "cell_type": "code",
   "execution_count": 6,
   "id": "c27406ba-d6ac-427f-9efb-97a787905beb",
   "metadata": {},
   "outputs": [
    {
     "data": {
      "text/plain": [
       "Methods dictionary with 975 objects, including:\n",
       "\t('CML 2001 (superseded)', 'acidification potential', 'average European')\n",
       "\t('CML 2001 (superseded)', 'acidification potential', 'generic')\n",
       "\t('CML 2001 (superseded)', 'climate change', 'GWP 100a')\n",
       "\t('CML 2001 (superseded)', 'climate change', 'GWP 20a')\n",
       "\t('CML 2001 (superseded)', 'climate change', 'GWP 500a')\n",
       "\t('CML 2001 (superseded)', 'climate change', 'lower limit of net GWP')\n",
       "\t('CML 2001 (superseded)', 'climate change', 'upper limit of net GWP')\n",
       "\t('CML 2001 (superseded)', 'eutrophication potential', 'average European')\n",
       "\t('CML 2001 (superseded)', 'eutrophication potential', 'generic')\n",
       "\t('CML 2001 (superseded)', 'freshwater aquatic ecotoxicity', 'FAETP 100a')\n",
       "Use `list(this object)` to get the complete list."
      ]
     },
     "execution_count": 6,
     "metadata": {},
     "output_type": "execute_result"
    }
   ],
   "source": [
    "bw.methods"
   ]
  },
  {
   "cell_type": "markdown",
   "id": "4cc42f43-0938-4bd9-853d-4b4f535c1783",
   "metadata": {
    "tags": []
   },
   "source": [
    "## Remove nitrogen fertilizer exchanges from the updated database"
   ]
  },
  {
   "cell_type": "code",
   "execution_count": 7,
   "id": "b8c8c650-c761-43d7-a9f2-755a298e3bc7",
   "metadata": {},
   "outputs": [],
   "source": [
    "remove_nflow_activities = aesa_pbs.get_nitrogenous_fertilizers(\"ei35cutoff\")"
   ]
  },
  {
   "cell_type": "code",
   "execution_count": 8,
   "id": "0a85a0fa-d92e-49bc-b27c-790247bc0ada",
   "metadata": {},
   "outputs": [
    {
     "name": "stdout",
     "output_type": "stream",
     "text": [
      "Cleaning 'nitrogen fertilizer' exchanges from the activities that produce nitrogen fertilizer...\n",
      "These 44 activities have been cleaned: \n",
      "['ammonium sulfate production' (kilogram, RER, None), 'diammonium phosphate production' (kilogram, RER, None), 'ammonium nitrate production' (kilogram, RoW, None), 'citric acid production' (kilogram, RNA, None), 'urea production, as N' (kilogram, RER, None), 'nutrient supply from coconut husk' (kilogram, GLO, None), 'ammonium nitrate phosphate production' (kilogram, RER, None), 'calcium nitrate production' (kilogram, RoW, None), 'nutrient supply from poultry manure, dried' (kilogram, GLO, None), 'urea ammonium nitrate production' (kilogram, RoW, None), 'nickel mine operation, sulfidic ore' (kilogram, GLO, None), 'nutrient supply from compost' (kilogram, GLO, None), 'urea ammonium nitrate production' (kilogram, RER, None), 'ammonium nitrate phosphate production' (kilogram, RoW, None), 'nutrient supply from vinasse, from fermentation of sweet sorghum' (kilogram, GLO, None), 'smelting and refining of nickel ore' (kilogram, GLO, None), 'citric acid production' (kilogram, RoW, None), 'ammonium sulfate production' (kilogram, RoW, None), 'calcium ammonium nitrate production' (kilogram, RoW, None), 'nutrient supply from poultry manure, fresh' (kilogram, GLO, None), 'nutrient supply from vinasse, from fermentation of sugar beet molasses' (kilogram, GLO, None), 'nutrient supply from manure, solid, cattle' (kilogram, GLO, None), 'ammonium nitrate production' (kilogram, RER, None), 'urea production, as N' (kilogram, RoW, None), 'monoammonium phosphate production' (kilogram, RoW, None), 'citric acid production' (kilogram, RER, None), 'heat production, straw, at furnace 300kW' (kilogram, GLO, None), 'calcium nitrate production' (kilogram, RER, None), 'nutrient supply from calcium nitrate' (kilogram, GLO, None), 'monoammonium phosphate production' (kilogram, RER, None), 'nutrient supply from ammonium chloride' (kilogram, GLO, None), 'nutrient supply from manure, liquid, cattle' (kilogram, GLO, None), 'treatment, sludge from pulp and paper production, landfarming' (kilogram, CA-QC, None), 'nutrient supply from vinasse, from fermentation of sugarcane' (kilogram, GLO, None), 'citric acid production' (kilogram, CN, None), 'nutrient supply from vinasse, from fermentation of sugarcane molasses' (kilogram, GLO, None), 'nutrient supply from manure, liquid, swine' (kilogram, GLO, None), 'diammonium phosphate production' (kilogram, RoW, None), 'nutrient supply from potassium nitrate' (kilogram, GLO, None), 'heat production, straw, organic, at furnace 300kW' (kilogram, GLO, None), 'treatment, sludge from pulp and paper production, landfarming' (kilogram, Europe without Switzerland, None), 'nutrient supply from vinasse, from fermentation of sugar beet' (kilogram, GLO, None), 'calcium ammonium nitrate production' (kilogram, RER, None), 'treatment, sludge from pulp and paper production, landfarming' (kilogram, RoW, None)].\n"
     ]
    }
   ],
   "source": [
    "aesa_pbs.remove_nitrogen_fertilizer_exchanges(remove_nflow_activities, show_cleaned=True)"
   ]
  },
  {
   "cell_type": "markdown",
   "id": "54ebefc3-c6f6-4a19-b729-1c0d966bd08e",
   "metadata": {
    "tags": []
   },
   "source": [
    "## Remove `A_technosphere_flows` database from the project"
   ]
  },
  {
   "cell_type": "code",
   "execution_count": 9,
   "id": "785ae18c-05fa-481c-8bf2-6b528bde1913",
   "metadata": {},
   "outputs": [
    {
     "data": {
      "text/plain": [
       "Databases dictionary with 5 object(s):\n",
       "\tbiosphere3\n",
       "\tei35apos\n",
       "\tei35cutoff\n",
       "\tei38apos\n",
       "\tei38cutoff"
      ]
     },
     "execution_count": 9,
     "metadata": {},
     "output_type": "execute_result"
    }
   ],
   "source": [
    "if \"A_technosphere_flows\" in bw.databases:\n",
    "    del bw.databases['A_technosphere_flows']\n",
    "    \n",
    "bw.databases"
   ]
  }
 ],
 "metadata": {
  "kernelspec": {
   "display_name": "Python (bw2)",
   "language": "python",
   "name": "bw2"
  },
  "language_info": {
   "codemirror_mode": {
    "name": "ipython",
    "version": 3
   },
   "file_extension": ".py",
   "mimetype": "text/x-python",
   "name": "python",
   "nbconvert_exporter": "python",
   "pygments_lexer": "ipython3",
   "version": "3.9.7"
  }
 },
 "nbformat": 4,
 "nbformat_minor": 5
}
