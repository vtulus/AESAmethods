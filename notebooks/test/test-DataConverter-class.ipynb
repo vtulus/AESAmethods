{
 "cells": [
  {
   "cell_type": "code",
   "execution_count": 3,
   "id": "b51496a8-ba02-4ba2-ab5f-f93c000b2bf6",
   "metadata": {},
   "outputs": [],
   "source": [
    "import aesa_pbs\n",
    "from project_path import ROOT_DIR"
   ]
  },
  {
   "cell_type": "code",
   "execution_count": 4,
   "id": "37f5a44e-c1c8-4d3e-b463-6bdb11027991",
   "metadata": {},
   "outputs": [],
   "source": [
    "import brightway2 as bw\n",
    "import os"
   ]
  },
  {
   "cell_type": "code",
   "execution_count": 5,
   "id": "311e7ae4-72de-4428-92cb-81f3784b7c9e",
   "metadata": {},
   "outputs": [
    {
     "data": {
      "text/plain": [
       "'0.9.0.dev+premise.aesa'"
      ]
     },
     "execution_count": 5,
     "metadata": {},
     "output_type": "execute_result"
    }
   ],
   "source": [
    "aesa_pbs.__version__"
   ]
  },
  {
   "cell_type": "markdown",
   "id": "d80d0fcd-ccf4-4e9d-9983-eb9307e54de1",
   "metadata": {
    "tags": []
   },
   "source": [
    "## tests"
   ]
  },
  {
   "cell_type": "code",
   "execution_count": 4,
   "id": "f87ce5e0-b2d5-4158-b6af-7041a4ea8b6b",
   "metadata": {},
   "outputs": [],
   "source": [
    "TRIAL_XLSX_PATH = Path(ROOT_DIR + r\"/data/temp/trial.xlsx\")\n",
    "TRIAL_YAML_PATH = Path(ROOT_DIR + r\"/data/temp/trial.yaml\")\n",
    "OUT_XLSX_PATH = Path(ROOT_DIR + r\"/data/temp/out.xlsx\")\n",
    "OUT_YAML_PATH = Path(ROOT_DIR + r\"/data/temp/out.yaml\")"
   ]
  },
  {
   "cell_type": "code",
   "execution_count": 6,
   "id": "8a81429b-f1e0-4bb7-bfee-684731bb8b9f",
   "metadata": {},
   "outputs": [
    {
     "name": "stderr",
     "output_type": "stream",
     "text": [
      "WARNING: Some data is missing (or invalid) in trial.yaml (see below incomplete sets):\n",
      "+--------------------------------------------+-------------+--------+\n",
      "| name                                       | categories  | amount |\n",
      "+--------------------------------------------+-------------+--------+\n",
      "| Carbon dioxide, from soil or biomass stock | air::indoor | nan    |\n",
      "|                                            | nan         | nan    |\n",
      "+--------------------------------------------+-------------+--------+\n",
      "Note: These sets will be omitted.\n",
      "\n",
      "WARNING: Duplicated flows found in trial.yaml (see below):\n",
      "+------------------------+----------------------------------------+----------+\n",
      "| name                   | categories                             | amount   |\n",
      "+------------------------+----------------------------------------+----------+\n",
      "| Carbon dioxide, fossil | air                                    | 3.53e-13 |\n",
      "| Carbon dioxide, fossil | air::low population density, long-term | 3.53e-13 |\n",
      "+------------------------+----------------------------------------+----------+\n",
      "Note: All duplicates will be removed.\n",
      "\n"
     ]
    }
   ],
   "source": [
    "# converter = aesa_pbs.DataConverter(TRIAL_XLSX_PATH)\n",
    "converter = aesa_pbs.DataConverter(TRIAL_YAML_PATH)"
   ]
  },
  {
   "cell_type": "code",
   "execution_count": 8,
   "id": "9f475aff-4765-403a-ae31-3aab11bc6795",
   "metadata": {},
   "outputs": [
    {
     "name": "stdout",
     "output_type": "stream",
     "text": [
      "File created in C:\\Users\\vtulus\\Documents\\00-ETH_projects\\AESAmethods\\data\\temp\\out.xlsx\n"
     ]
    }
   ],
   "source": [
    "converter.to_excel(OUT_XLSX_PATH)"
   ]
  },
  {
   "cell_type": "code",
   "execution_count": 8,
   "id": "3e8c4c6c-d058-4b89-9fa4-72ae301ac123",
   "metadata": {},
   "outputs": [
    {
     "name": "stdout",
     "output_type": "stream",
     "text": [
      "Databases in 'test' project: ['biosphere3', 'ei35cutoff', 'ei38cutoff']\n"
     ]
    }
   ],
   "source": [
    "# Create a \"test\" project or activate it\n",
    "\n",
    "if not [proj[0] for proj in bw.projects.report() if proj[0]==\"test\"]:\n",
    "    bw.projects.set_current(\"default\")\n",
    "    bw.projects.copy_project(\"test\", switch=True)\n",
    "    \n",
    "    # delete extra dbs\n",
    "    del bw.databases['ei35apos']\n",
    "    del bw.databases['ei38apos']\n",
    "else:\n",
    "    bw.projects.set_current(\"test\")\n",
    "print(f\"Databases in '{bw.projects.current}' project: {bw.databases.list}\")\n",
    "    \n",
    "    \n",
    "# Delete \"test\" project\n",
    "# bw.projects.set_current(\"default\")\n",
    "# bw.projects.delete_project(name=\"test\", delete_dir=True)\n",
    "\n",
    "# Delete database\n",
    "# del bw.databases['A_technosphere_flows']"
   ]
  },
  {
   "cell_type": "code",
   "execution_count": 10,
   "id": "51a47142-beae-433a-917b-3be4af5e3d44",
   "metadata": {
    "tags": []
   },
   "outputs": [],
   "source": [
    "list_aesa_methods = [m for m in bw.methods if \"aesa\" in str(m).lower()]\n",
    "\n",
    "# If you need to delete some previously installed methods, \n",
    "# first locate the methods and delete manually\n",
    "locate_methods =False\n",
    "# then deregister methods (delete from bw)\n",
    "delete_methods = False\n",
    "# 1. Find locations of the methods to delete.\n",
    "# 2. Delete manually the .pickle and .npy files\n",
    "# 3. Deregister methods\n",
    "\n",
    "if locate_methods:\n",
    "    for method in list_aesa_methods:\n",
    "        my_method = bw.Method(method)\n",
    "        print(my_method)\n",
    "        # Intermediate pickle, what gets loaded by my_method.load()\n",
    "        print(\"   \", os.path.join(bw.projects.dir, \"intermediate\", my_method.filename + \".pickle\"))\n",
    "        # Processed array, used in calculations\n",
    "        print(\"   \", my_method.filepath_processed())\n",
    "        print(\"\\n\")\n",
    "if delete_methods:    \n",
    "    for method in list_aesa_methods:\n",
    "        bw.Method(method).deregister()"
   ]
  },
  {
   "cell_type": "code",
   "execution_count": 11,
   "id": "add36b17-66c7-4f51-9de5-65e656d89248",
   "metadata": {},
   "outputs": [
    {
     "name": "stderr",
     "output_type": "stream",
     "text": [
      "WARNING: Duplicated flows found in aesa_BiogeochemicalFlows_P.yaml (see below):\n",
      "+------------+----------------------+----------+\n",
      "| name       | categories           | amount   |\n",
      "+------------+----------------------+----------+\n",
      "| Phosphorus | water::surface water | 8.61e-10 |\n",
      "+------------+----------------------+----------+\n",
      "Note: All duplicates will be removed.\n",
      "\n",
      "Writing activities to SQLite3 database:\n"
     ]
    },
    {
     "name": "stdout",
     "output_type": "stream",
     "text": [
      "Adding ('AESA (PBs-LCIA)', '0.8.8+xlsxtoyaml.8.4', 'climate change', 'atmospheric CO2 concentration')\n",
      "Applying strategy: csv_restore_tuples\n",
      "Applying strategy: csv_numerize\n",
      "Applying strategy: csv_drop_unknown\n",
      "Applying strategy: set_biosphere_type\n",
      "Applying strategy: drop_unspecified_subcategories\n",
      "Applying strategy: link_iterable_by_fields\n",
      "Applying strategy: drop_falsey_uncertainty_fields_but_keep_zeros\n",
      "Applying strategy: convert_uncertainty_types_to_integers\n",
      "Applying strategy: drop_empty_lines\n",
      "Applied 9 strategies in 0.10 seconds\n",
      "Wrote 1 LCIA methods with 42 characterization factors\n",
      "\n",
      "Adding ('AESA (PBs-LCIA)', '0.8.8+xlsxtoyaml.8.4', 'biogeochemical flows', 'nitrogen', 'directly fixated')\n",
      "+------------------------------------------------------------+\n",
      "| Warning                                                    |\n",
      "+------------------------------------------------------------+\n",
      "| The method for quantification of directly fixated nitrogen |\n",
      "| requires an additional database `A_technosphere_flows`.    |\n",
      "| This database was not found in the current project.        |\n",
      "| It will be generated now.                                  |\n",
      "|                                                            |\n",
      "| Next steps:                                                |\n",
      "| 1. Use `aesa_pbs.get_nitrogenous_fertilizers()` to filter  |\n",
      "|    activities producing nitrogenous fertilizers in a       |\n",
      "|    specific background database.                           |\n",
      "| 2. Use `aesa_pbs.update_nitrogen_fertilizer_exchanges()`   |\n",
      "|    to modify those activities.                             |\n",
      "|                                                            |\n",
      "| Optionally,                                                |\n",
      "| modified activities can be cleaned with                    |\n",
      "|    `aesa_pbs.remove_nitrogen_fertilizer_exchanges()`.      |\n",
      "+------------------------------------------------------------+\n"
     ]
    },
    {
     "name": "stderr",
     "output_type": "stream",
     "text": [
      "0% [#] 100% | ETA: 00:00:01\n",
      "Total time elapsed: 00:00:00\n"
     ]
    },
    {
     "name": "stdout",
     "output_type": "stream",
     "text": [
      "Title: Writing activities to SQLite3 database:\n",
      "  Started: 07/25/2022 12:20:19\n",
      "  Finished: 07/25/2022 12:20:19\n",
      "  Total time elapsed: 00:00:00\n",
      "  CPU %: 0.00\n",
      "  Memory %: 1.24\n",
      "Applying strategy: csv_restore_tuples\n",
      "Applying strategy: csv_numerize\n",
      "Applying strategy: csv_drop_unknown\n",
      "Applying strategy: set_biosphere_type\n",
      "Applying strategy: drop_unspecified_subcategories\n",
      "Applying strategy: link_iterable_by_fields\n",
      "Applying strategy: drop_falsey_uncertainty_fields_but_keep_zeros\n",
      "Applying strategy: convert_uncertainty_types_to_integers\n",
      "Applying strategy: drop_empty_lines\n",
      "Applying strategy: link_iterable_by_fields\n",
      "Applied 10 strategies in 0.08 seconds\n",
      "Wrote 1 LCIA methods with 1 characterization factors\n",
      "\n",
      "Adding ('AESA (PBs-LCIA)', '0.8.8+xlsxtoyaml.8.4', 'change in biosphere integrity', 'functional diversity', 'CO2eq emissions')\n",
      "Applying strategy: csv_restore_tuples\n",
      "Applying strategy: csv_numerize\n",
      "Applying strategy: csv_drop_unknown\n",
      "Applying strategy: set_biosphere_type\n",
      "Applying strategy: drop_unspecified_subcategories\n",
      "Applying strategy: link_iterable_by_fields\n",
      "Applying strategy: drop_falsey_uncertainty_fields_but_keep_zeros\n",
      "Applying strategy: convert_uncertainty_types_to_integers\n",
      "Applying strategy: drop_empty_lines\n",
      "Applied 9 strategies in 0.10 seconds\n",
      "Wrote 1 LCIA methods with 188 characterization factors\n",
      "\n",
      "Adding ('AESA (PBs-LCIA)', '0.8.8+xlsxtoyaml.8.4', 'change in biosphere integrity', 'functional diversity', 'total')\n",
      "Applying strategy: csv_restore_tuples\n",
      "Applying strategy: csv_numerize\n",
      "Applying strategy: csv_drop_unknown\n",
      "Applying strategy: set_biosphere_type\n",
      "Applying strategy: drop_unspecified_subcategories\n",
      "Applying strategy: link_iterable_by_fields\n",
      "Applying strategy: drop_falsey_uncertainty_fields_but_keep_zeros\n",
      "Applying strategy: convert_uncertainty_types_to_integers\n",
      "Applying strategy: drop_empty_lines\n",
      "Applied 9 strategies in 0.09 seconds\n",
      "Wrote 1 LCIA methods with 226 characterization factors\n",
      "\n",
      "Adding ('AESA (PBs-LCIA)', '0.8.8+xlsxtoyaml.8.4', 'change in biosphere integrity', 'functional diversity', 'direct land use')\n",
      "Applying strategy: csv_restore_tuples\n",
      "Applying strategy: csv_numerize\n",
      "Applying strategy: csv_drop_unknown\n",
      "Applying strategy: set_biosphere_type\n",
      "Applying strategy: drop_unspecified_subcategories\n",
      "Applying strategy: link_iterable_by_fields\n",
      "Applying strategy: drop_falsey_uncertainty_fields_but_keep_zeros\n",
      "Applying strategy: convert_uncertainty_types_to_integers\n",
      "Applying strategy: drop_empty_lines\n",
      "Applied 9 strategies in 0.15 seconds\n",
      "Wrote 1 LCIA methods with 38 characterization factors\n",
      "\n",
      "Adding ('AESA (PBs-LCIA)', '0.8.8+xlsxtoyaml.8.4', 'climate change', 'energy imbalance at top-of-atmosphere')\n",
      "Applying strategy: csv_restore_tuples\n",
      "Applying strategy: csv_numerize\n",
      "Applying strategy: csv_drop_unknown\n",
      "Applying strategy: set_biosphere_type\n",
      "Applying strategy: drop_unspecified_subcategories\n",
      "Applying strategy: link_iterable_by_fields\n",
      "Applying strategy: drop_falsey_uncertainty_fields_but_keep_zeros\n",
      "Applying strategy: convert_uncertainty_types_to_integers\n",
      "Applying strategy: drop_empty_lines\n",
      "Applied 9 strategies in 0.10 seconds\n",
      "Wrote 1 LCIA methods with 98 characterization factors\n",
      "\n",
      "Adding ('AESA (PBs-LCIA)', '0.8.8+xlsxtoyaml.8.4', 'land-system change', 'global')\n",
      "Applying strategy: csv_restore_tuples\n",
      "Applying strategy: csv_numerize\n",
      "Applying strategy: csv_drop_unknown\n",
      "Applying strategy: set_biosphere_type\n",
      "Applying strategy: drop_unspecified_subcategories\n",
      "Applying strategy: link_iterable_by_fields\n",
      "Applying strategy: drop_falsey_uncertainty_fields_but_keep_zeros\n",
      "Applying strategy: convert_uncertainty_types_to_integers\n",
      "Applying strategy: drop_empty_lines\n",
      "Applied 9 strategies in 0.10 seconds\n",
      "Wrote 1 LCIA methods with 10 characterization factors\n",
      "\n",
      "Adding ('AESA (PBs-LCIA)', '0.8.8+xlsxtoyaml.8.4', 'biogeochemical flows', 'phosphorus')\n",
      "Applying strategy: csv_restore_tuples\n",
      "Applying strategy: csv_numerize\n",
      "Applying strategy: csv_drop_unknown\n",
      "Applying strategy: set_biosphere_type\n",
      "Applying strategy: drop_unspecified_subcategories\n",
      "Applying strategy: link_iterable_by_fields\n",
      "Applying strategy: drop_falsey_uncertainty_fields_but_keep_zeros\n",
      "Applying strategy: convert_uncertainty_types_to_integers\n",
      "Applying strategy: drop_empty_lines\n",
      "Applied 9 strategies in 0.14 seconds\n",
      "Wrote 1 LCIA methods with 2 characterization factors\n",
      "\n",
      "Adding ('AESA (PBs-LCIA)', '0.8.8+xlsxtoyaml.8.4', 'freshwater use', 'global')\n",
      "Applying strategy: csv_restore_tuples\n",
      "Applying strategy: csv_numerize\n",
      "Applying strategy: csv_drop_unknown\n",
      "Applying strategy: set_biosphere_type\n",
      "Applying strategy: drop_unspecified_subcategories\n",
      "Applying strategy: link_iterable_by_fields\n",
      "Applying strategy: drop_falsey_uncertainty_fields_but_keep_zeros\n",
      "Applying strategy: convert_uncertainty_types_to_integers\n",
      "Applying strategy: drop_empty_lines\n",
      "Applied 9 strategies in 0.09 seconds\n",
      "Wrote 1 LCIA methods with 15 characterization factors\n",
      "\n",
      "Adding ('AESA (PBs-LCIA)', '0.8.8+xlsxtoyaml.8.4', 'ozone depletion', 'stratospheric O3 concentration')\n",
      "Applying strategy: csv_restore_tuples\n",
      "Applying strategy: csv_numerize\n",
      "Applying strategy: csv_drop_unknown\n",
      "Applying strategy: set_biosphere_type\n",
      "Applying strategy: drop_unspecified_subcategories\n",
      "Applying strategy: link_iterable_by_fields\n",
      "Applying strategy: drop_falsey_uncertainty_fields_but_keep_zeros\n",
      "Applying strategy: convert_uncertainty_types_to_integers\n",
      "Applying strategy: drop_empty_lines\n",
      "Applied 9 strategies in 0.11 seconds\n",
      "Wrote 1 LCIA methods with 75 characterization factors\n",
      "\n",
      "Adding ('AESA (PBs-LCIA)', '0.8.8+xlsxtoyaml.8.4', 'biogeochemical flows', 'nitrogen', 'inverse modelling, surface water')\n",
      "Applying strategy: csv_restore_tuples\n",
      "Applying strategy: csv_numerize\n",
      "Applying strategy: csv_drop_unknown\n",
      "Applying strategy: set_biosphere_type\n",
      "Applying strategy: drop_unspecified_subcategories\n",
      "Applying strategy: link_iterable_by_fields\n",
      "Applying strategy: drop_falsey_uncertainty_fields_but_keep_zeros\n",
      "Applying strategy: convert_uncertainty_types_to_integers\n",
      "Applying strategy: drop_empty_lines\n",
      "Applied 9 strategies in 0.15 seconds\n",
      "Wrote 1 LCIA methods with 2 characterization factors\n",
      "\n",
      "Adding ('AESA (PBs-LCIA)', '0.8.8+xlsxtoyaml.8.4', 'ocean acidification', 'carbonate ion concentration')\n",
      "Applying strategy: csv_restore_tuples\n",
      "Applying strategy: csv_numerize\n",
      "Applying strategy: csv_drop_unknown\n",
      "Applying strategy: set_biosphere_type\n",
      "Applying strategy: drop_unspecified_subcategories\n",
      "Applying strategy: link_iterable_by_fields\n",
      "Applying strategy: drop_falsey_uncertainty_fields_but_keep_zeros\n",
      "Applying strategy: convert_uncertainty_types_to_integers\n",
      "Applying strategy: drop_empty_lines\n",
      "Applied 9 strategies in 0.10 seconds\n",
      "Wrote 1 LCIA methods with 42 characterization factors\n",
      "\n"
     ]
    }
   ],
   "source": [
    "# Install AESA methods if they dont exist\n",
    "if not list_aesa_methods:\n",
    "    aesa_pbs.add_aesa_pbs()"
   ]
  },
  {
   "cell_type": "code",
   "execution_count": 11,
   "id": "7b63457e-e6a6-4635-9d02-3b66b49755ae",
   "metadata": {
    "collapsed": true,
    "jupyter": {
     "outputs_hidden": true
    },
    "tags": []
   },
   "outputs": [
    {
     "data": {
      "text/plain": [
       "[('AESA (PBs-LCIA)',\n",
       "  '0.8.8+xlsxtoyaml.8.2',\n",
       "  'change in biosphere integrity',\n",
       "  'functional diversity',\n",
       "  'total'),\n",
       " ('AESA (PBs-LCIA)',\n",
       "  '0.8.8+xlsxtoyaml.8.2',\n",
       "  'climate change',\n",
       "  'energy imbalance at top-of-atmosphere'),\n",
       " ('AESA (PBs-LCIA)', '0.8.8+xlsxtoyaml.8.2', 'land-system change', 'global'),\n",
       " ('AESA (PBs-LCIA)',\n",
       "  '0.8.8+xlsxtoyaml.8.2',\n",
       "  'biogeochemical flows',\n",
       "  'nitrogen',\n",
       "  'directly fixated'),\n",
       " ('AESA (PBs-LCIA)',\n",
       "  '0.8.8+xlsxtoyaml.8.2',\n",
       "  'change in biosphere integrity',\n",
       "  'functional diversity',\n",
       "  'CO2eq emissions'),\n",
       " ('AESA (PBs-LCIA)', '0.8.8+xlsxtoyaml.8.2', 'freshwater use', 'global'),\n",
       " ('AESA (PBs-LCIA)',\n",
       "  '0.8.8+xlsxtoyaml.8.2',\n",
       "  'change in biosphere integrity',\n",
       "  'functional diversity',\n",
       "  'direct land use'),\n",
       " ('AESA (PBs-LCIA)',\n",
       "  '0.8.8+xlsxtoyaml.8.2',\n",
       "  'climate change',\n",
       "  'atmospheric CO2 concentration'),\n",
       " ('AESA (PBs-LCIA)',\n",
       "  '0.8.8+xlsxtoyaml.8.2',\n",
       "  'biogeochemical flows',\n",
       "  'nitrogen',\n",
       "  'inverse modelling, surface water'),\n",
       " ('AESA (PBs-LCIA)',\n",
       "  '0.8.8+xlsxtoyaml.8.2',\n",
       "  'ozone depletion',\n",
       "  'stratospheric O3 concentration'),\n",
       " ('AESA (PBs-LCIA)',\n",
       "  '0.8.8+xlsxtoyaml.8.2',\n",
       "  'ocean acidification',\n",
       "  'carbonate ion concentration'),\n",
       " ('AESA (PBs-LCIA)',\n",
       "  '0.8.8+xlsxtoyaml.8.2',\n",
       "  'biogeochemical flows',\n",
       "  'phosphorus')]"
      ]
     },
     "execution_count": 11,
     "metadata": {},
     "output_type": "execute_result"
    }
   ],
   "source": [
    "[m for m in bw.methods if \"aesa\" in str(m).lower()]"
   ]
  },
  {
   "cell_type": "markdown",
   "id": "e03dad28-d9e1-46e5-991b-057bf23ceec5",
   "metadata": {
    "tags": []
   },
   "source": [
    "### install aesa_pbs with pip"
   ]
  },
  {
   "cell_type": "raw",
   "id": "b28f75ee-54a0-4fac-ae0c-42b32cfdc3dc",
   "metadata": {},
   "source": [
    "import os\n",
    "os.environ[\"PROJ_LIB\"]=r\"C:\\Users\\vtulus\\VirtualEnvs\\bw2\\Library\\share\\proj\""
   ]
  },
  {
   "cell_type": "code",
   "execution_count": 20,
   "id": "88667f52-5a67-4d25-b30a-f2c12b41a2ee",
   "metadata": {},
   "outputs": [],
   "source": [
    "from project_path import ROOT_DIR"
   ]
  },
  {
   "cell_type": "code",
   "execution_count": 2,
   "id": "8143c5a8-6252-4f32-a39e-a854805b2004",
   "metadata": {},
   "outputs": [],
   "source": [
    "%%capture\n",
    "# supress output with %%capture\n",
    "# change directory\n",
    "%cd {ROOT_DIR}"
   ]
  },
  {
   "cell_type": "code",
   "execution_count": 3,
   "id": "81efd1bd-f938-4e4f-9de3-7468f558cc12",
   "metadata": {},
   "outputs": [],
   "source": [
    "# %pip uninstall -y aesa_pbs"
   ]
  },
  {
   "cell_type": "code",
   "execution_count": 4,
   "id": "d11f5b60-3327-475e-9fa4-c30897eb5d06",
   "metadata": {},
   "outputs": [
    {
     "name": "stdout",
     "output_type": "stream",
     "text": [
      "Processing c:\\users\\vtulus\\documents\\00-eth_projects\\aesamethods\n",
      "  Installing build dependencies: started\n",
      "  Installing build dependencies: finished with status 'done'\n",
      "  Getting requirements to build wheel: started\n",
      "  Getting requirements to build wheel: finished with status 'done'\n",
      "  Preparing metadata (pyproject.toml): started\n",
      "  Preparing metadata (pyproject.toml): finished with status 'done'\n",
      "Building wheels for collected packages: aesa-pbs\n",
      "  Building wheel for aesa-pbs (pyproject.toml): started\n",
      "  Building wheel for aesa-pbs (pyproject.toml): finished with status 'done'\n",
      "  Created wheel for aesa-pbs: filename=aesa_pbs-0.8.8+xlsxtoyaml.9-py3-none-any.whl size=29805 sha256=95f892399ee05e4fab484252f82ccdd3557e80cffcb5b1426454c7ed46ec8abe\n",
      "  Stored in directory: C:\\Users\\vtulus\\AppData\\Local\\Temp\\pip-ephem-wheel-cache-mecnu2ry\\wheels\\10\\fa\\a5\\382ef7031366baa9086692b52163d123e54538a0a08b665688\n",
      "Successfully built aesa-pbs\n",
      "Installing collected packages: aesa-pbs\n",
      "  Attempting uninstall: aesa-pbs\n",
      "    Found existing installation: aesa-pbs 0.8.8+xlsxtoyaml.9\n",
      "    Uninstalling aesa-pbs-0.8.8+xlsxtoyaml.9:\n",
      "      Successfully uninstalled aesa-pbs-0.8.8+xlsxtoyaml.9\n",
      "Successfully installed aesa-pbs-0.8.8+xlsxtoyaml.9\n",
      "Note: you may need to restart the kernel to use updated packages.\n"
     ]
    }
   ],
   "source": [
    "# %%capture\n",
    "# %conda env list\n",
    "# %conda list\n",
    "# %dhist\n",
    "# %pip install . --use-feature=in-tree-build\n",
    "%pip install ."
   ]
  },
  {
   "cell_type": "code",
   "execution_count": 5,
   "id": "699c99ba-845e-4faf-ba7f-b2068f46cf45",
   "metadata": {
    "tags": []
   },
   "outputs": [],
   "source": [
    "# %conda list"
   ]
  },
  {
   "cell_type": "code",
   "execution_count": 1,
   "id": "da0106f1-1ecc-4358-addd-fbb30c7ecb84",
   "metadata": {},
   "outputs": [
    {
     "data": {
      "text/plain": [
       "'0.8.8+xlsxtoyaml.9'"
      ]
     },
     "execution_count": 1,
     "metadata": {},
     "output_type": "execute_result"
    }
   ],
   "source": [
    "import aesa_pbs\n",
    "aesa_pbs.__version__"
   ]
  },
  {
   "cell_type": "markdown",
   "id": "6ba4c1ec-990c-483d-b0c4-b0a7abe08873",
   "metadata": {},
   "source": [
    "## playground"
   ]
  },
  {
   "cell_type": "code",
   "execution_count": 1,
   "id": "9af12ae5-6cf4-4b24-9436-51d24c3efd06",
   "metadata": {},
   "outputs": [],
   "source": [
    "import pandas as pd\n",
    "import numpy as np\n",
    "import logging"
   ]
  },
  {
   "cell_type": "code",
   "execution_count": 24,
   "id": "0c157aa8-bfbc-4fba-96a0-7507edfb1dd6",
   "metadata": {},
   "outputs": [],
   "source": [
    "filename = \"dummy.xlsx\"\n",
    "\n",
    "# with good data\n",
    "data_good = pd.DataFrame(\n",
    "    np.array(\n",
    "        [\n",
    "            (\"Carbon dioxide, fossil\", \"air\", \"tt3.53e-13\"),\n",
    "            (\"Ethane, chloropentafluoro-, CFC-115\", \"air\", 7.43e-09),\n",
    "            (\"Carbon monoxide, fossil\", \"air\", 2.74e-13),\n",
    "            (\n",
    "                \"Carbon monoxide, fossil\",\n",
    "                \"air::low population density, long-term\",\n",
    "                2.74e-13,\n",
    "            ),\n",
    "            (\"Carbon monoxide, non-fossil\", \"air\", 2.74e-13),\n",
    "            (\"Methane\", \"air::urban air close to ground\", 1.59e-12),\n",
    "        ]\n",
    "    ),\n",
    "    columns=[\"name\", \"categories\", \"amount\"],\n",
    ")\n",
    "\n",
    "# with duplicates\n",
    "data_with_duplicates = data_good.copy(deep=True)\n",
    "data_with_duplicates.iloc[1] = data_with_duplicates.iloc[2]\n",
    "data_with_duplicates.iloc[5] = data_with_duplicates.iloc[4]\n",
    "\n",
    "# with all NaN\n",
    "data_with_all_nan = pd.DataFrame(\n",
    "    np.empty_like(data_good), columns=[\"name\", \"categories\", \"amount\"],\n",
    ")\n",
    "data_with_all_nan[:] = np.nan\n",
    "\n",
    "# with all duplicates\n",
    "data_with_all_duplicates = pd.concat([data_good.iloc[0:1,:]]*5,ignore_index=True)\n",
    "\n",
    "# with empty df\n",
    "data_empty = pd.DataFrame(columns=[\"name\", \"categories\", \"amount\"],)\n",
    "\n",
    "# with more columns\n",
    "data_more_columns = data_good.copy(deep=True)\n",
    "data_more_columns[\"extra_column\"] = data_good.iloc[:,1]\n",
    "\n",
    "# with less columns\n",
    "data_less_columns = data_good.copy(deep=True)\n",
    "data_less_columns.drop(\"categories\", axis=1, inplace=True)\n",
    "\n",
    "# data_more_columns\n",
    "# data_good\n",
    "# data_with_duplicates\n",
    "# data_with_all_nan\n",
    "# data_empty\n",
    "# data_less_columns\n",
    "# data_with_all_duplicates\n"
   ]
  },
  {
   "cell_type": "code",
   "execution_count": 18,
   "id": "db567428-52ac-4449-86a8-e2868adaed3b",
   "metadata": {},
   "outputs": [
    {
     "data": {
      "text/html": [
       "<div>\n",
       "<style scoped>\n",
       "    .dataframe tbody tr th:only-of-type {\n",
       "        vertical-align: middle;\n",
       "    }\n",
       "\n",
       "    .dataframe tbody tr th {\n",
       "        vertical-align: top;\n",
       "    }\n",
       "\n",
       "    .dataframe thead th {\n",
       "        text-align: right;\n",
       "    }\n",
       "</style>\n",
       "<table border=\"1\" class=\"dataframe\">\n",
       "  <thead>\n",
       "    <tr style=\"text-align: right;\">\n",
       "      <th></th>\n",
       "      <th>name</th>\n",
       "      <th>categories</th>\n",
       "      <th>amount</th>\n",
       "    </tr>\n",
       "  </thead>\n",
       "  <tbody>\n",
       "    <tr>\n",
       "      <th>0</th>\n",
       "      <td>Carbon dioxide, fossil</td>\n",
       "      <td>air</td>\n",
       "      <td>3.53e-13</td>\n",
       "    </tr>\n",
       "    <tr>\n",
       "      <th>1</th>\n",
       "      <td>Ethane, chloropentafluoro-, CFC-115</td>\n",
       "      <td>air</td>\n",
       "      <td>7.43e-09</td>\n",
       "    </tr>\n",
       "    <tr>\n",
       "      <th>2</th>\n",
       "      <td>Carbon monoxide, fossil</td>\n",
       "      <td>air</td>\n",
       "      <td>2.74e-13</td>\n",
       "    </tr>\n",
       "    <tr>\n",
       "      <th>3</th>\n",
       "      <td>Carbon monoxide, fossil</td>\n",
       "      <td>air::low population density, long-term</td>\n",
       "      <td>2.74e-13</td>\n",
       "    </tr>\n",
       "    <tr>\n",
       "      <th>4</th>\n",
       "      <td>Carbon monoxide, non-fossil</td>\n",
       "      <td>air</td>\n",
       "      <td>2.74e-13</td>\n",
       "    </tr>\n",
       "    <tr>\n",
       "      <th>5</th>\n",
       "      <td>Methane</td>\n",
       "      <td>air::urban air close to ground</td>\n",
       "      <td>1.59e-12</td>\n",
       "    </tr>\n",
       "  </tbody>\n",
       "</table>\n",
       "</div>"
      ],
      "text/plain": [
       "                                  name  \\\n",
       "0               Carbon dioxide, fossil   \n",
       "1  Ethane, chloropentafluoro-, CFC-115   \n",
       "2              Carbon monoxide, fossil   \n",
       "3              Carbon monoxide, fossil   \n",
       "4          Carbon monoxide, non-fossil   \n",
       "5                              Methane   \n",
       "\n",
       "                               categories    amount  \n",
       "0                                     air  3.53e-13  \n",
       "1                                     air  7.43e-09  \n",
       "2                                     air  2.74e-13  \n",
       "3  air::low population density, long-term  2.74e-13  \n",
       "4                                     air  2.74e-13  \n",
       "5          air::urban air close to ground  1.59e-12  "
      ]
     },
     "execution_count": 18,
     "metadata": {},
     "output_type": "execute_result"
    }
   ],
   "source": [
    "data_good"
   ]
  },
  {
   "cell_type": "code",
   "execution_count": 34,
   "id": "c0ec3c1e-be95-40e6-8482-3dd2d3cf059e",
   "metadata": {},
   "outputs": [
    {
     "data": {
      "text/html": [
       "<div>\n",
       "<style scoped>\n",
       "    .dataframe tbody tr th:only-of-type {\n",
       "        vertical-align: middle;\n",
       "    }\n",
       "\n",
       "    .dataframe tbody tr th {\n",
       "        vertical-align: top;\n",
       "    }\n",
       "\n",
       "    .dataframe thead th {\n",
       "        text-align: right;\n",
       "    }\n",
       "</style>\n",
       "<table border=\"1\" class=\"dataframe\">\n",
       "  <thead>\n",
       "    <tr style=\"text-align: right;\">\n",
       "      <th></th>\n",
       "      <th>name</th>\n",
       "      <th>categories</th>\n",
       "      <th>amount</th>\n",
       "    </tr>\n",
       "  </thead>\n",
       "  <tbody>\n",
       "    <tr>\n",
       "      <th>0</th>\n",
       "      <td>Carbon dioxide, fossil</td>\n",
       "      <td>air</td>\n",
       "      <td>NaN</td>\n",
       "    </tr>\n",
       "    <tr>\n",
       "      <th>1</th>\n",
       "      <td>Ethane, chloropentafluoro-, CFC-115</td>\n",
       "      <td>air</td>\n",
       "      <td>7.430000e-09</td>\n",
       "    </tr>\n",
       "    <tr>\n",
       "      <th>2</th>\n",
       "      <td>Carbon monoxide, fossil</td>\n",
       "      <td>air</td>\n",
       "      <td>2.740000e-13</td>\n",
       "    </tr>\n",
       "    <tr>\n",
       "      <th>3</th>\n",
       "      <td>Carbon monoxide, fossil</td>\n",
       "      <td>air::low population density, long-term</td>\n",
       "      <td>2.740000e-13</td>\n",
       "    </tr>\n",
       "    <tr>\n",
       "      <th>4</th>\n",
       "      <td>Carbon monoxide, non-fossil</td>\n",
       "      <td>air</td>\n",
       "      <td>2.740000e-13</td>\n",
       "    </tr>\n",
       "    <tr>\n",
       "      <th>5</th>\n",
       "      <td>Methane</td>\n",
       "      <td>air::urban air close to ground</td>\n",
       "      <td>1.590000e-12</td>\n",
       "    </tr>\n",
       "  </tbody>\n",
       "</table>\n",
       "</div>"
      ],
      "text/plain": [
       "                                  name  \\\n",
       "0               Carbon dioxide, fossil   \n",
       "1  Ethane, chloropentafluoro-, CFC-115   \n",
       "2              Carbon monoxide, fossil   \n",
       "3              Carbon monoxide, fossil   \n",
       "4          Carbon monoxide, non-fossil   \n",
       "5                              Methane   \n",
       "\n",
       "                               categories        amount  \n",
       "0                                     air           NaN  \n",
       "1                                     air  7.430000e-09  \n",
       "2                                     air  2.740000e-13  \n",
       "3  air::low population density, long-term  2.740000e-13  \n",
       "4                                     air  2.740000e-13  \n",
       "5          air::urban air close to ground  1.590000e-12  "
      ]
     },
     "execution_count": 34,
     "metadata": {},
     "output_type": "execute_result"
    }
   ],
   "source": [
    "data_good[\"amount\"] = pd.to_numeric(data_good['amount'], errors='coerce')#.notnull().all()\n",
    "data_good"
   ]
  },
  {
   "cell_type": "code",
   "execution_count": 32,
   "id": "0ad76bf7-ea40-41f7-98d7-7bfbf6de3c5a",
   "metadata": {},
   "outputs": [
    {
     "data": {
      "text/html": [
       "<div>\n",
       "<style scoped>\n",
       "    .dataframe tbody tr th:only-of-type {\n",
       "        vertical-align: middle;\n",
       "    }\n",
       "\n",
       "    .dataframe tbody tr th {\n",
       "        vertical-align: top;\n",
       "    }\n",
       "\n",
       "    .dataframe thead th {\n",
       "        text-align: right;\n",
       "    }\n",
       "</style>\n",
       "<table border=\"1\" class=\"dataframe\">\n",
       "  <thead>\n",
       "    <tr style=\"text-align: right;\">\n",
       "      <th></th>\n",
       "      <th>name</th>\n",
       "      <th>categories</th>\n",
       "      <th>amount</th>\n",
       "    </tr>\n",
       "  </thead>\n",
       "  <tbody>\n",
       "    <tr>\n",
       "      <th>0</th>\n",
       "      <td>Carbon dioxide, fossil</td>\n",
       "      <td>air</td>\n",
       "      <td>tt3.53e-13</td>\n",
       "    </tr>\n",
       "    <tr>\n",
       "      <th>1</th>\n",
       "      <td>Ethane, chloropentafluoro-, CFC-115</td>\n",
       "      <td>air</td>\n",
       "      <td>7.43e-09</td>\n",
       "    </tr>\n",
       "    <tr>\n",
       "      <th>2</th>\n",
       "      <td>Carbon monoxide, fossil</td>\n",
       "      <td>air</td>\n",
       "      <td>2.74e-13</td>\n",
       "    </tr>\n",
       "    <tr>\n",
       "      <th>3</th>\n",
       "      <td>Carbon monoxide, fossil</td>\n",
       "      <td>air::low population density, long-term</td>\n",
       "      <td>2.74e-13</td>\n",
       "    </tr>\n",
       "    <tr>\n",
       "      <th>4</th>\n",
       "      <td>Carbon monoxide, non-fossil</td>\n",
       "      <td>air</td>\n",
       "      <td>2.74e-13</td>\n",
       "    </tr>\n",
       "    <tr>\n",
       "      <th>5</th>\n",
       "      <td>Methane</td>\n",
       "      <td>air::urban air close to ground</td>\n",
       "      <td>1.59e-12</td>\n",
       "    </tr>\n",
       "  </tbody>\n",
       "</table>\n",
       "</div>"
      ],
      "text/plain": [
       "                                  name  \\\n",
       "0               Carbon dioxide, fossil   \n",
       "1  Ethane, chloropentafluoro-, CFC-115   \n",
       "2              Carbon monoxide, fossil   \n",
       "3              Carbon monoxide, fossil   \n",
       "4          Carbon monoxide, non-fossil   \n",
       "5                              Methane   \n",
       "\n",
       "                               categories      amount  \n",
       "0                                     air  tt3.53e-13  \n",
       "1                                     air    7.43e-09  \n",
       "2                                     air    2.74e-13  \n",
       "3  air::low population density, long-term    2.74e-13  \n",
       "4                                     air    2.74e-13  \n",
       "5          air::urban air close to ground    1.59e-12  "
      ]
     },
     "execution_count": 32,
     "metadata": {},
     "output_type": "execute_result"
    }
   ],
   "source": [
    "data_good"
   ]
  },
  {
   "cell_type": "code",
   "execution_count": 46,
   "id": "cb325c47-7f1f-4432-82c6-368d9c00574a",
   "metadata": {},
   "outputs": [
    {
     "data": {
      "text/plain": [
       "True"
      ]
     },
     "execution_count": 46,
     "metadata": {},
     "output_type": "execute_result"
    }
   ],
   "source": [
    "data_empty[data_empty.duplicated(keep=\"first\")].empty"
   ]
  },
  {
   "cell_type": "code",
   "execution_count": 7,
   "id": "555013f3-cb07-40f0-b263-6ef3050336d3",
   "metadata": {},
   "outputs": [
    {
     "data": {
      "text/html": [
       "<div>\n",
       "<style scoped>\n",
       "    .dataframe tbody tr th:only-of-type {\n",
       "        vertical-align: middle;\n",
       "    }\n",
       "\n",
       "    .dataframe tbody tr th {\n",
       "        vertical-align: top;\n",
       "    }\n",
       "\n",
       "    .dataframe thead th {\n",
       "        text-align: right;\n",
       "    }\n",
       "</style>\n",
       "<table border=\"1\" class=\"dataframe\">\n",
       "  <thead>\n",
       "    <tr style=\"text-align: right;\">\n",
       "      <th></th>\n",
       "      <th>name</th>\n",
       "      <th>categories</th>\n",
       "      <th>amount</th>\n",
       "      <th>extra_column</th>\n",
       "    </tr>\n",
       "  </thead>\n",
       "  <tbody>\n",
       "    <tr>\n",
       "      <th>0</th>\n",
       "      <td>Carbon dioxide, fossil</td>\n",
       "      <td>air</td>\n",
       "      <td>tt3.53e-13</td>\n",
       "      <td>air</td>\n",
       "    </tr>\n",
       "    <tr>\n",
       "      <th>1</th>\n",
       "      <td>Ethane, chloropentafluoro-, CFC-115</td>\n",
       "      <td>air</td>\n",
       "      <td>7.43e-09</td>\n",
       "      <td>air</td>\n",
       "    </tr>\n",
       "    <tr>\n",
       "      <th>2</th>\n",
       "      <td>Carbon monoxide, fossil</td>\n",
       "      <td>air</td>\n",
       "      <td>2.74e-13</td>\n",
       "      <td>air</td>\n",
       "    </tr>\n",
       "    <tr>\n",
       "      <th>3</th>\n",
       "      <td>Carbon monoxide, fossil</td>\n",
       "      <td>air::low population density, long-term</td>\n",
       "      <td>2.74e-13</td>\n",
       "      <td>air::low population density, long-term</td>\n",
       "    </tr>\n",
       "    <tr>\n",
       "      <th>4</th>\n",
       "      <td>Carbon monoxide, non-fossil</td>\n",
       "      <td>air</td>\n",
       "      <td>2.74e-13</td>\n",
       "      <td>air</td>\n",
       "    </tr>\n",
       "    <tr>\n",
       "      <th>5</th>\n",
       "      <td>Methane</td>\n",
       "      <td>air::urban air close to ground</td>\n",
       "      <td>1.59e-12</td>\n",
       "      <td>air::urban air close to ground</td>\n",
       "    </tr>\n",
       "  </tbody>\n",
       "</table>\n",
       "</div>"
      ],
      "text/plain": [
       "                                  name  \\\n",
       "0               Carbon dioxide, fossil   \n",
       "1  Ethane, chloropentafluoro-, CFC-115   \n",
       "2              Carbon monoxide, fossil   \n",
       "3              Carbon monoxide, fossil   \n",
       "4          Carbon monoxide, non-fossil   \n",
       "5                              Methane   \n",
       "\n",
       "                               categories      amount  \\\n",
       "0                                     air  tt3.53e-13   \n",
       "1                                     air    7.43e-09   \n",
       "2                                     air    2.74e-13   \n",
       "3  air::low population density, long-term    2.74e-13   \n",
       "4                                     air    2.74e-13   \n",
       "5          air::urban air close to ground    1.59e-12   \n",
       "\n",
       "                             extra_column  \n",
       "0                                     air  \n",
       "1                                     air  \n",
       "2                                     air  \n",
       "3  air::low population density, long-term  \n",
       "4                                     air  \n",
       "5          air::urban air close to ground  "
      ]
     },
     "execution_count": 7,
     "metadata": {},
     "output_type": "execute_result"
    }
   ],
   "source": [
    "data_less_columns"
   ]
  },
  {
   "cell_type": "code",
   "execution_count": 25,
   "id": "51729f31-2065-452c-9fe6-eda4889fb7f2",
   "metadata": {},
   "outputs": [],
   "source": [
    "data = data_good\n",
    "# data = data_with_duplicates\n",
    "# data = data_with_all_nan\n",
    "# data = data_empty\n",
    "# data = data_more_columns\n",
    "# data = data_less_columns\n",
    "# data = data_with_all_duplicates\n",
    "\n",
    "\n",
    "logging.basicConfig(format=\"%(levelname)s: %(message)s\", level=logging.DEBUG)\n",
    "\n",
    "\n",
    "assert {\"name\", \"categories\", \"amount\"}.issubset(\n",
    "    data.columns\n",
    "), \"Data must contain 'name', 'categories' and 'amount' column labels.\"\n",
    "data = data[[\"name\", \"categories\", \"amount\"]]\n",
    "\n",
    "missing = data[data.isna().any(axis=1)]\n",
    "if missing.empty:\n",
    "    clean_data = data\n",
    "else:\n",
    "    clean_data = data.dropna(axis=0, how=\"any\")\n",
    "    if not missing.isna().values.all():\n",
    "        message_missing = (\n",
    "            f\"Data is missing in {filename} (see below incomplete sets):\\n\"\n",
    "        )\n",
    "        message_missing += missing.to_markdown(\n",
    "            index=False, tablefmt=\"pretty\", stralign=\"left\"\n",
    "        )\n",
    "        message_missing += \"\\nNote: These sets will be omitted.\"\n",
    "        logging.warning(message_missing)\n",
    "if clean_data.empty:\n",
    "    raise ValueError(f\"Data in {filename} is not valid.\")\n",
    "\n",
    "duplicates = clean_data[\n",
    "    clean_data.duplicated(subset=[\"name\", \"categories\", \"amount\"], keep=\"first\")\n",
    "]\n",
    "if duplicates.empty:\n",
    "    sanitized_data = clean_data\n",
    "else:\n",
    "    message_duplicate = f\"Duplicated flows found in {filename} (see below):\\n\"\n",
    "    message_duplicate += duplicates.to_markdown(\n",
    "        index=False, tablefmt=\"pretty\", stralign=\"left\"\n",
    "    )\n",
    "    message_duplicate += \"\\nNote: All duplicates will be removed.\"\n",
    "    logging.warning(message_duplicate)\n",
    "    sanitized_data = clean_data.drop_duplicates(keep=\"first\", ignore_index=True)"
   ]
  },
  {
   "cell_type": "code",
   "execution_count": 26,
   "id": "327d47a9-b4fd-4060-83b5-e0fcf1c268a0",
   "metadata": {},
   "outputs": [
    {
     "data": {
      "text/html": [
       "<div>\n",
       "<style scoped>\n",
       "    .dataframe tbody tr th:only-of-type {\n",
       "        vertical-align: middle;\n",
       "    }\n",
       "\n",
       "    .dataframe tbody tr th {\n",
       "        vertical-align: top;\n",
       "    }\n",
       "\n",
       "    .dataframe thead th {\n",
       "        text-align: right;\n",
       "    }\n",
       "</style>\n",
       "<table border=\"1\" class=\"dataframe\">\n",
       "  <thead>\n",
       "    <tr style=\"text-align: right;\">\n",
       "      <th></th>\n",
       "      <th>name</th>\n",
       "      <th>categories</th>\n",
       "      <th>amount</th>\n",
       "    </tr>\n",
       "  </thead>\n",
       "  <tbody>\n",
       "    <tr>\n",
       "      <th>0</th>\n",
       "      <td>Carbon dioxide, fossil</td>\n",
       "      <td>air</td>\n",
       "      <td>tt3.53e-13</td>\n",
       "    </tr>\n",
       "    <tr>\n",
       "      <th>1</th>\n",
       "      <td>Ethane, chloropentafluoro-, CFC-115</td>\n",
       "      <td>air</td>\n",
       "      <td>7.43e-09</td>\n",
       "    </tr>\n",
       "    <tr>\n",
       "      <th>2</th>\n",
       "      <td>Carbon monoxide, fossil</td>\n",
       "      <td>air</td>\n",
       "      <td>2.74e-13</td>\n",
       "    </tr>\n",
       "    <tr>\n",
       "      <th>3</th>\n",
       "      <td>Carbon monoxide, fossil</td>\n",
       "      <td>air::low population density, long-term</td>\n",
       "      <td>2.74e-13</td>\n",
       "    </tr>\n",
       "    <tr>\n",
       "      <th>4</th>\n",
       "      <td>Carbon monoxide, non-fossil</td>\n",
       "      <td>air</td>\n",
       "      <td>2.74e-13</td>\n",
       "    </tr>\n",
       "    <tr>\n",
       "      <th>5</th>\n",
       "      <td>Methane</td>\n",
       "      <td>air::urban air close to ground</td>\n",
       "      <td>1.59e-12</td>\n",
       "    </tr>\n",
       "  </tbody>\n",
       "</table>\n",
       "</div>"
      ],
      "text/plain": [
       "                                  name  \\\n",
       "0               Carbon dioxide, fossil   \n",
       "1  Ethane, chloropentafluoro-, CFC-115   \n",
       "2              Carbon monoxide, fossil   \n",
       "3              Carbon monoxide, fossil   \n",
       "4          Carbon monoxide, non-fossil   \n",
       "5                              Methane   \n",
       "\n",
       "                               categories      amount  \n",
       "0                                     air  tt3.53e-13  \n",
       "1                                     air    7.43e-09  \n",
       "2                                     air    2.74e-13  \n",
       "3  air::low population density, long-term    2.74e-13  \n",
       "4                                     air    2.74e-13  \n",
       "5          air::urban air close to ground    1.59e-12  "
      ]
     },
     "execution_count": 26,
     "metadata": {},
     "output_type": "execute_result"
    }
   ],
   "source": [
    "sanitized_data"
   ]
  },
  {
   "cell_type": "code",
   "execution_count": 21,
   "id": "2cd7b40a-fadc-4cd4-87c0-0418f217150e",
   "metadata": {},
   "outputs": [],
   "source": [
    "EXCEL_PATH = Path(\n",
    "    ROOT_DIR + r\"/data/temp\" + r\"/aesa_ClimateChange_EnergyImbalance.xlsx\"\n",
    ")\n",
    "# JSON_PATH =  Path(\n",
    "#     ROOT_DIR + r\"/data/temp\" + r\"/trial.json\"\n",
    "# )\n",
    "YAML_PATH =  Path(\n",
    "    ROOT_DIR + r\"/data/temp\" + r\"/trial.yaml\"\n",
    ")\n",
    "EXCEL_PATH_TRIAL = Path(\n",
    "    ROOT_DIR + r\"/data/temp\" + r\"/trial.xlsx\"\n",
    ")"
   ]
  },
  {
   "cell_type": "code",
   "execution_count": 24,
   "id": "79e2d78f-f69c-40ff-b932-271fd03d0f27",
   "metadata": {},
   "outputs": [
    {
     "data": {
      "text/plain": [
       "'aesa_ClimateChange_EnergyImbalance.xlsx'"
      ]
     },
     "execution_count": 24,
     "metadata": {},
     "output_type": "execute_result"
    }
   ],
   "source": [
    "EXCEL_PATH.name"
   ]
  },
  {
   "cell_type": "code",
   "execution_count": 15,
   "id": "c0ada086-32e2-47b9-9829-ee55939df21f",
   "metadata": {},
   "outputs": [],
   "source": [
    "p = Path(ROOT_DIR + r\"/data/temp\")\n",
    "p.mkdir(parents=True, exist_ok=True)"
   ]
  },
  {
   "cell_type": "code",
   "execution_count": 8,
   "id": "5522cb5b-c268-49c5-8657-d03423736b88",
   "metadata": {},
   "outputs": [
    {
     "ename": "InvalidDirectory",
     "evalue": "C:\\Users\\vtulus\\Documents\\00-ETH_projects\\AESAmethods\\data\\tempos is not valid.",
     "output_type": "error",
     "traceback": [
      "\u001b[1;31m---------------------------------------------------------------------------\u001b[0m",
      "\u001b[1;31mFileNotFoundError\u001b[0m                         Traceback (most recent call last)",
      "\u001b[1;32m~\\VirtualEnvs\\bw2\\lib\\site-packages\\aesa_pbs\\utils.py\u001b[0m in \u001b[0;36mvalid_parent_dir\u001b[1;34m(filepath)\u001b[0m\n\u001b[0;32m    173\u001b[0m     \u001b[1;32mtry\u001b[0m\u001b[1;33m:\u001b[0m\u001b[1;33m\u001b[0m\u001b[1;33m\u001b[0m\u001b[0m\n\u001b[1;32m--> 174\u001b[1;33m         \u001b[1;32mwith\u001b[0m \u001b[0mtempfile\u001b[0m\u001b[1;33m.\u001b[0m\u001b[0mTemporaryFile\u001b[0m\u001b[1;33m(\u001b[0m\u001b[0mdir\u001b[0m\u001b[1;33m=\u001b[0m\u001b[0mdirname\u001b[0m\u001b[1;33m)\u001b[0m\u001b[1;33m:\u001b[0m\u001b[1;33m\u001b[0m\u001b[1;33m\u001b[0m\u001b[0m\n\u001b[0m\u001b[0;32m    175\u001b[0m             \u001b[1;32mpass\u001b[0m\u001b[1;33m\u001b[0m\u001b[1;33m\u001b[0m\u001b[0m\n",
      "\u001b[1;32m~\\VirtualEnvs\\bw2\\lib\\tempfile.py\u001b[0m in \u001b[0;36mNamedTemporaryFile\u001b[1;34m(mode, buffering, encoding, newline, suffix, prefix, dir, delete, errors)\u001b[0m\n\u001b[0;32m    540\u001b[0m \u001b[1;33m\u001b[0m\u001b[0m\n\u001b[1;32m--> 541\u001b[1;33m     \u001b[1;33m(\u001b[0m\u001b[0mfd\u001b[0m\u001b[1;33m,\u001b[0m \u001b[0mname\u001b[0m\u001b[1;33m)\u001b[0m \u001b[1;33m=\u001b[0m \u001b[0m_mkstemp_inner\u001b[0m\u001b[1;33m(\u001b[0m\u001b[0mdir\u001b[0m\u001b[1;33m,\u001b[0m \u001b[0mprefix\u001b[0m\u001b[1;33m,\u001b[0m \u001b[0msuffix\u001b[0m\u001b[1;33m,\u001b[0m \u001b[0mflags\u001b[0m\u001b[1;33m,\u001b[0m \u001b[0moutput_type\u001b[0m\u001b[1;33m)\u001b[0m\u001b[1;33m\u001b[0m\u001b[1;33m\u001b[0m\u001b[0m\n\u001b[0m\u001b[0;32m    542\u001b[0m     \u001b[1;32mtry\u001b[0m\u001b[1;33m:\u001b[0m\u001b[1;33m\u001b[0m\u001b[1;33m\u001b[0m\u001b[0m\n",
      "\u001b[1;32m~\\VirtualEnvs\\bw2\\lib\\tempfile.py\u001b[0m in \u001b[0;36m_mkstemp_inner\u001b[1;34m(dir, pre, suf, flags, output_type)\u001b[0m\n\u001b[0;32m    250\u001b[0m         \u001b[1;32mtry\u001b[0m\u001b[1;33m:\u001b[0m\u001b[1;33m\u001b[0m\u001b[1;33m\u001b[0m\u001b[0m\n\u001b[1;32m--> 251\u001b[1;33m             \u001b[0mfd\u001b[0m \u001b[1;33m=\u001b[0m \u001b[0m_os\u001b[0m\u001b[1;33m.\u001b[0m\u001b[0mopen\u001b[0m\u001b[1;33m(\u001b[0m\u001b[0mfile\u001b[0m\u001b[1;33m,\u001b[0m \u001b[0mflags\u001b[0m\u001b[1;33m,\u001b[0m \u001b[1;36m0o600\u001b[0m\u001b[1;33m)\u001b[0m\u001b[1;33m\u001b[0m\u001b[1;33m\u001b[0m\u001b[0m\n\u001b[0m\u001b[0;32m    252\u001b[0m         \u001b[1;32mexcept\u001b[0m \u001b[0mFileExistsError\u001b[0m\u001b[1;33m:\u001b[0m\u001b[1;33m\u001b[0m\u001b[1;33m\u001b[0m\u001b[0m\n",
      "\u001b[1;31mFileNotFoundError\u001b[0m: [Errno 2] No such file or directory: 'C:\\\\Users\\\\vtulus\\\\Documents\\\\00-ETH_projects\\\\AESAmethods\\\\data\\\\tempos\\\\tmpa86g625r'",
      "\nThe above exception was the direct cause of the following exception:\n",
      "\u001b[1;31mInvalidDirectory\u001b[0m                          Traceback (most recent call last)",
      "\u001b[1;32m~\\AppData\\Local\\Temp\\ipykernel_12404\\2909522598.py\u001b[0m in \u001b[0;36m<module>\u001b[1;34m\u001b[0m\n\u001b[1;32m----> 1\u001b[1;33m \u001b[0mconvert\u001b[0m\u001b[1;33m.\u001b[0m\u001b[0mto_excel\u001b[0m\u001b[1;33m(\u001b[0m\u001b[0moutfilepath\u001b[0m\u001b[1;33m=\u001b[0m\u001b[1;34mr\"C:\\Users\\vtulus\\Documents\\00-ETH_projects\\AESAmethods\\data\\tempos\\trial.xlsx\"\u001b[0m\u001b[1;33m)\u001b[0m\u001b[1;33m\u001b[0m\u001b[1;33m\u001b[0m\u001b[0m\n\u001b[0m",
      "\u001b[1;32m~\\VirtualEnvs\\bw2\\lib\\site-packages\\aesa_pbs\\utils.py\u001b[0m in \u001b[0;36mto_excel\u001b[1;34m(self, outfilepath, verbose)\u001b[0m\n\u001b[0;32m    147\u001b[0m             \u001b[0moutfilepath\u001b[0m \u001b[1;33m=\u001b[0m \u001b[0mPath\u001b[0m\u001b[1;33m(\u001b[0m\u001b[0mstr\u001b[0m\u001b[1;33m(\u001b[0m\u001b[0mDATA_EXCELS\u001b[0m\u001b[1;33m)\u001b[0m \u001b[1;33m+\u001b[0m \u001b[1;34mf\"/{filename}.xlsx\"\u001b[0m\u001b[1;33m)\u001b[0m\u001b[1;33m\u001b[0m\u001b[1;33m\u001b[0m\u001b[0m\n\u001b[0;32m    148\u001b[0m \u001b[1;33m\u001b[0m\u001b[0m\n\u001b[1;32m--> 149\u001b[1;33m         \u001b[1;32mif\u001b[0m \u001b[0mvalid_parent_dir\u001b[0m\u001b[1;33m(\u001b[0m\u001b[0moutfilepath\u001b[0m\u001b[1;33m)\u001b[0m\u001b[1;33m:\u001b[0m\u001b[1;33m\u001b[0m\u001b[1;33m\u001b[0m\u001b[0m\n\u001b[0m\u001b[0;32m    150\u001b[0m             \u001b[0moutput_file_path\u001b[0m \u001b[1;33m=\u001b[0m \u001b[0moutfilepath\u001b[0m\u001b[1;33m\u001b[0m\u001b[1;33m\u001b[0m\u001b[0m\n\u001b[0;32m    151\u001b[0m \u001b[1;33m\u001b[0m\u001b[0m\n",
      "\u001b[1;32m~\\VirtualEnvs\\bw2\\lib\\site-packages\\aesa_pbs\\utils.py\u001b[0m in \u001b[0;36mvalid_parent_dir\u001b[1;34m(filepath)\u001b[0m\n\u001b[0;32m    176\u001b[0m         \u001b[1;32mreturn\u001b[0m \u001b[1;32mTrue\u001b[0m\u001b[1;33m\u001b[0m\u001b[1;33m\u001b[0m\u001b[0m\n\u001b[0;32m    177\u001b[0m     \u001b[1;32mexcept\u001b[0m \u001b[0mEnvironmentError\u001b[0m \u001b[1;32mas\u001b[0m \u001b[0mexc\u001b[0m\u001b[1;33m:\u001b[0m\u001b[1;33m\u001b[0m\u001b[1;33m\u001b[0m\u001b[0m\n\u001b[1;32m--> 178\u001b[1;33m         \u001b[1;32mraise\u001b[0m \u001b[0mInvalidDirectory\u001b[0m\u001b[1;33m(\u001b[0m\u001b[1;34mf\"{dirname} is not valid.\"\u001b[0m\u001b[1;33m)\u001b[0m \u001b[1;32mfrom\u001b[0m \u001b[0mexc\u001b[0m\u001b[1;33m\u001b[0m\u001b[1;33m\u001b[0m\u001b[0m\n\u001b[0m",
      "\u001b[1;31mInvalidDirectory\u001b[0m: C:\\Users\\vtulus\\Documents\\00-ETH_projects\\AESAmethods\\data\\tempos is not valid."
     ]
    }
   ],
   "source": [
    "convert.to_excel(outfilepath=r\"C:\\Users\\vtulus\\Documents\\00-ETH_projects\\AESAmethods\\data\\tempos\\trial.xlsx\")"
   ]
  },
  {
   "cell_type": "code",
   "execution_count": 14,
   "id": "a42a6658-1146-4d8c-ba7c-0d1f5b053c43",
   "metadata": {},
   "outputs": [],
   "source": [
    "import pandas as pd\n",
    "import yaml\n",
    "from project_path import ROOT_DIR"
   ]
  },
  {
   "cell_type": "code",
   "execution_count": 15,
   "id": "05476cf1-9c9c-4921-a838-d1327ab47e1e",
   "metadata": {},
   "outputs": [],
   "source": [
    "df_ccei = pd.read_excel(EXCEL_PATH)"
   ]
  },
  {
   "cell_type": "code",
   "execution_count": 16,
   "id": "adbf2d40-388d-4856-914a-b33021c83708",
   "metadata": {},
   "outputs": [
    {
     "data": {
      "text/plain": [
       "Index(['name', 'categories', 'amount'], dtype='object')"
      ]
     },
     "execution_count": 16,
     "metadata": {},
     "output_type": "execute_result"
    }
   ],
   "source": [
    "df_ccei.columns"
   ]
  },
  {
   "cell_type": "code",
   "execution_count": 17,
   "id": "bf0b9f12-9f66-49db-9f3d-3d53da6e4471",
   "metadata": {},
   "outputs": [],
   "source": [
    "assert sorted(list(df_ccei.columns)) == sorted(\n",
    "    [\"name\", \"categories\", \"amount\"]\n",
    "), \"Excel file must contain only 'name', 'categories' and 'amount' columns.\""
   ]
  },
  {
   "cell_type": "code",
   "execution_count": 18,
   "id": "e62bdf68-4eec-486d-9bd1-f7bd37941d8a",
   "metadata": {},
   "outputs": [],
   "source": [
    "# result = df_ccei.to_json(JSON_PATH, orient=\"table\")\n",
    "# result = df_ccei.to_json(orient=\"records\", double_precision=15)\n",
    "result = df_ccei.to_dict(orient=\"records\")"
   ]
  },
  {
   "cell_type": "code",
   "execution_count": 66,
   "id": "7672eca9-f6fd-4499-ace3-f2445b9c756d",
   "metadata": {},
   "outputs": [],
   "source": [
    "parsed = json.loads(result)"
   ]
  },
  {
   "cell_type": "code",
   "execution_count": 67,
   "id": "b4186de6-0357-4fb4-951e-cdb543675361",
   "metadata": {},
   "outputs": [],
   "source": [
    "# parsed"
   ]
  },
  {
   "cell_type": "code",
   "execution_count": 19,
   "id": "2eaffcca-63b0-477f-ba38-13724a12e6ed",
   "metadata": {},
   "outputs": [],
   "source": [
    "class DumperBlankLine(yaml.SafeDumper):\n",
    "    # HACK: insert blank lines between top-level objects\n",
    "    # inspired by https://github.com/yaml/pyyaml/issues/127#issuecomment-525800484\n",
    "    def write_line_break(self, data=None):\n",
    "        super().write_line_break(data)\n",
    "\n",
    "        if len(self.indents) == 1:\n",
    "            super().write_line_break()"
   ]
  },
  {
   "cell_type": "code",
   "execution_count": 20,
   "id": "49d4a4ea-798a-499c-bcdd-490b442333e2",
   "metadata": {},
   "outputs": [],
   "source": [
    "with open(YAML_PATH, \"w\") as file:\n",
    "    # yaml.safe_dump(\n",
    "     yaml.dump(\n",
    "        result,\n",
    "        file,\n",
    "        Dumper=DumperBlankLine,\n",
    "        default_flow_style=False,\n",
    "        default_style=None,\n",
    "        sort_keys=False,\n",
    "        indent=None,\n",
    "    )\n",
    "    "
   ]
  },
  {
   "cell_type": "code",
   "execution_count": 25,
   "id": "91484bcc-4683-4296-b297-f39ad1744965",
   "metadata": {},
   "outputs": [],
   "source": [
    "with open(YAML_PATH, \"r\") as file:\n",
    "    loaded = yaml.safe_load(file)"
   ]
  },
  {
   "cell_type": "code",
   "execution_count": null,
   "id": "f6aa1be1-8bf9-4f60-a9de-05dd7ca465cb",
   "metadata": {},
   "outputs": [],
   "source": []
  },
  {
   "cell_type": "code",
   "execution_count": 26,
   "id": "4bcd56e8-701f-45fe-8a4f-b9fdbf36ff97",
   "metadata": {},
   "outputs": [],
   "source": [
    "df_loaded = pd.DataFrame(loaded, columns=[\"name\", \"categories\", \"amount\"])"
   ]
  },
  {
   "cell_type": "code",
   "execution_count": 32,
   "id": "e8a561c5-202e-48c4-8f7b-63f98d99f450",
   "metadata": {},
   "outputs": [
    {
     "data": {
      "text/html": [
       "<div>\n",
       "<style scoped>\n",
       "    .dataframe tbody tr th:only-of-type {\n",
       "        vertical-align: middle;\n",
       "    }\n",
       "\n",
       "    .dataframe tbody tr th {\n",
       "        vertical-align: top;\n",
       "    }\n",
       "\n",
       "    .dataframe thead th {\n",
       "        text-align: right;\n",
       "    }\n",
       "</style>\n",
       "<table border=\"1\" class=\"dataframe\">\n",
       "  <thead>\n",
       "    <tr style=\"text-align: right;\">\n",
       "      <th></th>\n",
       "      <th>name</th>\n",
       "      <th>categories</th>\n",
       "      <th>amount</th>\n",
       "    </tr>\n",
       "  </thead>\n",
       "  <tbody>\n",
       "    <tr>\n",
       "      <th>0</th>\n",
       "      <td>Carbon dioxide, fossil</td>\n",
       "      <td>air</td>\n",
       "      <td>3.530000e-13</td>\n",
       "    </tr>\n",
       "    <tr>\n",
       "      <th>1</th>\n",
       "      <td>Carbon dioxide, fossil</td>\n",
       "      <td>air::low population density, long-term</td>\n",
       "      <td>3.530000e-13</td>\n",
       "    </tr>\n",
       "    <tr>\n",
       "      <th>2</th>\n",
       "      <td>Carbon dioxide, fossil</td>\n",
       "      <td>air::lower stratosphere + upper troposphere</td>\n",
       "      <td>3.530000e-13</td>\n",
       "    </tr>\n",
       "    <tr>\n",
       "      <th>3</th>\n",
       "      <td>Carbon dioxide, fossil</td>\n",
       "      <td>air::non-urban air or from high stacks</td>\n",
       "      <td>3.530000e-13</td>\n",
       "    </tr>\n",
       "    <tr>\n",
       "      <th>4</th>\n",
       "      <td>Carbon dioxide, fossil</td>\n",
       "      <td>air::urban air close to ground</td>\n",
       "      <td>3.530000e-13</td>\n",
       "    </tr>\n",
       "    <tr>\n",
       "      <th>...</th>\n",
       "      <td>...</td>\n",
       "      <td>...</td>\n",
       "      <td>...</td>\n",
       "    </tr>\n",
       "    <tr>\n",
       "      <th>93</th>\n",
       "      <td>Sulfur hexafluoride</td>\n",
       "      <td>air</td>\n",
       "      <td>6.710000e-08</td>\n",
       "    </tr>\n",
       "    <tr>\n",
       "      <th>94</th>\n",
       "      <td>Sulfur hexafluoride</td>\n",
       "      <td>air::low population density, long-term</td>\n",
       "      <td>6.710000e-08</td>\n",
       "    </tr>\n",
       "    <tr>\n",
       "      <th>95</th>\n",
       "      <td>Sulfur hexafluoride</td>\n",
       "      <td>air::lower stratosphere + upper troposphere</td>\n",
       "      <td>6.710000e-08</td>\n",
       "    </tr>\n",
       "    <tr>\n",
       "      <th>96</th>\n",
       "      <td>Sulfur hexafluoride</td>\n",
       "      <td>air::non-urban air or from high stacks</td>\n",
       "      <td>6.710000e-08</td>\n",
       "    </tr>\n",
       "    <tr>\n",
       "      <th>97</th>\n",
       "      <td>Sulfur hexafluoride</td>\n",
       "      <td>air::urban air close to ground</td>\n",
       "      <td>6.710000e-08</td>\n",
       "    </tr>\n",
       "  </tbody>\n",
       "</table>\n",
       "<p>98 rows × 3 columns</p>\n",
       "</div>"
      ],
      "text/plain": [
       "                      name                                   categories  \\\n",
       "0   Carbon dioxide, fossil                                          air   \n",
       "1   Carbon dioxide, fossil       air::low population density, long-term   \n",
       "2   Carbon dioxide, fossil  air::lower stratosphere + upper troposphere   \n",
       "3   Carbon dioxide, fossil       air::non-urban air or from high stacks   \n",
       "4   Carbon dioxide, fossil               air::urban air close to ground   \n",
       "..                     ...                                          ...   \n",
       "93     Sulfur hexafluoride                                          air   \n",
       "94     Sulfur hexafluoride       air::low population density, long-term   \n",
       "95     Sulfur hexafluoride  air::lower stratosphere + upper troposphere   \n",
       "96     Sulfur hexafluoride       air::non-urban air or from high stacks   \n",
       "97     Sulfur hexafluoride               air::urban air close to ground   \n",
       "\n",
       "          amount  \n",
       "0   3.530000e-13  \n",
       "1   3.530000e-13  \n",
       "2   3.530000e-13  \n",
       "3   3.530000e-13  \n",
       "4   3.530000e-13  \n",
       "..           ...  \n",
       "93  6.710000e-08  \n",
       "94  6.710000e-08  \n",
       "95  6.710000e-08  \n",
       "96  6.710000e-08  \n",
       "97  6.710000e-08  \n",
       "\n",
       "[98 rows x 3 columns]"
      ]
     },
     "execution_count": 32,
     "metadata": {},
     "output_type": "execute_result"
    }
   ],
   "source": [
    "df_loaded.drop_duplicates(subset=[\"name\", \"categories\", \"amount\"], keep=\"first\", ignore_index=True)"
   ]
  },
  {
   "cell_type": "code",
   "execution_count": 31,
   "id": "ff02ddc4-608d-482d-9e2c-071b781ee52d",
   "metadata": {},
   "outputs": [],
   "source": [
    "df_loaded.fillna(\"dahdah\", inplace=True)"
   ]
  },
  {
   "cell_type": "code",
   "execution_count": 214,
   "id": "3b5851c0-b97b-4ab4-9aae-6f9849e5b736",
   "metadata": {},
   "outputs": [
    {
     "data": {
      "text/html": [
       "<div>\n",
       "<style scoped>\n",
       "    .dataframe tbody tr th:only-of-type {\n",
       "        vertical-align: middle;\n",
       "    }\n",
       "\n",
       "    .dataframe tbody tr th {\n",
       "        vertical-align: top;\n",
       "    }\n",
       "\n",
       "    .dataframe thead th {\n",
       "        text-align: right;\n",
       "    }\n",
       "</style>\n",
       "<table border=\"1\" class=\"dataframe\">\n",
       "  <thead>\n",
       "    <tr style=\"text-align: right;\">\n",
       "      <th></th>\n",
       "      <th>name</th>\n",
       "      <th>categories</th>\n",
       "      <th>amount</th>\n",
       "    </tr>\n",
       "  </thead>\n",
       "  <tbody>\n",
       "    <tr>\n",
       "      <th>0</th>\n",
       "      <td>NaN</td>\n",
       "      <td>airos</td>\n",
       "      <td>3.530000e-13</td>\n",
       "    </tr>\n",
       "    <tr>\n",
       "      <th>1</th>\n",
       "      <td>Carbon dioxide, fossil</td>\n",
       "      <td>air::low population density, long-term</td>\n",
       "      <td>3.530000e-13</td>\n",
       "    </tr>\n",
       "    <tr>\n",
       "      <th>2</th>\n",
       "      <td>Carbon dioxide, fossil</td>\n",
       "      <td>air::lower stratosphere + upper troposphere</td>\n",
       "      <td>3.530000e-13</td>\n",
       "    </tr>\n",
       "    <tr>\n",
       "      <th>3</th>\n",
       "      <td>Carbon dioxide, fossil</td>\n",
       "      <td>air::non-urban air or from high stacks</td>\n",
       "      <td>3.530000e-13</td>\n",
       "    </tr>\n",
       "    <tr>\n",
       "      <th>4</th>\n",
       "      <td>Carbon dioxide, fossil</td>\n",
       "      <td>air::urban air close to ground</td>\n",
       "      <td>3.530000e-13</td>\n",
       "    </tr>\n",
       "    <tr>\n",
       "      <th>...</th>\n",
       "      <td>...</td>\n",
       "      <td>...</td>\n",
       "      <td>...</td>\n",
       "    </tr>\n",
       "    <tr>\n",
       "      <th>93</th>\n",
       "      <td>Sulfur hexafluoride</td>\n",
       "      <td>air</td>\n",
       "      <td>6.710000e-08</td>\n",
       "    </tr>\n",
       "    <tr>\n",
       "      <th>94</th>\n",
       "      <td>Sulfur hexafluoride</td>\n",
       "      <td>air::low population density, long-term</td>\n",
       "      <td>6.710000e-08</td>\n",
       "    </tr>\n",
       "    <tr>\n",
       "      <th>95</th>\n",
       "      <td>Sulfur hexafluoride</td>\n",
       "      <td>air::lower stratosphere + upper troposphere</td>\n",
       "      <td>6.710000e-08</td>\n",
       "    </tr>\n",
       "    <tr>\n",
       "      <th>96</th>\n",
       "      <td>Sulfur hexafluoride</td>\n",
       "      <td>air::non-urban air or from high stacks</td>\n",
       "      <td>6.710000e-08</td>\n",
       "    </tr>\n",
       "    <tr>\n",
       "      <th>97</th>\n",
       "      <td>Sulfur hexafluoride</td>\n",
       "      <td>air::urban air close to ground</td>\n",
       "      <td>6.710000e-08</td>\n",
       "    </tr>\n",
       "  </tbody>\n",
       "</table>\n",
       "<p>98 rows × 3 columns</p>\n",
       "</div>"
      ],
      "text/plain": [
       "                      name                                   categories  \\\n",
       "0                      NaN                                        airos   \n",
       "1   Carbon dioxide, fossil       air::low population density, long-term   \n",
       "2   Carbon dioxide, fossil  air::lower stratosphere + upper troposphere   \n",
       "3   Carbon dioxide, fossil       air::non-urban air or from high stacks   \n",
       "4   Carbon dioxide, fossil               air::urban air close to ground   \n",
       "..                     ...                                          ...   \n",
       "93     Sulfur hexafluoride                                          air   \n",
       "94     Sulfur hexafluoride       air::low population density, long-term   \n",
       "95     Sulfur hexafluoride  air::lower stratosphere + upper troposphere   \n",
       "96     Sulfur hexafluoride       air::non-urban air or from high stacks   \n",
       "97     Sulfur hexafluoride               air::urban air close to ground   \n",
       "\n",
       "          amount  \n",
       "0   3.530000e-13  \n",
       "1   3.530000e-13  \n",
       "2   3.530000e-13  \n",
       "3   3.530000e-13  \n",
       "4   3.530000e-13  \n",
       "..           ...  \n",
       "93  6.710000e-08  \n",
       "94  6.710000e-08  \n",
       "95  6.710000e-08  \n",
       "96  6.710000e-08  \n",
       "97  6.710000e-08  \n",
       "\n",
       "[98 rows x 3 columns]"
      ]
     },
     "execution_count": 214,
     "metadata": {},
     "output_type": "execute_result"
    }
   ],
   "source": [
    "df_loaded.iloc[0,0] = np.nan\n",
    "df_loaded"
   ]
  },
  {
   "cell_type": "code",
   "execution_count": 185,
   "id": "8ae6d127-8831-425d-b80d-bb13af180959",
   "metadata": {},
   "outputs": [
    {
     "data": {
      "text/plain": [
       "True"
      ]
     },
     "execution_count": 185,
     "metadata": {},
     "output_type": "execute_result"
    }
   ],
   "source": [
    "df_loaded.isna().values.any()"
   ]
  },
  {
   "cell_type": "code",
   "execution_count": 178,
   "id": "4c2d7aa5-dbb0-4ab7-a8f8-d5701d01751b",
   "metadata": {},
   "outputs": [],
   "source": [
    "import warnings"
   ]
  },
  {
   "cell_type": "code",
   "execution_count": 215,
   "id": "0d44451b-76dc-407b-9a71-24ca71e4c685",
   "metadata": {},
   "outputs": [
    {
     "name": "stderr",
     "output_type": "stream",
     "text": [
      "C:\\Users\\vtulus\\AppData\\Local\\Temp\\ipykernel_11884\\2120660221.py:3: UserWarning: \n",
      "\n",
      "Some data are missing in C:\\Users\\vtulus\\Documents\\00-ETH_projects\\AESAmethods\\data\\temp\\trial.yaml.\n",
      "Rows with incomplete data are removed.\n",
      "\n",
      "  warnings.warn(f\"\\n\\nSome data are missing in {YAML_PATH}.\\nRows with incomplete data are removed.\\n\")\n"
     ]
    },
    {
     "data": {
      "text/html": [
       "<div>\n",
       "<style scoped>\n",
       "    .dataframe tbody tr th:only-of-type {\n",
       "        vertical-align: middle;\n",
       "    }\n",
       "\n",
       "    .dataframe tbody tr th {\n",
       "        vertical-align: top;\n",
       "    }\n",
       "\n",
       "    .dataframe thead th {\n",
       "        text-align: right;\n",
       "    }\n",
       "</style>\n",
       "<table border=\"1\" class=\"dataframe\">\n",
       "  <thead>\n",
       "    <tr style=\"text-align: right;\">\n",
       "      <th></th>\n",
       "      <th>name</th>\n",
       "      <th>categories</th>\n",
       "      <th>amount</th>\n",
       "    </tr>\n",
       "  </thead>\n",
       "  <tbody>\n",
       "    <tr>\n",
       "      <th>1</th>\n",
       "      <td>Carbon dioxide, fossil</td>\n",
       "      <td>air::low population density, long-term</td>\n",
       "      <td>3.530000e-13</td>\n",
       "    </tr>\n",
       "    <tr>\n",
       "      <th>2</th>\n",
       "      <td>Carbon dioxide, fossil</td>\n",
       "      <td>air::lower stratosphere + upper troposphere</td>\n",
       "      <td>3.530000e-13</td>\n",
       "    </tr>\n",
       "    <tr>\n",
       "      <th>3</th>\n",
       "      <td>Carbon dioxide, fossil</td>\n",
       "      <td>air::non-urban air or from high stacks</td>\n",
       "      <td>3.530000e-13</td>\n",
       "    </tr>\n",
       "    <tr>\n",
       "      <th>4</th>\n",
       "      <td>Carbon dioxide, fossil</td>\n",
       "      <td>air::urban air close to ground</td>\n",
       "      <td>3.530000e-13</td>\n",
       "    </tr>\n",
       "    <tr>\n",
       "      <th>5</th>\n",
       "      <td>Carbon dioxide, from soil or biomass stock</td>\n",
       "      <td>air</td>\n",
       "      <td>3.530000e-13</td>\n",
       "    </tr>\n",
       "    <tr>\n",
       "      <th>...</th>\n",
       "      <td>...</td>\n",
       "      <td>...</td>\n",
       "      <td>...</td>\n",
       "    </tr>\n",
       "    <tr>\n",
       "      <th>93</th>\n",
       "      <td>Sulfur hexafluoride</td>\n",
       "      <td>air</td>\n",
       "      <td>6.710000e-08</td>\n",
       "    </tr>\n",
       "    <tr>\n",
       "      <th>94</th>\n",
       "      <td>Sulfur hexafluoride</td>\n",
       "      <td>air::low population density, long-term</td>\n",
       "      <td>6.710000e-08</td>\n",
       "    </tr>\n",
       "    <tr>\n",
       "      <th>95</th>\n",
       "      <td>Sulfur hexafluoride</td>\n",
       "      <td>air::lower stratosphere + upper troposphere</td>\n",
       "      <td>6.710000e-08</td>\n",
       "    </tr>\n",
       "    <tr>\n",
       "      <th>96</th>\n",
       "      <td>Sulfur hexafluoride</td>\n",
       "      <td>air::non-urban air or from high stacks</td>\n",
       "      <td>6.710000e-08</td>\n",
       "    </tr>\n",
       "    <tr>\n",
       "      <th>97</th>\n",
       "      <td>Sulfur hexafluoride</td>\n",
       "      <td>air::urban air close to ground</td>\n",
       "      <td>6.710000e-08</td>\n",
       "    </tr>\n",
       "  </tbody>\n",
       "</table>\n",
       "<p>97 rows × 3 columns</p>\n",
       "</div>"
      ],
      "text/plain": [
       "                                          name  \\\n",
       "1                       Carbon dioxide, fossil   \n",
       "2                       Carbon dioxide, fossil   \n",
       "3                       Carbon dioxide, fossil   \n",
       "4                       Carbon dioxide, fossil   \n",
       "5   Carbon dioxide, from soil or biomass stock   \n",
       "..                                         ...   \n",
       "93                         Sulfur hexafluoride   \n",
       "94                         Sulfur hexafluoride   \n",
       "95                         Sulfur hexafluoride   \n",
       "96                         Sulfur hexafluoride   \n",
       "97                         Sulfur hexafluoride   \n",
       "\n",
       "                                     categories        amount  \n",
       "1        air::low population density, long-term  3.530000e-13  \n",
       "2   air::lower stratosphere + upper troposphere  3.530000e-13  \n",
       "3        air::non-urban air or from high stacks  3.530000e-13  \n",
       "4                air::urban air close to ground  3.530000e-13  \n",
       "5                                           air  3.530000e-13  \n",
       "..                                          ...           ...  \n",
       "93                                          air  6.710000e-08  \n",
       "94       air::low population density, long-term  6.710000e-08  \n",
       "95  air::lower stratosphere + upper troposphere  6.710000e-08  \n",
       "96       air::non-urban air or from high stacks  6.710000e-08  \n",
       "97               air::urban air close to ground  6.710000e-08  \n",
       "\n",
       "[97 rows x 3 columns]"
      ]
     },
     "execution_count": 215,
     "metadata": {},
     "output_type": "execute_result"
    }
   ],
   "source": [
    "if df_loaded.isna().values.any():\n",
    "    df_clean = df_loaded.dropna(axis=0, how=\"any\")\n",
    "    warnings.warn(f\"\\n\\nSome data are missing in {YAML_PATH}.\\nRows with incomplete data are removed.\\n\")\n",
    "else:\n",
    "    df_clean = df_loaded\n",
    "df_clean"
   ]
  },
  {
   "cell_type": "code",
   "execution_count": 210,
   "id": "b612ef2c-aa03-4dab-847d-dca5f04e5700",
   "metadata": {},
   "outputs": [
    {
     "data": {
      "text/plain": [
       "True"
      ]
     },
     "execution_count": 210,
     "metadata": {},
     "output_type": "execute_result"
    }
   ],
   "source": [
    "df_clean.empty"
   ]
  },
  {
   "cell_type": "code",
   "execution_count": 94,
   "id": "86fc0005-c39c-4acb-adc7-f9c9084d5255",
   "metadata": {},
   "outputs": [],
   "source": [
    "with pd.ExcelWriter(EXCEL_PATH_TRIAL, mode=\"w\", engine=\"openpyxl\") as writer:\n",
    "    df_ccei.to_excel(writer, index=False)"
   ]
  },
  {
   "cell_type": "code",
   "execution_count": 99,
   "id": "30fefeb2-6c56-4125-891f-8905ecbcf4f9",
   "metadata": {},
   "outputs": [
    {
     "data": {
      "text/plain": [
       "'.xlsx'"
      ]
     },
     "execution_count": 99,
     "metadata": {},
     "output_type": "execute_result"
    }
   ],
   "source": [
    "EXCEL_PATH_TRIAL.suffix"
   ]
  },
  {
   "cell_type": "code",
   "execution_count": 216,
   "id": "09a738a4-f096-4b3e-9e70-d6a3b2d0b422",
   "metadata": {},
   "outputs": [
    {
     "data": {
      "text/plain": [
       "pathlib.WindowsPath"
      ]
     },
     "execution_count": 216,
     "metadata": {},
     "output_type": "execute_result"
    }
   ],
   "source": [
    "type(EXCEL_PATH_TRIAL)"
   ]
  },
  {
   "cell_type": "code",
   "execution_count": 227,
   "id": "320cc955-db9d-4a21-a929-c9aef2828ad8",
   "metadata": {},
   "outputs": [],
   "source": [
    "add = EXCEL_PATH_TRIAL.resolve()"
   ]
  },
  {
   "cell_type": "code",
   "execution_count": 235,
   "id": "666dbb3f-ecb9-4846-b692-67b500e40f5c",
   "metadata": {},
   "outputs": [
    {
     "data": {
      "text/plain": [
       "'trial'"
      ]
     },
     "execution_count": 235,
     "metadata": {},
     "output_type": "execute_result"
    }
   ],
   "source": [
    "add.stem"
   ]
  },
  {
   "cell_type": "code",
   "execution_count": 243,
   "id": "c734955b-c731-428c-8839-1035acc257e9",
   "metadata": {},
   "outputs": [
    {
     "data": {
      "text/plain": [
       "(WindowsPath('C:/Users/vtulus/Documents/00-ETH_projects/AESAmethods/data/temp/aesa_ClimateChange_EnergyImbalance.xlsx'),\n",
       " WindowsPath('/trial.yaml'))"
      ]
     },
     "execution_count": 247,
     "metadata": {},
     "output_type": "execute_result"
    }
   ],
   "source": [
    "Path(str(EXCEL_PATH) + f\"/{add.stem}.yaml\")"
   ]
  },
  {
   "cell_type": "code",
   "execution_count": 254,
   "id": "d3d9de52-626b-42cc-831a-ee0478d8a19d",
   "metadata": {},
   "outputs": [
    {
     "name": "stdout",
     "output_type": "stream",
     "text": [
      "\n",
      "\n",
      "Some data are missing in C:\\Users\\vtulus\\Documents\\00-ETH_projects\\AESAmethods\\data\\temp\\trial.xlsx.\n",
      "Rows with incomplete data are removed.\n",
      "\n"
     ]
    }
   ],
   "source": [
    "print(\n",
    "    f\"\\n\\nSome data are missing in {EXCEL_PATH_TRIAL}.\"\n",
    "    \"\\nRows with incomplete data are removed.\\n\")"
   ]
  },
  {
   "cell_type": "code",
   "execution_count": null,
   "id": "b01c6484-5b96-4ef3-ab1b-9b510d431919",
   "metadata": {},
   "outputs": [],
   "source": []
  }
 ],
 "metadata": {
  "kernelspec": {
   "display_name": "Python (bw2)",
   "language": "python",
   "name": "bw2"
  },
  "language_info": {
   "codemirror_mode": {
    "name": "ipython",
    "version": 3
   },
   "file_extension": ".py",
   "mimetype": "text/x-python",
   "name": "python",
   "nbconvert_exporter": "python",
   "pygments_lexer": "ipython3",
   "version": "3.9.7"
  }
 },
 "nbformat": 4,
 "nbformat_minor": 5
}
